{
 "cells": [
  {
   "cell_type": "code",
   "execution_count": 3,
   "metadata": {},
   "outputs": [],
   "source": [
    "import json\n",
    "def ouvrir_json(chemin):\n",
    "  f = open(chemin, encoding=\"utf-8\")\n",
    "  toto = json.load(f)\n",
    "  f.close()\n",
    "  return toto\n",
    "\n",
    "def ecrire_fichier(chemin, contenu):\n",
    "  w = open(chemin, \"w\", encoding=\"utf-8\")\n",
    "  w.write(contenu)\n",
    "  w.close()\n",
    "def lire_fichier(chemin):\n",
    "  f = open(chemin, \"r\", encoding=\"utf-8\")\n",
    "  chaine = f.read()\n",
    "  f.close()\n",
    "  return chaine"
   ]
  },
  {
   "cell_type": "code",
   "execution_count": 4,
   "metadata": {},
   "outputs": [],
   "source": [
    "import spacy\n",
    "nlp_sm = spacy.load(\"fr_core_news_sm\")\n",
    "nlp_md = spacy.load(\"fr_core_news_md\")\n",
    "nlp_lg = spacy.load(\"fr_core_news_lg\")"
   ]
  },
  {
   "cell_type": "code",
   "execution_count": 5,
   "metadata": {},
   "outputs": [
    {
     "name": "stdout",
     "output_type": "stream",
     "text": [
      "[\"Je suis un aventurier\\nEt j'ai beaucoup bourlingué\\nJ'ai fait la vie à Varsovie\\nJ'ai fait le mort à Baltimore\\nJ'ai fait le rat à Camberra\\nJ'ai joué aux dés à Yaoundé\\nJ'ai joué aux dames à Amsterdam\\nJ'ai fait des games à Binningham\\nJe suis un aventurier\\nAvec lequel il faut compter\\nJe suis un aventurier\\nAvec lequel il faut compter\\n\\nJ'ai été à Bornéo\\nJ'ai été pompette à Papeete\\nJ'ai bu de l'eau à Bordeaux\\nJ'ai dit tant pis à Tampico\\nJ'ai fait l'soldat à Bogola\\nEt des calculs à Calcutta\\n\\nA moi, faut pas m'en raconter\\nParce que, vraiment, j'en ai bavé\\nA moi, faut pas m'en raconter\\nParce que, vraiment, j'en ai bavé\\n\\nJ'ai été errant à Téhéran\\nEt au sana à Saana\\nJ'ai fait l'chasseur à Kinshassa\\nEt la nounou à Cotonou\\nJ'ai fait de la tôle à Dôle\\nJ'ai été lourdé à Lourdes\\n\\nJe suis un aventurier\\nJ'en ai vrairnent beaucoup bavé\\nJe suis un aventurier\\nJ'en ai vrairnent beaucoup bavé\\n\\nJ'ai été crétin à Créteil\\nJ'ai eu la ber1ue à berlin\\nJ'ai été gentil à Port-Gentil\\nEt malpoli à Tripoli\\nJ'ai fait la vie à Varsovie\\nEt le mort à Baltimore\\n\\nJ'étais un aventurier\\nMaintenant, c'est terminé\\nJ'étais un aventurier\\nMaintenant, c'est terminé\"]\n"
     ]
    }
   ],
   "source": [
    "data_genius1 = ouvrir_json(\"Data/echantillon1.json\")\n",
    "\n",
    "paroles_chanson = []\n",
    "chansons1 = data_genius1.values()\n",
    "\n",
    "\n",
    "for child in chansons1:\n",
    "\n",
    "    for parole in child:\n",
    "        if parole[\"full_title\"]==\"L'Aventurier by Jacques Dutronc\":\n",
    "            paroles = parole.get(\"lyrics\")\n",
    "            paroles_chanson.append(paroles)\n",
    "print(paroles_chanson)            "
   ]
  },
  {
   "cell_type": "code",
   "execution_count": 6,
   "metadata": {},
   "outputs": [],
   "source": [
    "loc1_corpus1=[]\n",
    "loc2_corpus1=[]\n",
    "loc3_corpus1=[]\n",
    "for texte in paroles_chanson:\n",
    "    doc1= nlp_sm(str(texte))\n",
    "    doc2= nlp_md(str(texte))\n",
    "    doc3= nlp_lg(str(texte))\n",
    "    for entity in doc1.ents:\n",
    "        if entity.label_ ==\"LOC\":\n",
    "            loc1_corpus1.append(entity.text)\n",
    "            \n",
    "    for entity in doc2.ents:\n",
    "        if entity.label_ ==\"LOC\":\n",
    "            loc2_corpus1.append(entity.text)\n",
    "            \n",
    "    for entity in doc3.ents:\n",
    "        if entity.label_ ==\"LOC\":\n",
    "            loc3_corpus1.append(entity.text)"
   ]
  },
  {
   "cell_type": "code",
   "execution_count": 17,
   "metadata": {},
   "outputs": [
    {
     "ename": "NameError",
     "evalue": "name 'paroles_chanson_miniscule' is not defined",
     "output_type": "error",
     "traceback": [
      "\u001b[0;31m---------------------------------------------------------------------------\u001b[0m",
      "\u001b[0;31mNameError\u001b[0m                                 Traceback (most recent call last)",
      "\u001b[0;32m<ipython-input-17-3ae8e744c320>\u001b[0m in \u001b[0;36m<module>\u001b[0;34m\u001b[0m\n\u001b[1;32m      2\u001b[0m \u001b[0mloc2_corpus1_miniscule\u001b[0m\u001b[0;34m=\u001b[0m\u001b[0;34m[\u001b[0m\u001b[0;34m]\u001b[0m\u001b[0;34m\u001b[0m\u001b[0;34m\u001b[0m\u001b[0m\n\u001b[1;32m      3\u001b[0m \u001b[0mloc3_corpus1_miniscule\u001b[0m\u001b[0;34m=\u001b[0m\u001b[0;34m[\u001b[0m\u001b[0;34m]\u001b[0m\u001b[0;34m\u001b[0m\u001b[0;34m\u001b[0m\u001b[0m\n\u001b[0;32m----> 4\u001b[0;31m \u001b[0;32mfor\u001b[0m \u001b[0mtexte\u001b[0m \u001b[0;32min\u001b[0m \u001b[0mparoles_chanson_miniscule\u001b[0m\u001b[0;34m:\u001b[0m\u001b[0;34m\u001b[0m\u001b[0;34m\u001b[0m\u001b[0m\n\u001b[0m\u001b[1;32m      5\u001b[0m     \u001b[0mdoc1\u001b[0m\u001b[0;34m=\u001b[0m \u001b[0mnlp_sm\u001b[0m\u001b[0;34m(\u001b[0m\u001b[0mstr\u001b[0m\u001b[0;34m(\u001b[0m\u001b[0mtexte\u001b[0m\u001b[0;34m)\u001b[0m\u001b[0;34m)\u001b[0m\u001b[0;34m\u001b[0m\u001b[0;34m\u001b[0m\u001b[0m\n\u001b[1;32m      6\u001b[0m     \u001b[0mdoc2\u001b[0m\u001b[0;34m=\u001b[0m \u001b[0mnlp_md\u001b[0m\u001b[0;34m(\u001b[0m\u001b[0mstr\u001b[0m\u001b[0;34m(\u001b[0m\u001b[0mtexte\u001b[0m\u001b[0;34m)\u001b[0m\u001b[0;34m)\u001b[0m\u001b[0;34m\u001b[0m\u001b[0;34m\u001b[0m\u001b[0m\n",
      "\u001b[0;31mNameError\u001b[0m: name 'paroles_chanson_miniscule' is not defined"
     ]
    }
   ],
   "source": [
    "loc1_corpus1_miniscule=[]\n",
    "loc2_corpus1_miniscule=[]\n",
    "loc3_corpus1_miniscule=[]\n",
    "for texte in paroles_chanson_miniscule:\n",
    "    doc1= nlp_sm(str(texte))\n",
    "    doc2= nlp_md(str(texte))\n",
    "    doc3= nlp_lg(str(texte))\n",
    "    for entity in doc1.ents:\n",
    "        if entity.label_ ==\"LOC\":\n",
    "            loc1_corpus1_miniscule.append(entity.text)\n",
    "            \n",
    "    for entity in doc2.ents:\n",
    "        if entity.label_ ==\"LOC\":\n",
    "            loc2_corpus1_miniscule.append(entity.text)\n",
    "            \n",
    "    for entity in doc3.ents:\n",
    "        if entity.label_ ==\"LOC\":\n",
    "            loc3_corpus1_miniscule.append(entity.text)"
   ]
  },
  {
   "cell_type": "code",
   "execution_count": 8,
   "metadata": {},
   "outputs": [
    {
     "name": "stdout",
     "output_type": "stream",
     "text": [
      "[\"J'\", 'Varsovie', 'Baltimore', 'Yaoundé', 'Amsterdam', \"J'ai fait des games\", 'Bornéo', 'Papeete', \"J'ai bu de l'eau\", 'Bordeaux', 'Tampico', 'Calcutta', 'A', 'Téhéran', 'Saana', 'Kinshassa', 'Dôle', 'Lourdes', \"J'\", \"J'\", 'Créteil', \"J'ai eu la ber1ue\", \"J'\", 'Port-Gentil', 'Tripoli', 'Varsovie', 'Baltimore', 'Maintenant']\n"
     ]
    }
   ],
   "source": [
    "print(loc1_corpus1)"
   ]
  },
  {
   "cell_type": "code",
   "execution_count": 9,
   "metadata": {},
   "outputs": [
    {
     "name": "stdout",
     "output_type": "stream",
     "text": [
      "['Varsovie', 'Baltimore', 'Yaoundé', 'Amsterdam', 'Binningham', 'Bornéo', 'Papeete', 'Bordeaux', 'Tampico', \"J'ai fait l'soldat\", 'Calcutta', 'Téhéran', 'Saana', 'Cotonou', 'Dôle', 'Lourdes', 'Créteil', 'Port-Gentil', 'Tripoli', 'Varsovie', 'Baltimore']\n"
     ]
    }
   ],
   "source": [
    "print(loc2_corpus1)"
   ]
  },
  {
   "cell_type": "code",
   "execution_count": 10,
   "metadata": {},
   "outputs": [
    {
     "name": "stdout",
     "output_type": "stream",
     "text": [
      "['Varsovie', 'Baltimore', 'Yaoundé', 'Amsterdam', 'Bornéo', 'Papeete', 'Bordeaux', 'Tampico', 'Calcutta', 'Téhéran', 'Saana', 'Cotonou', 'Dôle', 'Lourdes', 'Créteil', 'Port-Gentil', 'Tripoli', 'Varsovie', 'Baltimore']\n"
     ]
    }
   ],
   "source": [
    "print(loc3_corpus1)"
   ]
  },
  {
   "cell_type": "code",
   "execution_count": 24,
   "metadata": {},
   "outputs": [
    {
     "ename": "ValueError",
     "evalue": "shapes (300,) and (96,) not aligned: 300 (dim 0) != 96 (dim 0)",
     "output_type": "error",
     "traceback": [
      "\u001b[0;31m---------------------------------------------------------------------------\u001b[0m",
      "\u001b[0;31mValueError\u001b[0m                                Traceback (most recent call last)",
      "\u001b[0;32m<ipython-input-24-25b5a1b17ee2>\u001b[0m in \u001b[0;36m<module>\u001b[0;34m\u001b[0m\n\u001b[0;32m----> 1\u001b[0;31m \u001b[0mprint\u001b[0m\u001b[0;34m(\u001b[0m\u001b[0;34m\"%\"\u001b[0m\u001b[0;34m,\u001b[0m\u001b[0mnlp_md\u001b[0m\u001b[0;34m(\u001b[0m\u001b[0mstr\u001b[0m\u001b[0;34m(\u001b[0m\u001b[0mloc2_corpus1\u001b[0m\u001b[0;34m)\u001b[0m\u001b[0;34m)\u001b[0m\u001b[0;34m.\u001b[0m\u001b[0msimilarity\u001b[0m\u001b[0;34m(\u001b[0m\u001b[0mnlp_sm\u001b[0m\u001b[0;34m(\u001b[0m\u001b[0mstr\u001b[0m\u001b[0;34m(\u001b[0m\u001b[0mloc1_corpus1\u001b[0m\u001b[0;34m)\u001b[0m\u001b[0;34m)\u001b[0m\u001b[0;34m)\u001b[0m\u001b[0;34m)\u001b[0m\u001b[0;34m\u001b[0m\u001b[0;34m\u001b[0m\u001b[0m\n\u001b[0m\u001b[1;32m      2\u001b[0m \u001b[0mprint\u001b[0m\u001b[0;34m(\u001b[0m\u001b[0;34m\"%\"\u001b[0m\u001b[0;34m,\u001b[0m\u001b[0mnlp_lg\u001b[0m\u001b[0;34m(\u001b[0m\u001b[0mstr\u001b[0m\u001b[0;34m(\u001b[0m\u001b[0mloc3_corpus1\u001b[0m\u001b[0;34m)\u001b[0m\u001b[0;34m)\u001b[0m\u001b[0;34m.\u001b[0m\u001b[0msimilarity\u001b[0m\u001b[0;34m(\u001b[0m\u001b[0mnlp_md\u001b[0m\u001b[0;34m(\u001b[0m\u001b[0mstr\u001b[0m\u001b[0;34m(\u001b[0m\u001b[0mloc2_corpus1\u001b[0m\u001b[0;34m)\u001b[0m\u001b[0;34m)\u001b[0m\u001b[0;34m)\u001b[0m\u001b[0;34m)\u001b[0m\u001b[0;34m\u001b[0m\u001b[0;34m\u001b[0m\u001b[0m\n\u001b[1;32m      3\u001b[0m \u001b[0mprint\u001b[0m\u001b[0;34m(\u001b[0m\u001b[0;34m\"%\"\u001b[0m\u001b[0;34m,\u001b[0m\u001b[0mnlp_lg\u001b[0m\u001b[0;34m(\u001b[0m\u001b[0mstr\u001b[0m\u001b[0;34m(\u001b[0m\u001b[0mloc3_corpus1\u001b[0m\u001b[0;34m)\u001b[0m\u001b[0;34m)\u001b[0m\u001b[0;34m.\u001b[0m\u001b[0msimilarity\u001b[0m\u001b[0;34m(\u001b[0m\u001b[0mnlp_sm\u001b[0m\u001b[0;34m(\u001b[0m\u001b[0mstr\u001b[0m\u001b[0;34m(\u001b[0m\u001b[0mloc1_corpus1\u001b[0m\u001b[0;34m)\u001b[0m\u001b[0;34m)\u001b[0m\u001b[0;34m)\u001b[0m\u001b[0;34m)\u001b[0m\u001b[0;34m\u001b[0m\u001b[0;34m\u001b[0m\u001b[0m\n",
      "\u001b[0;32m~/opt/anaconda3/lib/python3.8/site-packages/spacy/tokens/doc.pyx\u001b[0m in \u001b[0;36mspacy.tokens.doc.Doc.similarity\u001b[0;34m()\u001b[0m\n",
      "\u001b[0;32m<__array_function__ internals>\u001b[0m in \u001b[0;36mdot\u001b[0;34m(*args, **kwargs)\u001b[0m\n",
      "\u001b[0;31mValueError\u001b[0m: shapes (300,) and (96,) not aligned: 300 (dim 0) != 96 (dim 0)"
     ]
    }
   ],
   "source": [
    "print(\"%\",nlp_md(str(loc2_corpus1)).similarity(nlp_sm(str(loc1_corpus1))))\n",
    "print(\"%\",nlp_lg(str(loc3_corpus1)).similarity(nlp_md(str(loc2_corpus1))))\n",
    "print(\"%\",nlp_lg(str(loc3_corpus1)).similarity(nlp_sm(str(loc1_corpus1))))"
   ]
  },
  {
   "cell_type": "code",
   "execution_count": 23,
   "metadata": {},
   "outputs": [
    {
     "name": "stdout",
     "output_type": "stream",
     "text": [
      "% 0.9752686757348751\n",
      "% 0.995838805319674\n",
      "% 0.9572392758860029\n"
     ]
    }
   ],
   "source": [
    "print(\"%\",nlp_md(str(loc2_corpus1)).similarity(nlp_md(str(loc1_corpus1))))\n",
    "print(\"%\",nlp_md(str(loc3_corpus1)).similarity(nlp_md(str(loc2_corpus1))))\n",
    "print(\"%\",nlp_md(str(loc3_corpus1)).similarity(nlp_md(str(loc1_corpus1))))"
   ]
  },
  {
   "cell_type": "code",
   "execution_count": 11,
   "metadata": {},
   "outputs": [],
   "source": [
    "ecrire_fichier(\"locations_corpus1_sm.json\", str(loc1_corpus1))\n",
    "ecrire_fichier(\"locations_corpus1_md.json\", str(loc2_corpus1))\n",
    "ecrire_fichier(\"locations_corpus1_lg.json\", str(loc3_corpus1))"
   ]
  },
  {
   "cell_type": "code",
   "execution_count": 12,
   "metadata": {},
   "outputs": [],
   "source": [
    "f = open(\"locations_corpus1_sm.json\")\n",
    "liste1 = eval(f.read())\n",
    "f.close()\n",
    "\n",
    "f = open(\"locations_corpus1_md.json\")\n",
    "liste2 = eval(f.read())\n",
    "f.close()\n",
    "\n",
    "f = open(\"locations_corpus1_lg.json\")\n",
    "liste3 = eval(f.read())\n",
    "f.close()\n",
    "\n",
    "lieux1 = set(liste1)\n",
    "lieux2 = set(liste2)\n",
    "lieux3 = set(liste3)"
   ]
  },
  {
   "cell_type": "code",
   "execution_count": 13,
   "metadata": {},
   "outputs": [
    {
     "name": "stdout",
     "output_type": "stream",
     "text": [
      "Intersection 16\n",
      "dans lieux1 7\n",
      "dans lieux2 2\n",
      "dans lieux3 0\n"
     ]
    }
   ],
   "source": [
    "lieux_en_commun = lieux1.intersection(lieux2, lieux3)\n",
    "print(\"Intersection\", len(lieux_en_commun))\n",
    "print(\"dans lieux1\", len(lieux1.difference(lieux2,lieux3)))\n",
    "print(\"dans lieux2\", len(lieux2.difference(lieux1, lieux3)))\n",
    "print(\"dans lieux3\", len(lieux3.difference(lieux2, lieux1)))"
   ]
  },
  {
   "cell_type": "code",
   "execution_count": 14,
   "metadata": {},
   "outputs": [
    {
     "name": "stdout",
     "output_type": "stream",
     "text": [
      "{'A', \"J'ai eu la ber1ue\", \"J'\", \"J'ai bu de l'eau\", \"J'ai fait des games\", 'Kinshassa', 'Maintenant'}\n"
     ]
    }
   ],
   "source": [
    "print(lieux1.difference(lieux2,lieux3))"
   ]
  },
  {
   "cell_type": "code",
   "execution_count": 15,
   "metadata": {},
   "outputs": [
    {
     "name": "stdout",
     "output_type": "stream",
     "text": [
      "{\"J'ai fait l'soldat\", 'Binningham'}\n"
     ]
    }
   ],
   "source": [
    "print(lieux2.difference(lieux1,lieux3))"
   ]
  },
  {
   "cell_type": "code",
   "execution_count": 16,
   "metadata": {},
   "outputs": [
    {
     "name": "stdout",
     "output_type": "stream",
     "text": [
      "set()\n"
     ]
    }
   ],
   "source": [
    "print(lieux3.difference(lieux2,lieux1)) #La liste contient aucun élement"
   ]
  },
  {
   "cell_type": "markdown",
   "metadata": {},
   "source": [
    "DANS CETTE DEUXIEME PARTIE, ON MONTRERA LE RESULTAT OBTENU SUR LE CORPUS EN MINISCULE"
   ]
  },
  {
   "cell_type": "code",
   "execution_count": 21,
   "metadata": {},
   "outputs": [
    {
     "name": "stdout",
     "output_type": "stream",
     "text": [
      "Les lieux md: \n",
      " []\n",
      "Les lieux sm: \n",
      " []\n",
      "Les lieux lg: \n",
      " []\n"
     ]
    }
   ],
   "source": [
    "print(\"Les lieux sm: \\n\", loc1_corpus1_miniscule)\n",
    "print(\"Les lieux md: \\n\", loc1_corpus1_miniscule)\n",
    "print(\"Les lieux lg: \\n\", loc1_corpus1_miniscule)"
   ]
  },
  {
   "cell_type": "code",
   "execution_count": null,
   "metadata": {},
   "outputs": [],
   "source": []
  }
 ],
 "metadata": {
  "kernelspec": {
   "display_name": "Python 3",
   "language": "python",
   "name": "python3"
  },
  "language_info": {
   "codemirror_mode": {
    "name": "ipython",
    "version": 3
   },
   "file_extension": ".py",
   "mimetype": "text/x-python",
   "name": "python",
   "nbconvert_exporter": "python",
   "pygments_lexer": "ipython3",
   "version": "3.8.3"
  }
 },
 "nbformat": 4,
 "nbformat_minor": 4
}
