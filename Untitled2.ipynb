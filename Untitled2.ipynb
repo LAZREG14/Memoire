{
 "cells": [
  {
   "cell_type": "code",
   "execution_count": 95,
   "metadata": {},
   "outputs": [
    {
     "name": "stdout",
     "output_type": "stream",
     "text": [
      "On traite 1249 fichiers\n"
     ]
    }
   ],
   "source": [
    "import glob\n",
    "liste_fichier = glob.glob(\"Data/Lyrics_all/*\")\n",
    "print(\"On traite %i fichiers\"%len(liste_fichier))"
   ]
  },
  {
   "cell_type": "code",
   "execution_count": 82,
   "metadata": {},
   "outputs": [],
   "source": [
    "import json\n",
    "import codecs\n",
    "import re\n",
    "from bs4 import BeautifulSoup\n",
    "import os\n",
    "\n",
    "def ouvrir_json(path):\n",
    "    f = codecs.open(path, encoding=\"utf-8\")\n",
    "    toto = json.load(f)\n",
    "    f.close()\n",
    "    return toto\n",
    "\n",
    "def ecrire_json(chemin, contenu):\n",
    "    w = open(chemin, \"w\", encoding=\"utf-8\")\n",
    "    w.write(json.dumps(contenu, indent=2, ensure_ascii=False))\n",
    "    w.close()"
   ]
  },
  {
   "cell_type": "code",
   "execution_count": 83,
   "metadata": {},
   "outputs": [],
   "source": [
    "def enregisterParoles(fichier):\n",
    "    for path in fichier:\n",
    "        paroles = dict(ouvrir_json(path))\n",
    "        songs = paroles.get(\"songs\")\n",
    "        for l in songs:\n",
    "            paroles = l.get(\"lyrics\")\n",
    "            if paroles != None:\n",
    "                return ecrire_json(\"paroles_data.json\", paroles)\n"
   ]
  },
  {
   "cell_type": "code",
   "execution_count": 86,
   "metadata": {},
   "outputs": [],
   "source": [
    "enregisterParoles(liste_fichier)"
   ]
  },
  {
   "cell_type": "code",
   "execution_count": 91,
   "metadata": {},
   "outputs": [],
   "source": [
    "all_data = []\n",
    "for path in liste_fichier:\n",
    "        paroles = dict(ouvrir_json(path))\n",
    "        songs = paroles.get(\"songs\")\n",
    "        for l in songs:\n",
    "            paroles = l.get(\"lyrics\")\n",
    "            if paroles != None:\n",
    "                all_data.append(paroles)\n"
   ]
  },
  {
   "cell_type": "code",
   "execution_count": 93,
   "metadata": {},
   "outputs": [],
   "source": [
    "ecrire_json(\"all_data.json\", all_data)"
   ]
  },
  {
   "cell_type": "code",
   "execution_count": 96,
   "metadata": {},
   "outputs": [],
   "source": [
    "withoutSlash_n =[]\n",
    "for s in all_data:\n",
    "    try:\n",
    "        x = re.sub(\"\\n\", \" \", s)\n",
    "    except:\n",
    "        pass\n",
    "    withoutSlash_n.append(x)"
   ]
  },
  {
   "cell_type": "code",
   "execution_count": 97,
   "metadata": {},
   "outputs": [],
   "source": [
    "withoutSlash =[]\n",
    "for s in withoutSlash_n:\n",
    "    try:\n",
    "        x = re.sub(\"\\\\'\", \"'\", s)\n",
    "    except:\n",
    "        pass\n",
    "    withoutSlash.append(x)"
   ]
  },
  {
   "cell_type": "code",
   "execution_count": 98,
   "metadata": {},
   "outputs": [],
   "source": [
    "ecrire_json(\"clean_all_data.json\", withoutSlash)"
   ]
  },
  {
   "cell_type": "code",
   "execution_count": null,
   "metadata": {},
   "outputs": [],
   "source": []
  }
 ],
 "metadata": {
  "kernelspec": {
   "display_name": "Python 3",
   "language": "python",
   "name": "python3"
  },
  "language_info": {
   "codemirror_mode": {
    "name": "ipython",
    "version": 3
   },
   "file_extension": ".py",
   "mimetype": "text/x-python",
   "name": "python",
   "nbconvert_exporter": "python",
   "pygments_lexer": "ipython3",
   "version": "3.8.3"
  }
 },
 "nbformat": 4,
 "nbformat_minor": 4
}
