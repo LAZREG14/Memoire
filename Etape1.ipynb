{
 "cells": [
  {
   "cell_type": "code",
   "execution_count": 1,
   "metadata": {},
   "outputs": [],
   "source": [
    "import json\n",
    "def ouvrir_json(chemin):\n",
    "  f = open(chemin, encoding=\"utf-8\")\n",
    "  toto = json.load(f)\n",
    "  f.close()\n",
    "  return toto\n",
    "\n",
    "def ecrire_fichier(chemin, contenu):\n",
    "  w = open(chemin, \"w\", encoding=\"utf-8\")\n",
    "  w.write(contenu)\n",
    "  w.close()\n",
    "def lire_fichier(chemin):\n",
    "  f = open(chemin, \"r\", encoding=\"utf-8\")\n",
    "  chaine = f.read()\n",
    "  f.close()\n",
    "  return chaine"
   ]
  },
  {
   "cell_type": "code",
   "execution_count": 2,
   "metadata": {},
   "outputs": [],
   "source": [
    "import spacy\n",
    "nlp = spacy.load(\"fr_core_news_sm\")"
   ]
  },
  {
   "cell_type": "code",
   "execution_count": 3,
   "metadata": {},
   "outputs": [],
   "source": [
    "data_genius1 = ouvrir_json(\"Data/echantillon1.json\")\n",
    "data_genius2 = ouvrir_json(\"Data/echantillon2.json\")"
   ]
  },
  {
   "cell_type": "code",
   "execution_count": 4,
   "metadata": {},
   "outputs": [],
   "source": [
    "echantillon1=data_genius1.values()\n",
    "echantillon2=data_genius2.values()"
   ]
  },
  {
   "cell_type": "code",
   "execution_count": 5,
   "metadata": {},
   "outputs": [],
   "source": [
    "paroles_data1 = []\n",
    "paroles_data2 = []\n",
    "\n",
    "\n",
    "for child in echantillon1:\n",
    "    for parole in child:\n",
    "        paroles = parole.get(\"lyrics\")\n",
    "        paroles_data1.append(paroles)\n",
    "for child in echantillon2:\n",
    "    for parole in child:\n",
    "        paroles = parole.get(\"lyrics\")\n",
    "        paroles_data2.append(paroles)"
   ]
  },
  {
   "cell_type": "code",
   "execution_count": 6,
   "metadata": {},
   "outputs": [
    {
     "name": "stdout",
     "output_type": "stream",
     "text": [
      "dict_keys(['_all/'])\n",
      "dict_keys(['_ÉdithPiaf', '_GeorgesBrassens', '_IAM', '_JeanJacquesGoldman', '_MCSolaar', '_Renaud'])\n"
     ]
    }
   ],
   "source": [
    "f1 = open(\"Data/echantillon1.json\")\n",
    "f2 = open(\"Data/echantillon2.json\")\n",
    "dico1 = json.load(f1)\n",
    "dico2 = json.load(f2)\n",
    "f1.close()\n",
    "f2.close()\n",
    "print(dico1.keys())\n",
    "print(dico2.keys())"
   ]
  },
  {
   "cell_type": "code",
   "execution_count": 7,
   "metadata": {},
   "outputs": [],
   "source": [
    "loc_corpus1=[]\n",
    "for texte in paroles_data1:\n",
    "    doc= nlp(str(texte))\n",
    "    for entity in doc.ents:\n",
    "        if entity.label_ ==\"LOC\":\n",
    "            #print(entity.text, entity.label_)\n",
    "            loc_corpus1.append(entity.text)\n",
    "            \n",
    "loc_corpus2=[]\n",
    "for texte in paroles_data2:\n",
    "    doc= nlp(str(texte))\n",
    "    for entity in doc.ents:\n",
    "        if entity.label_ ==\"LOC\":\n",
    "            #print(entity.text)\n",
    "            #loc=(entity.text, entity.label_)\n",
    "            #print(loc)\n",
    "            loc_corpus2.append(entity.text)"
   ]
  },
  {
   "cell_type": "code",
   "execution_count": 9,
   "metadata": {},
   "outputs": [],
   "source": [
    "ecrire_fichier(\"locations_corpus1.json\", str(loc_corpus1))\n",
    "ecrire_fichier(\"locations_corpus2.json\", str(loc_corpus2))"
   ]
  },
  {
   "cell_type": "code",
   "execution_count": null,
   "metadata": {},
   "outputs": [],
   "source": []
  }
 ],
 "metadata": {
  "kernelspec": {
   "display_name": "Python 3",
   "language": "python",
   "name": "python3"
  },
  "language_info": {
   "codemirror_mode": {
    "name": "ipython",
    "version": 3
   },
   "file_extension": ".py",
   "mimetype": "text/x-python",
   "name": "python",
   "nbconvert_exporter": "python",
   "pygments_lexer": "ipython3",
   "version": "3.8.3"
  }
 },
 "nbformat": 4,
 "nbformat_minor": 4
}
