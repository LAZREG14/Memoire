{
 "cells": [
  {
   "cell_type": "code",
   "execution_count": 6,
   "metadata": {},
   "outputs": [],
   "source": [
    "import json\n",
    "import re\n",
    "\n",
    "def ouvrir_json(chemin):\n",
    "    f = open(chemin, encoding=\"utf-8\")\n",
    "    toto = json.load(f)\n",
    "    f.close()\n",
    "    return toto\n",
    "\n",
    "def ecrire_json(chemin, contenu):\n",
    "    w = open(chemin, \"w\", encoding=\"utf-8\")\n",
    "    w.write(json.dumps(contenu, indent=2, ensure_ascii=False))\n",
    "    w.close()"
   ]
  },
  {
   "cell_type": "code",
   "execution_count": 2,
   "metadata": {},
   "outputs": [],
   "source": [
    "echantillon2 = ouvrir_json(\"Data/echantillon2.json\").values()\n",
    "echantillon1 = ouvrir_json(\"Data/echantillon1.json\").values()"
   ]
  },
  {
   "cell_type": "code",
   "execution_count": 7,
   "metadata": {},
   "outputs": [],
   "source": [
    "parole_echantillon1=[]\n",
    "for child in echantillon1:\n",
    "    for parole in child:\n",
    "        paroles = parole.get(\"lyrics\")\n",
    "        parole_echantillon1.append(paroles)\n",
    "        \n",
    "withoutSlash_n =[]\n",
    "for s in parole_echantillon1:\n",
    "    try:\n",
    "        x = re.sub(\"\\n\", \" \", s)\n",
    "    except:\n",
    "        pass\n",
    "    withoutSlash_n.append(x)\n",
    "    \n",
    "withoutSlash =[]\n",
    "for s in withoutSlash_n:\n",
    "    try:\n",
    "        x = re.sub(\"\\\\'\", \"'\", s)\n",
    "    except:\n",
    "        pass\n",
    "    withoutSlash.append(x)\n",
    "    \n",
    "ecrire_json(\"clean_data_echantillons/clean_echantillon1.json\", withoutSlash)"
   ]
  },
  {
   "cell_type": "code",
   "execution_count": 8,
   "metadata": {},
   "outputs": [],
   "source": [
    "parole_echantillon2=[]\n",
    "for child in echantillon2:\n",
    "    for parole in child:\n",
    "        paroles = parole.get(\"lyrics\")\n",
    "        parole_echantillon2.append(paroles)\n",
    "\n",
    "withoutSlash_n2 =[]\n",
    "for s in parole_echantillon2:\n",
    "    try:\n",
    "        x = re.sub(\"\\n\", \" \", s)\n",
    "    except:\n",
    "        pass\n",
    "    withoutSlash_n2.append(x)\n",
    "    \n",
    "withoutSlash2 =[]\n",
    "for s in withoutSlash_n2:\n",
    "    try:\n",
    "        x = re.sub(\"\\\\'\", \"'\", s)\n",
    "    except:\n",
    "        pass\n",
    "    withoutSlash2.append(x)\n",
    "    \n",
    "ecrire_json(\"clean_data_echantillons/clean_echantillon2.json\", withoutSlash2)"
   ]
  },
  {
   "cell_type": "code",
   "execution_count": 9,
   "metadata": {},
   "outputs": [],
   "source": [
    "Aventurier_paroles = []\n",
    "\n",
    "for child in echantillon1:\n",
    "\n",
    "    for parole in child:\n",
    "        if parole[\"full_title\"]==\"L'Aventurier by Jacques Dutronc\":\n",
    "            paroles = parole.get(\"lyrics\")\n",
    "            Aventurier_paroles.append(paroles)\n",
    "            \n",
    "        \n",
    "withoutSlash_n3 =[]\n",
    "for s in Aventurier_paroles:\n",
    "    try:\n",
    "        x = re.sub(\"\\n\", \" \", s)\n",
    "    except:\n",
    "        pass\n",
    "    withoutSlash_n3.append(x)\n",
    "    \n",
    "withoutSlash3 =[]\n",
    "for s in withoutSlash_n3:\n",
    "    try:\n",
    "        x = re.sub(\"\\\\'\", \"'\", s)\n",
    "    except:\n",
    "        pass\n",
    "    withoutSlash3.append(x)\n",
    "    \n",
    "    \n",
    "ecrire_json(\"aventurier_paroles.json\", withoutSlash3)"
   ]
  },
  {
   "cell_type": "code",
   "execution_count": null,
   "metadata": {},
   "outputs": [],
   "source": []
  },
  {
   "cell_type": "code",
   "execution_count": null,
   "metadata": {},
   "outputs": [],
   "source": []
  },
  {
   "cell_type": "code",
   "execution_count": null,
   "metadata": {},
   "outputs": [],
   "source": []
  },
  {
   "cell_type": "code",
   "execution_count": null,
   "metadata": {},
   "outputs": [],
   "source": []
  },
  {
   "cell_type": "code",
   "execution_count": null,
   "metadata": {},
   "outputs": [],
   "source": []
  },
  {
   "cell_type": "code",
   "execution_count": null,
   "metadata": {},
   "outputs": [],
   "source": []
  },
  {
   "cell_type": "code",
   "execution_count": null,
   "metadata": {},
   "outputs": [],
   "source": []
  },
  {
   "cell_type": "code",
   "execution_count": null,
   "metadata": {},
   "outputs": [],
   "source": []
  },
  {
   "cell_type": "code",
   "execution_count": null,
   "metadata": {},
   "outputs": [],
   "source": []
  },
  {
   "cell_type": "code",
   "execution_count": null,
   "metadata": {},
   "outputs": [],
   "source": []
  },
  {
   "cell_type": "code",
   "execution_count": 1,
   "metadata": {},
   "outputs": [],
   "source": [
    "import xml.etree.ElementTree as ET\n",
    "voc_Glawi = []\n",
    "tree = ET.parse(\"/Users/mustapha/Downloads/GLAWI_FR_work_D2015-12-26_R2016-05-18.xml\")\n",
    "root = tree.getroot()\n",
    "for element in root:\n",
    "    for child in element:\n",
    "        if child.tag == \"title\":\n",
    "            voc_Glawi.append(child.text)"
   ]
  },
  {
   "cell_type": "code",
   "execution_count": 4,
   "metadata": {},
   "outputs": [],
   "source": [
    "ecrire_json(\"voc_Glawi.json\", voc_Glawi)"
   ]
  },
  {
   "cell_type": "code",
   "execution_count": null,
   "metadata": {},
   "outputs": [],
   "source": []
  }
 ],
 "metadata": {
  "celltoolbar": "Format de la Cellule Texte Brut",
  "kernelspec": {
   "display_name": "Python 3",
   "language": "python",
   "name": "python3"
  },
  "language_info": {
   "codemirror_mode": {
    "name": "ipython",
    "version": 3
   },
   "file_extension": ".py",
   "mimetype": "text/x-python",
   "name": "python",
   "nbconvert_exporter": "python",
   "pygments_lexer": "ipython3",
   "version": "3.8.3"
  }
 },
 "nbformat": 4,
 "nbformat_minor": 4
}
