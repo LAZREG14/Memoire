{
 "cells": [
  {
   "cell_type": "code",
   "execution_count": 1,
   "metadata": {},
   "outputs": [],
   "source": [
    "import json\n",
    "import re\n",
    "\n",
    "def ouvrir_json(chemin):\n",
    "    f = open(chemin, encoding=\"utf-8\")\n",
    "    toto = json.load(f)\n",
    "    f.close()\n",
    "    return toto\n",
    "\n",
    "def ecrire_json(chemin, contenu):\n",
    "    w = open(chemin, \"w\", encoding=\"utf-8\")\n",
    "    w.write(json.dumps(contenu, indent=2, ensure_ascii=False))\n",
    "    w.close()"
   ]
  },
  {
   "cell_type": "code",
   "execution_count": 2,
   "metadata": {},
   "outputs": [],
   "source": [
    "echantillon2 = ouvrir_json(\"/Users/mustapha/Documents/GitHub/Memoire/Data/echantillon2.json\").values()\n",
    "echantillon1 = ouvrir_json(\"/Users/mustapha/Documents/GitHub/Memoire/Data/echantillon1.json\").values()"
   ]
  },
  {
   "cell_type": "code",
   "execution_count": 3,
   "metadata": {},
   "outputs": [],
   "source": [
    "parole_echantillon1=[]\n",
    "for child in echantillon1:\n",
    "    for parole in child:\n",
    "        paroles = parole.get(\"lyrics\")\n",
    "        if paroles != None:\n",
    "            parole_echantillon1.append(paroles)\n",
    "ecrire_json(\"/Users/mustapha/Documents/GitHub/Memoire/sdl_data_echantillons/parole_echantillon1.json\", parole_echantillon1)\n",
    "withoutSlash_n =[]\n",
    "for s in parole_echantillon1:\n",
    "    try:\n",
    "        x = re.sub(\"\\n\", \". \", s)\n",
    "    except:\n",
    "        pass\n",
    "    withoutSlash_n.append(x)\n",
    "'''   \n",
    "withoutSlash =[]\n",
    "for s in withoutSlash_n:\n",
    "    try:\n",
    "        x = re.sub(\"\\\\'\", \"'\", s)\n",
    "    except:\n",
    "        pass\n",
    "    withoutSlash.append(x)\n",
    "\n",
    "'''\n",
    "ecrire_json(\"/Users/mustapha/Documents/GitHub/Memoire/clean_data_echantillons/clean_parole_echantillon1.json\", withoutSlash_n)"
   ]
  },
  {
   "cell_type": "code",
   "execution_count": 4,
   "metadata": {},
   "outputs": [],
   "source": [
    "parole_echantillon2=[]\n",
    "for child in echantillon2:\n",
    "    for parole in child:\n",
    "        paroles = parole.get(\"lyrics\")\n",
    "        if paroles != None:\n",
    "            parole_echantillon2.append(paroles)\n",
    "ecrire_json(\"/Users/mustapha/Documents/GitHub/Memoire/sdl_data_echantillons/parole_echantillon2.json\", parole_echantillon2)\n",
    "withoutSlash_n2 =[]\n",
    "for s in parole_echantillon2:\n",
    "    try:\n",
    "        x = re.sub(\"\\n\", \". \", s)\n",
    "    except:\n",
    "        pass\n",
    "    withoutSlash_n2.append(x)\n",
    "'''    \n",
    "withoutSlash2 =[]\n",
    "for s in withoutSlash_n2:\n",
    "    try:\n",
    "        x = re.sub(\"\\\\'\", \"'\", s)\n",
    "    except:\n",
    "        pass\n",
    "    withoutSlash2.append(x)\n",
    "'''\n",
    "ecrire_json(\"/Users/mustapha/Documents/GitHub/Memoire/clean_data_echantillons/clean_parole_echantillon2.json\", withoutSlash_n2)"
   ]
  },
  {
   "cell_type": "code",
   "execution_count": 5,
   "metadata": {},
   "outputs": [
    {
     "name": "stdout",
     "output_type": "stream",
     "text": [
      "[\"Je suis un aventurier. Et j'ai beaucoup bourlingué. J'ai fait la vie à Varsovie. J'ai fait le mort à Baltimore. J'ai fait le rat à Camberra. J'ai joué aux dés à Yaoundé. J'ai joué aux dames à Amsterdam. J'ai fait des games à Binningham. Je suis un aventurier. Avec lequel il faut compter. Je suis un aventurier. Avec lequel il faut compter. . J'ai été à Bornéo. J'ai été pompette à Papeete. J'ai bu de l'eau à Bordeaux. J'ai dit tant pis à Tampico. J'ai fait l'soldat à Bogola. Et des calculs à Calcutta. . A moi, faut pas m'en raconter. Parce que, vraiment, j'en ai bavé. A moi, faut pas m'en raconter. Parce que, vraiment, j'en ai bavé. . J'ai été errant à Téhéran. Et au sana à Saana. J'ai fait l'chasseur à Kinshassa. Et la nounou à Cotonou. J'ai fait de la tôle à Dôle. J'ai été lourdé à Lourdes. . Je suis un aventurier. J'en ai vrairnent beaucoup bavé. Je suis un aventurier. J'en ai vrairnent beaucoup bavé. . J'ai été crétin à Créteil. J'ai eu la ber1ue à berlin. J'ai été gentil à Port-Gentil. Et malpoli à Tripoli. J'ai fait la vie à Varsovie. Et le mort à Baltimore. . J'étais un aventurier. Maintenant, c'est terminé. J'étais un aventurier. Maintenant, c'est terminé\"]\n"
     ]
    }
   ],
   "source": [
    "Aventurier_paroles = []\n",
    "\n",
    "for child in echantillon1:\n",
    "\n",
    "    for parole in child:\n",
    "        if parole[\"full_title\"] == \"L'Aventurier by Jacques Dutronc\":\n",
    "            paroles = parole.get(\"lyrics\")\n",
    "            Aventurier_paroles.append(paroles)\n",
    "ecrire_json(\"/Users/mustapha/Documents/GitHub/Memoire/sdl_data_echantillons/parole_aventurier.json\", Aventurier_paroles)\n",
    "            \n",
    "        \n",
    "withoutSlash_n3 =[]\n",
    "for s in Aventurier_paroles:\n",
    "    try:\n",
    "        x = re.sub(\"\\n\", \". \", s)\n",
    "    except:\n",
    "        pass\n",
    "    withoutSlash_n3.append(x)\n",
    "print(withoutSlash_n3)\n",
    "'''   \n",
    "withoutSlash3 =[]\n",
    "for s in withoutSlash_n3:\n",
    "    try:\n",
    "        x = re.sub(\"\\\\'\", \"'\", s)\n",
    "    except:\n",
    "        pass\n",
    "    withoutSlash3.append(x)\n",
    "'''   \n",
    "    \n",
    "ecrire_json(\"/Users/mustapha/Documents/GitHub/Memoire/clean_data_echantillons/clean_parole_aventurier.json\", withoutSlash_n3)"
   ]
  },
  {
   "cell_type": "code",
   "execution_count": 6,
   "metadata": {},
   "outputs": [],
   "source": [
    "lesRicochets_paroles = []\n",
    "\n",
    "for child in echantillon2:\n",
    "\n",
    "    for parole in child:\n",
    "        if parole[\"full_title\"]==\"Les Ricochets by Georges Brassens\":\n",
    "            paroles = parole.get(\"lyrics\")\n",
    "            lesRicochets_paroles.append(paroles)\n",
    "ecrire_json(\"/Users/mustapha/Documents/GitHub/Memoire/sdl_data_echantillons/parole_lesRicochets.json\", lesRicochets_paroles)\n",
    "\n",
    "        \n",
    "withoutSlash_n4 =[]\n",
    "for s in lesRicochets_paroles:\n",
    "    try:\n",
    "        x = re.sub(\"\\n\", \". \", s)\n",
    "    except:\n",
    "        pass\n",
    "    withoutSlash_n4.append(x)\n",
    "'''   \n",
    "withoutSlash3 =[]\n",
    "for s in withoutSlash_n3:\n",
    "    try:\n",
    "        x = re.sub(\"\\\\'\", \"'\", s)\n",
    "    except:\n",
    "        pass\n",
    "    withoutSlash3.append(x)\n",
    "'''   \n",
    "    \n",
    "ecrire_json(\"/Users/mustapha/Documents/GitHub/Memoire/clean_data_echantillons/clean_parole_lesRicochets.json\", withoutSlash_n4)"
   ]
  },
  {
   "cell_type": "code",
   "execution_count": null,
   "metadata": {},
   "outputs": [],
   "source": []
  },
  {
   "cell_type": "code",
   "execution_count": null,
   "metadata": {},
   "outputs": [],
   "source": []
  },
  {
   "cell_type": "code",
   "execution_count": null,
   "metadata": {},
   "outputs": [],
   "source": []
  },
  {
   "cell_type": "code",
   "execution_count": null,
   "metadata": {},
   "outputs": [],
   "source": []
  },
  {
   "cell_type": "code",
   "execution_count": null,
   "metadata": {},
   "outputs": [],
   "source": []
  },
  {
   "cell_type": "code",
   "execution_count": null,
   "metadata": {},
   "outputs": [],
   "source": []
  },
  {
   "cell_type": "code",
   "execution_count": null,
   "metadata": {},
   "outputs": [],
   "source": []
  },
  {
   "cell_type": "code",
   "execution_count": null,
   "metadata": {},
   "outputs": [],
   "source": []
  },
  {
   "cell_type": "code",
   "execution_count": null,
   "metadata": {},
   "outputs": [],
   "source": []
  },
  {
   "cell_type": "code",
   "execution_count": 1,
   "metadata": {},
   "outputs": [],
   "source": [
    "import xml.etree.ElementTree as ET\n",
    "voc_Glawi = []\n",
    "tree = ET.parse(\"/Users/mustapha/Downloads/GLAWI_FR_work_D2015-12-26_R2016-05-18.xml\")\n",
    "root = tree.getroot()\n",
    "for element in root:\n",
    "    for child in element:\n",
    "        if child.tag == \"title\":\n",
    "            voc_Glawi.append(child.text)"
   ]
  },
  {
   "cell_type": "code",
   "execution_count": 4,
   "metadata": {},
   "outputs": [],
   "source": [
    "ecrire_json(\"voc_Glawi.json\", voc_Glawi)"
   ]
  },
  {
   "cell_type": "code",
   "execution_count": null,
   "metadata": {},
   "outputs": [],
   "source": []
  }
 ],
 "metadata": {
  "celltoolbar": "Format de la Cellule Texte Brut",
  "kernelspec": {
   "display_name": "Python 3",
   "language": "python",
   "name": "python3"
  },
  "language_info": {
   "codemirror_mode": {
    "name": "ipython",
    "version": 3
   },
   "file_extension": ".py",
   "mimetype": "text/x-python",
   "name": "python",
   "nbconvert_exporter": "python",
   "pygments_lexer": "ipython3",
   "version": "3.8.3"
  }
 },
 "nbformat": 4,
 "nbformat_minor": 4
}
