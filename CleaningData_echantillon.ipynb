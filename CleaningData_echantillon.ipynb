{
 "cells": [
  {
   "cell_type": "code",
   "execution_count": 4,
   "metadata": {},
   "outputs": [],
   "source": [
    "import json\n",
    "import re\n",
    "import glob\n",
    "\n",
    "def ouvrir_json(chemin):\n",
    "    f = open(chemin, encoding=\"utf-8\")\n",
    "    toto = json.load(f)\n",
    "    f.close()\n",
    "    return toto\n",
    "\n",
    "def ecrire_fichier(chemin, contenu):\n",
    "    w = open(chemin, \"w\", encoding=\"utf-8\")\n",
    "    w.write(contenu)\n",
    "    w.close()\n",
    "\n",
    "def lire_fichier(chemin):\n",
    "    f = open(chemin, \"r\", encoding=\"utf-8\")\n",
    "    chaine = f.read()\n",
    "    f.close()\n",
    "    return chaine\n",
    "\n",
    "def ecrire_json(chemin, contenu):\n",
    "    w = open(chemin, \"w\", encoding=\"utf-8\")\n",
    "    w.write(json.dumps(contenu, indent=2, ensure_ascii=False))\n",
    "    w.close()"
   ]
  },
  {
   "cell_type": "code",
   "execution_count": 3,
   "metadata": {},
   "outputs": [
    {
     "ename": "FileNotFoundError",
     "evalue": "[Errno 2] No such file or directory: 'Data/Lyrics_all/*'",
     "output_type": "error",
     "traceback": [
      "\u001b[0;31m---------------------------------------------------------------------------\u001b[0m",
      "\u001b[0;31mFileNotFoundError\u001b[0m                         Traceback (most recent call last)",
      "\u001b[0;32m<ipython-input-3-ad9065f50582>\u001b[0m in \u001b[0;36m<module>\u001b[0;34m\u001b[0m\n\u001b[1;32m      1\u001b[0m \u001b[0;31m#echantillon1 = ouvrir_json(\"Data/echantillon1.json\").values()\u001b[0m\u001b[0;34m\u001b[0m\u001b[0;34m\u001b[0m\u001b[0;34m\u001b[0m\u001b[0m\n\u001b[1;32m      2\u001b[0m \u001b[0;31m#echantillon2 = ouvrir_json(\"Data/echantillon2.json\").values()\u001b[0m\u001b[0;34m\u001b[0m\u001b[0;34m\u001b[0m\u001b[0;34m\u001b[0m\u001b[0m\n\u001b[0;32m----> 3\u001b[0;31m \u001b[0mall_data\u001b[0m \u001b[0;34m=\u001b[0m \u001b[0mouvrir_json\u001b[0m\u001b[0;34m(\u001b[0m\u001b[0;34m\"Data/Lyrics_all/*\"\u001b[0m\u001b[0;34m)\u001b[0m\u001b[0;34m.\u001b[0m\u001b[0mvalues\u001b[0m\u001b[0;34m(\u001b[0m\u001b[0;34m)\u001b[0m\u001b[0;34m\u001b[0m\u001b[0;34m\u001b[0m\u001b[0m\n\u001b[0m",
      "\u001b[0;32m<ipython-input-1-f25d739f9847>\u001b[0m in \u001b[0;36mouvrir_json\u001b[0;34m(chemin)\u001b[0m\n\u001b[1;32m      2\u001b[0m \u001b[0;32mimport\u001b[0m \u001b[0mre\u001b[0m\u001b[0;34m\u001b[0m\u001b[0;34m\u001b[0m\u001b[0m\n\u001b[1;32m      3\u001b[0m \u001b[0;32mdef\u001b[0m \u001b[0mouvrir_json\u001b[0m\u001b[0;34m(\u001b[0m\u001b[0mchemin\u001b[0m\u001b[0;34m)\u001b[0m\u001b[0;34m:\u001b[0m\u001b[0;34m\u001b[0m\u001b[0;34m\u001b[0m\u001b[0m\n\u001b[0;32m----> 4\u001b[0;31m     \u001b[0mf\u001b[0m \u001b[0;34m=\u001b[0m \u001b[0mopen\u001b[0m\u001b[0;34m(\u001b[0m\u001b[0mchemin\u001b[0m\u001b[0;34m,\u001b[0m \u001b[0mencoding\u001b[0m\u001b[0;34m=\u001b[0m\u001b[0;34m\"utf-8\"\u001b[0m\u001b[0;34m)\u001b[0m\u001b[0;34m\u001b[0m\u001b[0;34m\u001b[0m\u001b[0m\n\u001b[0m\u001b[1;32m      5\u001b[0m     \u001b[0mtoto\u001b[0m \u001b[0;34m=\u001b[0m \u001b[0mjson\u001b[0m\u001b[0;34m.\u001b[0m\u001b[0mload\u001b[0m\u001b[0;34m(\u001b[0m\u001b[0mf\u001b[0m\u001b[0;34m)\u001b[0m\u001b[0;34m\u001b[0m\u001b[0;34m\u001b[0m\u001b[0m\n\u001b[1;32m      6\u001b[0m     \u001b[0mf\u001b[0m\u001b[0;34m.\u001b[0m\u001b[0mclose\u001b[0m\u001b[0;34m(\u001b[0m\u001b[0;34m)\u001b[0m\u001b[0;34m\u001b[0m\u001b[0;34m\u001b[0m\u001b[0m\n",
      "\u001b[0;31mFileNotFoundError\u001b[0m: [Errno 2] No such file or directory: 'Data/Lyrics_all/*'"
     ]
    }
   ],
   "source": [
    "echantillon1 = ouvrir_json(\"Data/echantillon1.json\").values()\n",
    "#echantillon2 = ouvrir_json(\"Data/echantillon2.json\").values()"
   ]
  },
  {
   "cell_type": "code",
   "execution_count": 3,
   "metadata": {},
   "outputs": [],
   "source": [
    "parole_echantillon1=[]\n",
    "for child in echantillon1:\n",
    "    for parole in child:\n",
    "        paroles = parole.get(\"lyrics\")\n",
    "        parole_echantillon1.append(paroles)"
   ]
  },
  {
   "cell_type": "code",
   "execution_count": 10,
   "metadata": {},
   "outputs": [
    {
     "name": "stdout",
     "output_type": "stream",
     "text": [
      "[\"Je suis un aventurier\\nEt j'ai beaucoup bourlingué\\nJ'ai fait la vie à Varsovie\\nJ'ai fait le mort à Baltimore\\nJ'ai fait le rat à Camberra\\nJ'ai joué aux dés à Yaoundé\\nJ'ai joué aux dames à Amsterdam\\nJ'ai fait des games à Binningham\\nJe suis un aventurier\\nAvec lequel il faut compter\\nJe suis un aventurier\\nAvec lequel il faut compter\\n\\nJ'ai été à Bornéo\\nJ'ai été pompette à Papeete\\nJ'ai bu de l'eau à Bordeaux\\nJ'ai dit tant pis à Tampico\\nJ'ai fait l'soldat à Bogola\\nEt des calculs à Calcutta\\n\\nA moi, faut pas m'en raconter\\nParce que, vraiment, j'en ai bavé\\nA moi, faut pas m'en raconter\\nParce que, vraiment, j'en ai bavé\\n\\nJ'ai été errant à Téhéran\\nEt au sana à Saana\\nJ'ai fait l'chasseur à Kinshassa\\nEt la nounou à Cotonou\\nJ'ai fait de la tôle à Dôle\\nJ'ai été lourdé à Lourdes\\n\\nJe suis un aventurier\\nJ'en ai vrairnent beaucoup bavé\\nJe suis un aventurier\\nJ'en ai vrairnent beaucoup bavé\\n\\nJ'ai été crétin à Créteil\\nJ'ai eu la ber1ue à berlin\\nJ'ai été gentil à Port-Gentil\\nEt malpoli à Tripoli\\nJ'ai fait la vie à Varsovie\\nEt le mort à Baltimore\\n\\nJ'étais un aventurier\\nMaintenant, c'est terminé\\nJ'étais un aventurier\\nMaintenant, c'est terminé\"]\n"
     ]
    }
   ],
   "source": [
    "echantillon1 = ouvrir_json(\"Data/echantillon1.json\")\n",
    "\n",
    "Aventurier_paroles = []\n",
    "chanson = echantillon1.values()\n",
    "\n",
    "\n",
    "for child in chanson:\n",
    "\n",
    "    for parole in child:\n",
    "        if parole[\"full_title\"]==\"L'Aventurier by Jacques Dutronc\":\n",
    "            paroles = parole.get(\"lyrics\")\n",
    "            Aventurier_paroles.append(paroles)\n",
    "withoutSlash_n =[]\n",
    "for s in Aventurier_paroles:\n",
    "    try:\n",
    "        x = re.sub(\"\\n\", \" \", s)\n",
    "    except:\n",
    "        pass\n",
    "    withoutSlash_n.append(x)\n",
    "    \n",
    "withoutSlash =[]\n",
    "for s in withoutSlash_n:\n",
    "    try:\n",
    "        x = re.sub(\"\\\\'\", \"'\", s)\n",
    "    except:\n",
    "        pass\n",
    "    withoutSlash.append(x)\n",
    "    \n",
    "    \n",
    "ecrire_json(\"aventurier_paroles.json\", withoutSlash)"
   ]
  },
  {
   "cell_type": "markdown",
   "metadata": {
    "slideshow": {
     "slide_type": "notes"
    }
   },
   "source": [
    "Se débarrasser des fin de lignes et symboles déechappement\n",
    "---------------------------------------------------------------------"
   ]
  },
  {
   "cell_type": "code",
   "execution_count": 4,
   "metadata": {},
   "outputs": [],
   "source": [
    "withoutSlash_n =[]\n",
    "for s in parole_echantillon1:\n",
    "    try:\n",
    "        x = re.sub(\"\\n\", \" \", s)\n",
    "    except:\n",
    "        pass\n",
    "    withoutSlash_n.append(x)"
   ]
  },
  {
   "cell_type": "code",
   "execution_count": 5,
   "metadata": {},
   "outputs": [],
   "source": [
    "withoutSlash =[]\n",
    "for s in withoutSlash_n:\n",
    "    try:\n",
    "        x = re.sub(\"\\\\'\", \"'\", s)\n",
    "    except:\n",
    "        pass\n",
    "    withoutSlash.append(x)"
   ]
  },
  {
   "cell_type": "code",
   "execution_count": 98,
   "metadata": {},
   "outputs": [],
   "source": [
    "#withoutStopwords_spacy = []\n",
    "#sw = nlp.Defaults.stop_words\n",
    "#for w in withoutSlash_n:\n",
    "  #  if w not in sw:\n",
    "        \n",
    " #       withoutStopwords_spacy.append(w)\n",
    "#print(withoutStopwords_spacy)"
   ]
  },
  {
   "cell_type": "code",
   "execution_count": 8,
   "metadata": {},
   "outputs": [],
   "source": [
    "ecrire_json(\"clean_echantillon1.json\", withoutSlash)"
   ]
  },
  {
   "cell_type": "code",
   "execution_count": 7,
   "metadata": {},
   "outputs": [],
   "source": [
    "import spacy\n",
    "nlp_sm = spacy.load(\"fr_core_news_sm\")\n",
    "nlp_md = spacy.load(\"fr_core_news_md\")\n",
    "nlp_lg = spacy.load(\"fr_core_news_lg\")"
   ]
  },
  {
   "cell_type": "code",
   "execution_count": 5,
   "metadata": {},
   "outputs": [],
   "source": [
    "f1 = ouvrir_json(\"clean_data_echantillons/clean_echantillon1.json\")\n",
    "f2 = ouvrir_json(\"Data/voc_glaff.json\")"
   ]
  },
  {
   "cell_type": "markdown",
   "metadata": {},
   "source": [
    "Lieux trouvés par le modèle spacy small\n",
    "---------------------------------------------------------------------"
   ]
  },
  {
   "cell_type": "code",
   "execution_count": 8,
   "metadata": {},
   "outputs": [
    {
     "name": "stdout",
     "output_type": "stream",
     "text": [
      "104\n",
      "{'Houlgate', 'Mange', 'Puisque', 'Hippie', 'Engagez', 'Créteil', 'Bernhart Arroy', 'Disigny', 'Chaussée', 'Canigou', 'Marcelle', 'Gaumont Lampadaire', 'Mégève', 'Les', 'rue Le Regrantier', \"J'ai parlé d'pêche\", 'Roméo Je', 'Yvette', '’', 'ber1ue', 'Pénélope', 'Camberra', 'Ministère', 'Amiens', 'Entrez', \"J'comprends pas ...\", 'Antiatomique', 'Avoir', 'Ouille', 'Portez', 'Fatigué', \"Dutronc d'Isigny\", 'Calcutta', \"J'ai dit comme tes bas : mi-long\", 'Maxitère', \"J'ai du plaisir\", 'Amakawogo', 'Bornéo', \"Chaussée-d'Antin\", \"J'ai Maginot\", 'Trocadéro Pris', \"J'ai été à\", 'Électronique', 'Pyrex', 'Bonsoir', 'Eh watching', 'Tampico', 'Bogola', 'Yaoundé', 'Hâtez', 'Prends', 'Lourdes', 'Instantané', 'Bordeaux', 'France', \"J'ai des problèmes\", \"Dutronc d'Isigny Je\", 'Goldwyn', 'Y', 'Sois', 'Celles', 'Amsterdam', 'Nagent', 'Mini-jupe', 'Saana', 'Kinshassa', 'Boulevard Poissonnière', 'La Palice', 'Puis', 'Tripoli', 'Téhéran', 'Venise', 'jardin Passa', 'Merde', \"L'\", \"J'\", \"Papeete J'ai bu de l'eau\", 'rue Sinon', 'Sortez', 'Aidez', 'Attention prends pas froid', \"J'ai du velours\", 'Baltimore', 'Gault', 'Paris', 'Ca', 'Saint Omer', 'Tu', 'Port-Gentil', 'Ménard', 'A', 'Dois', 'Venez', 'l’Harpic', 'Métropolitain', 'Varsovie', 'Demi-pause', 'Vieux fossiles', \"J'ai pas de pot j'ai des impôts\", 'Descendue', 'Lux Croyez', 'Saint-Tropez', 'Val-de-Grâce', 'San Francisco'}\n"
     ]
    }
   ],
   "source": [
    "loc=[]\n",
    "for texte in f1:\n",
    "    doc = nlp_sm(texte)\n",
    "    for entity in doc.ents:\n",
    "        if entity.label_ ==\"LOC\":\n",
    "            loc.append(entity.text)\n",
    "print(len(set(loc)))\n",
    "print(set(loc))"
   ]
  },
  {
   "cell_type": "markdown",
   "metadata": {},
   "source": [
    "Difference avec Glaff\n",
    "---------------------------------------------------------------------"
   ]
  },
  {
   "cell_type": "code",
   "execution_count": 52,
   "metadata": {},
   "outputs": [
    {
     "name": "stdout",
     "output_type": "stream",
     "text": [
      "50591\n"
     ]
    }
   ],
   "source": [
    "test = [mot for mot in loc if mot.lower() not in f2]\n",
    "print(len(test))"
   ]
  },
  {
   "cell_type": "code",
   "execution_count": 49,
   "metadata": {},
   "outputs": [
    {
     "name": "stdout",
     "output_type": "stream",
     "text": [
      "{'Menton', 'Inquiétant', 'Suceuses', 'Croiser', 'Fredonne', 'Ter', 'Formaté', 'Infiltre', 'Barcelonais', 'Macadam', 'Orange', 'Lancinantes', 'Infiltrez', 'Tropique', 'Largos', 'Ndombolo', 'Congolais', 'Chypre', 'Étend', 'Dégoûtés', 'Enferme', 'Connemara', 'Directeur', 'Passeport', 'Infortuné', 'Dessinent', 'Faisanderie', 'Planquée', 'Dégustons', 'Chelou', 'Passée', 'Pe', 'Congrès', 'Change', 'Jardin', 'Zumba', 'Évacue', 'Coca', 'Descendez', 'Discernes', 'Bourgogne', 'Bonasses', 'Défense', 'Arriver', 'Atlantique', 'Angleterre', 'Este', 'Chartres', 'Buffalo', 'Payol', 'Limonade', 'Italiennes', 'Pruneaux', 'Nanti', 'Penchée', 'Lové', 'Poussières', 'Briquer', 'Cacao', 'Mai', 'Bondir', 'Tours', 'Fixé', 'Essuyez', 'Cogite', 'Plouf', 'Nordiques', 'Parlons', 'Chés', 'Resserres', 'Derricks', 'Renait', 'Borgnes', 'Craignent', 'Posée', 'Croise', 'Annoncent', 'Délinquant', 'Celle', 'Allergique', 'Singeant', 'Gagneront', 'Parme', 'Pénètre', 'Flaques', 'Qui', 'Ile', 'Mignon', 'Étang', 'Défierai', 'Résisté', 'Rein', 'Dessus', 'Chorus', 'Gelé', 'Séchez', 'Invalides', 'Distance', 'Main', 'Liège', 'Farine', 'Criquet', 'Côte', 'Grossir', 'Fâché', 'Margoton', 'Tourbillon', 'Cargaison', 'Funky', 'Vivant', 'Allumant', 'Marquises', 'Arbalète', 'Arrivera', 'Menait', 'Chien', 'Grimpe', 'Gigote', 'Noire', 'Boulonnais', 'Besognées', 'Allongées', 'Gauloise', 'Parle', 'Brandiront', 'Abracadabrant', 'Arrêtons', 'Creusez', 'Maharajas', 'Épinettes', 'Diamants', 'Bandol', 'Guignol', 'Florentines', 'Père', 'Sels', 'Lima', 'Arrêtées', 'Dicte', 'Tequila', 'Confond', 'Savourez', 'Mouille', 'Put', 'Déguisant', 'Messidor', 'Terrorisés', 'Motte', 'Refera', 'Complexes', 'Neuf', 'Songhaï', 'Enfiler', 'Périphérique', 'Squatte', 'Fleuve', 'Fleuves', 'Dissolvent', 'Hissez', 'Courir', 'Coquillage', 'Nausée', 'Tajine', 'Phocéenne', 'Nains', 'Nationalisé', 'Fourre', 'Étendus', 'Babouche', 'Stalag', 'Laconique', 'Travailler', 'Promener', 'Jury', 'Cordes', 'Catch', 'Campanile', 'Perse', 'Satellisé', 'Quittez', 'Détachez', 'Soustraits', 'Dont', 'Dol', 'Port', 'Tunisiens', 'Longer', 'Enflammées', 'Wallonne', 'Grisée', 'Brodé', 'Monnaie', 'Mignonne', 'Enchaîne', 'Saine', 'Trinquons', 'Abandonnées', 'Indécence', 'Baskets', 'Colles', 'Mème', 'Tectonique', 'Cocotiers', 'Luttais', 'Building', 'Noyau', 'Menotté', 'Raser', 'Crucifié', 'Réfugie', 'Misère', 'Enta', 'Mammouth', 'Ave', 'Mentons', 'Lé', 'Mandingues', 'Tension', 'Verront', 'Infime', 'Écorchons', 'LA', 'Gironde', 'MI', 'Mu', 'Polémique', 'Perdu', 'Pensais', 'Métissé', 'Grise', 'Épiceries', 'Adossé', 'Downtown', 'Traîne', 'Donnant', 'Passons', 'Civière', 'Mangés', 'Dealé', 'Palais', 'British', 'Veste', 'Sapajou', 'Irradié', 'Rejoins', 'Galice', 'Crisser', 'Colombienne', 'Bagarrer', 'Brésil', 'Cara', 'Ivoiriens', 'Coupole', 'Coquins', 'Nécessaire', 'Laissait', 'Zamal', 'Pourrissent', 'Pute', 'Faut', 'Smic', 'Boliviano', 'Métissage', 'Appelle', 'Chienne', 'Futile', 'French', 'Permets', 'Pipez', 'Colombes', 'Laboratoire', 'Vais', 'Testé', 'Mercure', 'Lady', 'Mêler', 'Faner', 'Musulman', 'Pékin', 'Mâcon', 'Balade', 'Tiendront', 'Tâchant', 'Lapon', 'Floride', 'Baisse', 'Décrochée', 'Rechercher', 'Étouffées', 'Sereins', 'Claquer', 'Populaire', 'Emplissant', 'Tasses', 'Sucre', 'Bracelet', 'Grenelle', 'Kuduro', 'Arrives', 'Plaqués', 'Mâchonnent', 'Passage', 'Ternaire', 'Claquons', 'Venir', 'Lâcherez', 'Gens', 'Savane', 'Trempant', 'Pillé', 'Dévalent', 'Pois', 'Regardait', 'Galette', 'Assiette', 'Buis', 'Marocains', 'Zappez', 'Espace', 'Golf', 'Papé', 'Aout', 'Trappe', 'Avancez', 'Pull', 'Frileux', 'Clinquant', 'VS', 'Sniffe', 'Seine', 'Britannique', 'Perdues', 'Solitaire', 'Impitoyables', 'Sévit', 'Arrière', 'Ivoirien', 'Dinant', 'Niais', 'Enfouis', 'Tarter', 'Pêcher', 'Dodo', 'Saoulé', 'Déchirant', 'Exalter', 'Crin', 'Salut', 'Servile', 'Ressort', 'Béthune', 'Sucré', 'Fakes', 'Espagnole', 'Blafarde', 'Frileuse', 'Massages', 'Hard', 'Sut', 'Disharmonie', 'Ranges', 'Vendredi', 'Dois', 'Dictateurs', 'Ça', 'Deux', 'Gaffé', 'Présidence', 'Parc', 'Bulgare', 'Rouen', 'Block', 'Lai', 'Cicatrisé', 'Bipolaire', 'Conclus', 'Détruisant', 'Retires', 'Poitrine', 'Griffures', 'Marais', 'Carrare', 'van', 'Grave', 'Embrasser', 'Jaillit', 'Breaker', 'Retrousse', 'Hagards', 'Chopé', 'Traînes', 'Boulevard', 'Poseras', 'Tambours', 'Platines', 'Cogne', 'Tu', 'Métamorphoser', 'Rançonner', 'Rotons', 'Condamnée', 'Créneau', 'Connais', 'Uniques', 'Gap', 'Ure', 'Vieilles', 'Vedette', 'Hier', 'Corners', 'Voudront', 'Thaïlandaise', 'Bienveillante', 'Abjurant', 'Sifflera', 'Reprendrons', 'Tweet', 'Avanie', 'Entrouvertes', 'Houla', 'Putride', 'Rampez', 'Cagoulé', 'Chakra', 'Rond', 'Arrivée', 'Polo', 'Mens', 'Chalunopantaxophile', 'Parisiennes', 'Once', 'Bite', 'Éclairant', 'Orchestres', 'Bic', 'Lion', 'TU', 'Brille', 'Monceau', 'Bonhomme', 'Accrochant', 'Florides', 'Mexicaine', 'Pressante', 'Prosterne', 'Buttes', 'Rouille', 'Brisons', 'Italien', 'Posé', 'Rajoutes', 'Attaché', 'Médina', 'Méditerranéenne', 'Inondant', 'Besoin', 'Aprés', 'Musette', 'Ama', 'Enivrant', 'Apporterons', 'Moresque', 'Sent', 'Ballons', 'Carambars', 'ON', 'Montrez', 'Fumons', 'Matées', 'Goémons', 'Délaisse', 'Love', 'Chaudron', 'Dent', 'Mecton', 'Derby', 'Békés', 'Azur', 'Femme', 'Assistait', 'Rendez', 'Ricain', 'Grosse', 'Mec', 'Tiercé', 'Naitront', 'Illégalement', 'Souillé', 'Nouilles', 'Jugé', 'Votez', 'Souffre', 'Flèche', 'Décris', 'Inscris', 'Bilou', 'Bigos', 'Porque', 'Prodigieux', 'Algériens', 'Indienne', 'Amerloque', 'Paupières', 'Lyrics', 'Magnifique', 'Chat', 'Crémone', 'Millions', 'Naturel', 'CHILLER', 'Géorgien', 'Contentez', 'Persuadé', 'Fine', 'Flandre', 'Nonante', 'Lésée', 'Lampadaire', 'Floréal', 'Méditerranée', 'Posées', 'Zigzagant', 'Échelle', 'Horizon', 'Branchées', 'Trip', 'Haïtien', 'Berce', 'Génération', 'Bourbier', 'Improvise', 'Margarita', 'Plaine', 'Ensanglanté', 'Emporta', 'Andalouses', 'Concurrence', 'Braises', 'Déséquilibré', 'Sylphes', 'Piétiner', 'Balles', 'Cicatriser', 'Demeure', 'Tus', 'Affirmes', 'Trimballant', 'Sacré', 'Trapper', 'Andes', 'Lovés', 'Ouest', 'Femmes', 'Anche', 'Cancane', 'Grenade', 'Affûtez', 'Démolis', 'Fermé', 'Centrales', 'Gambader', 'Verrouillée', 'Boire', 'Lentement', 'Déflorons', 'delÀ', 'Direction', 'Océan', 'Lubrifie', 'Triangle', 'Casanova', 'Montana', 'Effacera', 'Chacal', 'Zek', 'Couronnée', 'Scares', 'Cama', 'Tartempion', 'Tranquille', 'Royan', 'Disposais', 'Jouez', 'To', 'Aiguisant', 'Arrosant', 'Épargner', 'Bafoué', 'Flamenco', 'Dégueulasser', 'Schizophrénie', 'Charbonne', 'Vapeur', 'Brûlant', 'Berlin', 'Brassons', 'Apprendront', 'Vernis', 'Cristalline', 'Malaga', 'Mature', 'Corée', 'Tait', 'Badé', 'NI', 'Ressortent', 'Redessinant', 'Galope', 'Gorge', 'Partir', 'Rebeu', 'Roupille', 'Incendiées', 'Vaurien', 'Glacière', 'Pays', 'Partout', 'Anglais', 'Étourderie', 'Combien', 'Déversent', 'Fez', 'Ourse', 'Tire', 'Pratique', 'Où', 'Fourrez', 'Tribord', 'Ban', 'Spéculation', 'Rating', 'Éternel', 'Cerveaux', 'Allons', 'Valenciennes', 'Frapadingues', 'Anticléricaux', 'Pistonnée', 'Désobéissance', 'Espérais', 'Traversé', 'Porno', 'Usine', 'Être', 'Obtenaient', 'Envahissent', 'Com', 'Recrache', 'Funk', 'Changeront', 'Tracées', 'RAP', 'Sandwich', 'Ressens', 'Croix', 'Halte', 'Casa', 'Astronautes', 'Sein', 'Banal', 'Bâle', 'Aunettes', 'Berçant', 'Dure', 'Persévérance', 'Gardes', 'Parlait', 'PARIS', 'Malaxez', 'Maintenant', 'Nettoient', 'Jures', 'Oublierons', 'Crevé', 'Embusquées', 'Beg', 'Plantant', 'Museler', 'Raccourcissent', 'Semblant', 'Blonds', 'Minimum', 'Sécher', 'Restez', 'Succomber', 'Houleux', 'Poussée', 'Ciel', 'Menuets', 'Bataclan', 'Artillerie', 'Continuer', 'Massas', 'Félicitations', 'Assouvie', 'Carmagnole', 'Gilet', 'Hâlées', 'Délirer', 'Détaillant', 'Bandais', 'Alizés', 'Écrasant', 'Ressers', 'Dams', 'Escalader', 'Danseront', 'Bouche', 'Chico', 'Implore', 'Fêlé', 'Crochée', 'Béton', 'Bricks', 'Veinée', 'Calvados', 'Extralucide', 'Bulgari', 'Pensif', 'Danoise', 'Frapper', 'Contemple', 'Rendus', 'Gyrophares', 'Promis', 'Espéré', 'Portoricains', 'BLOCS', 'Ara', 'Chérie', 'Sirop', 'Plume', 'Tournera', 'Préparez', 'Décorées', 'Couvant', 'Navrant', 'Freinée', 'Prit', 'Nation', 'Cévennes', 'Raisins', 'Sale', 'Massif', 'Las', 'Sierra', 'Dressées', 'Scarification', 'Frissonne', 'Ancrée', 'Poses', 'Canal', 'Michto', 'Jugée', 'Panier', 'Meuf', 'Amènera', 'Guinéen', 'Continuons', 'Épis', 'Sarcelle', 'Bourgeonne', 'Roule', 'Puise', 'Interdits', 'Paparazzis', 'Virgules', 'Laminaient', 'DEDANS', 'Terriens', 'Ata', 'Flâner', 'Hystérise', 'Effleurer', 'Poulbots', 'Tiges', 'Antarctique', 'Vannes', 'Beine', 'Couvre', 'Panam', 'Arriveras', 'Piétons', 'Paranoïaque', 'Bombarde', 'Parloir', 'Virage', 'Romanichels', 'Pakistanais', 'Ricil', 'Madrilène', 'Bombardé', 'Bambaras', 'Vieil', 'Stature', 'Salle', 'Rageux', 'Vas', 'Antillais', 'Modulait', 'Vacille', 'Rêva', 'Bière', 'Murmura', 'Envoûte', 'Disons', 'Fourche', 'Blanche', 'Naguère', 'Tourner', 'Scellée', 'Capitale', 'Ver', 'Tibétains', 'Congo', 'Mic', 'Bicraver', 'Grimpée', 'Délaver', 'Versant', 'Gretchen', 'Caressera', 'Amour', 'Sis', 'Austère', 'Treuil', 'Santé', 'Résonner', 'Mohican', 'Aiglon', 'Stade', 'aiLes', 'Partit', 'Charbonneur', 'Garderons', 'Tentais', 'Chalands', 'Paraiso', 'Tête', 'Hongroise', 'Casser', 'Show', 'Bleuets', 'Parisienne', 'Fake', 'Retienne', 'Font', 'Uzi', 'Maris', 'Camerounais', 'Suintant', 'Siliconée', 'Acropole', 'Anciens', 'Oublient', 'Hoc', 'Foutent', 'Moelle', 'Grande', 'Évacuer', 'Sonnez', 'Gaspillent', 'Agonise', 'Descendre', 'Rétrograde', 'Arts', 'Don', 'Enfers', 'Engrainer', 'Essayons', 'Met', 'Chiens', 'Magicienne', 'Grince', 'Verrouillées', 'Yang', 'Parloirs', 'Parcourir', 'Cueillir', 'Lever', 'Endors', 'Argentine', 'Sensoriel', 'Riant', 'Mit', 'Banquette', 'Dé', 'Blasée', 'Marseillais', 'Porto', 'Portugaise', 'Buter', 'Repasse', 'Emportées', 'Fouettés', 'Est', 'Déshabille', 'Passagère', 'Deviendrai', 'Chapelle', 'Rajustant', 'Articulez', 'Accrochée', 'Charcuteur', 'Oriental', 'Blacks', 'Teutons', 'Loir', 'Salée', 'Averse', 'Désabuse', 'Haineux', 'Hautaine', 'Rio', 'Ashanti', 'Prêtez', 'Bandez', 'Sarcelles', 'Bousille', 'Finie', 'Revivre', 'Pâtisserie', 'Chômage', 'Trace', 'Tare', 'Boycotté', 'Hin', 'Cubain', 'Râper', 'Réapproprions', 'Pût', 'Garou', 'Chiliens', 'Aigle', 'Broyant', 'Île', 'Pis', 'Remonter', 'Masser', 'Irlandais', 'Dévêtu', 'Chantes', 'Battre', 'Civilisé', 'Valsons', 'Aidez', 'Doue', 'Till', 'Allemande', 'Abhorrant', 'Baby', 'Demi', 'Costes', 'Méridien', 'Chié', 'Hall', 'Toxique', 'Galbé', 'Riez', 'Blancs', 'TA', 'Providentiel', 'Dangereuses', 'Occident', 'Mille', 'Mayenne', 'Lourds', 'Les', 'Bâtissent', 'Direct', 'Loin', 'Makala', 'Pourchassée', 'Foutue', 'Moleskine', 'Coulent', 'Vieillarde', 'Englouties', 'Kong', 'Bébé', 'Walkman', 'Décrochons', 'Bosquet', 'Tardez', 'Kalash', 'Expédie', 'Nuance', 'Fellation', 'Téquila', 'Maisons', 'Unisson', 'Auvergne', 'Cash', 'Mouillé', 'Foin', 'Fon', 'Face', 'Courser', 'Tailler', 'Plaisanter', 'Vans', 'Savoure', 'Restauroute', 'Lampons', 'Radar', 'Plaisance', 'Parquée', 'Marias', 'Redeviens', 'Attiser', 'Russes', 'Bercée', 'Hawaïenne', 'Jet', 'Parviendras', 'Amadoué', 'Anthropopithèques', 'Havres', 'Tour', 'Pénétrer', 'Décoche', 'Affutez', 'Messine', 'Mua', 'Questionnés', 'Étouffant', 'Traîner', 'Griffant', 'Sure', 'Rock', 'Chaudes', 'Guinette', 'Méditerranéen', 'Posez', 'Hollywoodienne', 'Appareil', 'Croirait', 'Garance', 'Défouraille', 'Tel', 'Rabat', 'Bagnole', 'Gît', 'Phocéens', 'Bavière', 'Faisais', 'Haram', 'Dissipe', 'Brûler', 'Montent', 'Peins', 'Bouffé', 'Belge', 'Gorgées', 'Hazard', 'Docile', 'Grève', 'Suspendues', 'Japonais', 'Écorchées', 'Brume', 'Atterrissage', 'Alignées', 'Coincée', 'Descend', 'Somme', 'Moulins', 'Rentres', 'Salissent', 'Ring', 'Oxford', 'Bercé', 'Glaciale', 'Intérêt', 'Havre', 'Abaya', 'Araignées', 'Mer', 'Tricolores', 'Lèche', 'Fouler', 'Fa', 'Poil', 'Coule', 'Emmènes', 'Goutte', 'Traditionnel', 'Nettoie', 'Jetons', 'Backroom', 'Vire', 'Blablas', 'Torse', 'Cou', 'Influents', 'Eldorado', 'Désintégré', 'Déstabilisée', 'Orléans', 'Mardi', 'Régler', 'Fronce', 'Interminables', 'Intoxiquée', 'Pomme', 'Générations', 'Moitié', 'Gauloises', 'Unissons', 'Fume', 'Perdant', 'Métissée', 'Refermons', 'Brûlons', 'Jactez', 'Tala', 'Inde', 'Sparte', 'Maquille', 'Enlacé', 'Brabant', 'Wagonnets', 'Essonniens', 'Pacotille', 'Bouclette', 'Volés', 'Baraka', 'Putréfaction', 'Lime', 'Mandragore', 'Pendues', 'ROULEZ', 'Rasta', 'Flamber', 'Recolle', 'MOn', 'Multiplions', 'COOL', 'Chicha', 'Bastille', 'Traçant', 'Territoire', 'Bourse', 'Gratter', 'Crasseuse', 'Mâle', 'Fac', 'Caucasiens', 'Tain', 'Coursé', 'Tango', 'Sera', 'Ironie', 'Blesses', 'Flânant', 'Fardeau', 'Korrigans', 'UN', 'Tripoli', 'Euromarché', 'Ramassis', 'Cholestérol', 'Avril', 'Bazar', 'Habite', 'ELle', 'Loubard', 'RAy', 'Revenir', 'Réal', 'Savais', 'Célibataires', 'Zigzag', 'Sois', 'Alicante', 'Ramenez', 'Enroulé', 'JE', 'Femelles', 'Bikini', 'Hôtel', 'Singent', 'Sainte', 'Rues', 'Lunes', 'Bouquiner', 'Goudronnes', 'Thaïlandais', 'Pognon', 'Enlacer', 'Pleuvoir', 'Pondre', 'Porions', 'Alpha', 'China', 'Te', 'Massachusetts', 'Paratonnerre', 'Ramassée', 'Amoureux', 'Hurler', 'Tache', 'Mondaine', 'Trouver', 'Rosette', 'Estimes', 'Provinciaux', 'Triangulaire', 'Fraiseuse', 'Dépenser', 'Ay', 'Vieille', 'Mettaient', 'Embouteillage', 'Hexagone', 'Ha', 'Instrumental', 'Glaireux', 'Calanques', 'Zizanie', 'Bifton', 'Repêcher', 'Daille', 'Pars', 'Chaussée', 'In', 'Sonnant', 'Ressortons', 'Trainait', 'Patchouli', 'Implorant', 'Carpaccio', 'Groupies', 'Écorchée', 'Écailles', 'Bang', 'Rouler', 'Veut', 'Rigolant', 'Acadien', 'Populace', 'Princes', 'Chicos', 'Trempa', 'Odieux', 'Tombant', 'Salat', 'Tracés', 'Partez', 'Fraîcheur', 'Matraquer', 'Rescapées', 'Kalachnikovs', 'Siens', 'Attaquant', 'Nice', 'Guadeloupéens', 'Euro', 'Terre', 'Chole', 'Raffiner', 'Remballez', 'Filtre', 'Libellule', 'Hot', 'Relèves', 'Allemand', 'Serein', 'Népalais', 'Poney', 'Olonne', 'Ardillon', 'Bourbon', 'Poissons', 'Dévale', 'Polaroïd', 'Inhale', 'Amasse', 'Boostés', 'Union', 'Baltique', 'Noie', 'Panique', 'Atlantiques', 'Juillet', 'Sablons', 'Saisies', 'Arc', 'Instituteurs', 'Connétables', 'Moulin', 'Décor', 'Tige', 'Prévu', 'Doyenne', 'Bercés', 'Hallucinantes', 'Monté', 'Rencontré', 'Cé', 'Maudis', 'Gèlent', 'Marchands', 'Titane', 'Ravitaille', 'Rabot', 'Framboise', 'Châtelet', 'Tataouine', 'Russe', 'Électronique', 'Mutiler', 'Duché', 'Mutins', 'Venu', 'Peur', \"N'\", 'Sterne', 'Avance', 'Inutile', 'Pissons', 'Teste', 'Mental', 'Draguer', 'Croît', 'Trop', 'Terminer', 'Nichée', 'Replongeons', 'Venin', 'Basilique', 'Bisque', 'Resterons', 'Rigoler', 'Tracer', 'Fisc', 'Retombera', 'Suceurs', 'Décollant', 'Loto', 'Francfort', 'Extrême', 'Suinte', 'Passeront', 'Salmones', 'Mira', 'Échouons', 'Gravit', 'Tiser', 'Hava', 'Morgan', 'Jouer', 'Arrimé', 'Éteindre', 'Rebrousse', 'Angliches', 'Shoots', 'Hautains', 'Glaner', 'Midi', 'Hollande', 'Loue', 'Sceaux', 'Descendons', 'Brasser', 'Catalogué', 'Taffer', 'Pomper', 'Baba', 'Kilomètre', 'Bretons', 'Fout', 'Chantaient', 'Reviendrez', 'Onques', 'Corona', 'Exténués', 'Australien', 'Merlan', 'Gambling', \"M'\", 'Plateau', 'Étendue', 'Fêteront', 'Chiennasse', 'Capables', 'Mars', 'Déhanché', 'Esseulé', 'Étampes', 'Ancien', 'Friandise', 'Français', 'Abrège', 'Balançons', 'Verse', 'Réinvestir', 'Agios', 'Parquet', 'Ministère', 'Coulés', 'Voulu', 'Moitie', 'Rime', 'Dam', 'Coulait', 'Opéra', 'Aboule', 'Prône', 'Sors', 'Tamponner', 'Litron', 'Kremlin', 'Muse', 'Pédé', 'Aquitaine', 'Américaine', 'Transport', 'Feeling', 'Ligotée', 'Coucha', 'Disparut', 'Déchirés', 'Innombrable', 'Damoiseau', 'Archangéliques', 'Baie', 'Tuileries', 'Attaquer', 'Regardez', 'Vouée', 'Bouffa', 'Dégela', 'Wawa', 'Plage', 'Merde', 'Suppliant', 'Canoë', 'Tende', 'Lauriers', 'Lier', 'Monoï', 'Tamise', 'Survole', 'Schnouff', 'Narguant', 'Rimmel', 'Franchissant', 'Mouillée', 'Nouvelle', 'République', 'Pourrave', 'Stoppes', 'Firmament', 'Callipyge', 'Calculez', 'Pompant', 'Projetées', 'Saignée', 'Nonchalant', 'Auras', 'SALOPARD', 'Gonflée', 'Emmerdeuse', 'Ranimeras', 'Asphyxié', 'Poules', 'Boutonnée', 'Traverser', 'Mêlée', 'Boiront', 'USA', 'Céder', 'Togolais', 'Guerroyons', 'Bougie', 'Capuche', 'Éjectez', 'Flingué', 'Fréquentais', 'MARCHAND', 'Mandragores', 'Banlieue', 'Rangées', 'Retournez', 'Couilles', 'Admettons', 'Trêve', 'Syrien', 'Moula', 'Couronnez', 'Alignés', 'Maghrébins', 'Ville', 'Tumeur', 'Prusse', 'Boutonneux', 'Tentez', 'Monstruosité', 'Vatican', 'Pianola', 'Abobo', 'Couru', 'Christiques', 'Infama', 'Japon', 'Scorpion', 'Tordre', 'Masos', 'Creusée', 'Échouer', 'Femelle', 'Lune', 'Meurtrie', 'Colonise', 'Incompréhensiblement', 'Bétonnez', 'Gamberge', 'Manche', 'Équateur', 'Eu', 'Talentueux', 'Chouille', 'Trouverais', 'Insupportable', 'Aromatisées', 'Coucou', 'Quais', 'Trouves', 'Agrippes', 'Corentine', 'Pin', 'Joueront', 'Fessier', 'Esclaves', 'Conseiller', 'Résonnent', 'Bourg', 'Prêts', 'Entendait', 'Admirez', 'Armés', 'Atlas', 'Pistée', 'Lavée', 'Emplisse', 'Gronde', 'Ciné', 'Gravées', 'Conduire', 'Débuter', 'Gisait', 'Parisien', 'Effrayé', 'Taulards', 'Ponds', 'A', 'Bitches', 'Tremblant', 'Amazone', 'Mont', 'Chouette', 'Véhémence', 'Venez', 'Mollets', 'Grossiste', 'Rire', 'Bagnoles', 'Terroriser', 'Espagnoles', 'Messies', 'Fit', 'Inscrites', 'Encastré', 'Battant', 'Japons', 'Privées', 'Charmante', 'Remuent', 'Corne', 'Fera', 'Berceau', \"T'\", 'Accro', 'Immigré', 'Cloque', 'Frénésie', 'Reporter', 'Meufs', 'Attéri', 'Saurais', 'Savonner', 'Sha', 'Sec', 'Châteaux', 'Tortueux', 'Ouistiti', 'Boudant', 'Dojo', 'Ferma', 'Saltimbanque', 'Agressif', 'Résonnez', 'Cieux', 'Providence', 'Farsi', 'Retendez', 'Palatin', 'Aber', 'Croyais', 'Anticapitalistes', 'Cachée', 'Retour', 'Relater', 'Malienne', 'Changerai', 'Hacienda', 'Indiens', 'Terrasser', 'Calle', 'Trèfle', 'Flingue', 'Perdons', 'Chine', 'Montrant', 'Caché', 'Évacuez', 'Acidulé', 'Éliminez', 'Orgueil', 'Creuse', 'Respectée', 'Fleure', 'Psychiatrisées', 'Balaye', 'Crapuleux', 'Baltringue', 'Pique', 'Banlieusard', 'Pétales', 'Milan', 'Prévinrent', 'Vecteur', 'Noires', 'Donnerait', 'Plaisait', 'Large', 'Ricains', 'Hong', 'Vanille', 'Réglons', 'Mire', 'Baraque', 'Répondez', 'Oïl', 'Piétinant', 'Sorbonne', 'Chiller', 'Vitupérer', 'Aspic', 'Jambes', 'Répandre', 'Petites', 'Vautrez', 'Porte', 'Dealeur', 'Balançait', 'Bloqués', 'Indien', 'Horizons', 'Dévaliser', 'Confortant', 'Turlutes', 'Converse', 'Matérialistes', 'Vibreront', 'Légère', 'Ondulant', 'Renoi', 'Autodafé', 'Lettonne', 'Bord', 'Êtes', 'Vitriot', 'Baudruche', 'Embaumeront', 'Rotonde', 'Européen', 'Ici', 'Impoli', 'Frangine', 'Ripe', 'Caches', 'Procrastiner', 'Madre', 'Épiés', 'Roustons', 'Profite', 'Mirador', 'Litrons', 'Pleurez', 'Barbés', 'Algues', 'Mut', 'Scratchs', 'Nem', 'Dizaine', 'Maquée', 'Rencard', 'Réinventant', 'Lourd', 'Poches', 'Qataris', 'Crève', 'Flashé', 'Élysée', 'Recto', 'Brûlent', 'Cliché', 'Chardon', 'Missile', 'Bravé', 'Laborieuses', 'Archaïques', 'Gazoline', 'Esquiver', 'Écosse', 'Anorexique', 'Faite', 'Épluchées', 'Piétinera', 'Hyperactif', 'Doué', 'Haletants', 'Cramée', 'Semblable', 'Attisé', 'Fissurées', 'Fiévreux', 'Millionnaire', 'Glisser', 'Garde', 'Étourdie', 'Pléiades', 'Battez', 'Sensuelle', 'Atroce', 'E', 'Enfourchant', 'Sonner', 'Let', 'Niché', 'Impôts', 'Jourdain', 'Bif', 'Visitons', 'Magique', 'Reflétée', 'Confisquez', 'Inventant', 'Réaliser', 'Raz', 'Égyptiens', 'Rue', 'Sondant', 'Romains', 'Plaide', 'Brolique', 'Sahel', 'Médicamentée', 'Drogués', 'Fla', 'Signent', 'Reverra', 'Hausse', 'Laver', 'Méchant', 'Bangala', 'Délassée', 'Parigot', 'Uzis', 'Ola', 'Palu', 'Voler', 'Balança', 'Hombres', 'Pluviôse', 'Norvégiennes', 'Wu', 'Pense', 'Canine', 'Tos', 'Ghetto', 'Sadique', 'Astiquez', 'Écuries', 'PANORAMA', 'Doutez', 'Die', 'Bantou', 'Creusant', 'Négligé', 'Boulevards', 'Blanches', 'Héron', 'Marocain', 'Survoles', 'Rénovant', 'Invulnérable', 'Merci', 'Marocaine', 'Olympe', 'Homophobe', 'BIP', 'Chanterai', 'Aiguisées', 'Gravée', 'Forcé', 'Mort', 'Tunisien', 'Tibétaine', 'Majestueux', 'Grandir', 'Chocolat', 'Puces', 'Morte', 'Démêle', 'Tifosi', 'Inertie', 'Assos', 'Abreuve', 'Montre', 'Tiens', 'Ancre', 'Rouges', 'Combler', 'Pilou', 'Crament', 'Jeter', 'Gasoil', 'Ois', 'Valence', 'Sibérien', 'Tantine', 'Suspend', 'Résonneront', 'Idéale', 'Refaire', 'Principe', 'États', 'Renvoyons', 'Daron', 'Té', 'Enfonce', 'Adulez', 'Chica', 'Pleura', 'Rencontre', 'Colorer', 'Mélange', 'Ain', 'Mus', 'Facho', 'Ingérables', 'Capricorne', 'Li', 'Ra', 'Chili', 'Central', 'Cala', 'Mal', 'Voyageurs', 'Sautes', 'Score', 'Attirés', 'Liégeoise', 'Colérique', 'Donc', 'Ramènes', 'Nord', 'Hidalgo', 'Idéal', 'Haïs', 'Emmenant', 'Oued', 'Dallas', 'Parigots', 'Lot', 'Chaise', 'Approchez', 'Bicots', 'Malsain', 'Puisez', 'Enfermé', 'Alabama', 'Drapeaux', 'Départ', 'Piégé', 'Bisou', 'Vlan', 'Escroque', 'Chuchotement', 'Aimerons', 'Bougres', 'Bats', 'Sedan', 'Basses', 'Madrilènes', 'Descends', 'Remplaçait', 'Chies', 'Sourd', 'Fatiguée', 'Gnafrons', 'Ga', 'Demande', 'Cette', 'Freine', 'Thaï', 'Squatté', 'Postillon', 'Planant', 'Réa', 'Frenchie', 'Ballonne', 'Saoudiens', 'Redescends', 'Mentira', 'Grêle', 'Pistonne', 'Attendront', 'Alentour', 'Raccroche', 'Bou', 'Présumais', 'Tampon', 'Couchent', 'Tonkinoise', 'Quatre-vingt-douze', 'Cap', 'Prussiens', 'Reverrai', 'Maliens', 'Airbag', 'Systématique', 'Palpable', 'Panthéon', 'Bouger', 'Suprême', 'Ignorantes', 'Porcherie', 'Alouette', 'Soninké', 'Vis', 'Rondes', 'Arroser', 'Remplir', 'Sprinter', 'Tahitien', 'Amel', 'Soyons', 'Biatch', 'Exaltons', 'Original', 'Onomatopée', 'Perclus', 'Enveloppés', 'Refusons', 'Eskimos', 'Cérébelleux', 'Braisé', 'Silhouette', 'Rejoignez', 'Café', 'Carta', 'Calypso', 'Laos', 'Lyonnais', 'Charentaise', 'Puissance', 'Plonger', 'Rivalise', 'Promenade', 'Charivari', 'Assouvis', 'Étroitesse', 'Minot', 'Doués', 'Martinets', 'Excitant', 'Pleurais', 'Retranscris', 'Caroline', 'Harangues', 'Acacias', 'Génial', 'Devrai', 'Dahu', 'Apprenait', 'Mourra', 'Compter', 'Verso', 'Truquées', 'Ahan', 'Embrassé', 'Rebondiront', 'Banals', 'Cochères', 'Agitent', 'Dedans', 'Granit', \"L'\", 'Franchir', 'Désespérer', 'Exhibé', 'Cognac', 'Boulot', 'Scénar', 'Remplies', 'Embouchure', 'Torturées', 'Titré', 'Mystifié', 'Reprennent', 'Fasse', 'Torride', 'Twist', 'Amé', 'Refusent', 'Bras', 'Chic', 'Cailles', 'Lascar', 'Dépénalisons', 'Aimerais', 'Froide', 'Noir', 'Escortés', 'Aillez', 'Pactisent', 'Gommeux', 'Connaîtrais', 'Guinée', 'Touchée', 'Retourner', 'Foulant', 'Embaumée', 'Inclinez', 'Barjo', 'Baille', 'Détailles', 'Derrière', 'Réalises', 'Pas', 'Poulet', 'Insulter', 'Javanaise', 'Haine', 'Dorés', 'Galuchat', 'Prétentieux', 'Molène', 'Rentrons', 'Poser', 'Entrebâille', 'Incendier', 'Baléares', 'Espérance', 'Cornouailles', 'Mâchonnant', 'Débarque', 'Beaux', 'Poterie', 'Bousculer', 'Damas', 'Embrase', 'Poissonnière', 'Fauvettes', 'Versée', 'Arnaquer', 'Cramé', 'Bana', 'Insomniaques', 'Bolivienne', 'Arapaho', 'Chouf', 'Fouta', 'Chanteront', 'Lets', 'Serrer', 'Boys', 'Minérale', 'Courtisée', 'Jonquille', 'Test', 'Rayée', 'Attise', 'Couler', 'Zobi', 'Kenyans', 'Addict', 'Croc', 'Check', 'Rêvé', 'Douze', 'Néfastes', 'Quimper', 'Massacrer', 'Sahraoui', 'Éparpille', 'Dur', 'Binaires', 'Reculez', 'Atteindre', 'Soudan', 'Rate', 'Japonaise', 'Braquer', 'Foutaises', 'Profitez', 'Paraît', 'Malaise', 'Cerné', 'Horde', 'Haut', 'Basculer', 'Révoltons', 'Paniquer', 'Laisser', 'Cohabiter', 'Durera', 'Foie', 'Incomprise', 'Musulmans', 'Garder', 'Aurais', 'Passés', 'Saches', 'Hémoglobine', 'Uni', 'Archanges', 'Poétique', 'Miami', 'Américain', 'Miens', 'Cayenne', 'Salope', 'Cocaïna', 'Hivers', 'Calumet', 'Chasser', 'Ravine', 'Frénétique', 'Paris', 'CULtes', 'Java', 'Martiens', 'Afghan', 'Olympes', 'Dénicher', 'Freestyle', 'Étaler', 'Acerbe', 'Veux', 'Express', 'Existais', 'Digne', 'Potentiel', 'Maternelle', 'Étonnant', 'Fier', 'Fougez', 'Positive', 'Intouchable', 'Déplace', 'Parangon', 'Barricadée', 'Corses', 'Ca', 'Roquette', 'Wilaya', 'Braco', 'Revenez', 'Visite', 'Flou', 'Glisse', 'Ponte', 'Ben', 'Mangeais', 'Sauvagerie', 'Dislikes', 'Repartons', 'Croupir', 'Beaujolais', 'Bicêtre', 'Atomisé', 'Rattrape', 'Monotones', 'Celles', 'Ancré', 'Have', 'Cerise', 'Abusant', 'Prenais', 'Arrosé', 'Unis', 'Aïd', 'Coude', 'Orienté', 'Anges', 'Fastidieux', 'Soignés', 'Quartier', 'Testostérone', 'Mafé', 'Es', 'Crie', 'Cuba', 'Centralise', 'Promenant', 'Pôle', 'Landes', 'Dogons', 'Muraille', 'Croule', 'Dibi', 'Puisses', 'Profilait', 'Gère', 'Amateur', 'Place', 'Mémé', 'Grisant', 'Chameaux', 'Balmains', 'Petite', 'Friable', 'Resserre', 'Cornouaille', 'Skip', 'Connectée', 'Panser', 'Colombine', 'Camouflant', 'Rocailleux', 'Gouffre', 'Arsenal', 'Scande', 'Tremblez', 'An', 'Passer', 'Marseillaises', 'Polonais', 'Monter', 'Jetais', 'Cataleptique', 'Misé', 'Champs', 'Prît', 'Sud', 'Camer', 'Baisons', 'Zanzibar', 'Touraine', 'Horlogers', 'Décimées', 'Milles', 'Cologne', 'Pont', 'Haro', 'Rasé', 'Africain', 'Cercle', 'Athénien', 'Dormiront', 'Catalans', 'Coller', 'Déjouant', 'Quitter', 'Reins', 'Lançon', 'Samedi', 'Américains', 'Timide', 'Fins', 'Creusot', 'Abandonnée', 'Terrée', 'Tachée', 'Valda', 'Bégum', 'Nécromanciens', 'Filocher', 'Uriner', 'Déchanter', 'Morveux', 'Distant', 'Ado', 'Bâiller', 'Milanais', 'Mordille', 'Gégène', 'Gaule', 'Étranger', 'Drapent', 'Bravement', 'Lys', 'Tiré', 'Majeur', 'Mitraillette', 'Fort', 'Tes', 'Jazz', 'Salir', 'Finis', 'Relayeurs', 'Vieux', 'Jolie', 'Bleuit', 'Indélébile', 'Fauchon', 'Tripes', 'Déterre', 'Boitant', 'Sonne', 'Houppe', 'Turcs', 'Algérien', 'Boursouflé', 'Riviera', 'Concret', 'Bouges', 'Nouvelles', 'Passais', 'Existez', 'Nique', 'Machins', 'Fracassant', 'Tatoué', 'Rousses', 'Supermarché', 'Revenons', 'Charbonné', 'Saturne', 'Obsédés', 'Éclaireront', 'Mandarines', 'Contrôler', 'Mexicain', 'Assombrir', 'Terminus', 'Gambie', 'Bouteilles', 'Via', 'Mojito', 'Pic', 'Besogne', 'Implacablement', 'Crois', 'Hallucine', 'Javel', 'Fréquentables', 'Paraître', 'Célé', 'Ratez', 'Pointe', 'Arrosées', 'Frôla', 'Indes', 'Dansent', 'Casino', 'Habitués', 'Désemparé', 'Frissonnant', 'Guillotiné', 'Exubérance', 'Lévitation', 'Mordus', 'Mousse', 'Libyens', 'Grattent', 'Maires', 'Couchées', 'Humide', 'Doubler', 'Fendez', 'Pèse', 'Tanagra', 'Pa', 'Saignez', 'Zoulou', 'Avachi', 'Va', 'Reggae', 'Pharmaceutique', 'Profiteuse', 'Agora', 'Gaffez', 'Blondes', 'Prendrai', 'Disparaitre', 'Passait', 'Monaco', 'Daurade', 'Tranquilles', 'Jura', 'Boycottés', 'Paques', 'Cordoba', 'Firent', 'Passez', 'Grêlons', 'Chemin', 'Far', 'Mée', 'Bourrez', 'Tournez', 'Ensablé', 'Forcer', 'Afghanes', 'Sexy', 'Opaque', 'Wallons', 'Tombe', 'Bled', 'Souci', 'Trainant', 'Comorien', 'Sèvres', 'Esta', 'Scratches', 'Émirats', 'Sentier', 'Victoria', 'Dédie', 'Affranchis', 'Camembert', 'Cloîtrés', 'Photographiant', 'Niquer', 'Découvrir', 'Lycée', 'Casté', 'Blond', 'Codéine', 'Étonne', 'Dépêchons', 'Nuelle', 'Tamoul', 'Égarés', 'Aspirés', 'Watts', 'Pleurera', 'Sourient', 'Mourir', 'Semé', 'Arméniens', 'Madone', 'Saucisse', 'Batracien', 'Minaudant', 'Vocalises', 'Onduleux', 'Sereine', 'Akha', 'Finirait', 'Basta', 'Chinoises', 'Israéliens', 'Sensuel', 'Marijuana', 'Furtif', 'Bout', 'Vaux', 'Canada', 'Encerclée', 'Amuseur', 'Sentir', 'Rencontrée', 'Noyé', 'Régale', 'Tigre', 'Rive', 'Nova', 'Voltigent', 'Engloutis', 'Résonnait', 'Ternit', 'Labrador', 'Visons', 'Enfumé', 'Hautain', 'Glissants', 'Rif', 'Brie', 'Recommencer', 'Y', 'Catalane', 'Ressasser', 'Rembourser', 'Absentés', 'Aubépines', 'Étais', 'Abritée', 'Mali', 'Suces', 'Val', 'Calculer', 'Détériorer', 'Défendait', 'Écarquille', 'Pisseuse', 'Confrontation', 'Unissant', 'Kiang', 'Frapperont', 'Robinson', 'Illuminant', 'Décolorées', 'Éternelle', 'Bondieuserie', 'Pète', 'Atterrir', 'Basques', 'Whisky', 'Habitez', 'Slave', 'Orge', 'Lisses', 'Acharnée', 'Chanter', 'Suède', 'Néglige', 'Embrumées', 'ZOO', 'Raclant', 'Déféré', 'Laguna', 'Déclassée', 'Ternis', 'Éteins', 'Boston', 'Tousser', 'Ré', 'Vénusien', 'Tienne', 'Autour', 'Abord', 'Octobre', 'Fouetter', 'Manille', 'Galactiques', 'Abyssale', 'Créoles', 'Candides', 'Pactole', 'Chinois', 'Avale', 'Brûlerait', 'Gais', 'Pliée', 'Crime', 'Caillera', 'Robinet', 'Pasan', 'Illusoires', 'Lavé', 'Exploiteur', 'Suisse', 'Européenne', 'Malpolis', 'Viens', 'Bancs', 'Enfoncer', 'Aller', 'Gaîté', 'Aie', 'Ramenait', 'Loulou', 'Distille', 'Bisexuelle', 'Mancunien', 'Flo', 'Tan', 'Peser', 'Cailleras', 'Maroc', 'Para', 'Koro', 'Reufré', 'Brésiliens', 'Vaniteux', 'Compète', 'Luit', 'Sombrer', 'Odéon', 'Adamantium', 'Mourez', 'Blottis', 'Déplier', 'Plains', 'Respect', 'Abondante', 'Floqué', 'Hublot', 'Soignée', 'Parsi', 'Centre', 'Gaillarde', 'Oriflammes', 'Censés', 'Préviens', 'Inlandsis', 'Gris', 'Brillant', 'Stressé', 'Pile', 'Reprendre', 'Vivront', 'Amoureuses', 'Tremper', 'Fatale', 'Ensevelir', 'Digue', 'Boudjou', 'Bordeaux', 'Évadez', 'Remémore', 'Transpercer', 'Affamées', 'Squatter', 'Belles', 'Sûre', 'Fuis', 'Abattons', 'Parques', 'Prêt', 'Aveuglent', 'Coutellerie', 'Démarcher', 'Grillés', 'Levant', 'Qatari', 'Buvais', 'H', 'Séquestration', 'Fraîche', 'Lessive', 'Simplette', 'Polis', 'Philistins', 'Deviendront', 'Cliquez', 'Invincibles', 'Délavées', 'Perle', 'Butter', 'Charismatique', 'Norvégienne', 'Navrés', 'Versez', 'Mygale', 'Sommes', 'Embarquées', 'Hissaient', 'Marcherons', 'Exploser', 'Enfouies', 'Florence', 'Drives', 'Chope', 'Insouciants', 'Ait', 'Frappe', 'Égoïstement', 'Vider', 'Bruyères', 'Marquer', 'Venant', 'Pantin', 'Diablesses', 'Barra', 'Mitard', 'Lourdes', 'Niger', 'Défendre', 'Dames', 'Gratté', 'Reposé', 'Lasses', 'Jokari', 'Cancérigènes', 'Reverras', 'Mordez', 'Part', 'Soudoyons', 'Montfaucon', 'Drivant', 'Insolations', 'Martien', 'Quittons', 'Perche', 'Trajectoire', 'Octogone', 'Prés', 'Flamande', 'Italienne', 'Humides', 'Longues', 'Posés', 'Troué', 'Tinta', 'Pose', 'Profond', 'Fût', 'Remballe', 'Bridge', 'Oseille', 'Parure', 'Tomé', 'Philippines', 'Galets', 'Berne', 'Abdos', 'Fatigués', 'Boirai', 'Bagnolet', 'Requin', 'Ceinture', 'Hombre', 'Dial', 'Palma', 'Prodigues', 'Irriguer', 'Moustique', 'Tortillant', 'Asticot', 'Pélo', 'Pyramides', 'Twistez', 'Emmenés', 'Bousillées', 'Mers', 'Superficiel', 'Séquencée', 'Réquisition', 'Aunette', 'Françaises', 'Balayées', 'Respiré', 'Rappes', 'Pénurie', 'Participes', 'Flores', 'Berlinois', 'Courront', 'Bastilles', 'Champagne', 'Américaines', 'Paradisiaque', 'Trappes', 'Bé', 'Déboutonne', 'Lendemain', 'Magnifiques', 'Tamponnée', 'Dimanche', 'Sucez', 'Jalouser', 'Barbarie', 'Fumerais', 'Partouse', 'Palabrer', 'Beurettes', 'Brûlera', 'Caillou', 'Lèves', 'Perché', 'Repars', 'Aspergé', 'Cloîtrée', 'Tocard', 'Waka', 'Fouillait', 'Touaregs', 'Armons', 'Esmeralda', 'Cheyenne', 'Dompte', 'Maximum', 'Colombo', 'Évoluent', 'Sues', 'Envier', 'Capo', 'Côtes', 'Égocentrique', 'Admirer', 'Havane', 'Revendique', 'Disperser', 'Pousser', 'Algonquins', 'Exact', 'Suspect', 'Fusionne', 'Brouiller', 'Cambrai', 'Osaient', 'Bandant', 'Madonne', 'Fonder', 'Bingo', 'Solidaires', 'Vaseux', 'Sonde', 'Blablabla', 'VIl', 'Mantes', 'Pondus', 'Sortaient', 'Faites', 'States', 'Mettront', 'Tapissée', 'Jamaïcaine', 'Bombarder', 'Envouté', 'Jersey', 'Couchée', 'Flamandes', 'Chicanos', 'Bouscule', 'Traverse', 'Bantous', 'Contrescarpe', 'Filoché', 'Iras', 'Bar', 'Basculée', 'Reviendront', 'Tâchez', 'Siester', 'LI', 'Vilaines', 'Vienne', 'Abjecte', 'Réunion', 'Anis', 'Caresserais', 'Pur', 'Chargés', 'Gargarisant', 'Champ', 'Espoirs', 'Crédule', 'Magenta', 'Bohème', 'Hommes', 'Pavanant', 'Reubeu', 'Coucher', 'Hélicoptère', 'Bayou', 'Fragiles', 'Irakiens', 'Portugais', 'Rafale', 'Angle', 'Lido', 'Manouches', 'Cueillie', 'Lèvres', 'Malabars', 'Apatride', 'Électrique', 'Somalie', 'Refaits', 'Allemands', 'Douala', 'Brillait', 'Bamboula', 'Étouffer', 'Électrolyse', 'Trousse', 'Sodomie', 'Clips', 'Mino', 'Dieu', 'Monde', 'Lorgnant', 'Landerneau', 'Analyser', 'De', 'Africaines', 'Minorité', 'Gêné', 'Magnitude', 'Italiens', 'Halls', 'Chopés', 'Éblouie', 'Pharaonique', 'Nouveau', 'Réfugiés', 'Courbe', 'Creux', 'Déclenchez', 'Zappe', 'Jette', 'Faire', 'Baccara', 'Cote', 'Nerveuse', 'Scintillant', 'Borde', 'Caméras', 'Négros', 'Zaïrois', 'Mentalité', 'Jubiler', 'Coronelle', 'Marne', 'Chabraque', 'Genre', 'If', 'Apprendrons', 'Brestois', 'Frênes', 'Chianti', 'Brésilienne', 'Gratin', 'Fourrer', 'Bains', 'Palpe', 'Dôme', 'Biture', 'Redoute', 'Tennis', 'Cougar', 'Frileuses', 'Moissonne', 'Amantes', 'Zig', 'Flambeaux', 'Creusées', 'Vociférant', 'Calais', 'Fructidor', 'Défilant', 'Partager', 'Possédait', 'Taza', 'Peine', 'Perquisition', 'Balaise', 'Castor', 'Dissimulés', 'Éprouve', 'Sixtine', 'Épouseront', 'Pareille', 'Fado', 'Frôlé', 'Retourne', 'Sienne', 'Morphée', 'Limerick', 'Rester', 'Pointer', 'Caraïbes', 'Lascars', 'Z', 'Projetés', 'Glocks', 'Cacher', 'Chinoise', 'Joué', 'Endosser', 'Vrille', 'Continent', 'Pics', 'Galloise', 'Serpente', 'Balance', 'Menthol', 'Différence', 'Compassée', 'Grand', 'Corse', 'Redescendre', 'Monte', 'Fleurir', 'Allergiques', 'Sabrer', 'Frotter', 'Souris', 'Agit', 'Redeviennent', 'Montrer', 'Tarentelles', 'Briser', 'Dégouté', 'Mara', 'Incas', 'ES', 'Trois', 'Tuerie', 'Schizophrénique', 'Étalonnée', 'Entendras', 'Lobotomiser', 'Premiers', 'Pontoise', 'Duplex', 'Reviendrai', 'Postillonne', 'Élégantes', 'Humbles', 'Lari', 'Irakien', 'Banalise', 'Dépravé', 'Trottoirs', 'Arrêté', 'Photographier', 'Remplissent', 'Oranais', 'Darjeeling', 'Survolant', 'Banana', 'Excitait', 'Cancer', 'Maya', 'Pera', 'Alsaciens', 'Rejaillir', 'Dites', 'Western', 'Grecque', 'Lilas', 'Croisette', 'Croquer', 'Fleuriront', 'Dévorant', 'Pluton', 'Étoile', 'Fric', 'Noueuse', 'Saké', 'Cartier', 'Noirs', 'Toura', 'Chantilly', 'Rebrousser', 'Chaînez', 'Foldingue', 'Bougez', 'Rencontra', 'Garez', 'Tesla', 'Briller', 'Bouquets', 'Athénée', 'Pleure', 'Sensei', 'Européens', 'Dépayser', 'Sucera', 'Papillons', 'Vichy', 'Hambourg', 'Dormait', 'Chantait', 'Serais', 'Land', 'Limousine', 'Latina', 'Soleil', 'Panama', 'Graille', 'Sens', 'Plie', 'Incarcéré', 'Divans', 'Cheval', 'Fortifier', 'Lundi', 'Écartes', 'Checke', 'Retouchant', 'Close', 'Originaires', 'Rions', 'Adressée', 'Aborigène', 'Sablière', 'Redardez', 'Coréens', 'Coulé', 'Tabasco', 'Clamser', 'Sigle', 'Deçà', 'Bravent', 'Alezane', 'Cane', 'Calés', 'Brûle', 'Offrit', 'Butte', 'Pouacre', 'Inconsidérés', 'Naissantes', 'Menaçait', 'Bali', 'Résistent', 'Enfouie', 'CC', 'Montrons', 'Suisses', 'Jappant', 'Dépouillées', 'Gondolier', 'Couteront', 'Attendrissant', 'Grignotant', 'Séquestre', 'Symbolisé', 'Parfumé', 'Afghane', 'Seille', 'Perpignan', 'Cassons', 'Fiers', 'Sal', 'Cristallins', 'Bise', 'Chantonne', 'Rivières', 'Vrais', 'Répondre', 'Takana', 'Bergères', 'Renaît', 'Roc', 'Universelle', 'Cogner', 'Dollar', 'Râteau', 'Cherche', 'Transparente', 'Tournoyante', 'Causa', 'Intensément', 'Sceller', 'État', 'Vil', 'Baisemain', 'Alpes', 'Voyager', 'Fenaison', 'Cite', 'Châssis', 'Vives', 'Dugland', 'Neigeant', 'Pou', 'Se', 'Offenses', 'Lobotomie', 'Sien', 'Plaignez', 'Richesse', 'Algérienne', 'Bas', 'Diamant', 'Censé', 'Contredis', 'Atlantes', 'Suis', 'Cache', 'Dégun', 'Entourloupes', 'Africaine', 'Étouffe', 'Goute', 'Zénith', 'Allo', 'More', 'Ris', 'Ramadan', 'Quelquefois', 'As', 'Pavaner', 'Guinéens', 'Mas', 'Crèche', 'Autoroutes', 'Rafraîchie', 'Lassés', 'Déscolarisé', 'Baladant', 'Romain', 'Désertes', 'Rennes', 'Dénonçaient', 'Portez', 'Menaçante', 'Trésor', 'MAI', 'Fondront', 'Karcher', 'Ganja', 'Boycotte', 'Castellane', 'Calcule', 'Partons', 'Brise', 'Bruyante', 'Frémont', 'Rentrée', 'Grouillent', 'Scandale', 'Angora', 'Pentagone', 'Beuh', 'Vénus', 'Charbonnant', 'Poussez', 'Perles', 'Col', 'Inspecteur', 'Morgen', 'Forcée', 'Oyez', 'Parlé', 'Mani', 'Katana', 'Kiffe', 'Empoignez', 'Bénin', 'Titanique', 'Mitraillant', 'Menotter', 'Sdar', 'Près', 'Bende', 'Gare', 'Intronisant', 'Nerveux', 'Empoisonne', 'Flashe', 'Visiter', 'Excusons', 'For', 'Technocrates', 'Tabaski', 'Crucifiées', 'Persuadés', 'Lola', 'Ras', 'Déhanche', 'Tans', 'Palace', 'Hâtez', 'Timides', 'Holà', 'US', 'Canari', 'Humiliée', 'Tempo', 'Dinars', 'Attire', 'Haschich', 'Fers', 'Frimaire', 'Méridiens', 'Soixante', 'Désabusée', 'Vittel', 'Inadéquates', 'Moisir', 'Gominé', 'Rêvais', 'Aventureuse', 'Andromède', 'Naye', 'Flandres', 'Encapés', 'Réchauffe', 'Quartiers', 'Dom', 'Grossière', 'Cantal', 'Tabou', 'Abrité', 'Lointaine', 'Insultant', 'Fallut', 'Périmées', 'Dressés', 'Essentiel', 'Ridiculisés', 'Prôner', 'Rosée', 'Parles', 'Pathétiques', 'Guette', 'Trapézistes', 'Gaulois', 'Décomposé', 'Nettoyées', 'Taga', 'Satanée', 'Bénissant', 'Pero', 'Galérienne', 'Bagarreurs', 'Parcourais', 'Doucement', 'Rendre', 'Forcés', 'Dinar', 'Tranchent', 'Attendrie', 'Prendre', 'Highland', 'Notre', 'Tendue', 'Dévaluation', 'Belgique', 'Coulant', 'Bien', 'Descendu', 'Renfermée', 'Paparazzo', 'Taureau', 'Rebeus', 'Twas', 'Aimons', 'Jardins', 'Cueille', 'Maraîchers', 'Débranche', 'Pressant', 'Renverse', 'Palpita', 'Menez', 'Accélère', 'Pacifique', 'Circonvenant', 'Regretter', 'Jà', 'Déraisonne', 'Habitants', 'Billets', 'Journalistique', 'Liquide', 'Arôme', 'Seize', 'Galonnée', 'Alléché', 'Mons', 'Galles', 'Suivre', 'Sauvage', 'Remisée', 'Vivre', 'Fondre', 'Pleurer', 'Tamisez', 'Mesquins', 'Loyauté', 'Lavomatique', 'Liberty', 'Détonation', 'Boucler', 'Delta', 'Plantons', 'Brumaire', 'Taxe', 'Osant', 'Creuser', 'Zoo', 'Reléguant', 'Rhum', 'Chi', 'Guérilla', 'Délivrent', 'Tropiques', 'Bâillonné', 'Hospice', 'Vise', 'Sucé', 'Parjure', 'Colisée', 'Pourrissant', 'Pied', 'Marjolaine', 'Fais', 'Bachibouzouk', 'Joka', 'Filtrent', 'Forts', 'Cessons', 'Larguée', 'Range', 'Emprunter', 'Tourne', 'Décoiffés', 'Tatane', 'Galérer', 'Remonte', 'Patriarche', 'Remuer', 'Lâches', 'Clan', 'Tournoyez', 'Échapper', 'Sénégalais', 'Défroisser', 'Fauteuil', 'Chetane', 'Percé', 'Halles', 'Récolteras', 'Ailleurs', 'Si', 'Mours', 'Gé', 'Pues', 'Pierres', 'Baisser', 'Comportâtes', 'Sana', 'Cagne', 'Choux', 'Plis', 'Taf', 'Rossignolet', 'Suédoise', 'Fabriquent', 'Suivez', 'Portos', 'Expulser', 'Savon', 'Baissant', 'Darling', 'Émues', 'Espagnols', 'Balise', 'Manie', 'Contempler', 'Gué', 'Donnerais', 'Équinoxes', 'Grimpées', 'Versaillais', 'Cher', 'Grisons', 'Walida', 'Enchaîné', 'Courts', 'Ivrogne', 'Mam', 'Brésiliennes', 'Frotte', 'Walhalla', 'Europium', 'Rentrer', 'Vuvuzela', 'Inverser', 'Calibrez', 'FILA', 'Parisiens', 'Feraient', 'Langoureuse', 'Casta', 'Venue', 'Ivoire', 'Bois', 'Protégé', 'Soufrière', 'Assortie', 'Proches', 'Arrêtez', 'Bloquaient', 'Barques', 'Kikou', 'Amorphe', 'Canon', 'Envahissant', 'Polies', 'Bordel', 'Étrangement', 'Désarticulé', 'Bedonnants', 'Sicilienne', 'Toi', 'Serre', 'Paradis', 'Basse', 'Petit', 'Trouva', 'Cautérise', 'Arabe', 'Sargasses', 'Semble', 'Hardcore', 'Maquillée', 'Camargue', 'Sécuritaires', 'Hindou', 'National', 'Traîné', 'Portugal', 'Surveillé', 'Libyen', 'Courbée', 'Champignon', 'Risquerait', 'Suez', 'Chleuh', 'Refaisons', 'Lorraine', 'Gaza', 'Tabasser', 'Curieux', 'Sables', 'Volts', 'Africains', 'Chapeau', 'Spic', 'Deviné', 'Ajaccienne', 'Soit', 'Vends', 'Libanais', 'Ardoise', 'Sept', 'Entrevoir', 'Pantins', 'Transversale', 'Courons', 'Montez', 'Réchappés', 'Décroche', 'Ayez', 'Laisseront', 'Zéniths', 'Arctique', 'Ex', 'Gomme', 'Rastaquouères', 'Inconsolables', 'Immense', 'Lécher', 'Baveux', 'Sardine', 'Winchester', 'Oye', 'Gotha', 'Rap', 'Amassant', 'Narbonne', 'Affronté', 'Barbelés', 'Applaudis', 'Skiez', 'Rythmons', 'Buvons', 'Dominicaine', 'La', 'Mafia', 'Macao', 'Ouzbek', 'Hypnotisée', 'Feuille', 'Explosant', 'Canta', 'Lagunes', 'Secouées', 'Râle', 'Haute', 'Française', 'Grilles', 'Orangé', 'Taule', 'Bosse', 'Écrou', 'Incitation', 'Brigue', 'Manganèse', 'Royaume', 'Intéressante', 'Cortex', 'Statue', 'Bolo', 'Chevelu', 'Cens', 'Forçat', 'Draguez', 'Milliers', 'Détroit', 'Écopé', 'Menine', 'Espérons', 'Assise', 'Boule', 'Carénage', 'Fui', 'Anglaise', 'Profonds', 'Chromosome', 'Dispersant', 'Devenir', 'Capucines', 'Soudaine', 'Nié', 'Caressée', 'Encre', 'Transpirant', 'Empire', 'Castille', 'Verdun', 'Ruelles', 'Vénitiennes', 'Venus', 'Bouillant', 'Endetté', 'Longes', 'Viet', 'Pé', 'Vit'}\n"
     ]
    }
   ],
   "source": [
    "i = set(loc).difference(test)\n",
    "print(i)"
   ]
  },
  {
   "cell_type": "markdown",
   "metadata": {},
   "source": [
    "Majuscules/minuscules \n",
    "---------------------------------------------------------------------"
   ]
  },
  {
   "cell_type": "code",
   "execution_count": 50,
   "metadata": {},
   "outputs": [
    {
     "name": "stdout",
     "output_type": "stream",
     "text": [
      "9724\n"
     ]
    }
   ],
   "source": [
    "x =[]\n",
    "for mot in test:\n",
    "    if mot.lower() not in test:\n",
    "        x.append(mot)  \n",
    "print(len(set(x)))\n",
    "ecrire_json(\"lieux_all_data_aprésNettoyage_sm.json\",x)"
   ]
  },
  {
   "cell_type": "code",
   "execution_count": 125,
   "metadata": {},
   "outputs": [
    {
     "name": "stdout",
     "output_type": "stream",
     "text": [
      "{'ber1ue', '’'}\n"
     ]
    }
   ],
   "source": [
    "f = set(test).difference(x)\n",
    "print(f)"
   ]
  },
  {
   "cell_type": "code",
   "execution_count": null,
   "metadata": {},
   "outputs": [],
   "source": []
  },
  {
   "cell_type": "code",
   "execution_count": null,
   "metadata": {},
   "outputs": [],
   "source": []
  },
  {
   "cell_type": "code",
   "execution_count": null,
   "metadata": {},
   "outputs": [],
   "source": []
  },
  {
   "cell_type": "code",
   "execution_count": null,
   "metadata": {},
   "outputs": [],
   "source": []
  },
  {
   "cell_type": "code",
   "execution_count": null,
   "metadata": {},
   "outputs": [],
   "source": []
  },
  {
   "cell_type": "code",
   "execution_count": null,
   "metadata": {},
   "outputs": [],
   "source": []
  },
  {
   "cell_type": "code",
   "execution_count": null,
   "metadata": {},
   "outputs": [],
   "source": []
  },
  {
   "cell_type": "code",
   "execution_count": null,
   "metadata": {},
   "outputs": [],
   "source": []
  },
  {
   "cell_type": "code",
   "execution_count": null,
   "metadata": {},
   "outputs": [],
   "source": []
  },
  {
   "cell_type": "code",
   "execution_count": null,
   "metadata": {},
   "outputs": [],
   "source": []
  },
  {
   "cell_type": "code",
   "execution_count": null,
   "metadata": {},
   "outputs": [],
   "source": []
  },
  {
   "cell_type": "code",
   "execution_count": 1,
   "metadata": {},
   "outputs": [],
   "source": [
    "import xml.etree.ElementTree as ET\n",
    "voc_Glawi = []\n",
    "tree = ET.parse(\"/Users/mustapha/Downloads/GLAWI_FR_work_D2015-12-26_R2016-05-18.xml\")\n",
    "root = tree.getroot()\n",
    "for element in root:\n",
    "    for child in element:\n",
    "        if child.tag == \"title\":\n",
    "            voc_Glawi.append(child.text)"
   ]
  },
  {
   "cell_type": "code",
   "execution_count": 4,
   "metadata": {},
   "outputs": [],
   "source": [
    "ecrire_json(\"voc_Glawi.json\", voc_Glawi)"
   ]
  },
  {
   "cell_type": "code",
   "execution_count": null,
   "metadata": {},
   "outputs": [],
   "source": []
  }
 ],
 "metadata": {
  "celltoolbar": "Format de la Cellule Texte Brut",
  "kernelspec": {
   "display_name": "Python 3",
   "language": "python",
   "name": "python3"
  },
  "language_info": {
   "codemirror_mode": {
    "name": "ipython",
    "version": 3
   },
   "file_extension": ".py",
   "mimetype": "text/x-python",
   "name": "python",
   "nbconvert_exporter": "python",
   "pygments_lexer": "ipython3",
   "version": "3.8.3"
  }
 },
 "nbformat": 4,
 "nbformat_minor": 4
}
