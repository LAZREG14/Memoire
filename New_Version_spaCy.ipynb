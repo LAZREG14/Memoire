{
 "cells": [
  {
   "cell_type": "code",
   "execution_count": 1,
   "metadata": {},
   "outputs": [],
   "source": [
    "import json\n",
    "def ouvrir_json(chemin):\n",
    "  f = open(chemin, encoding=\"utf-8\")\n",
    "  toto = json.load(f)\n",
    "  f.close()\n",
    "  return toto\n",
    "\n",
    "def ecrire_fichier(chemin, contenu):\n",
    "  w = open(chemin, \"w\", encoding=\"utf-8\")\n",
    "  w.write(contenu)\n",
    "  w.close()\n",
    "def lire_fichier(chemin):\n",
    "  f = open(chemin, \"r\", encoding=\"utf-8\")\n",
    "  chaine = f.read()\n",
    "  f.close()\n",
    "  return chaine"
   ]
  },
  {
   "cell_type": "code",
   "execution_count": 3,
   "metadata": {},
   "outputs": [],
   "source": [
    "import spacy\n",
    "nlp_sm = spacy.load(\"fr_core_news_sm\")"
   ]
  },
  {
   "cell_type": "code",
   "execution_count": 4,
   "metadata": {},
   "outputs": [],
   "source": [
    "sentence = (\"Je suis un aventurier\\nEt j'ai beaucoup bourlingué\\nJ'ai fait la vie à Varsovie\\nJ'ai fait le mort à Baltimore\\nJ'ai fait le rat à Camberra\\nJ'ai joué aux dés à Yaoundé\\nJ'ai joué aux dames à Amsterdam\\nJ'ai fait des games à Binningham\\nJe suis un aventurier\\nAvec lequel il faut compter\\nJe suis un aventurier\\nAvec lequel il faut compter\\n\\nJ'ai été à Bornéo\\nJ'ai été pompette à Papeete\\nJ'ai bu de l'eau à Bordeaux\\nJ'ai dit tant pis à Tampico\\nJ'ai fait l'soldat à Bogola\\nEt des calculs à Calcutta\\n\\nA moi, faut pas m'en raconter\\nParce que, vraiment, j'en ai bavé\\nA moi, faut pas m'en raconter\\nParce que, vraiment, j'en ai bavé\\n\\nJ'ai été errant à Téhéran\\nEt au sana à Saana\\nJ'ai fait l'chasseur à Kinshassa\\nEt la nounou à Cotonou\\nJ'ai fait de la tôle à Dôle\\nJ'ai été lourdé à Lourdes\\n\\nJe suis un aventurier\\nJ'en ai vrairnent beaucoup bavé\\nJe suis un aventurier\\nJ'en ai vrairnent beaucoup bavé\\n\\nJ'ai été crétin à Créteil\\nJ'ai eu la ber1ue à berlin\\nJ'ai été gentil à Port-Gentil\\nEt malpoli à Tripoli\\nJ'ai fait la vie à Varsovie\\nEt le mort à Baltimore\\n\\nJ'étais un aventurier\\nMaintenant, c'est terminé\\nJ'étais un aventurier\\nMaintenant, c'est terminé\")"
   ]
  },
  {
   "cell_type": "code",
   "execution_count": 8,
   "metadata": {},
   "outputs": [],
   "source": [
    "loc1_corpus1=[]\n",
    "doc1= nlp_sm(str(sentence))\n",
    "for entity in doc1.ents:\n",
    "    if entity.label_ ==\"LOC\":\n",
    "        loc1_corpus1.append(entity.text)"
   ]
  },
  {
   "cell_type": "code",
   "execution_count": 9,
   "metadata": {},
   "outputs": [
    {
     "name": "stdout",
     "output_type": "stream",
     "text": [
      "[\"J'\", 'Varsovie', 'Baltimore', 'Yaoundé', 'Amsterdam', \"J'ai fait des games\", 'Bornéo', 'Papeete', \"J'ai bu de l'eau\", 'Bordeaux', 'Tampico', 'Calcutta', 'A', 'Téhéran', 'Saana', 'Kinshassa', 'Dôle', 'Lourdes', \"J'\", \"J'\", 'Créteil', \"J'ai eu la ber1ue\", \"J'\", 'Port-Gentil', 'Tripoli', 'Varsovie', 'Baltimore', 'Maintenant']\n"
     ]
    }
   ],
   "source": [
    "print(loc1_corpus1)"
   ]
  },
  {
   "cell_type": "code",
   "execution_count": 10,
   "metadata": {},
   "outputs": [
    {
     "name": "stdout",
     "output_type": "stream",
     "text": [
      "19\n"
     ]
    }
   ],
   "source": [
    "s=['Varsovie', 'Baltimore', 'Yaoundé', 'Amsterdam', 'Bornéo', 'Papeete', \n",
    "'Bordeaux', 'Tampico', 'Calcutta', 'Téhéran', 'Saana', 'Kinshassa', 'Dôle', \n",
    " 'Lourdes', 'Créteil', 'Port-Gentil', 'Tripoli', 'Varsovie', \n",
    " 'Baltimore']\n",
    "print(len(s))\n",
    "\n",
    "\n"
   ]
  },
  {
   "cell_type": "code",
   "execution_count": 12,
   "metadata": {},
   "outputs": [
    {
     "ename": "NameError",
     "evalue": "name 'lemmatizer' is not defined",
     "output_type": "error",
     "traceback": [
      "\u001b[0;31m---------------------------------------------------------------------------\u001b[0m",
      "\u001b[0;31mNameError\u001b[0m                                 Traceback (most recent call last)",
      "\u001b[0;32m<ipython-input-12-9a886627765f>\u001b[0m in \u001b[0;36m<module>\u001b[0;34m\u001b[0m\n\u001b[1;32m      1\u001b[0m \u001b[0mdoc\u001b[0m \u001b[0;34m=\u001b[0m \u001b[0mnlp_sm\u001b[0m\u001b[0;34m(\u001b[0m\u001b[0;34m\"Je ne veux plus te parler\"\u001b[0m\u001b[0;34m)\u001b[0m\u001b[0;34m\u001b[0m\u001b[0;34m\u001b[0m\u001b[0m\n\u001b[1;32m      2\u001b[0m \u001b[0;31m# This usually happens under the hood\u001b[0m\u001b[0;34m\u001b[0m\u001b[0;34m\u001b[0m\u001b[0;34m\u001b[0m\u001b[0m\n\u001b[0;32m----> 3\u001b[0;31m \u001b[0mprocessed\u001b[0m \u001b[0;34m=\u001b[0m \u001b[0mlemmatizer\u001b[0m\u001b[0;34m(\u001b[0m\u001b[0mdoc\u001b[0m\u001b[0;34m)\u001b[0m\u001b[0;34m\u001b[0m\u001b[0;34m\u001b[0m\u001b[0m\n\u001b[0m",
      "\u001b[0;31mNameError\u001b[0m: name 'lemmatizer' is not defined"
     ]
    }
   ],
   "source": [
    "doc = nlp_sm(\"Je ne veux plus te parler\")\n",
    "# This usually happens under the hood\n",
    "processed = lemmatizer(doc)"
   ]
  },
  {
   "cell_type": "code",
   "execution_count": 20,
   "metadata": {},
   "outputs": [],
   "source": [
    "apple = nlp_sm.vocab[\"\"]\n",
    "n=apple.has_vector"
   ]
  },
  {
   "cell_type": "code",
   "execution_count": 21,
   "metadata": {},
   "outputs": [
    {
     "name": "stdout",
     "output_type": "stream",
     "text": [
      "False\n"
     ]
    }
   ],
   "source": [
    "print(n)"
   ]
  },
  {
   "cell_type": "code",
   "execution_count": 35,
   "metadata": {},
   "outputs": [],
   "source": [
    "doc = nlp_sm(\"Je ne veux plus te parler\")\n",
    "give_nbor = doc[0].nbor(3)\n",
    "assert give_nbor.text == \"plus\""
   ]
  },
  {
   "cell_type": "code",
   "execution_count": 47,
   "metadata": {},
   "outputs": [],
   "source": [
    "\n",
    "\n"
   ]
  },
  {
   "cell_type": "code",
   "execution_count": null,
   "metadata": {},
   "outputs": [],
   "source": []
  }
 ],
 "metadata": {
  "kernelspec": {
   "display_name": "Python 3",
   "language": "python",
   "name": "python3"
  },
  "language_info": {
   "codemirror_mode": {
    "name": "ipython",
    "version": 3
   },
   "file_extension": ".py",
   "mimetype": "text/x-python",
   "name": "python",
   "nbconvert_exporter": "python",
   "pygments_lexer": "ipython3",
   "version": "3.8.3"
  }
 },
 "nbformat": 4,
 "nbformat_minor": 4
}
