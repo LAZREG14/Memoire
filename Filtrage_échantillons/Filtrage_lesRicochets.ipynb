{
 "cells": [
  {
   "cell_type": "code",
   "execution_count": 1,
   "metadata": {},
   "outputs": [],
   "source": [
    "import json\n",
    "import time\n",
    "from time import perf_counter\n",
    "\n",
    "def ouvrir_json(chemin):\n",
    "    f = open(chemin, encoding=\"utf-8\")\n",
    "    toto = json.load(f)\n",
    "    f.close()\n",
    "    return toto\n",
    "\n",
    "def ecrire_json(chemin, contenu):\n",
    "    w = open(chemin, \"w\", encoding=\"utf-8\")\n",
    "    w.write(json.dumps(contenu, indent=2, ensure_ascii=False))\n",
    "    w.close()"
   ]
  },
  {
   "cell_type": "code",
   "execution_count": 2,
   "metadata": {},
   "outputs": [],
   "source": [
    "import spacy\n",
    "nlp_sm = spacy.load(\"fr_core_news_sm\")\n",
    "nlp_md = spacy.load(\"fr_core_news_md\")\n",
    "nlp_lg = spacy.load(\"fr_core_news_lg\")"
   ]
  },
  {
   "cell_type": "code",
   "execution_count": 3,
   "metadata": {},
   "outputs": [],
   "source": [
    "f1 = ouvrir_json(\"/Users/mustapha/Documents/GitHub/Memoire/clean_data_echantillons/lesRicochets_paroles.json\")\n",
    "f2 = ouvrir_json(\"/Users/mustapha/Documents/GitHub/Memoire/Data/voc_glaff.json\")"
   ]
  },
  {
   "cell_type": "code",
   "execution_count": 12,
   "metadata": {},
   "outputs": [
    {
     "name": "stdout",
     "output_type": "stream",
     "text": [
      "lieux trouvés par le modèle small :  12\n",
      "{'Saint-Michel', 'pont Alexandre', \"p'tit Montparnasse\", 'Paris', 'Détail', 'la Seine', 'Pouvais', \"pont d'Iena\", 'Parisienne', \"viaduc d'Auteuil\", 'pont Mirabeau', 'Île-de-France'}\n",
      "temps : 0.09228087000019514\n",
      "\n",
      "\n",
      "nombre lieux qui ne se trouvent pas dans le Glaff :  11\n",
      "{'Saint-Michel', 'pont Alexandre', \"p'tit Montparnasse\", 'Paris', 'Détail', 'la Seine', 'Pouvais', \"pont d'Iena\", \"viaduc d'Auteuil\", 'pont Mirabeau', 'Île-de-France'}\n",
      "\n",
      "{'Parisienne'}\n",
      "\n",
      "nombre lieux en miniscules qui ne se trouvent pas dans le Glaff :  8\n",
      "{'Saint-Michel', 'pont Alexandre', \"p'tit Montparnasse\", 'la Seine', 'Île-de-France', \"viaduc d'Auteuil\", 'pont Mirabeau', \"pont d'Iena\"}\n",
      "\n",
      "{'Détail', 'Paris', 'Pouvais'}\n",
      "\n",
      "nombre de lieux obtenu dans la liste finale :  8\n",
      "{'Saint-Michel', 'pont Alexandre', \"p'tit Montparnasse\", 'la Seine', 'Île-de-France', \"viaduc d'Auteuil\", 'pont Mirabeau', \"pont d'Iena\"}\n",
      "\n",
      "set()\n"
     ]
    }
   ],
   "source": [
    "start1 =time.perf_counter()\n",
    "loc_sm=[]\n",
    "for texte in f1:\n",
    "    try:\n",
    "        doc = nlp_sm(texte)\n",
    "        for entity in doc.ents:\n",
    "            if entity.label_ ==\"LOC\":\n",
    "                loc_sm.append(entity.text)\n",
    "    except:\n",
    "        pass\n",
    "end1 =time.perf_counter()\n",
    "\n",
    "ecrire_json(\"/Users/mustapha/Documents/GitHub/Memoire/lieux_echantillon_aprésNettoyage/lieux_lesRicochets_aprésNettoyage_sm.json\",loc_sm)\n",
    "print(\"lieux trouvés par le modèle small : \",len(set(loc_sm)))\n",
    "print(set(loc_sm))\n",
    "print(\"temps :\",end1-start1)\n",
    "print()\n",
    "print()\n",
    "\n",
    "tri_1 = [mot for mot in loc_sm if mot not in f2]\n",
    "test1 = [mot for mot in loc_sm if mot in f2]\n",
    "print(\"nombre lieux qui ne se trouvent pas dans le Glaff : \", len(set(tri_1)))\n",
    "print(set(tri_1))\n",
    "print()\n",
    "print(set(test1))\n",
    "print()\n",
    "\n",
    "tri_2 = [mot for mot in tri_1 if mot.lower() not in f2]\n",
    "test2 = [mot for mot in tri_1 if mot.lower() in f2]\n",
    "print(\"nombre lieux en miniscules qui ne se trouvent pas dans le Glaff : \",len(set(tri_2)))\n",
    "print(set(tri_2))\n",
    "print()\n",
    "print(set(test2))\n",
    "print()\n",
    "\n",
    "\n",
    "\n",
    "tri_3 =[mot for mot in tri_2 if mot.lower() not in tri_2] \n",
    "test3 =set(tri_2).difference(tri_3)\n",
    "print(\"nombre de lieux obtenu dans la liste finale : \", len(set(tri_3)))\n",
    "print(set(tri_3))\n",
    "print()\n",
    "print(set(test3))\n",
    "ecrire_json(\"/Users/mustapha/Documents/GitHub/Memoire/lieux_echantillon_aprésFiltrage/lieux_lesRicochets_aprésFiltrage_sm.json\",tri_3)"
   ]
  },
  {
   "cell_type": "code",
   "execution_count": 13,
   "metadata": {},
   "outputs": [
    {
     "data": {
      "image/png": "[encoded data removed]",
      "text/plain": [
       "<Figure size 432x288 with 1 Axes>"
      ]
     },
     "metadata": {
      "needs_background": "light"
     },
     "output_type": "display_data"
    }
   ],
   "source": [
    "import matplotlib.pyplot as plt\n",
    "\n",
    "x = [1, 2, 3, 4]\n",
    "y = [12, 11, 8, 8]\n",
    "labels = ['lieux_sm', 'tri_1', 'tri_2', 'tri_3']\n",
    "\n",
    "plt.plot(x, y)\n",
    "# You can specify a rotation for the tick labels in degrees or with keywords.\n",
    "plt.xticks(x, labels, rotation='vertical')\n",
    "# Pad margins so that markers don't get clipped by the axes\n",
    "plt.margins(0.2)\n",
    "plt.title(\"Filtrage de la chanson aventurier\")\n",
    "plt.ylabel(\"nombre de lieux\")\n",
    "# Tweak spacing to prevent clipping of tick-labels\n",
    "plt.subplots_adjust(bottom=0.15)"
   ]
  },
  {
   "cell_type": "code",
   "execution_count": 14,
   "metadata": {},
   "outputs": [
    {
     "name": "stdout",
     "output_type": "stream",
     "text": [
      "lieux trouvés par le modèle medium :  12\n",
      "{'Saint-Michel', 'Seine', 'pont Alexandre', 'Paris', \"viaduc d'Auteuil\", 'Grossissait', \"pont d l'Alma\", \"pont d'Iena\", 'Parisienne', 'tit Montparnasse', 'pont Mirabeau', 'Île-de-France'}\n",
      "temps : 0.14274747399986154\n",
      "\n",
      "\n",
      "nombre lieux qui ne se trouvent pas dans le Glaff :  11\n",
      "{'Saint-Michel', 'pont Alexandre', 'Paris', \"viaduc d'Auteuil\", 'Grossissait', \"pont d l'Alma\", 'Seine', 'Île-de-France', 'tit Montparnasse', 'pont Mirabeau', \"pont d'Iena\"}\n",
      "\n",
      "{'Parisienne'}\n",
      "\n",
      "nombre lieux en miniscules qui ne se trouvent pas dans le Glaff :  8\n",
      "{'Saint-Michel', 'pont Alexandre', \"viaduc d'Auteuil\", \"pont d l'Alma\", 'Île-de-France', 'tit Montparnasse', 'pont Mirabeau', \"pont d'Iena\"}\n",
      "\n",
      "{'Seine', 'Paris', 'Grossissait'}\n",
      "\n",
      "nombre de lieux obtenu dans la liste finale :  8\n",
      "{'Saint-Michel', 'pont Alexandre', \"viaduc d'Auteuil\", \"pont d l'Alma\", 'Île-de-France', 'tit Montparnasse', 'pont Mirabeau', \"pont d'Iena\"}\n",
      "\n",
      "set()\n"
     ]
    }
   ],
   "source": [
    "start2 =time.perf_counter()\n",
    "loc_md=[]\n",
    "for texte in f1:\n",
    "    try:\n",
    "        doc = nlp_md(texte)\n",
    "        for entity in doc.ents:\n",
    "            if entity.label_ ==\"LOC\":\n",
    "                loc_md.append(entity.text)\n",
    "    except:\n",
    "        pass\n",
    "end2 =time.perf_counter()\n",
    "ecrire_json(\"/Users/mustapha/Documents/GitHub/Memoire/lieux_echantillon_aprésNettoyage/lieux_lesRicochets_aprésNettoyage_md.json\",loc_md)\n",
    "print(\"lieux trouvés par le modèle medium : \",len(set(loc_md)))\n",
    "print(set(loc_md))\n",
    "print(\"temps :\",end2-start2)\n",
    "print()\n",
    "print()\n",
    "\n",
    "tri_1 = [mot for mot in loc_md if mot not in f2]\n",
    "test1 = [mot for mot in loc_md if mot in f2]\n",
    "print(\"nombre lieux qui ne se trouvent pas dans le Glaff : \", len(set(tri_1)))\n",
    "print(set(tri_1))\n",
    "print()\n",
    "print(set(test1))\n",
    "print()\n",
    "\n",
    "tri_2 = [mot for mot in tri_1 if mot.lower() not in f2]\n",
    "test2 = [mot for mot in tri_1 if mot.lower() in f2]\n",
    "print(\"nombre lieux en miniscules qui ne se trouvent pas dans le Glaff : \",len(set(tri_2)))\n",
    "print(set(tri_2))\n",
    "print()\n",
    "print(set(test2))\n",
    "print()\n",
    "\n",
    "\n",
    "\n",
    "tri_3 =[mot for mot in tri_2 if mot.lower() not in tri_2] \n",
    "test3 =set(tri_2).difference(tri_3)\n",
    "print(\"nombre de lieux obtenu dans la liste finale : \", len(set(tri_3)))\n",
    "print(set(tri_3))\n",
    "print()\n",
    "print(set(test3))\n",
    "ecrire_json(\"/Users/mustapha/Documents/GitHub/Memoire/lieux_echantillon_aprésFiltrage/lieux_lesRicochets_aprésFiltrage_md.json\",tri_3)"
   ]
  },
  {
   "cell_type": "code",
   "execution_count": 15,
   "metadata": {},
   "outputs": [
    {
     "data": {
      "image/png": "[encoded data removed]",
      "text/plain": [
       "<Figure size 432x288 with 1 Axes>"
      ]
     },
     "metadata": {
      "needs_background": "light"
     },
     "output_type": "display_data"
    }
   ],
   "source": [
    "x = [1, 2, 3, 4]\n",
    "y = [12, 11, 8, 8]\n",
    "labels = ['lieux_md', 'tri_1', 'tri_2', 'tri_3']\n",
    "\n",
    "plt.plot(x, y)\n",
    "# You can specify a rotation for the tick labels in degrees or with keywords.\n",
    "plt.xticks(x, labels, rotation='vertical')\n",
    "# Pad margins so that markers don't get clipped by the axes\n",
    "plt.margins(0.2)\n",
    "plt.title(\"Filtrage de la chanson aventurier\")\n",
    "plt.ylabel(\"nombre de lieux\")\n",
    "# Tweak spacing to prevent clipping of tick-labels\n",
    "plt.subplots_adjust(bottom=0.15)"
   ]
  },
  {
   "cell_type": "code",
   "execution_count": 16,
   "metadata": {},
   "outputs": [
    {
     "name": "stdout",
     "output_type": "stream",
     "text": [
      "lieux trouvés par le modèle large :  9\n",
      "{'Mière Parisienne', 'Saint-Michel', 'pont Alexandre', 'Paris', 'Seine', 'Île-de-France', \"viaduc d'Auteuil\", 'pont Mirabeau', \"pont d'Iena\"}\n",
      "temps : 0.13060308600006465\n",
      "\n",
      "\n",
      "nombre lieux qui ne se trouvent pas dans le Glaff :  9\n",
      "{'Mière Parisienne', 'Saint-Michel', 'pont Alexandre', 'Paris', 'Seine', 'Île-de-France', \"viaduc d'Auteuil\", 'pont Mirabeau', \"pont d'Iena\"}\n",
      "\n",
      "set()\n",
      "\n",
      "nombre lieux en miniscules qui ne se trouvent pas dans le Glaff :  7\n",
      "{'Mière Parisienne', 'Saint-Michel', 'pont Alexandre', 'Île-de-France', \"viaduc d'Auteuil\", 'pont Mirabeau', \"pont d'Iena\"}\n",
      "\n",
      "{'Seine', 'Paris'}\n",
      "\n",
      "nombre de lieux obtenu dans la liste finale :  7\n",
      "{'Mière Parisienne', 'Saint-Michel', 'pont Alexandre', 'Île-de-France', \"viaduc d'Auteuil\", 'pont Mirabeau', \"pont d'Iena\"}\n",
      "\n",
      "set()\n"
     ]
    }
   ],
   "source": [
    "start3 =time.perf_counter()\n",
    "loc_lg=[]\n",
    "for texte in f1:\n",
    "    try:\n",
    "        doc = nlp_lg(texte)\n",
    "        for entity in doc.ents:\n",
    "            if entity.label_ ==\"LOC\":\n",
    "                loc_lg.append(entity.text)\n",
    "    except:\n",
    "        pass\n",
    "end3 =time.perf_counter()\n",
    "ecrire_json(\"/Users/mustapha/Documents/GitHub/Memoire/lieux_echantillon_aprésNettoyage/lieux_lesRicochets_aprésNettoyage_lg.json\",loc_lg)\n",
    "print(\"lieux trouvés par le modèle large : \",len(set(loc_lg)))\n",
    "print(set(loc_lg))\n",
    "print(\"temps :\",end3-start3)\n",
    "print()\n",
    "print()\n",
    "\n",
    "tri_1 = [mot for mot in loc_lg if mot not in f2]\n",
    "test1 = [mot for mot in loc_lg if mot in f2]\n",
    "print(\"nombre lieux qui ne se trouvent pas dans le Glaff : \", len(set(tri_1)))\n",
    "print(set(tri_1))\n",
    "print()\n",
    "print(set(test1))\n",
    "print()\n",
    "\n",
    "tri_2 = [mot for mot in tri_1 if mot.lower() not in f2]\n",
    "test2 = [mot for mot in tri_1 if mot.lower() in f2]\n",
    "print(\"nombre lieux en miniscules qui ne se trouvent pas dans le Glaff : \",len(set(tri_2)))\n",
    "print(set(tri_2))\n",
    "print()\n",
    "print(set(test2))\n",
    "print()\n",
    "\n",
    "\n",
    "\n",
    "tri_3 =[mot for mot in tri_2 if mot.lower() not in tri_2] \n",
    "test3 =set(tri_2).difference(tri_3)\n",
    "print(\"nombre de lieux obtenu dans la liste finale : \", len(set(tri_3)))\n",
    "print(set(tri_3))\n",
    "print()\n",
    "print(set(test3))\n",
    "ecrire_json(\"/Users/mustapha/Documents/GitHub/Memoire/lieux_echantillon_aprésFiltrage/lieux_lesRicochets_aprésFiltrage_lg.json\",tri_3)"
   ]
  },
  {
   "cell_type": "code",
   "execution_count": 17,
   "metadata": {},
   "outputs": [
    {
     "data": {
      "image/png": "[encoded data removed]",
      "text/plain": [
       "<Figure size 432x288 with 1 Axes>"
      ]
     },
     "metadata": {
      "needs_background": "light"
     },
     "output_type": "display_data"
    }
   ],
   "source": [
    "x = [1, 2, 3, 4]\n",
    "y = [9, 9, 7, 7]\n",
    "labels = ['lieux_lg', 'tri_1', 'tri_2', 'tri_3']\n",
    "\n",
    "plt.plot(x, y)\n",
    "# You can specify a rotation for the tick labels in degrees or with keywords.\n",
    "plt.xticks(x, labels, rotation='vertical')\n",
    "# Pad margins so that markers don't get clipped by the axes\n",
    "plt.margins(0.2)\n",
    "plt.title(\"Filtrage de la chanson aventurier\")\n",
    "plt.ylabel(\"nombre de lieux\")\n",
    "# Tweak spacing to prevent clipping of tick-labels\n",
    "plt.subplots_adjust(bottom=0.15)"
   ]
  },
  {
   "cell_type": "code",
   "execution_count": null,
   "metadata": {},
   "outputs": [],
   "source": []
  },
  {
   "cell_type": "code",
   "execution_count": null,
   "metadata": {},
   "outputs": [],
   "source": []
  }
 ],
 "metadata": {
  "kernelspec": {
   "display_name": "Python 3",
   "language": "python",
   "name": "python3"
  },
  "language_info": {
   "codemirror_mode": {
    "name": "ipython",
    "version": 3
   },
   "file_extension": ".py",
   "mimetype": "text/x-python",
   "name": "python",
   "nbconvert_exporter": "python",
   "pygments_lexer": "ipython3",
   "version": "3.8.3"
  }
 },
 "nbformat": 4,
 "nbformat_minor": 4
}
