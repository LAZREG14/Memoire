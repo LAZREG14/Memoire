{
 "cells": [
  {
   "cell_type": "code",
   "execution_count": 5,
   "metadata": {},
   "outputs": [],
   "source": [
    "import json\n",
    "import time\n",
    "from time import perf_counter\n",
    "\n",
    "\n",
    "def ouvrir_json(chemin):\n",
    "    f = open(chemin, encoding=\"utf-8\")\n",
    "    toto = json.load(f)\n",
    "    f.close()\n",
    "    return toto\n",
    "\n",
    "def ecrire_json(chemin, contenu):\n",
    "    w = open(chemin, \"w\", encoding=\"utf-8\")\n",
    "    w.write(json.dumps(contenu, indent=2, ensure_ascii=False))\n",
    "    w.close()"
   ]
  },
  {
   "cell_type": "code",
   "execution_count": 2,
   "metadata": {},
   "outputs": [],
   "source": [
    "import spacy\n",
    "nlp_sm = spacy.load(\"fr_core_news_sm\")\n",
    "nlp_md = spacy.load(\"fr_core_news_md\")\n",
    "nlp_lg = spacy.load(\"fr_core_news_lg\")"
   ]
  },
  {
   "cell_type": "code",
   "execution_count": 7,
   "metadata": {},
   "outputs": [],
   "source": [
    "f1 = ouvrir_json(\"/Users/mustapha/Documents/GitHub/Memoire/clean_data_echantillons/clean_echantillon1.json\")\n",
    "f2 = ouvrir_json(\"/Users/mustapha/Documents/GitHub/Memoire/Data/voc_glaff.json\")"
   ]
  },
  {
   "cell_type": "code",
   "execution_count": 12,
   "metadata": {},
   "outputs": [
    {
     "name": "stdout",
     "output_type": "stream",
     "text": [
      "lieux trouvés par le modèle small :  93\n",
      "{'Saana', 'Milo', 'Binningham', 'Ca', 'Avoir', 'Tampico', 'Canigou', 'Ouille', 'Saint-Tropez', 'Ministère', 'Rolex', 'Daphnis', 'Tintin', 'Vieux', 'Yvette', 'Demi-soupir', \"Dutronc d'Isigny\", 'Hâtez', 'Venez', 'Venise', 'Goldwyn', 'Aïe!.', 'Bogola', 'Trocadéro', 'rue Le Regrantier', 'Y', 'Beatniks', 'Boulevard Poissonnière', '’', 'Obélisque', 'Mannix', 'Marquis', 'Papeete', 'San Francisco', 'Varsovie', 'Créteil', 'Amiens', 'Métro', 'Celles', 'Antiatomique', 'Aidez', 'Euh!Euh', 'Yaoundé', 'Port-Gentil', 'Fatigué', 'Amsterdam', 'Lourdes', 'Amakawogo', 'Houlgate', 'Val-de-Grâce', 'Arroy', 'Calcutta', 'ber1ue', 'Pénélope', 'Disigny', 'Ménard', 'Pyrex', 'Pétuchet', 'Tripoli', 'Chaussée', 'Ulysse', 'Bernhart', 'Marcelle', 'Lampadaire', 'Touche', 'Rochelle', 'île de la Jatte', 'Bordeaux', 'Instantané', 'Cotonou', 'Mégève', 'Millau', 'la France', 'La Palice', 'Roméo', 'Dôle', 'Prends', 'Mange', 'Vénus', 'Saint Omer', 'Bornéo', 'N’', 'l’Harpic', 'France', 'Jekyll', 'Baltimore', 'Camberra', 'Kinshassa', 'Téhéran', 'Lux', 'Gault', 'Paris', 'Bégueule'}\n",
      "temps : 2.5610059869977704\n",
      "\n",
      "\n",
      "nombre lieux qui ne se trouvent pas dans le Glaff :  93\n",
      "{'Saana', 'Milo', 'Binningham', 'Ca', 'Avoir', 'Tampico', 'Canigou', 'Ouille', 'Saint-Tropez', 'Ministère', 'Rolex', 'Daphnis', 'Tintin', 'Vieux', 'Yvette', 'Demi-soupir', \"Dutronc d'Isigny\", 'Hâtez', 'Venez', 'Venise', 'Goldwyn', 'Aïe!.', 'Bogola', 'Trocadéro', 'rue Le Regrantier', 'Y', 'Beatniks', 'Boulevard Poissonnière', '’', 'Obélisque', 'Mannix', 'Marquis', 'Papeete', 'San Francisco', 'Varsovie', 'Créteil', 'Amiens', 'Métro', 'Celles', 'Antiatomique', 'Aidez', 'Euh!Euh', 'Yaoundé', 'Port-Gentil', 'Fatigué', 'Amsterdam', 'Lourdes', 'Amakawogo', 'Houlgate', 'Val-de-Grâce', 'Arroy', 'Calcutta', 'ber1ue', 'Pénélope', 'Disigny', 'Ménard', 'Pyrex', 'Pétuchet', 'Tripoli', 'Chaussée', 'Ulysse', 'Bernhart', 'Marcelle', 'Lampadaire', 'Touche', 'Rochelle', 'île de la Jatte', 'Bordeaux', 'Instantané', 'Cotonou', 'Mégève', 'Millau', 'la France', 'La Palice', 'Roméo', 'Dôle', 'Prends', 'Mange', 'Vénus', 'Saint Omer', 'Bornéo', 'N’', 'l’Harpic', 'France', 'Jekyll', 'Baltimore', 'Camberra', 'Kinshassa', 'Téhéran', 'Lux', 'Gault', 'Paris', 'Bégueule'}\n",
      "\n",
      "set()\n",
      "\n",
      "nombre lieux en miniscules qui ne se trouvent pas dans le Glaff :  63\n",
      "{'Saana', 'Milo', 'Binningham', 'Cotonou', 'Mégève', 'Beatniks', 'Tampico', 'Millau', 'la France', 'Boulevard Poissonnière', 'Canigou', 'La Palice', 'Saint-Tropez', '’', 'Marcelle', 'Roméo', 'Mannix', 'Port-Gentil', 'Dôle', 'Amsterdam', 'Saint Omer', 'Bornéo', 'N’', 'Rolex', 'Daphnis', 'Tintin', 'l’Harpic', 'Papeete', 'Amakawogo', 'France', 'San Francisco', 'Varsovie', 'Jekyll', 'Baltimore', 'Créteil', 'Houlgate', 'Amiens', 'Camberra', 'Yvette', \"Dutronc d'Isigny\", 'Val-de-Grâce', 'Demi-soupir', 'Arroy', 'Venise', 'Kinshassa', 'Calcutta', 'ber1ue', 'Disigny', 'Ménard', 'Téhéran', 'Pyrex', 'Euh!Euh', 'Pétuchet', 'Goldwyn', 'Ulysse', 'Bogola', 'Aïe!.', 'Bernhart', 'Yaoundé', 'Trocadéro', 'rue Le Regrantier', 'île de la Jatte', 'Rochelle'}\n",
      "\n",
      "{'Y', 'Bordeaux', 'Instantané', 'Ca', 'Avoir', 'Ouille', 'Ministère', 'Obélisque', 'Fatigué', 'Prends', 'Mange', 'Vénus', 'Marquis', 'Bégueule', 'Lourdes', 'Vieux', 'Hâtez', 'Venez', 'Métro', 'Pénélope', 'Celles', 'Antiatomique', 'Aidez', 'Gault', 'Lux', 'Tripoli', 'Paris', 'Chaussée', 'Lampadaire', 'Touche'}\n",
      "\n",
      "nombre de lieux obtenu dans la liste finale :  61\n",
      "{'Saana', 'Milo', 'Binningham', 'Cotonou', 'Mégève', 'Beatniks', 'Tampico', 'Millau', 'la France', 'Boulevard Poissonnière', 'Canigou', 'La Palice', 'Saint-Tropez', 'Marcelle', 'Roméo', 'Mannix', 'Port-Gentil', 'Dôle', 'Amsterdam', 'Saint Omer', 'Bornéo', 'N’', 'Rolex', 'Daphnis', 'Tintin', 'l’Harpic', 'Papeete', 'Amakawogo', 'France', 'San Francisco', 'Varsovie', 'Jekyll', 'Baltimore', 'Créteil', 'Houlgate', 'Amiens', 'Camberra', 'Yvette', \"Dutronc d'Isigny\", 'Val-de-Grâce', 'Demi-soupir', 'Arroy', 'Venise', 'Kinshassa', 'Calcutta', 'Disigny', 'Ménard', 'Téhéran', 'Pyrex', 'Euh!Euh', 'Pétuchet', 'Goldwyn', 'Ulysse', 'Bogola', 'Aïe!.', 'Bernhart', 'Yaoundé', 'Trocadéro', 'rue Le Regrantier', 'île de la Jatte', 'Rochelle'}\n",
      "\n",
      "{'ber1ue', '’'}\n"
     ]
    }
   ],
   "source": [
    "start1 =time.perf_counter()\n",
    "loc_sm=[]\n",
    "for texte in f1:\n",
    "    try:\n",
    "        doc = nlp_sm(texte)\n",
    "        for entity in doc.ents:\n",
    "            if entity.label_ ==\"LOC\":\n",
    "                loc_sm.append(entity.text)\n",
    "    except:\n",
    "        pass\n",
    "end1 = time.perf_counter()\n",
    "ecrire_json(\"/Users/mustapha/Documents/GitHub/Memoire/lieux_echantillon_aprésNettoyage/lieux_echantillon1_aprésNettoyage_sm.json\",loc_sm)\n",
    "print(\"lieux trouvés par le modèle small : \",len(set(loc_sm)))\n",
    "print(set(loc_sm))\n",
    "print(\"temps :\",end1-start1)\n",
    "print()\n",
    "print()\n",
    "\n",
    "tri_1 = [mot for mot in loc_sm if mot not in f2]\n",
    "test1 = [mot for mot in loc_sm if mot in f2]\n",
    "print(\"nombre lieux qui ne se trouvent pas dans le Glaff : \", len(set(tri_1)))\n",
    "print(set(tri_1))\n",
    "print()\n",
    "print(set(test1))\n",
    "print()\n",
    "\n",
    "tri_2 = [mot for mot in tri_1 if mot.lower() not in f2]\n",
    "test2 = [mot for mot in tri_1 if mot.lower() in f2]\n",
    "print(\"nombre lieux en miniscules qui ne se trouvent pas dans le Glaff : \",len(set(tri_2)))\n",
    "print(set(tri_2))\n",
    "print()\n",
    "print(set(test2))\n",
    "print()\n",
    "\n",
    "\n",
    "\n",
    "tri_3 =[mot for mot in tri_2 if mot.lower() not in tri_2] \n",
    "test3 =set(tri_2).difference(tri_3)\n",
    "print(\"nombre de lieux obtenu dans la liste finale : \", len(set(tri_3)))\n",
    "print(set(tri_3))\n",
    "print()\n",
    "print(set(test3))\n",
    "ecrire_json(\"/Users/mustapha/Documents/GitHub/Memoire/lieux_echantillon_aprésFiltrage/lieux_echantillon1_aprésFiltrage_sm.json\",tri_3)"
   ]
  },
  {
   "cell_type": "code",
   "execution_count": 16,
   "metadata": {},
   "outputs": [
    {
     "data": {
      "image/png": "[encoded data removed]",
      "text/plain": [
       "<Figure size 432x288 with 1 Axes>"
      ]
     },
     "metadata": {
      "needs_background": "light"
     },
     "output_type": "display_data"
    }
   ],
   "source": [
    "import matplotlib.pyplot as plt\n",
    "\n",
    "\n",
    "x = [1, 2, 3, 4]\n",
    "y = [104, 104, 64, 62]\n",
    "labels = ['lieux_sm', 'tri_1', 'tri_2', 'tri_3']\n",
    "\n",
    "plt.plot(x, y)\n",
    "# You can specify a rotation for the tick labels in degrees or with keywords.\n",
    "plt.xticks(x, labels, rotation='vertical')\n",
    "# Pad margins so that markers don't get clipped by the axes\n",
    "plt.margins(0.2)\n",
    "plt.title(\"Filtrage de l'échantillon1\")\n",
    "plt.ylabel(\"nombre de lieux\")\n",
    "# Tweak spacing to prevent clipping of tick-labels\n",
    "plt.subplots_adjust(bottom=0.15)\n",
    "plt.show()"
   ]
  },
  {
   "cell_type": "code",
   "execution_count": 13,
   "metadata": {},
   "outputs": [
    {
     "name": "stdout",
     "output_type": "stream",
     "text": [
      "lieux trouvés par le modèle medium :  71\n",
      "{'Demi-tour', 'Saana', 'Réserve', 'Milo', 'Bordeaux', 'le Métropolitain', 'Prrr!Prrr', 'Binningham', 'Ca', 'Castel', 'Mégève', 'Cotonou', \"Bouquin'\", 'Tampico', 'Millau', 'la France', 'Boulevard Poissonnière', 'Canigou', 'Saint-Tropez', 'Caleçons', 'Obélisque', 'Port-Gentil', 'Dôle', 'Amsterdam', 'Vénus', 'Saint Omer', 'Bornéo', 'Harpic', 'Électrique', 'Électronique', 'Lourdes', 'Bonsoir', 'Papeete', 'France', 'San Francisco', 'la Rochelle', 'Maxitère', 'Cigare!.', 'Varsovie', 'Baltimore', 'Créteil', 'Croyez', 'Akékéké kékéké', 'Amiens', 'Nickelés', 'Houlgate', 'Val-de-Grâce', 'Demi-ton', 'Demi-soupir', 'Refrain}.', 'Kinshassa', 'Refrain}', 'Venise', 'He!He', 'Calcutta', 'Celles', 'Pyrex', 'Téhéran', 'refrain}.', 'Pétuchet', 'Tripoli', 'Paris', 'Chaussée', 'Demi-sourires', 'Bernhart', 'Aïe!.', 'Yaoundé', 'Trocadéro', 'rue Le Regrantier', 'Camaret', 'Bégueule'}\n",
      "temps : 2.8765519579974352\n",
      "\n",
      "\n",
      "nombre lieux qui ne se trouvent pas dans le Glaff :  71\n",
      "{'Demi-tour', 'Saana', 'Réserve', 'Milo', 'Bordeaux', 'le Métropolitain', 'Prrr!Prrr', 'Binningham', 'Ca', 'Castel', 'Mégève', 'Cotonou', \"Bouquin'\", 'Tampico', 'Millau', 'la France', 'Boulevard Poissonnière', 'Canigou', 'Saint-Tropez', 'Caleçons', 'Obélisque', 'Port-Gentil', 'Dôle', 'Amsterdam', 'Vénus', 'Saint Omer', 'Bornéo', 'Harpic', 'Électrique', 'Électronique', 'Lourdes', 'Bonsoir', 'Papeete', 'France', 'San Francisco', 'la Rochelle', 'Maxitère', 'Cigare!.', 'Varsovie', 'Baltimore', 'Créteil', 'Croyez', 'Akékéké kékéké', 'Amiens', 'Nickelés', 'Houlgate', 'Val-de-Grâce', 'Demi-ton', 'Demi-soupir', 'Refrain}.', 'Kinshassa', 'Refrain}', 'Venise', 'He!He', 'Calcutta', 'Celles', 'Pyrex', 'Téhéran', 'refrain}.', 'Pétuchet', 'Tripoli', 'Paris', 'Chaussée', 'Demi-sourires', 'Bernhart', 'Aïe!.', 'Yaoundé', 'Trocadéro', 'rue Le Regrantier', 'Camaret', 'Bégueule'}\n",
      "\n",
      "set()\n",
      "\n",
      "nombre lieux en miniscules qui ne se trouvent pas dans le Glaff :  53\n",
      "{'Demi-tour', 'Saana', 'Milo', 'le Métropolitain', 'Prrr!Prrr', 'Binningham', 'Cotonou', 'Mégève', \"Bouquin'\", 'Tampico', 'Millau', 'la France', 'Boulevard Poissonnière', 'Canigou', 'Saint-Tropez', 'Port-Gentil', 'Dôle', 'Amsterdam', 'Saint Omer', 'Bornéo', 'Harpic', 'Papeete', 'France', 'San Francisco', 'la Rochelle', 'Maxitère', 'Cigare!.', 'Varsovie', 'Baltimore', 'Créteil', 'Houlgate', 'Akékéké kékéké', 'Amiens', 'Demi-ton', 'Demi-soupir', 'Val-de-Grâce', 'Refrain}.', 'Kinshassa', 'Refrain}', 'Venise', 'He!He', 'Calcutta', 'Pyrex', 'Téhéran', 'refrain}.', 'Pétuchet', 'Demi-sourires', 'Bernhart', 'Aïe!.', 'Yaoundé', 'Trocadéro', 'rue Le Regrantier', 'Camaret'}\n",
      "\n",
      "{'Celles', 'Réserve', 'Croyez', 'Bordeaux', 'Nickelés', 'Vénus', 'Ca', 'Castel', 'Tripoli', 'Paris', 'Chaussée', 'Électronique', 'Électrique', 'Caleçons', 'Lourdes', 'Bonsoir', 'Bégueule', 'Obélisque'}\n",
      "\n",
      "nombre de lieux obtenu dans la liste finale :  51\n",
      "{'Demi-tour', 'Saana', 'Milo', 'le Métropolitain', 'Prrr!Prrr', 'Binningham', 'Cotonou', 'Mégève', \"Bouquin'\", 'Tampico', 'Millau', 'la France', 'Boulevard Poissonnière', 'Canigou', 'Saint-Tropez', 'Port-Gentil', 'Dôle', 'Amsterdam', 'Saint Omer', 'Bornéo', 'Harpic', 'Papeete', 'France', 'San Francisco', 'la Rochelle', 'Maxitère', 'Cigare!.', 'Varsovie', 'Baltimore', 'Créteil', 'Houlgate', 'Akékéké kékéké', 'Amiens', 'Demi-ton', 'Demi-soupir', 'Val-de-Grâce', 'Venise', 'Kinshassa', 'Refrain}', 'He!He', 'Calcutta', 'Pyrex', 'Téhéran', 'Pétuchet', 'Demi-sourires', 'Bernhart', 'Aïe!.', 'Yaoundé', 'Trocadéro', 'rue Le Regrantier', 'Camaret'}\n",
      "\n",
      "{'Refrain}.', 'refrain}.'}\n"
     ]
    }
   ],
   "source": [
    "start2 =time.perf_counter()\n",
    "loc_md=[]\n",
    "for texte in f1:\n",
    "    try:\n",
    "        doc = nlp_md(texte)\n",
    "        for entity in doc.ents:\n",
    "            if entity.label_ ==\"LOC\":\n",
    "                loc_md.append(entity.text)\n",
    "    except:\n",
    "        pass\n",
    "end2 = time.perf_counter()\n",
    "ecrire_json(\"/Users/mustapha/Documents/GitHub/Memoire/lieux_echantillon_aprésNettoyage/lieux_echantillon1_aprésNettoyage_md.json\",loc_md)\n",
    "\n",
    "print(\"lieux trouvés par le modèle medium : \",len(set(loc_md)))\n",
    "print(set(loc_md))\n",
    "print(\"temps :\",end2-start2)\n",
    "print()\n",
    "print()\n",
    "\n",
    "tri_1 = [mot for mot in loc_md if mot not in f2]\n",
    "test1 = [mot for mot in loc_md if mot in f2]\n",
    "print(\"nombre lieux qui ne se trouvent pas dans le Glaff : \", len(set(tri_1)))\n",
    "print(set(tri_1))\n",
    "print()\n",
    "print(set(test1))\n",
    "print()\n",
    "\n",
    "tri_2 = [mot for mot in tri_1 if mot.lower() not in f2]\n",
    "test2 = [mot for mot in tri_1 if mot.lower() in f2]\n",
    "print(\"nombre lieux en miniscules qui ne se trouvent pas dans le Glaff : \",len(set(tri_2)))\n",
    "print(set(tri_2))\n",
    "print()\n",
    "print(set(test2))\n",
    "print()\n",
    "\n",
    "\n",
    "\n",
    "tri_3 =[mot for mot in tri_2 if mot.lower() not in tri_2] \n",
    "test3 =set(tri_2).difference(tri_3)\n",
    "print(\"nombre de lieux obtenu dans la liste finale : \", len(set(tri_3)))\n",
    "print(set(tri_3))\n",
    "print()\n",
    "print(set(test3))\n",
    "ecrire_json(\"/Users/mustapha/Documents/GitHub/Memoire/lieux_echantillon_aprésFiltrage/lieux_echantillon1_aprésFiltrage_md.json\",tri_3)"
   ]
  },
  {
   "cell_type": "code",
   "execution_count": 21,
   "metadata": {},
   "outputs": [
    {
     "data": {
      "image/png": "[encoded data removed]",
      "text/plain": [
       "<Figure size 432x288 with 1 Axes>"
      ]
     },
     "metadata": {
      "needs_background": "light"
     },
     "output_type": "display_data"
    }
   ],
   "source": [
    "import matplotlib.pyplot as plt\n",
    "\n",
    "x = [1, 2, 3, 4]\n",
    "y = [64, 64, 44, 44]\n",
    "labels = ['lieux_md', 'tri_1', 'tri_2', 'tri_3']\n",
    "\n",
    "plt.plot(x, y)\n",
    "# You can specify a rotation for the tick labels in degrees or with keywords.\n",
    "plt.xticks(x, labels, rotation='vertical')\n",
    "# Pad margins so that markers don't get clipped by the axes\n",
    "plt.margins(0.2)\n",
    "plt.title(\"Filtrage de l'échantillon1\")\n",
    "plt.ylabel(\"nombre de lieux\")\n",
    "# Tweak spacing to prevent clipping of tick-labels\n",
    "plt.subplots_adjust(bottom=0.15)\n",
    "plt.show()\n",
    "\n"
   ]
  },
  {
   "cell_type": "code",
   "execution_count": 14,
   "metadata": {},
   "outputs": [
    {
     "name": "stdout",
     "output_type": "stream",
     "text": [
      "lieux trouvés par le modèle medium :  64\n",
      "{'rue Le Regrantier', 'Demi-tour', 'Saana', 'Milo', 'Bordeaux', 'Prrr!Prrr', 'Binningham', 'Ca', 'Mégève', 'Beatniks', 'Cotonou', \"Bouquin'\", 'Tampico', 'Millau', 'la France', 'Boulevard Poissonnière', 'Canigou', 'Saint-Tropez', 'Ministère', 'Caleçons', 'Obélisque', 'Oh!Ooh!Quand', 'Port-Gentil', 'Dôle', 'Amsterdam', 'Vénus', 'Saint Omer', 'Bornéo', 'Harpic', 'He!Hee!Ils', 'Lourdes', 'Papeete', 'France', 'San Francisco', 'la Rochelle', 'Maxitère', 'Cigare!.', 'Varsovie', 'Baltimore', 'Créteil', 'Houlgate', 'Amiens', 'Akéké', 'Demi-soupir', 'Val-de-Grâce', 'Venise', 'Camaret', 'He!He', 'Calcutta', 'Déformante', 'Celles', 'Akékékéké', 'Pyrex', 'Téhéran', 'Pétuchet', 'Tripoli', 'Paris', 'Chaussée', 'Demi-sourires', 'Yaoundé', 'Trocadéro', 'Lampadaire', \"Parc'\", 'île de la Jatte'}\n",
      "temps : 3.710890852002194\n",
      "\n",
      "\n",
      "nombre lieux qui ne se trouvent pas dans le Glaff :  64\n",
      "{'rue Le Regrantier', 'Demi-tour', 'Saana', 'Milo', 'Bordeaux', 'Prrr!Prrr', 'Binningham', 'Ca', 'Mégève', 'Beatniks', 'Cotonou', \"Bouquin'\", 'Tampico', 'Millau', 'la France', 'Boulevard Poissonnière', 'Canigou', 'Saint-Tropez', 'Ministère', 'Caleçons', 'Obélisque', 'Oh!Ooh!Quand', 'Port-Gentil', 'Dôle', 'Amsterdam', 'Vénus', 'Saint Omer', 'Bornéo', 'Harpic', 'He!Hee!Ils', 'Lourdes', 'Papeete', 'France', 'San Francisco', 'la Rochelle', 'Maxitère', 'Cigare!.', 'Varsovie', 'Baltimore', 'Créteil', 'Houlgate', 'Amiens', 'Akéké', 'Demi-soupir', 'Val-de-Grâce', 'Venise', 'Camaret', 'He!He', 'Calcutta', 'Déformante', 'Celles', 'Akékékéké', 'Pyrex', 'Téhéran', 'Pétuchet', 'Tripoli', 'Paris', 'Chaussée', 'Demi-sourires', 'Yaoundé', 'Trocadéro', 'Lampadaire', \"Parc'\", 'île de la Jatte'}\n",
      "\n",
      "set()\n",
      "\n",
      "nombre lieux en miniscules qui ne se trouvent pas dans le Glaff :  51\n",
      "{'Demi-tour', 'Saana', 'Milo', 'Prrr!Prrr', 'Binningham', 'Cotonou', 'Mégève', 'Beatniks', \"Bouquin'\", 'Tampico', 'Millau', 'la France', 'Boulevard Poissonnière', 'Canigou', 'Saint-Tropez', 'Oh!Ooh!Quand', 'Port-Gentil', 'Dôle', 'Amsterdam', 'Saint Omer', 'Bornéo', 'Harpic', 'He!Hee!Ils', 'Papeete', 'France', 'San Francisco', 'la Rochelle', 'Maxitère', 'Cigare!.', 'Varsovie', 'Baltimore', 'Créteil', 'Houlgate', 'Amiens', 'Akéké', 'Demi-soupir', 'Val-de-Grâce', 'Venise', 'Camaret', 'He!He', 'Calcutta', 'Akékékéké', 'Pyrex', 'Téhéran', 'Pétuchet', 'Demi-sourires', 'Yaoundé', 'Trocadéro', 'rue Le Regrantier', \"Parc'\", 'île de la Jatte'}\n",
      "\n",
      "{'Celles', 'Lourdes', 'Bordeaux', 'Déformante', 'Vénus', 'Ca', 'Tripoli', 'Paris', 'Chaussée', 'Caleçons', 'Ministère', 'Lampadaire', 'Obélisque'}\n",
      "\n",
      "nombre de lieux obtenu dans la liste finale :  51\n",
      "{'Demi-tour', 'Saana', 'Milo', 'Prrr!Prrr', 'Binningham', 'Cotonou', 'Mégève', 'Beatniks', \"Bouquin'\", 'Tampico', 'Millau', 'la France', 'Boulevard Poissonnière', 'Canigou', 'Saint-Tropez', 'Oh!Ooh!Quand', 'Port-Gentil', 'Dôle', 'Amsterdam', 'Saint Omer', 'Bornéo', 'Harpic', 'He!Hee!Ils', 'Papeete', 'France', 'San Francisco', 'la Rochelle', 'Maxitère', 'Cigare!.', 'Varsovie', 'Baltimore', 'Créteil', 'Houlgate', 'Amiens', 'Akéké', 'Demi-soupir', 'Val-de-Grâce', 'Venise', 'Camaret', 'He!He', 'Calcutta', 'Akékékéké', 'Pyrex', 'Téhéran', 'Pétuchet', 'Demi-sourires', 'Yaoundé', 'Trocadéro', 'rue Le Regrantier', \"Parc'\", 'île de la Jatte'}\n",
      "\n",
      "set()\n"
     ]
    }
   ],
   "source": [
    "start3 =time.perf_counter()\n",
    "loc_lg=[]\n",
    "for texte in f1:\n",
    "    try:\n",
    "        doc = nlp_lg(texte)\n",
    "        for entity in doc.ents:\n",
    "            if entity.label_ ==\"LOC\":\n",
    "                loc_lg.append(entity.text)\n",
    "    except:\n",
    "        pass\n",
    "end3 =time.perf_counter()\n",
    "ecrire_json(\"/Users/mustapha/Documents/GitHub/Memoire/lieux_echantillon_aprésNettoyage/lieux_echantillon1_aprésNettoyage_lg.json\",loc_lg)\n",
    "print(\"lieux trouvés par le modèle medium : \",len(set(loc_lg)))\n",
    "print(set(loc_lg))\n",
    "print(\"temps :\",end3-start3)\n",
    "print()\n",
    "print()\n",
    "\n",
    "tri_1 = [mot for mot in loc_lg if mot not in f2]\n",
    "test1 = [mot for mot in loc_lg if mot in f2]\n",
    "print(\"nombre lieux qui ne se trouvent pas dans le Glaff : \", len(set(tri_1)))\n",
    "print(set(tri_1))\n",
    "print()\n",
    "print(set(test1))\n",
    "print()\n",
    "\n",
    "tri_2 = [mot for mot in tri_1 if mot.lower() not in f2]\n",
    "test2 = [mot for mot in tri_1 if mot.lower() in f2]\n",
    "print(\"nombre lieux en miniscules qui ne se trouvent pas dans le Glaff : \",len(set(tri_2)))\n",
    "print(set(tri_2))\n",
    "print()\n",
    "print(set(test2))\n",
    "print()\n",
    "\n",
    "\n",
    "\n",
    "tri_3 =[mot for mot in tri_2 if mot.lower() not in tri_2] \n",
    "test3 =set(tri_2).difference(tri_3)\n",
    "print(\"nombre de lieux obtenu dans la liste finale : \", len(set(tri_3)))\n",
    "print(set(tri_3))\n",
    "print()\n",
    "print(set(test3))\n",
    "ecrire_json(\"/Users/mustapha/Documents/GitHub/Memoire/lieux_echantillon_aprésFiltrage/lieux_echantillon1_aprésFiltrage_lg.json\",tri_3)"
   ]
  },
  {
   "cell_type": "code",
   "execution_count": 19,
   "metadata": {},
   "outputs": [
    {
     "data": {
      "image/png": "[encoded data removed]",
      "text/plain": [
       "<Figure size 432x288 with 1 Axes>"
      ]
     },
     "metadata": {
      "needs_background": "light"
     },
     "output_type": "display_data"
    }
   ],
   "source": [
    "x = [1, 2, 3, 4]\n",
    "y = [67, 66, 44, 44]\n",
    "labels = ['lieux_lg', 'tri_1', 'tri_2', 'tri_3']\n",
    "\n",
    "plt.plot(x, y)\n",
    "# You can specify a rotation for the tick labels in degrees or with keywords.\n",
    "plt.xticks(x, labels, rotation='vertical')\n",
    "# Pad margins so that markers don't get clipped by the axes\n",
    "plt.margins(0.2)\n",
    "plt.title(\"Filtrage de l'échantillon1\")\n",
    "plt.ylabel(\"nombre de lieux\")\n",
    "# Tweak spacing to prevent clipping of tick-labels\n",
    "plt.subplots_adjust(bottom=0.15)\n",
    "plt.show()"
   ]
  },
  {
   "cell_type": "code",
   "execution_count": null,
   "metadata": {},
   "outputs": [],
   "source": []
  }
 ],
 "metadata": {
  "kernelspec": {
   "display_name": "Python 3",
   "language": "python",
   "name": "python3"
  },
  "language_info": {
   "codemirror_mode": {
    "name": "ipython",
    "version": 3
   },
   "file_extension": ".py",
   "mimetype": "text/x-python",
   "name": "python",
   "nbconvert_exporter": "python",
   "pygments_lexer": "ipython3",
   "version": "3.8.3"
  }
 },
 "nbformat": 4,
 "nbformat_minor": 4
}
