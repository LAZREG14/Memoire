{
 "cells": [
  {
   "cell_type": "code",
   "execution_count": 1,
   "metadata": {},
   "outputs": [],
   "source": [
    "import json\n",
    "import time\n",
    "from time import perf_counter\n",
    "import glob\n",
    "import re\n",
    "\n",
    "def ouvrir_json(chemin):\n",
    "    f = open(chemin, encoding=\"utf-8\")\n",
    "    toto = json.load(f)\n",
    "    f.close()\n",
    "    return toto\n",
    "\n",
    "def ecrire_json(chemin, contenu):\n",
    "    w = open(chemin, \"w\", encoding=\"utf-8\")\n",
    "    w.write(json.dumps(contenu, indent=2, ensure_ascii=False))\n",
    "    w.close()"
   ]
  },
  {
   "cell_type": "code",
   "execution_count": 2,
   "metadata": {},
   "outputs": [],
   "source": [
    "import spacy\n",
    "nlp_sm = spacy.load(\"fr_core_news_sm\")\n",
    "nlp_md = spacy.load(\"fr_core_news_md\")\n",
    "nlp_lg = spacy.load(\"fr_core_news_lg\")"
   ]
  },
  {
   "cell_type": "code",
   "execution_count": 16,
   "metadata": {},
   "outputs": [],
   "source": [
    "f1 = ouvrir_json(\"/Users/mustapha/Documents/GitHub/Memoire/clean_data_echantillons/clean_parole_echantillon1.json\")\n",
    "f2 = ouvrir_json(\"/Users/mustapha/Documents/GitHub/Memoire/Data/voc_glaff.json\")\n",
    "f3 = glob.glob(\"/Users/mustapha/Documents/GitHub/Memoire/Data/lieux_paris/*.json\")"
   ]
  },
  {
   "cell_type": "code",
   "execution_count": 35,
   "metadata": {},
   "outputs": [
    {
     "name": "stdout",
     "output_type": "stream",
     "text": [
      "lieux trouvés par le modèle small :  119\n",
      "{'Rolex', 'Amsterdam', 'Calcutta', 'Marcelle', 'Euh!Euh', 'France', 'Roméo', 'Boulevard Poissonnière', 'île de la Jatte', 'Mégève', 'Millau', 'Antiatomique', 'San Francisco', 'Pénélope', 'Tintin', \"Dutronc d'Isigny\", 'Lampadaire', 'Mange', 'l’Harpic', 'Ministère', 'Chaussée', 'Bégueule', 'Téhéran', 'Goldwyn', 'Milo', 'Lourdes', 'Aidez', 'Daphnis', 'Disigny', 'Prends', 'Val-de-Grâce', 'Métro', 'Créteil', 'Varsovie', 'Saana', 'Papeete', 'Ouille', 'Saint Omer', 'Amiens', 'Camberra', 'Celles', 'Canigou', 'Gault', 'Pyrex', 'Mannix', 'la France', 'Bogola', 'Touche', 'Kinshassa', 'Pétuchet', 'Obélisque', 'Jekyll', 'N’', 'Lux', 'Ca', 'Cotonou', 'Trocadéro', 'Ménard', 'Dôle', 'Venez', 'Fatigué', 'Y', 'Hâtez', 'Port-Gentil', 'Bornéo', 'Marquis', 'Binningham', 'Instantané', 'Rochelle', 'rue Le Regrantier', 'Ulysse', 'Yvette', 'Houlgate', 'Bordeaux', 'Amakawogo', 'Vieux', 'Aïe!.', 'ber1ue', 'Beatniks', 'Vénus', 'Arroy', '’', 'Baltimore', 'Yaoundé', 'Tripoli', 'Bernhart', 'Paris', 'La Palice', 'Venise', 'Saint-Tropez', 'Avoir', 'Tampico', 'Demi-soupir'}\n",
      "temps : 1.1334781929981546\n",
      "\n",
      "\n",
      "nombre lieux qui ne se trouvent pas dans le Glaff :  119\n",
      "{'Rolex', 'Amsterdam', 'Calcutta', 'Marcelle', 'Euh!Euh', 'France', 'Roméo', 'Boulevard Poissonnière', 'île de la Jatte', 'Mégève', 'Millau', 'Antiatomique', 'San Francisco', 'Pénélope', 'Tintin', \"Dutronc d'Isigny\", 'Lampadaire', 'Mange', 'l’Harpic', 'Ministère', 'Chaussée', 'Bégueule', 'Téhéran', 'Goldwyn', 'Milo', 'Lourdes', 'Aidez', 'Daphnis', 'Disigny', 'Prends', 'Val-de-Grâce', 'Métro', 'Créteil', 'Varsovie', 'Saana', 'Papeete', 'Ouille', 'Saint Omer', 'Amiens', 'Camberra', 'Celles', 'Canigou', 'Gault', 'Pyrex', 'Mannix', 'la France', 'Bogola', 'Touche', 'Kinshassa', 'Pétuchet', 'Obélisque', 'Jekyll', 'N’', 'Lux', 'Ca', 'Cotonou', 'Trocadéro', 'Ménard', 'Dôle', 'Venez', 'Fatigué', 'Y', 'Hâtez', 'Port-Gentil', 'Bornéo', 'Marquis', 'Binningham', 'Instantané', 'Rochelle', 'rue Le Regrantier', 'Ulysse', 'Yvette', 'Houlgate', 'Bordeaux', 'Amakawogo', 'Vieux', 'Aïe!.', 'ber1ue', 'Beatniks', 'Vénus', 'Arroy', '’', 'Baltimore', 'Yaoundé', 'Tripoli', 'Bernhart', 'Paris', 'La Palice', 'Venise', 'Saint-Tropez', 'Avoir', 'Tampico', 'Demi-soupir'}\n",
      "\n",
      "set()\n",
      "\n",
      "nombre lieux en miniscules qui ne se trouvent pas dans le Glaff :  69\n",
      "{'Téhéran', 'Goldwyn', 'Milo', 'Rolex', 'Canigou', 'Amsterdam', 'Pyrex', 'Rochelle', 'Mannix', 'la France', 'Calcutta', 'Marcelle', 'Euh!Euh', 'France', 'Roméo', 'Bogola', 'Kinshassa', 'Pétuchet', 'Boulevard Poissonnière', 'Daphnis', 'Disigny', 'rue Le Regrantier', 'Ulysse', 'île de la Jatte', 'Val-de-Grâce', 'Jekyll', 'Mégève', 'N’', 'Créteil', 'Millau', 'Varsovie', 'Cotonou', 'Yvette', 'San Francisco', 'Houlgate', 'Saana', 'Tintin', 'Papeete', 'Dôle', 'Amakawogo', 'Ménard', 'Trocadéro', 'Aïe!.', 'Saint Omer', 'ber1ue', 'Beatniks', 'Arroy', '’', 'Baltimore', \"Dutronc d'Isigny\", 'Yaoundé', 'Port-Gentil', 'Amiens', 'Bernhart', 'La Palice', 'Bornéo', 'l’Harpic', 'Venise', 'Camberra', 'Saint-Tropez', 'Binningham', 'Tampico', 'Demi-soupir'}\n",
      "\n",
      "{'Celles', 'Gault', 'Lourdes', 'Touche', 'Aidez', 'Obélisque', 'Prends', 'Lux', 'Ca', 'Métro', 'Antiatomique', 'Pénélope', 'Bordeaux', 'Vieux', 'Ouille', 'Venez', 'Fatigué', 'Vénus', 'Y', 'Hâtez', 'Tripoli', 'Paris', 'Lampadaire', 'Mange', 'Marquis', 'Instantané', 'Ministère', 'Avoir', 'Chaussée', 'Bégueule'}\n",
      "\n",
      "nombre de lieux obtenu dans la liste finale :  67\n",
      "{'Téhéran', 'Goldwyn', 'Milo', 'Rolex', 'Canigou', 'Amsterdam', 'Pyrex', 'Rochelle', 'Mannix', 'la France', 'Calcutta', 'Marcelle', 'Euh!Euh', 'France', 'Roméo', 'Bogola', 'Kinshassa', 'Pétuchet', 'Boulevard Poissonnière', 'Daphnis', 'Disigny', 'rue Le Regrantier', 'Ulysse', 'île de la Jatte', 'Val-de-Grâce', 'Jekyll', 'Mégève', 'N’', 'Créteil', 'Millau', 'Varsovie', 'Cotonou', 'Yvette', 'San Francisco', 'Houlgate', 'Saana', 'Tintin', 'Papeete', 'Dôle', 'Amakawogo', 'Ménard', 'Trocadéro', 'Aïe!.', 'Saint Omer', 'Beatniks', 'Arroy', 'Baltimore', \"Dutronc d'Isigny\", 'Yaoundé', 'Port-Gentil', 'Amiens', 'Bernhart', 'La Palice', 'Bornéo', 'l’Harpic', 'Venise', 'Camberra', 'Saint-Tropez', 'Binningham', 'Tampico', 'Demi-soupir'}\n",
      "\n",
      "{'ber1ue', '’'}\n",
      "temps : 7.703075535995595\n"
     ]
    }
   ],
   "source": [
    "start1 =time.perf_counter()\n",
    "loc_sm=[]\n",
    "for texte in f1:\n",
    "    try:\n",
    "        doc = nlp_sm(texte)\n",
    "        for entity in doc.ents:\n",
    "            if entity.label_ ==\"LOC\":\n",
    "                loc_sm.append(entity.text)\n",
    "    except:\n",
    "        pass\n",
    "end1 = time.perf_counter()\n",
    "print(\"lieux trouvés par le modèle small : \",len(loc_sm))\n",
    "print(set(loc_sm))\n",
    "print(\"temps :\",end1-start1)\n",
    "print()\n",
    "print()\n",
    "start4 =time.perf_counter()\n",
    "tri_1 = [mot for mot in loc_sm if mot not in f2]\n",
    "test1 = [mot for mot in loc_sm if mot in f2]\n",
    "print(\"nombre lieux qui ne se trouvent pas dans le Glaff : \", len(tri_1))\n",
    "print(set(tri_1))\n",
    "print()\n",
    "print(set(test1))\n",
    "print()\n",
    "\n",
    "tri_2 = [mot for mot in tri_1 if mot.lower() not in f2]\n",
    "test2 = [mot for mot in tri_1 if mot.lower() in f2]\n",
    "\n",
    "print(\"nombre lieux en miniscules qui ne se trouvent pas dans le Glaff : \",len(tri_2))\n",
    "\n",
    "print(set(tri_2))\n",
    "print()\n",
    "print(set(test2))\n",
    "print()\n",
    "\n",
    "\n",
    "\n",
    "tri_3 =[mot for mot in tri_2 if mot.lower() not in tri_2] \n",
    "test3 =set(tri_2).difference(tri_3)\n",
    "print(\"nombre de lieux obtenu dans la liste finale : \", len(tri_3))\n",
    "print(set(tri_3))\n",
    "print()\n",
    "print(set(test3))\n",
    "end4 = time.perf_counter()\n",
    "print(\"temps :\",end4-start4)\n",
    "\n",
    "ecrire_json(\"/Users/mustapha/Documents/GitHub/Memoire/clean_data_echantillons/lieux_echantillon1_aprésFiltrage_sm.json\",tri_3)"
   ]
  },
  {
   "cell_type": "code",
   "execution_count": 4,
   "metadata": {},
   "outputs": [
    {
     "name": "stdout",
     "output_type": "stream",
     "text": [
      "Celles : 0.000117\n",
      "Gault : 5.75e-07\n",
      "Lourdes : 1.29e-05\n",
      "Touche : 6.92e-05\n",
      "Aidez : 8.71e-06\n",
      "Obélisque : 6.92e-07\n",
      "Prends : 7.59e-05\n",
      "Lux : 2.45e-06\n",
      "Ca : 0.000398\n",
      "Métro : 3.89e-05\n",
      "Antiatomique : 4.07e-08\n",
      "Pénélope : 1.86e-06\n",
      "Bordeaux : 4.79e-05\n",
      "Vieux : 0.000129\n",
      "Ouille : 6.03e-07\n",
      "Venez : 5.25e-05\n",
      "Fatigué : 1.55e-05\n",
      "Vénus : 5.37e-06\n",
      "Y : 0.00295\n",
      "Hâtez : 2e-07\n",
      "Tripoli : 2.95e-06\n",
      "Paris : 0.000513\n",
      "Lampadaire : 1.1e-06\n",
      "Mange : 3.55e-05\n",
      "Marquis : 1.29e-05\n",
      "Instantané : 2.63e-06\n",
      "Ministère : 8.13e-05\n",
      "Avoir : 0.0012\n",
      "Chaussée : 1.38e-05\n",
      "Bégueule : 6.31e-08\n"
     ]
    }
   ],
   "source": [
    "from wordfreq import word_frequency\n",
    "mots_dansGlaff =['Celles', 'Gault', 'Lourdes', 'Touche', 'Aidez', 'Obélisque', 'Prends', 'Lux', 'Ca', 'Métro', 'Antiatomique', 'Pénélope', 'Bordeaux', 'Vieux', 'Ouille', 'Venez', 'Fatigué', 'Vénus', 'Y', 'Hâtez', 'Tripoli', 'Paris', 'Lampadaire', 'Mange', 'Marquis', 'Instantané', 'Ministère', 'Avoir', 'Chaussée', 'Bégueule']\n",
    "for mot in mots_dansGlaff:\n",
    "    freq = word_frequency(mot, 'fr')\n",
    "    print(mot,\":\", freq)\n",
    "\n",
    "\n",
    "\n",
    "\n"
   ]
  },
  {
   "cell_type": "code",
   "execution_count": 8,
   "metadata": {},
   "outputs": [
    {
     "name": "stdout",
     "output_type": "stream",
     "text": [
      "paris : 0.9551230763030656\n",
      "tripoli : 0.36069640180810864\n",
      "lourdes : 19.266806908146602\n",
      "bordeaux : 1.7616644122236031\n"
     ]
    }
   ],
   "source": [
    "print(\"paris :\",(0.311999057346848 + 0.855361321501939 + 1.69800885006041)/3)\n",
    "print(\"tripoli :\",(0.311999057346848 + 0.545975311596982 + 0.224114836480496)/3)\n",
    "print(\"lourdes :\",(24.6825920923284 + 21.0746470276435 + 12.0431816044679)/3)\n",
    "print(\"bordeaux :\",(1.0053302958954 + 1.31034074783276 + 2.96932219294265)/3)"
   ]
  },
  {
   "cell_type": "code",
   "execution_count": 23,
   "metadata": {},
   "outputs": [
    {
     "data": {
      "image/png": "[encoded data removed]",
      "text/plain": [
       "<Figure size 432x288 with 1 Axes>"
      ]
     },
     "metadata": {
      "needs_background": "light"
     },
     "output_type": "display_data"
    }
   ],
   "source": [
    "import matplotlib.pyplot as plt\n",
    "\n",
    "\n",
    "x = [1, 2, 3, 4]\n",
    "y = [119, 119, 69, 67]\n",
    "labels = ['lieux_sm', 'tri_1', 'tri_2', 'tri_3']\n",
    "\n",
    "plt.plot(x, y)\n",
    "# You can specify a rotation for the tick labels in degrees or with keywords.\n",
    "plt.xticks(x, labels, rotation='vertical')\n",
    "# Pad margins so that markers don't get clipped by the axes\n",
    "plt.margins(0.2)\n",
    "plt.title(\"Filtrage de l'échantillon1\")\n",
    "plt.ylabel(\"nombre de lieux\")\n",
    "# Tweak spacing to prevent clipping of tick-labels\n",
    "plt.subplots_adjust(bottom=0.15)\n",
    "plt.show()"
   ]
  },
  {
   "cell_type": "code",
   "execution_count": 36,
   "metadata": {},
   "outputs": [
    {
     "name": "stdout",
     "output_type": "stream",
     "text": [
      "lieux trouvés par le modèle medium :  71\n",
      "{'Téhéran', 'Milo', 'Celles', 'Canigou', 'Amsterdam', 'Pyrex', 'Lourdes', 'la France', 'Calcutta', 'Réserve', 'France', 'Kinshassa', 'Pétuchet', 'Boulevard Poissonnière', 'Obélisque', 'rue Le Regrantier', 'Val-de-Grâce', 'Mégève', 'Croyez', 'Demi-ton', 'Ca', 'Harpic', 'la Rochelle', 'Créteil', 'Caleçons', 'Millau', 'Varsovie', 'Cotonou', 'Demi-tour', 'He!He', 'San Francisco', 'Houlgate', 'Électrique', 'Saana', 'Bordeaux', 'Papeete', 'Dôle', 'Trocadéro', 'Aïe!.', 'Saint Omer', 'Demi-sourires', 'Refrain}', 'refrain}.', 'Akékéké kékéké', 'Vénus', 'Baltimore', 'Nickelés', 'Bonsoir', 'Yaoundé', 'Port-Gentil', 'Amiens', 'Tripoli', 'Électronique', 'Bernhart', 'Cigare!.', 'Prrr!Prrr', 'Maxitère', 'Paris', 'Refrain}.', 'Bornéo', 'Venise', \"Bouquin'\", 'Saint-Tropez', 'le Métropolitain', 'Castel', 'Camaret', 'Binningham', 'Chaussée', 'Bégueule', 'Tampico', 'Demi-soupir'}\n",
      "temps : 1.2520183759988868\n",
      "\n",
      "\n",
      "nombre lieux qui ne se trouvent pas dans le Glaff :  71\n",
      "{'Téhéran', 'Milo', 'Celles', 'Canigou', 'Amsterdam', 'Pyrex', 'Lourdes', 'la France', 'Calcutta', 'Réserve', 'France', 'Kinshassa', 'Pétuchet', 'Boulevard Poissonnière', 'Obélisque', 'rue Le Regrantier', 'Val-de-Grâce', 'Mégève', 'Croyez', 'Demi-ton', 'Ca', 'Harpic', 'la Rochelle', 'Créteil', 'Caleçons', 'Millau', 'Varsovie', 'Cotonou', 'Demi-tour', 'He!He', 'San Francisco', 'Houlgate', 'Électrique', 'Saana', 'Bordeaux', 'Papeete', 'Dôle', 'Trocadéro', 'Aïe!.', 'Saint Omer', 'Demi-sourires', 'Refrain}', 'refrain}.', 'Akékéké kékéké', 'Vénus', 'Baltimore', 'Nickelés', 'Bonsoir', 'Yaoundé', 'Port-Gentil', 'Amiens', 'Tripoli', 'Électronique', 'Bernhart', 'Cigare!.', 'Prrr!Prrr', 'Maxitère', 'Paris', 'Refrain}.', 'Bornéo', 'Venise', \"Bouquin'\", 'Saint-Tropez', 'le Métropolitain', 'Castel', 'Camaret', 'Binningham', 'Chaussée', 'Bégueule', 'Tampico', 'Demi-soupir'}\n",
      "\n",
      "set()\n",
      "\n",
      "nombre lieux en miniscules qui ne se trouvent pas dans le Glaff :  53\n",
      "{'Téhéran', 'Milo', 'Canigou', 'Amsterdam', 'Pyrex', 'la France', 'Calcutta', 'France', 'Kinshassa', 'Pétuchet', 'Boulevard Poissonnière', 'rue Le Regrantier', 'Val-de-Grâce', 'Mégève', 'Demi-ton', 'Harpic', 'la Rochelle', 'Créteil', 'Millau', 'Varsovie', 'Cotonou', 'Demi-tour', 'He!He', 'San Francisco', 'Houlgate', 'Saana', 'Trocadéro', 'Papeete', 'Dôle', 'Aïe!.', 'Saint Omer', 'Demi-sourires', 'Refrain}', 'refrain}.', 'Akékéké kékéké', 'Baltimore', 'Yaoundé', 'Port-Gentil', 'Amiens', 'Bernhart', 'Cigare!.', 'Prrr!Prrr', 'Maxitère', 'Refrain}.', 'Bornéo', 'Venise', \"Bouquin'\", 'Saint-Tropez', 'le Métropolitain', 'Binningham', 'Camaret', 'Tampico', 'Demi-soupir'}\n",
      "\n",
      "{'Électrique', 'Celles', 'Bordeaux', 'Électronique', 'Paris', 'Lourdes', 'Bégueule', 'Croyez', 'Ca', 'Réserve', 'Nickelés', 'Vénus', 'Caleçons', 'Castel', 'Obélisque', 'Chaussée', 'Bonsoir', 'Tripoli'}\n",
      "\n",
      "nombre de lieux obtenu dans la liste finale :  51\n",
      "{'Téhéran', 'Milo', 'Canigou', 'Amsterdam', 'Pyrex', 'la France', 'Calcutta', 'France', 'Kinshassa', 'Pétuchet', 'Boulevard Poissonnière', 'rue Le Regrantier', 'Val-de-Grâce', 'Mégève', 'Demi-ton', 'Harpic', 'la Rochelle', 'Créteil', 'Millau', 'Varsovie', 'Cotonou', 'Demi-tour', 'He!He', 'San Francisco', 'Houlgate', 'Saana', 'Trocadéro', 'Papeete', 'Dôle', 'Aïe!.', 'Saint Omer', 'Demi-sourires', 'Refrain}', 'Akékéké kékéké', 'Baltimore', 'Yaoundé', 'Port-Gentil', 'Amiens', 'Bernhart', 'Cigare!.', 'Prrr!Prrr', 'Maxitère', 'Bornéo', 'Venise', \"Bouquin'\", 'Saint-Tropez', 'le Métropolitain', 'Binningham', 'Camaret', 'Tampico', 'Demi-soupir'}\n",
      "\n",
      "{'Refrain}.', 'refrain}.'}\n",
      "temps : 5.579872055001033\n"
     ]
    }
   ],
   "source": [
    "start2 =time.perf_counter()\n",
    "loc_md=[]\n",
    "for texte in f1:\n",
    "    try:\n",
    "        doc = nlp_md(texte)\n",
    "        for entity in doc.ents:\n",
    "            if entity.label_ ==\"LOC\":\n",
    "                loc_md.append(entity.text)\n",
    "    except:\n",
    "        pass\n",
    "end2 = time.perf_counter()\n",
    "\n",
    "print(\"lieux trouvés par le modèle medium : \",len(set(loc_md)))\n",
    "print(set(loc_md))\n",
    "print(\"temps :\",end2-start2)\n",
    "print()\n",
    "print()\n",
    "start5 =time.perf_counter()\n",
    "\n",
    "tri_1 = [mot for mot in loc_md if mot not in f2]\n",
    "test1 = [mot for mot in loc_md if mot in f2]\n",
    "print(\"nombre lieux qui ne se trouvent pas dans le Glaff : \", len(set(tri_1)))\n",
    "print(set(tri_1))\n",
    "print()\n",
    "print(set(test1))\n",
    "print()\n",
    "\n",
    "tri_2 = [mot for mot in tri_1 if mot.lower() not in f2]\n",
    "test2 = [mot for mot in tri_1 if mot.lower() in f2]\n",
    "print(\"nombre lieux en miniscules qui ne se trouvent pas dans le Glaff : \",len(set(tri_2)))\n",
    "print(set(tri_2))\n",
    "print()\n",
    "print(set(test2))\n",
    "print()\n",
    "\n",
    "\n",
    "\n",
    "tri_3 =[mot for mot in tri_2 if mot.lower() not in tri_2] \n",
    "test3 =set(tri_2).difference(tri_3)\n",
    "print(\"nombre de lieux obtenu dans la liste finale : \", len(set(tri_3)))\n",
    "print(set(tri_3))\n",
    "print()\n",
    "print(set(test3))\n",
    "end5 = time.perf_counter()\n",
    "print(\"temps :\",end5-start5)\n",
    "ecrire_json(\"/Users/mustapha/Documents/GitHub/Memoire/clean_data_echantillons/lieux_echantillon1_aprésFiltrage_md.json\",tri_3)"
   ]
  },
  {
   "cell_type": "code",
   "execution_count": null,
   "metadata": {},
   "outputs": [],
   "source": [
    "print(\"paris :\",(0.311999057346848 + 0.855361321501939 + 1.69800885006041)/3)\n",
    "print(\"tripoli :\",(0.311999057346848 + 0.545975311596982 + 0.224114836480496)/3)\n",
    "print(\"lourdes :\",(24.6825920923284 + 21.0746470276435 + 12.0431816044679)/3)\n",
    "print(\"bordeaux :\",(1.0053302958954 + 1.31034074783276 + 2.96932219294265)/3)"
   ]
  },
  {
   "cell_type": "code",
   "execution_count": null,
   "metadata": {},
   "outputs": [],
   "source": []
  },
  {
   "cell_type": "code",
   "execution_count": 5,
   "metadata": {},
   "outputs": [
    {
     "name": "stdout",
     "output_type": "stream",
     "text": [
      "Électrique : 4.47e-05\n",
      "Celles : 0.000117\n",
      "Bordeaux : 4.79e-05\n",
      "Électronique : 2.75e-05\n",
      "Paris : 0.000513\n",
      "Lourdes : 1.29e-05\n",
      "Bégueule : 6.31e-08\n",
      "Croyez : 2.57e-05\n",
      "Ca : 0.000398\n",
      "Réserve : 5.37e-05\n",
      "Nickelés : 2.63e-07\n",
      "Vénus : 5.37e-06\n",
      "Caleçons : 6.76e-07\n",
      "Castel : 2.04e-06\n",
      "Obélisque : 6.92e-07\n",
      "Chaussée : 1.38e-05\n",
      "Bonsoir : 1.74e-05\n",
      "Tripoli : 2.95e-06\n"
     ]
    }
   ],
   "source": [
    "mots_dansGlaff =['Électrique', 'Celles', 'Bordeaux', 'Électronique', 'Paris', 'Lourdes', 'Bégueule', 'Croyez', 'Ca', 'Réserve', 'Nickelés', 'Vénus', 'Caleçons', 'Castel', 'Obélisque', 'Chaussée', 'Bonsoir', 'Tripoli']\n",
    "for mot in mots_dansGlaff:\n",
    "    freq = word_frequency(mot, 'fr')\n",
    "    print(mot,\":\", freq)"
   ]
  },
  {
   "cell_type": "code",
   "execution_count": 25,
   "metadata": {},
   "outputs": [
    {
     "data": {
      "image/png": "[encoded data removed]",
      "text/plain": [
       "<Figure size 432x288 with 1 Axes>"
      ]
     },
     "metadata": {
      "needs_background": "light"
     },
     "output_type": "display_data"
    }
   ],
   "source": [
    "import matplotlib.pyplot as plt\n",
    "\n",
    "x = [1, 2, 3, 4]\n",
    "y = [71, 71, 53, 51]\n",
    "labels = ['lieux_md', 'tri_1', 'tri_2', 'tri_3']\n",
    "\n",
    "plt.plot(x, y)\n",
    "# You can specify a rotation for the tick labels in degrees or with keywords.\n",
    "plt.xticks(x, labels, rotation='vertical')\n",
    "# Pad margins so that markers don't get clipped by the axes\n",
    "plt.margins(0.2)\n",
    "plt.title(\"Filtrage de l'échantillon1\")\n",
    "plt.ylabel(\"nombre de lieux\")\n",
    "# Tweak spacing to prevent clipping of tick-labels\n",
    "plt.subplots_adjust(bottom=0.15)\n",
    "plt.show()\n",
    "\n"
   ]
  },
  {
   "cell_type": "code",
   "execution_count": 42,
   "metadata": {},
   "outputs": [
    {
     "name": "stdout",
     "output_type": "stream",
     "text": [
      "lieux trouvés par le modèle medium :  64\n",
      "{'Téhéran', 'Milo', 'Celles', 'Canigou', 'Amsterdam', 'Pyrex', 'Lourdes', 'la France', 'Calcutta', 'France', 'Pétuchet', 'Boulevard Poissonnière', 'Obélisque', 'rue Le Regrantier', 'île de la Jatte', 'Val-de-Grâce', 'Mégève', 'Ca', 'Harpic', 'He!Hee!Ils', 'la Rochelle', 'Akékékéké', 'Oh!Ooh!Quand', 'Créteil', 'Caleçons', 'Millau', 'Varsovie', 'Cotonou', 'Demi-tour', 'He!He', 'San Francisco', 'Houlgate', 'Saana', 'Bordeaux', 'Papeete', 'Dôle', 'Trocadéro', 'Saint Omer', 'Demi-sourires', 'Beatniks', 'Vénus', 'Baltimore', 'Yaoundé', 'Port-Gentil', 'Amiens', 'Tripoli', 'Cigare!.', 'Prrr!Prrr', 'Maxitère', 'Paris', 'Lampadaire', 'Bornéo', 'Déformante', 'Venise', \"Bouquin'\", 'Saint-Tropez', 'Akéké', 'Camaret', 'Ministère', 'Binningham', 'Chaussée', \"Parc'\", 'Tampico', 'Demi-soupir'}\n",
      "temps : 1.2121064469974954\n",
      "\n",
      "\n",
      "nombre lieux qui ne se trouvent pas dans le Glaff :  64\n",
      "{'Téhéran', 'Milo', 'Celles', 'Canigou', 'Amsterdam', 'Pyrex', 'Lourdes', 'la France', 'Calcutta', 'France', 'Pétuchet', 'Boulevard Poissonnière', 'Obélisque', 'rue Le Regrantier', 'île de la Jatte', 'Val-de-Grâce', 'Mégève', 'Ca', 'Harpic', 'He!Hee!Ils', 'la Rochelle', 'Akékékéké', 'Oh!Ooh!Quand', 'Créteil', 'Caleçons', 'Millau', 'Varsovie', 'Cotonou', 'Demi-tour', 'He!He', 'San Francisco', 'Houlgate', 'Saana', 'Bordeaux', 'Papeete', 'Dôle', 'Trocadéro', 'Saint Omer', 'Demi-sourires', 'Beatniks', 'Vénus', 'Baltimore', 'Yaoundé', 'Port-Gentil', 'Amiens', 'Tripoli', 'Cigare!.', 'Prrr!Prrr', 'Maxitère', 'Paris', 'Lampadaire', 'Bornéo', 'Déformante', 'Venise', \"Bouquin'\", 'Saint-Tropez', 'Akéké', 'Camaret', 'Ministère', 'Binningham', 'Chaussée', \"Parc'\", 'Tampico', 'Demi-soupir'}\n",
      "\n",
      "set()\n",
      "\n",
      "nombre lieux en miniscules qui ne se trouvent pas dans le Glaff :  51\n",
      "{'Téhéran', 'Milo', 'Canigou', 'Amsterdam', 'Pyrex', 'la France', 'Calcutta', 'France', 'Pétuchet', 'Boulevard Poissonnière', 'rue Le Regrantier', 'île de la Jatte', 'Val-de-Grâce', 'Mégève', 'Harpic', 'He!Hee!Ils', 'la Rochelle', 'Akékékéké', 'Oh!Ooh!Quand', 'Créteil', 'Millau', 'Varsovie', 'Cotonou', 'Demi-tour', 'He!He', 'San Francisco', 'Houlgate', 'Saana', 'Trocadéro', 'Papeete', 'Dôle', 'Saint Omer', 'Demi-sourires', 'Beatniks', 'Baltimore', 'Yaoundé', 'Port-Gentil', 'Amiens', 'Cigare!.', 'Prrr!Prrr', 'Maxitère', 'Bornéo', 'Venise', \"Bouquin'\", 'Saint-Tropez', 'Akéké', 'Binningham', 'Camaret', \"Parc'\", 'Tampico', 'Demi-soupir'}\n",
      "\n",
      "{'Celles', 'Bordeaux', 'Paris', 'Lampadaire', 'Lourdes', 'Déformante', 'Ca', 'Vénus', 'Caleçons', 'Ministère', 'Obélisque', 'Chaussée', 'Tripoli'}\n",
      "\n",
      "nombre de lieux obtenu dans la liste finale :  51\n",
      "{'Téhéran', 'Milo', 'Canigou', 'Amsterdam', 'Pyrex', 'la France', 'Calcutta', 'France', 'Pétuchet', 'Boulevard Poissonnière', 'rue Le Regrantier', 'île de la Jatte', 'Val-de-Grâce', 'Mégève', 'Harpic', 'He!Hee!Ils', 'la Rochelle', 'Akékékéké', 'Oh!Ooh!Quand', 'Créteil', 'Millau', 'Varsovie', 'Cotonou', 'Demi-tour', 'He!He', 'San Francisco', 'Houlgate', 'Saana', 'Trocadéro', 'Papeete', 'Dôle', 'Saint Omer', 'Demi-sourires', 'Beatniks', 'Baltimore', 'Yaoundé', 'Port-Gentil', 'Amiens', 'Cigare!.', 'Prrr!Prrr', 'Maxitère', 'Bornéo', 'Venise', \"Bouquin'\", 'Saint-Tropez', 'Akéké', 'Binningham', 'Camaret', \"Parc'\", 'Tampico', 'Demi-soupir'}\n",
      "\n",
      "set()\n",
      "temps : 5.6534344969986705\n"
     ]
    }
   ],
   "source": [
    "start3 =time.perf_counter()\n",
    "loc_lg=[]\n",
    "for texte in f1:\n",
    "    try:\n",
    "        doc = nlp_lg(texte)\n",
    "        for entity in doc.ents:\n",
    "            if entity.label_ ==\"LOC\":\n",
    "                loc_lg.append(entity.text)\n",
    "    except:\n",
    "        pass\n",
    "end3 =time.perf_counter()\n",
    "print(\"lieux trouvés par le modèle medium : \",len(set(loc_lg)))\n",
    "print(set(loc_lg))\n",
    "print(\"temps :\",end3-start3)\n",
    "print()\n",
    "print()\n",
    "start6 =time.perf_counter()\n",
    "tri_1 = [mot for mot in loc_lg if mot not in f2]\n",
    "test1 = [mot for mot in loc_lg if mot in f2]\n",
    "print(\"nombre lieux qui ne se trouvent pas dans le Glaff : \", len(set(tri_1)))\n",
    "print(set(tri_1))\n",
    "print()\n",
    "print(set(test1))\n",
    "print()\n",
    "\n",
    "tri_2 = [mot for mot in tri_1 if mot.lower() not in f2]\n",
    "test2 = [mot for mot in tri_1 if mot.lower() in f2]\n",
    "print(\"nombre lieux en miniscules qui ne se trouvent pas dans le Glaff : \",len(set(tri_2)))\n",
    "print(set(tri_2))\n",
    "print()\n",
    "print(set(test2))\n",
    "print()\n",
    "\n",
    "\n",
    "\n",
    "tri_3 =[mot for mot in tri_2 if mot.lower() not in tri_2] \n",
    "test3 =set(tri_2).difference(tri_3)\n",
    "print(\"nombre de lieux obtenu dans la liste finale : \", len(set(tri_3)))\n",
    "print(set(tri_3))\n",
    "print()\n",
    "print(set(test3))\n",
    "end6 = time.perf_counter()\n",
    "print(\"temps :\",end6-start6)\n",
    "ecrire_json(\"/Users/mustapha/Documents/GitHub/Memoire/clean_data_echantillons/lieux_echantillon1_aprésFiltrage_lg.json\",tri_3)"
   ]
  },
  {
   "cell_type": "code",
   "execution_count": 6,
   "metadata": {},
   "outputs": [
    {
     "name": "stdout",
     "output_type": "stream",
     "text": [
      "Celles : 0.000117\n",
      "Bordeaux : 4.79e-05\n",
      "Paris : 0.000513\n",
      "Lampadaire : 1.1e-06\n",
      "Lourdes : 1.29e-05\n",
      "Déformante : 3.24e-08\n",
      "Ca : 0.000398\n",
      "Vénus : 5.37e-06\n",
      "Caleçons : 6.76e-07\n",
      "Ministère : 8.13e-05\n",
      "Obélisque : 6.92e-07\n",
      "Chaussée : 1.38e-05\n",
      "Tripoli : 2.95e-06\n"
     ]
    }
   ],
   "source": [
    "mots_dansGlaff =['Celles', 'Bordeaux', 'Paris', 'Lampadaire', 'Lourdes', 'Déformante', 'Ca', 'Vénus', 'Caleçons', 'Ministère', 'Obélisque', 'Chaussée', 'Tripoli']\n",
    "for mot in mots_dansGlaff:\n",
    "    freq = word_frequency(mot, 'fr')\n",
    "    print(mot,\":\", freq)"
   ]
  },
  {
   "cell_type": "code",
   "execution_count": 27,
   "metadata": {},
   "outputs": [
    {
     "data": {
      "image/png": "[encoded data removed]",
      "text/plain": [
       "<Figure size 432x288 with 1 Axes>"
      ]
     },
     "metadata": {
      "needs_background": "light"
     },
     "output_type": "display_data"
    }
   ],
   "source": [
    "x = [1, 2, 3, 4]\n",
    "y = [64, 64, 51, 51]\n",
    "labels = ['lieux_lg', 'tri_1', 'tri_2', 'tri_3']\n",
    "\n",
    "plt.plot(x, y)\n",
    "# You can specify a rotation for the tick labels in degrees or with keywords.\n",
    "plt.xticks(x, labels, rotation='vertical')\n",
    "# Pad margins so that markers don't get clipped by the axes\n",
    "plt.margins(0.2)\n",
    "plt.title(\"Filtrage de l'échantillon1\")\n",
    "plt.ylabel(\"nombre de lieux\")\n",
    "# Tweak spacing to prevent clipping of tick-labels\n",
    "plt.subplots_adjust(bottom=0.15)\n",
    "plt.show()"
   ]
  },
  {
   "cell_type": "code",
   "execution_count": 9,
   "metadata": {},
   "outputs": [],
   "source": [
    "lieux_paris = []\n",
    "for fichier in f3:\n",
    "    lp = ouvrir_json(fichier)\n",
    "    for lieu in lp:\n",
    "        lieux_paris.append(lieu)"
   ]
  },
  {
   "cell_type": "code",
   "execution_count": null,
   "metadata": {},
   "outputs": [],
   "source": []
  }
 ],
 "metadata": {
  "kernelspec": {
   "display_name": "Python 3",
   "language": "python",
   "name": "python3"
  },
  "language_info": {
   "codemirror_mode": {
    "name": "ipython",
    "version": 3
   },
   "file_extension": ".py",
   "mimetype": "text/x-python",
   "name": "python",
   "nbconvert_exporter": "python",
   "pygments_lexer": "ipython3",
   "version": "3.8.3"
  }
 },
 "nbformat": 4,
 "nbformat_minor": 4
}
