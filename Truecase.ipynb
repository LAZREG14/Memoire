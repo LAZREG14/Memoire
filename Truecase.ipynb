{
 "cells": [
  {
   "cell_type": "code",
   "execution_count": 1,
   "metadata": {},
   "outputs": [],
   "source": [
    "import truecase"
   ]
  },
  {
   "cell_type": "code",
   "execution_count": 4,
   "metadata": {},
   "outputs": [
    {
     "data": {
      "text/plain": [
       "'Mon Père commence À Taffer Il Taffe Vers Orly. Habite Porte de la Chapelle Il Marche pour Gagner SA Vie.'"
      ]
     },
     "execution_count": 4,
     "metadata": {},
     "output_type": "execute_result"
    }
   ],
   "source": [
    "truecase.get_true_case(\"mon père commence à taffer il taffe vers Orly. habite porte de la chapelle il marche pour gagner sa vie.\")"
   ]
  },
  {
   "cell_type": "code",
   "execution_count": 34,
   "metadata": {},
   "outputs": [],
   "source": [
    "s = (\"mon père commence à taffer il taffe vers orly. habite Porte de la Chapelle il marche pour gagner sa vie.\")"
   ]
  },
  {
   "cell_type": "code",
   "execution_count": 11,
   "metadata": {},
   "outputs": [],
   "source": [
    "import spacy\n",
    "nlp_sm = spacy.load(\"fr_core_news_sm\")\n",
    "nlp_md = spacy.load(\"fr_core_news_md\")\n",
    "nlp_lg = spacy.load(\"fr_core_news_lg\")"
   ]
  },
  {
   "cell_type": "code",
   "execution_count": 35,
   "metadata": {},
   "outputs": [
    {
     "name": "stdout",
     "output_type": "stream",
     "text": [
      "Porte de la Chapelle\n"
     ]
    }
   ],
   "source": [
    "doc = nlp_sm(s)\n",
    "for entity in doc.ents:\n",
    "    if entity.label_ ==\"LOC\":\n",
    "        lieux = entity.text\n",
    "        print(lieux)"
   ]
  },
  {
   "cell_type": "code",
   "execution_count": 36,
   "metadata": {},
   "outputs": [
    {
     "name": "stdout",
     "output_type": "stream",
     "text": [
      "Porte de la Chapelle\n"
     ]
    }
   ],
   "source": [
    "doc2 = nlp_md(s)\n",
    "for entity in doc2.ents:\n",
    "    if entity.label_ ==\"LOC\":\n",
    "        li = entity.text\n",
    "        print(li)"
   ]
  },
  {
   "cell_type": "code",
   "execution_count": 37,
   "metadata": {},
   "outputs": [
    {
     "name": "stdout",
     "output_type": "stream",
     "text": [
      "Porte de la Chapelle\n"
     ]
    }
   ],
   "source": [
    "doc3 = nlp_lg(s)\n",
    "for entity in doc3.ents:\n",
    "    if entity.label_ ==\"LOC\":\n",
    "        lie = entity.text\n",
    "        print(lie)"
   ]
  },
  {
   "cell_type": "code",
   "execution_count": null,
   "metadata": {},
   "outputs": [],
   "source": []
  }
 ],
 "metadata": {
  "kernelspec": {
   "display_name": "Python 3",
   "language": "python",
   "name": "python3"
  },
  "language_info": {
   "codemirror_mode": {
    "name": "ipython",
    "version": 3
   },
   "file_extension": ".py",
   "mimetype": "text/x-python",
   "name": "python",
   "nbconvert_exporter": "python",
   "pygments_lexer": "ipython3",
   "version": "3.8.3"
  }
 },
 "nbformat": 4,
 "nbformat_minor": 4
}
