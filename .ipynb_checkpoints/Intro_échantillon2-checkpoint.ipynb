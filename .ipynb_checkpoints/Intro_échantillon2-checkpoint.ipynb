{
 "cells": [
  {
   "cell_type": "code",
   "execution_count": 94,
   "metadata": {},
   "outputs": [],
   "source": [
    "import json\n",
    "def ouvrir_json(chemin):\n",
    "  f = open(chemin, encoding=\"utf-8\")\n",
    "  toto = json.load(f)\n",
    "  f.close()\n",
    "  return toto\n",
    "\n",
    "def ecrire_fichier(chemin, contenu):\n",
    "  w = open(chemin, \"w\", encoding=\"utf-8\")\n",
    "  w.write(contenu)\n",
    "  w.close()\n",
    "def lire_fichier(chemin):\n",
    "  f = open(chemin, \"r\", encoding=\"utf-8\")\n",
    "  chaine = f.read()\n",
    "  f.close()\n",
    "  return chaine"
   ]
  },
  {
   "cell_type": "code",
   "execution_count": 95,
   "metadata": {},
   "outputs": [],
   "source": [
    "data_echantillon2 = ouvrir_json(\"Data/echantillon2.json\")\n",
    "chansons2=data_echantillon2.values()"
   ]
  },
  {
   "cell_type": "code",
   "execution_count": 111,
   "metadata": {},
   "outputs": [],
   "source": [
    "list_titres    =[]\n",
    "list_dates     =[]\n",
    "list_album     =[]\n",
    "list_artiste   =[]\n",
    "list_featuring =[]\n",
    "list_url       =[]\n",
    "list_nbMots    =[]\n",
    "lnm=[]\n",
    "\n",
    "for child in chansons2:\n",
    "    for titre in child:\n",
    "        try:\n",
    "            titres     = titre.get(\"full_title\")\n",
    "            list_titres.append(str(titres))\n",
    "            #ecrire_fichier(\"titres_chansons_echantillon.json\", str(list_titres))\n",
    "            dates      = titre.get(\"release_date\")\n",
    "            list_dates.append(str(dates))\n",
    "            album      = titre.get(\"album\")\n",
    "            album_name = str(titre[\"album\"][\"name\"])\n",
    "            list_album.append(str(album_name))\n",
    "            artiste    = str(album[\"artist\"][\"name\"])\n",
    "            list_artiste.append(str(artiste))\n",
    "            print(\"Nombre de chansons de %s : %i \"%(artiste), len(titres))\n",
    "            featuring  = titre.get(\"featured_artists\")\n",
    "            for f in featuring:\n",
    "                feat       = f.get(\"name\")\n",
    "                list_featuring.append(str(feat))\n",
    "            url        = str(album[\"artist\"][\"url\"])\n",
    "            list_url.append(str(url))\n",
    "            paroles    = titre.get(\"lyrics\")\n",
    "            nbMots     = len(paroles.split())\n",
    "            lol = {k: int(v) for k, v in zip(list_titres, list_dates)}\n",
    "            print(nbMots)\n",
    "            list_nbMots.append(int(nbMots))\n",
    "        except:\n",
    "            pass\n",
    "        list_nbMots.append(int(nbMots))\n",
    "        lnm = {k: int(v) for k, v in zip(list_titres, list_nbMots)}\n",
    "        #print(\"\"\"Le titres de la chanson \"%s\" est chanté par \"%s\" \"\"\" %(titres,artiste))\n",
    "list_albums_unique = list(set(list_album))\n",
    "\n",
    "\n",
    "            #tabl_tex=\"\\begin{table}[] \\n\"\n",
    "            #tabl_tex+=\"\\begin{tabular}{|l|l|l|l|l|l|l|} \\n\"\n",
    "            #tabl_tex+=\"\\hline \\n\"\n",
    "            #tabl_tex+=\"\\textbf{Titre} & \\textbf{Date} & \\textbf{Album} & \\textbf{Artiste} & \\textbf{Featuring} & \\textbf{nbMots} & \\textbf{url} \\\\ \\hline \\n\"\n",
    "            #tabl_tex+=f\"{titres}         & {dates}         & {album_name}    & {artiste}          & {feat}               & {nbMots}          & {url}          \\\\ \\hline \\n\"\n",
    "            #tabl_tex+=\"\\end{tabular} \\n\"\n",
    "            #tabl_tex+=\"\\end{table} \\n\"\n",
    "            #tabl_html  = \"<table>\"\n",
    "            #tabl_html += \"<tr><th>Titre</th><th>Date</th><th>Album</th><th>Artiste</th><th>nbMots</th><th>url</th> </tr>\"\n",
    "            #tabl_html += \"<tr><td>%s</td> <td>%s</td> <td>%s</td> <td>%s</td><td>%i</td> <td>%s</td></tr>\"%(titres, dates, album_name, artiste, nbMots, url)\n",
    "            #tabl_html +=\"</table>\"\n",
    "            #ecrire_fichier(\"echantillon1.html\", tabl_html)"
   ]
  },
  {
   "cell_type": "code",
   "execution_count": 104,
   "metadata": {},
   "outputs": [
    {
     "name": "stdout",
     "output_type": "stream",
     "text": [
      "le nombre des chansons en featuring : 0\n"
     ]
    }
   ],
   "source": [
    "print(\"le nombre des chansons en featuring : %i\"%len(set(list_featuring)))"
   ]
  },
  {
   "cell_type": "code",
   "execution_count": 108,
   "metadata": {},
   "outputs": [],
   "source": []
  },
  {
   "cell_type": "code",
   "execution_count": 109,
   "metadata": {},
   "outputs": [
    {
     "name": "stdout",
     "output_type": "stream",
     "text": [
      "['1653-11-01', '1936-01-01', '1936-01-01', '1936-01-01', '1936-01-01', '1936-01-01', '1937-01-01', '1938-01-01', '1939-01-01', '1940-01-01', '1942-01-01', '1944-01-01', '1944-01-01', '1945-01-01', '1945-01-01', '1945-01-01', '1945-05-01', '1946-01-01', '1946-06-02', '1946-10-24', '1947-01-01', '1947-01-01', '1947-01-01', '1948-01-01', '1948-01-01', '1948-01-01', '1948-01-01', '1950-01-01', '1950-01-01', '1950-01-01', '1951-01-01', '1951-01-01', '1951-01-01', '1951-01-01', '1951-01-01', '1951-01-01', '1951-01-01', '1951-01-01', '1951-01-01', '1952-01-01', '1952-11-01', '1952-11-01', '1952-11-01', '1952-11-01', '1952-11-01', '1952-11-01', '1952-11-01', '1952-11-05', '1953-01-01', '1953-01-01', '1953-01-01', '1953-01-01', '1953-11-01', '1953-11-01', '1953-11-01', '1954-01-01', '1954-01-01', '1954-01-01', '1954-01-01', '1954-01-01', '1954-01-01', '1955-01-01', '1956-01-01', '1956-01-01', '1956-01-01', '1956-01-01', '1957-01-01', '1957-01-01', '1958-01-01', '1958-11-01', '1960-01-01', '1960-01-01', '1960-01-01', '1960-01-01', '1960-01-01', '1960-11-10', '1961-01-01', '1961-01-01', '1961-01-01', '1961-01-01', '1961-01-01', '1961-01-01', '1962-01-01', '1962-01-01', '1962-01-01', '1962-12-01', '1963-01-01', '1963-01-01', '1963-01-01', '1965-01-01', '1966-04-07', '1968-05-01', '1975-04-03', '1975-04-03', '1975-04-03', '1975-04-03', '1975-04-03', '1975-04-03', '1975-04-03', '1975-04-03', '1975-04-03', '1975-04-03', '1975-04-03', '1976-01-01', '1976-12-01', '1976-12-01', '1976-12-01', '1976-12-01', '1979-01-20', '1980-12-01', '1981-01-01', '1981-01-01', '1981-01-01', '1981-01-01', '1981-01-01', '1981-01-01', '1981-01-01', '1981-01-01', '1981-01-01', '1981-01-01', '1982-01-01', '1982-01-01', '1985-01-01', '1985-03-10', '1985-09-13', '1985-09-13', '1985-09-13', '1985-09-13', '1985-09-13', '1985-09-13', '1985-09-13', '1985-09-13', '1985-09-13', '1985-11-13', '1985-11-30', '1986-01-01', '1987-11-04', '1990-01-01', '1990-06-21', '1991-01-01', '1991-01-01', '1991-01-01', '1991-01-01', '1991-01-01', '1991-01-01', '1991-01-01', '1991-01-01', '1991-01-01', '1991-01-01', '1991-01-01', '1991-01-01', '1991-03-25', '1991-10-01', '1991-10-15', '1992-05-18', '1993-01-01', '1993-01-01', '1993-01-01', '1993-11-09', '1993-11-09', '1993-11-09', '1993-11-09', '1993-11-09', '1993-11-09', '1993-11-09', '1993-11-09', '1993-11-09', '1993-11-09', '1993-11-09', '1993-11-09', '1993-11-09', '1993-11-09', '1993-11-09', '1993-11-09', '1993-11-09', '1993-11-09', '1993-11-09', '1993-11-09', '1993-11-09', '1993-11-09', '1993-11-09', '1993-11-09', '1993-11-09', '1993-11-09', '1993-11-09', '1993-11-09', '1993-11-09', '1993-11-09', '1993-11-09', '1993-11-09', '1993-11-09', '1993-11-09', '1993-11-09', '1993-11-09', '1993-11-09', '1994-01-01', '1994-01-01', '1994-01-01', '1994-01-01', '1994-01-01', '1994-01-01', '1994-02-07', '1994-02-09', '1994-02-09', '1994-02-09', '1994-02-09', '1994-02-09', '1994-02-09', '1994-02-09', '1994-02-09', '1994-02-09', '1994-02-09', '1994-02-09', '1994-02-09', '1994-02-09', '1994-11-18', '1994-11-18', '1994-11-18', '1995-01-01', '1995-01-01', '1995-01-01', '1995-01-01', '1995-01-01', '1997-01-01', '1997-01-01', '1997-01-01', '1997-01-01', '1997-03-17', '1997-03-18', '1997-03-18', '1997-03-18', '1997-03-18', '1997-03-18', '1997-03-18', '1997-03-18', '1997-03-18', '1997-03-18', '1997-03-18', '1997-03-18', '1997-03-18', '1997-03-18', '1997-03-18', '1997-03-18', '1997-07-07', '1997-07-07', '1997-07-07', '1997-07-07', '1997-07-07', '1997-07-07', '1997-07-07', '1997-07-07', '1997-07-07', '1997-07-07', '1997-07-07', '1997-07-07', '1997-07-07', '1997-07-07', '1997-07-07', '1997-07-07', '1997-07-07', '1997-08-26', '1997-08-26', '1997-08-26', '1997-08-26', '1997-08-26', '1997-08-26', '1997-08-26', '1997-08-26', '1997-08-26', '1997-08-26', '1997-08-26', '1997-11-14', '1998-01-01', '1998-01-01', '1998-01-01', '1998-01-01', '1998-01-01', '1998-01-01', '1998-01-01', '1998-01-01', '1998-01-01', '1998-03-01', '1998-03-17', '1998-07-01', '1998-07-21', '1998-07-21', '1998-07-21', '1998-07-21', '1998-07-21', '1998-07-21', '2000-05-05', '2001-01-01', '2001-01-01', '2001-01-01', '2001-01-01', '2001-01-16', '2001-01-16', '2001-01-16', '2001-03-13', '2001-03-13', '2001-03-13', '2001-03-31', '2001-11-19', '2001-11-20', '2002-07-22', '2002-11-12', '2003-01-01', '2003-09-16', '2003-09-16', '2003-09-16', '2003-09-16', '2003-09-16', '2003-09-16', '2003-09-16', '2003-09-16', '2003-09-16', '2003-09-16', '2003-09-16', '2003-09-16', '2003-09-16', '2003-09-16', '2003-09-16', '2003-09-16', '2003-09-16', '2003-09-16', '2003-09-16', '2003-12-01', '2003-12-01', '2003-12-01', '2003-12-01', '2003-12-01', '2003-12-01', '2003-12-01', '2003-12-01', '2003-12-01', '2003-12-01', '2003-12-01', '2003-12-01', '2003-12-01', '2003-12-01', '2003-12-01', '2003-12-01', '2004-01-01', '2004-12-07', '2006-04-17', '2006-09-04', '2006-09-09', '2007-01-01', '2007-01-01', '2007-01-01', '2007-01-01', '2007-01-22', '2007-03-05', '2007-03-05', '2007-03-05', '2007-04-02', '2007-04-02', '2007-04-02', '2007-04-02', '2007-04-02', '2007-04-02', '2007-04-02', '2007-04-02', '2007-04-02', '2007-04-02', '2007-04-02', '2007-04-02', '2007-04-02', '2007-04-02', '2007-04-02', '2007-04-02', '2007-04-02', '2007-04-02', '2007-06-11', '2007-06-18', '2008-01-01', '2009-07-06', '2011-10-17', '2011-10-19', '2013-01-01', '2013-01-01', '2013-01-01', '2013-01-01', '2013-01-24', '2013-01-24', '2013-03-15', '2013-04-17', '2013-04-22', '2013-04-22', '2013-04-22', '2013-04-22', '2013-04-22', '2013-04-22', '2013-04-22', '2013-04-22', '2013-04-22', '2013-04-22', '2013-04-22', '2013-04-22', '2013-04-22', '2013-11-18', '2013-11-18', '2013-11-18', '2013-11-18', '2013-11-18', '2013-11-18', '2013-11-18', '2013-11-18', '2013-11-18', '2013-11-18', '2013-11-18', '2013-11-18', '2013-11-18', '2014-03-09', '2014-10-21', '2015-10-23', '2016-01-26', '2016-03-03', '2016-04-07', '2016-04-08', '2016-04-08', '2016-04-08', '2016-04-08', '2016-04-08', '2016-04-08', '2016-04-08', '2016-04-08', '2016-04-08', '2016-04-08', '2016-04-08', '2017-01-13', '2017-03-03', '2017-03-03', '2017-03-03', '2017-03-03', '2017-03-03', '2017-03-03', '2017-03-03', '2017-03-03', '2017-03-03', '2017-03-03', '2017-03-03', '2017-03-03', '2017-03-03', '2017-03-03', '2017-03-03', '2017-03-03', '2017-03-03', '2017-03-03', '2017-03-03', '2017-04-14', '2017-06-23', '2017-09-01', '2017-09-29', '2017-10-11', '2017-11-03', '2017-11-03', '2017-11-03', '2017-11-03', '2017-11-03', '2017-11-03', '2017-11-03', '2017-11-03', '2017-11-03', '2017-11-03', '2017-11-03', '2017-11-03', '2017-11-03', '2017-11-03', '2017-11-03', '2017-11-03', '2019-08-09', '2019-09-20', '2019-10-11', '2019-10-29', '2019-11-08', '2019-11-11', '2019-11-12', '2019-11-22', '2019-11-22', '2019-11-22', '2019-11-22', '2019-11-22', '2019-11-22', '2019-11-22', '2019-11-22', '2019-11-22', '2019-11-22', '2019-11-22', '2019-11-22', '2019-11-29', '2019-11-29', '2019-11-29', '2019-11-29', '2019-11-29', '2019-11-29', '2019-11-29', '2019-11-29', '2019-11-29', '2019-11-29']\n"
     ]
    }
   ],
   "source": [
    "print(sorted(x for x in list_dates if x != 'None'))"
   ]
  },
  {
   "cell_type": "code",
   "execution_count": 85,
   "metadata": {},
   "outputs": [
    {
     "name": "stdout",
     "output_type": "stream",
     "text": [
      "['Le tour de chant d’Édith Piah à l’Olympia - n°3', 'Du temps de la môme Piaf', 'Retour aux pyramides', 'C’est toujours la même histoire, l’accordéoniste…', 'Victime de la mode (Single)', 'Coffret 3 disques ', 'Les amants de Teruel', 'Les Cool Sessions', 'Volume II', 'Revoir un printemps', 'The Cut Killer Show : Le combat sans fin', 'Ma gonzesse', 'Je me souviens', 'Sings (Polydor)', 'Fernande', 'La Mauvaise Réputation', 'Exodus', 'Amoureux de Paname', 'Cante el’ Nord', 'Le temps ne fait rien à l’affaire', 'Assassins Scribes Vol 1', 'Saison 5', 'Anthologie (1991-2004)', 'Les mômes et les enfants d’abord', 'Les funérailles d’antan', 'Lèttres à Toussenot ', 'Minoritaire', 'Édith Piaf, un souvenir', 'Molly Malone : Balade irlandaise', 'Chansons Parisiennes, Vol. II', 'But Not Forgotten', '25ème anniversaire', 'Renaud à Bobino', 'All The Best', 'Chansons parisiennes', 'Quatre chansons de Charles Dumont EP', 'De l’accordéoniste à Milord', 'Les Introuvables', 'Le droit d’aimer EP', 'Volume 13 : Inédits : Archives 1953-1980', 'Qui sème le vent récolte le tempo', 'Chante Raymond Asso', 'Trompe la mort', 'Géopoétique', 'Le P’tit Bal du samedi soir... et autres chansons réalistes', 'Non je ne regrette rien, Mon Dieu, Exodus, La foule…', 'Marchand de cailloux', 'Le Retour de Gérard Lambert', 'Morgane de toi', 'Les sabots d’Hélène', 'J’m’en fous pas mal, Volume 3', 'Chapitre 7', 'Inch’Allah (Maxi)', 'Rouge sang', 'L’éternel miracle', 'Volume 12 : Don Juan', 'Cinquième As', 'Platinum ', 'Brassens chante Bruant, Colpi, Musset, Nadaud, Norge', 'Obsolète', 'Nº1 : Georges Brassens chante... les chansons poétiques (... et souvent gaillardes) de... Georges Brassens', 'En passant', 'C’est l’amour', 'Misogynie à part', 'Hell Hop: Volume One  (Mixtape)', '...IAM', 'À quoi ça sert l’amour EP', 'Yasuke', 'C’est un homme terrible', 'Paradisiaque', 'Ombre est lumière', 'Encore Parisiennes', 'Sings (Columbia)', 'Official Mixtape', 'Les amants de demain — EP', 'Renaud', 'Taxi (BO)', 'Donne moi le Micro', 'Les Trompettes de la Renommée', 'Amour du mois de mai, Le geste, Sophie…', 'Récital 1962', 'Chansons des cafés de Paris', 'La vie en rose (1953)', 'Autopsie Vol. 2', 'Il n’y a d’honnête que le bonheur : Les débuts de Brassens en privé (1952-1955)', 'À la belle de Mai', 'Ombre est lumière (Volume Unique)', 'La vie en rose (Original Motion Picture Soundtrack)', 'Chroniques de Mars ', 'Le tour de chant d’Édith Piah à l’Olympia - n°1', 'Concept', 'Rêvolution', 'Hits From “La P’tite Lili”', 'Le Pornographe', 'Volume 2', 'Encores', 'Chansons pour les pieds', 'Le vent', 'Stolen Moments: Red Hot + Cool ', 'Hymne à l’amour (coffret 3 disques)', 'Boucan d’enfer', 'Non homologué', 'The World of Piaf', 'Renaud chante Brassens', 'Galaxie', 'Marche ou Rêve', 'Je me suis fait tout petit', 'Prose Combat', 'C’est l’amour, Ouragan, Cri du cœur…', 'La Concubine de l’Hémoglobine (Maxi)', 'Magnum 567', 'Récital 1961', 'Les amants d’un jour', 'Qui Sème Le Vent Récolte Le Tempo (Maxi)', 'Sad Hill (Double Album)', 'Mistral gagnant', 'La vie en rose (1974) ', 'Bal dans ma rue', 'Mach 6', 'Mon Dieu, Padam padam, Exodus…', 'Les Copains d’abord', 'Putain de camion', 'Entre gris clair et gris foncé', 'De l’autre côté de la rue', 'L’intégrale 1936-1945', 'Prose Combat (UK Version)', 'Boulevard du crime ', 'L’École Du Micro D’argent', 'La Haine, musiques inspirées du film', 'Sings Again', 'Laisse Béton', 'Oncle Archibald', 'Inédits 2003', 'N° 1', 'Sad Hill Impact', 'Je l’ai dans la peau, Télégramme, Chante-moi…', 'Les grandes chansons (1963)', 'OM All Stars ', 'Mon manège à moi', 'Le tour de la question', 'Volume 6 : Le Mécréant', 'Mes grands succès', 'Favorites', 'La saga EP', 'MC Solaar', 'Le tour de chant d’Édith Piah à l’Olympia - n°2', '... de la planète Mars', 'Padam Padam, Les croix, Mea culpa…', 'L’école Du Micro D’argent (Edition Collector)', 'Positif', 'Les Mots (Maxi)', 'Tam Tam De L’Afrique', 'Démodé', 'Tête-à-tête avec Piaf', 'Marche à l’ombre', 'Supplique pour être enterré à la plage de Sète', 'Mes premières chansons - volume 17', 'Arts Martiens']\n"
     ]
    }
   ],
   "source": [
    "\n",
    "print(list_albums_unique)\n"
   ]
  },
  {
   "cell_type": "code",
   "execution_count": null,
   "metadata": {},
   "outputs": [],
   "source": []
  }
 ],
 "metadata": {
  "kernelspec": {
   "display_name": "Python 3",
   "language": "python",
   "name": "python3"
  },
  "language_info": {
   "codemirror_mode": {
    "name": "ipython",
    "version": 3
   },
   "file_extension": ".py",
   "mimetype": "text/x-python",
   "name": "python",
   "nbconvert_exporter": "python",
   "pygments_lexer": "ipython3",
   "version": "3.8.3"
  }
 },
 "nbformat": 4,
 "nbformat_minor": 4
}
