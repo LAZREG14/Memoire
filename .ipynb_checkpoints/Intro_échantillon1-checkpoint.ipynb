{
 "cells": [
  {
   "cell_type": "code",
   "execution_count": 1,
   "metadata": {},
   "outputs": [],
   "source": [
    "import json\n",
    "def ouvrir_json(chemin):\n",
    "  f = open(chemin, encoding=\"utf-8\")\n",
    "  toto = json.load(f)\n",
    "  f.close()\n",
    "  return toto\n",
    "\n",
    "def ecrire_fichier(chemin, contenu):\n",
    "  w = open(chemin, \"w\", encoding=\"utf-8\")\n",
    "  w.write(contenu)\n",
    "  w.close()\n",
    "def lire_fichier(chemin):\n",
    "  f = open(chemin, \"r\", encoding=\"utf-8\")\n",
    "  chaine = f.read()\n",
    "  f.close()\n",
    "  return chaine"
   ]
  },
  {
   "cell_type": "code",
   "execution_count": 2,
   "metadata": {},
   "outputs": [],
   "source": [
    "data_echantillon1 = ouvrir_json(\"Data/echantillon1.json\")\n",
    "chansons1=data_echantillon1.values()"
   ]
  },
  {
   "cell_type": "code",
   "execution_count": 112,
   "metadata": {},
   "outputs": [
    {
     "name": "stdout",
     "output_type": "stream",
     "text": [
      "Nombre de chansons : 92\n"
     ]
    }
   ],
   "source": [
    "list_titres    =[]\n",
    "list_dates     =[]\n",
    "list_album     =[]\n",
    "list_artiste   =[]\n",
    "list_featuring =[]\n",
    "list_url       =[]\n",
    "list_nbMots    =[]\n",
    "lol=[]\n",
    "\n",
    "for child in chansons1:\n",
    "    print(\"Nombre de chansons : %i\"%len(child))\n",
    "    for titre in child:\n",
    "        try:\n",
    "            titres     = titre.get(\"full_title\")\n",
    "            list_titres.append(str(titres))\n",
    "            #ecrire_fichier(\"titres_chansons_echantillon1.json\", str(list_titres))\n",
    "            dates      = titre.get(\"release_date\")\n",
    "            list_dates.append(str(dates))\n",
    "            album      = titre.get(\"album\")\n",
    "            album_name = str(titre[\"album\"][\"name\"])\n",
    "            list_album.append(str(album_name))\n",
    "            artiste    = str(album[\"artist\"][\"name\"])\n",
    "            list_artiste.append(str(artiste))\n",
    "            featuring  = titre.get(\"featured_artists\")\n",
    "            for f in featuring:\n",
    "                feat       = f.get(\"name\")\n",
    "                list_featuring.append(str(feat))\n",
    "            url        = str(album[\"artist\"][\"url\"])\n",
    "            list_url.append(str(url))\n",
    "            paroles    = titre.get(\"lyrics\")\n",
    "            nbMots     = len(paroles.split())\n",
    "            lol = {k: int(v) for k, v in zip(list_titres, list_dates)}\n",
    "            print(nbMots)\n",
    "            list_nbMots.append(int(nbMots))\n",
    "        except:\n",
    "            pass\n",
    "        list_nbMots.append(int(nbMots))\n",
    "            #tabl_tex=\"\\begin{table}[] \\n\"\n",
    "            #tabl_tex+=\"\\begin{tabular}{|l|l|l|l|l|l|l|} \\n\"\n",
    "            #tabl_tex+=\"\\hline \\n\"\n",
    "            #tabl_tex+=\"\\textbf{Titre} & \\textbf{Date} & \\textbf{Album} & \\textbf{Artiste} & \\textbf{Featuring} & \\textbf{nbMots} & \\textbf{url} \\\\ \\hline \\n\"\n",
    "            #tabl_tex+=f\"{titres}         & {dates}         & {album_name}    & {artiste}          & {feat}               & {nbMots}          & {url}          \\\\ \\hline \\n\"\n",
    "            #tabl_tex+=\"\\end{tabular} \\n\"\n",
    "            #tabl_tex+=\"\\end{table} \\n\"\n",
    "            #tabl_html  = \"<table>\"\n",
    "            #tabl_html += \"<tr><th>Titre</th><th>Date</th><th>Album</th><th>Artiste</th><th>nbMots</th><th>url</th> </tr>\"\n",
    "            #tabl_html += \"<tr><td>%s</td> <td>%s</td> <td>%s</td> <td>%s</td><td>%i</td> <td>%s</td></tr>\"%(titres, dates, album_name, artiste, nbMots, url)\n",
    "            #tabl_html +=\"</table>\"\n",
    "            #ecrire_fichier(\"echantillon1.html\", tabl_html)"
   ]
  },
  {
   "cell_type": "code",
   "execution_count": 56,
   "metadata": {},
   "outputs": [
    {
     "data": {
      "text/html": [
       "<table><tr><th>Titre</th><th>Date</th><th>Album</th><th>Artiste</th><th>nbMots</th><th>url</th> </tr><tr><td>Hippie hippie hourrah - remastered by Jacques Dutronc</td> <td>None</td> <td>Brèves rencontres</td> <td>Jacques Dutronc</td><td>116</td> <td>https://genius.com/artists/Jacques-dutronc</td></tr></table>"
      ],
      "text/plain": [
       "<IPython.core.display.HTML object>"
      ]
     },
     "metadata": {},
     "output_type": "display_data"
    }
   ],
   "source": [
    "from IPython.core.display import display, HTML\n",
    "display(HTML(tabl_html))"
   ]
  },
  {
   "cell_type": "code",
   "execution_count": 113,
   "metadata": {},
   "outputs": [
    {
     "name": "stdout",
     "output_type": "stream",
     "text": [
      "[107, 305, 174, 337, 337, 171, 171, 157, 157, 237, 210, 210, 233, 215, 215, 128, 128, 128, 128, 120, 165, 165, 165, 167, 167, 167, 167, 167, 167, 94, 94, 94, 210, 192, 192, 192, 192, 220, 220, 186, 186, 256, 181, 181, 283, 90, 90, 90, 90, 90, 90, 108, 108, 108, 108, 108, 108, 108, 108, 108, 108, 175, 270, 155, 155, 151, 151, 151, 151, 151, 196, 196, 196, 196, 196, 196, 196, 196, 196, 282, 156, 156, 367, 367, 367, 188, 188, 188, 188, 116, 116, 116]\n"
     ]
    }
   ],
   "source": [
    "print(list_nbMots)"
   ]
  },
  {
   "cell_type": "code",
   "execution_count": null,
   "metadata": {},
   "outputs": [],
   "source": []
  }
 ],
 "metadata": {
  "kernelspec": {
   "display_name": "Python 3",
   "language": "python",
   "name": "python3"
  },
  "language_info": {
   "codemirror_mode": {
    "name": "ipython",
    "version": 3
   },
   "file_extension": ".py",
   "mimetype": "text/x-python",
   "name": "python",
   "nbconvert_exporter": "python",
   "pygments_lexer": "ipython3",
   "version": "3.8.3"
  }
 },
 "nbformat": 4,
 "nbformat_minor": 4
}
