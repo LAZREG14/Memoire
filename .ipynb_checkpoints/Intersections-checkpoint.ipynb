{
 "cells": [
  {
   "cell_type": "code",
   "execution_count": 1,
   "metadata": {},
   "outputs": [],
   "source": [
    "import json\n",
    "import matplotlib.pyplot as plt\n",
    "from matplotlib_venn import venn2, venn3\n",
    "#import operator\n",
    "from collections import OrderedDict\n",
    "\n",
    "\n",
    "def ouvrir_json(chemin):\n",
    "    f    = open(chemin, encoding=\"utf-8\")\n",
    "    toto = json.load(f)\n",
    "    f.close()\n",
    "    return toto\n",
    "def ecrire_json(chemin, contenu):\n",
    "    w    = open(chemin, \"w\", encoding=\"utf-8\")\n",
    "    w.write(json.dumps(contenu, indent=2, ensure_ascii=False))\n",
    "    w.close()"
   ]
  },
  {
   "cell_type": "code",
   "execution_count": 2,
   "metadata": {},
   "outputs": [],
   "source": [
    "echantillon1_sm = ouvrir_json(\"lieux_echantillon_aprésNettoyage/lieux_echantillon1_aprésNettoyage_sm.json\")\n",
    "echantillon1_md = ouvrir_json(\"lieux_echantillon_aprésNettoyage/lieux_echantillon1_aprésNettoyage_md.json\")\n",
    "echantillon1_lg = ouvrir_json(\"lieux_echantillon_aprésNettoyage/lieux_echantillon1_aprésNettoyage_lg.json\")\n",
    "echantillon2_sm = ouvrir_json(\"lieux_echantillon_aprésNettoyage/lieux_echantillon2_aprésNettoyage_sm.json\")\n",
    "echantillon2_md = ouvrir_json(\"lieux_echantillon_aprésNettoyage/lieux_echantillon2_aprésNettoyage_md.json\")\n",
    "echantillon2_lg = ouvrir_json(\"lieux_echantillon_aprésNettoyage/lieux_echantillon2_aprésNettoyage_lg.json\")"
   ]
  },
  {
   "cell_type": "code",
   "execution_count": 3,
   "metadata": {},
   "outputs": [
    {
     "name": "stdout",
     "output_type": "stream",
     "text": [
      "126\n",
      "87\n",
      "93\n",
      "3422\n",
      "2366\n",
      "2534\n"
     ]
    }
   ],
   "source": [
    "print(len(echantillon1_sm))\n",
    "print(len(echantillon1_md))\n",
    "print(len(echantillon1_lg))\n",
    "print(len(echantillon2_sm))\n",
    "print(len(echantillon2_md))\n",
    "print(len(echantillon2_lg))"
   ]
  },
  {
   "cell_type": "code",
   "execution_count": 25,
   "metadata": {},
   "outputs": [
    {
     "data": {
      "text/plain": [
       "<matplotlib.legend.Legend at 0x7feb4bcb73d0>"
      ]
     },
     "execution_count": 25,
     "metadata": {},
     "output_type": "execute_result"
    },
    {
     "data": {
      "image/png": "[encoded data removed]",
      "text/plain": [
       "<Figure size 432x288 with 1 Axes>"
      ]
     },
     "metadata": {
      "needs_background": "light"
     },
     "output_type": "display_data"
    }
   ],
   "source": [
    "import matplotlib.pyplot as plt\n",
    "import numpy as np\n",
    "\n",
    "w = 0.4\n",
    "x = [\"CSE\",\"ISE\",\"ECE\",\"EEE\",\"Mech\"]\n",
    "boys = [100,40,60,240,300]\n",
    "girls = [200,70,30,120,15]\n",
    "\n",
    "bar1 = np.arange(len(x))\n",
    "bar2 = [i+w for i in bar1]\n",
    "\n",
    "plt.bar(bar1,boys,w,label=\"boys\")\n",
    "plt.bar(bar2,girls,w,label=\"girls\")\n",
    "\n",
    "plt.xlabel(\"cours\")\n",
    "plt.ylabel(\"etudiants\")\n",
    "plt.title(\"eudiants vs cours\")\n",
    "plt.xticks(bar1,x)\n",
    "plt.legend()\n",
    "\n"
   ]
  },
  {
   "cell_type": "code",
   "execution_count": 4,
   "metadata": {},
   "outputs": [
    {
     "name": "stdout",
     "output_type": "stream",
     "text": [
      "Intersection sm, md & lg : 20\n",
      "Intersection sm & md : 23\n",
      "Intersection sm & lg : 24\n",
      "Intersection md & lg : 28\n",
      "dans echantillon1_sm : 35\n",
      "dans echantillon1_md : 13\n",
      "dans echantillon1_lg : 13\n"
     ]
    }
   ],
   "source": [
    "lieux_en_commun       = set(echantillon1_sm).intersection(set(echantillon1_md), set(echantillon1_lg))\n",
    "lieux_en_commun_sm_md = set(echantillon1_sm).intersection(set(echantillon1_md))\n",
    "lieux_en_commun_sm_lg = set(echantillon1_sm).intersection(set(echantillon1_lg))\n",
    "lieux_en_commun_md_lg = set(echantillon1_md).intersection(set(echantillon1_lg))\n",
    "print(\"Intersection sm, md & lg :\", len(lieux_en_commun))\n",
    "print(\"Intersection sm & md :\", len(lieux_en_commun_sm_md))\n",
    "print(\"Intersection sm & lg :\", len(lieux_en_commun_sm_lg))\n",
    "print(\"Intersection md & lg :\", len(lieux_en_commun_md_lg))\n",
    "print(\"dans echantillon1_sm :\", len(set(echantillon1_sm).difference(set(echantillon1_md),set(echantillon1_lg))))\n",
    "print(\"dans echantillon1_md :\", len(set(echantillon1_md).difference(set(echantillon1_sm), set(echantillon1_lg))))\n",
    "print(\"dans echantillon1_lg :\", len(set(echantillon1_lg).difference(set(echantillon1_md), set(echantillon1_sm))))"
   ]
  },
  {
   "cell_type": "code",
   "execution_count": 5,
   "metadata": {},
   "outputs": [
    {
     "data": {
      "image/png": "[encoded data removed]",
      "text/plain": [
       "<Figure size 432x288 with 1 Axes>"
      ]
     },
     "metadata": {},
     "output_type": "display_data"
    }
   ],
   "source": [
    "venn3(subsets = (35,13,23,13,24,28,20), set_labels = ('Echantillon1_sm', 'Echantillon1_md', 'Echantillon1_lg'), alpha = 0.5);"
   ]
  },
  {
   "cell_type": "code",
   "execution_count": 6,
   "metadata": {},
   "outputs": [
    {
     "name": "stdout",
     "output_type": "stream",
     "text": [
      "['Mini-jupe', 'Maxitère', 'Canigou', \"J'\", 'Attention prends pas froid', 'rue Sinon', 'Attention prends pas froid', 'rue Sinon', 'Mégève', 'Saint-Tropez', 'France', \"J'\", 'Mégève', 'Saint-Tropez', 'France', \"J'\", 'San Francisco', 'San Francisco', \"J'ai pas de pot j'ai des impôts\", 'La Palice', \"Chaussée-d'Antin\", 'jardin Passa', \"Chaussée-d'Antin\", 'jardin Passa', \"Chaussée-d'Antin\", 'jardin Passa', \"Chaussée-d'Antin\", 'jardin Passa', \"Chaussée-d'Antin\", 'jardin Passa', \"Chaussée-d'Antin\", 'jardin Passa', 'Val-de-Grâce', 'Val-de-Grâce', 'Val-de-Grâce', 'Vieux fossiles', 'Vieux fossiles', 'Eh watching', 'Gaumont Lampadaire', 'Varsovie', 'Baltimore', 'Camberra', 'Yaoundé', 'Amsterdam', \"J'ai été à\", 'Bornéo', \"Papeete J'ai bu de l'eau\", 'Tampico', 'Bogola', 'Calcutta', 'Téhéran', 'Saana', 'Kinshassa', 'Créteil', 'Port-Gentil', 'Varsovie', 'Baltimore', 'Amakawogo', 'Amakawogo', 'Amakawogo', 'Amakawogo', 'Amakawogo', 'Amakawogo', 'Amakawogo', 'Amakawogo', \"J'ai du velours\", \"Dutronc d'Isigny Je\", \"Dutronc d'Isigny\", \"J'ai du velours\", \"Dutronc d'Isigny Je\", \"Dutronc d'Isigny\", \"J'ai du plaisir\", \"J'ai des problèmes\", 'Marcelle', \"J'ai du plaisir\", \"J'ai des problèmes\", 'Marcelle', \"J'ai parlé d'pêche\", \"J'ai Maginot\", \"J'ai dit comme tes bas : mi-long\", 'Amiens', 'Yvette', 'Mini-jupe', 'Maxitère', \"J'comprends pas ...\", 'rue Le Regrantier', 'Roméo Je', 'Disigny', 'Goldwyn', 'Bernhart Arroy', 'Ménard', 'Venise', 'Roméo Je', 'Disigny', 'Goldwyn', 'Bernhart Arroy', 'Ménard', 'Venise', 'l’Harpic', 'Lux Croyez', 'Pyrex', 'l’Harpic', 'Lux Croyez', 'Pyrex', 'l’Harpic', 'Lux Croyez', 'Pyrex', 'l’Harpic', 'Lux Croyez', 'Pyrex', 'Trocadéro Pris', 'Saint Omer', 'Houlgate', 'Boulevard Poissonnière', 'Saint Omer', 'Houlgate', 'Boulevard Poissonnière', 'Saint Omer', 'Houlgate', 'Boulevard Poissonnière', 'Saint Omer', 'Houlgate', 'Boulevard Poissonnière', 'Demi-pause', 'Canigou', 'Canigou']\n"
     ]
    }
   ],
   "source": [
    "print(echantillon1_sm)"
   ]
  },
  {
   "cell_type": "code",
   "execution_count": 7,
   "metadata": {},
   "outputs": [
    {
     "name": "stdout",
     "output_type": "stream",
     "text": [
      "['Mini-moche', 'Mini-moche', 'Maxitère', \"Castel J'\", 'Mégève', 'Saint-Tropez', \"Camaret J'\", 'France', \"Castel J'\", 'Mégève', 'Saint-Tropez', \"Camaret J'\", 'France', \"J'ai loué une place\", 'San Francisco', \"J'ai loué une place\", 'San Francisco', \"J'ai pas l'moral j'ai pas d'argent\", \"J'ai pas de chance j'ai pas d'amis\", 'Obélisque A', 'jardin Passa', 'jardin Passa', 'jardin Passa', 'jardin Passa', 'jardin Passa', 'jardin Passa', 'Val-de-Grâce', 'Val-de-Grâce', 'Val-de-Grâce', 'Vieux fossiles', 'Refrain}', 'Vieux fossiles', 'Refrain}', 'Varsovie', 'Baltimore', 'Yaoundé', 'Amsterdam', 'Binningham', 'Bornéo', 'Papeete', 'Tampico', 'Calcutta', 'Téhéran', 'Saana', 'Cotonou', 'Dôle', 'Créteil', 'Port-Gentil', 'Varsovie', 'Baltimore', \"J'ai Maginot\", \"Bouquin'\", \"J'ai écris\", \"J'ai écris\", \"J'ai écris\", \"J'ai écris\", \"J'ai écris\", \"J'ai écris\", 'Mini-moche', 'Mini-moche', 'Maxitère', 'Prrr!Prrr', 'Prrr!Prrr', 'Milo', 'Millau', 'Venise', 'Milo', 'Millau', 'Venise', 'Nickelés Caleçons', 'Nickelés Caleçons', 'Nickelés Caleçons', 'Nickelés Caleçons', 'Trocadéro', 'Saint Omer', 'Houlgate', 'Boulevard Poissonnière Pas', 'Saint Omer', 'Houlgate', 'Boulevard Poissonnière Pas', 'Saint Omer', 'Houlgate', 'Boulevard Poissonnière Pas', 'Saint Omer', 'Houlgate', 'Boulevard Poissonnière Pas', 'Demi-ton']\n"
     ]
    }
   ],
   "source": [
    "print(echantillon1_md)"
   ]
  },
  {
   "cell_type": "code",
   "execution_count": 8,
   "metadata": {},
   "outputs": [
    {
     "name": "stdout",
     "output_type": "stream",
     "text": [
      "['Maxitère', 'Mégève', 'Saint-Tropez', 'la Rochelle', \"Camaret J'\", 'France', 'Mégève', 'Saint-Tropez', 'la Rochelle', \"Camaret J'\", 'France', 'Les Beatniks', 'San Francisco', 'Les Beatniks', 'San Francisco', \"Parc'\", 'Val-de-Grâce', 'Val-de-Grâce', 'Val-de-Grâce', 'France', 'France', 'France', 'France', 'France', 'Varsovie', 'Baltimore', 'Yaoundé', 'Amsterdam', 'Bornéo', 'Papeete', 'Tampico', 'Téhéran', 'Saana', 'Cotonou', 'Dôle', 'Créteil', 'Port-Gentil', 'Varsovie', 'Baltimore', 'Akéké', 'Akékéké kékéké', 'Akéké', 'Akékéké kékéké', 'Akéké', 'Akékéké kékéké', 'Akéké', 'Akékéké kékéké', \"Dutronc d'Isigny\", \"Dutronc d'Isigny\", \"J'ai Maginot\", \"Bouquin'\", 'Amiens', 'Maxitère', 'He!Hee!Ils', 'He!He', 'Oh!Ooh!Quand', 'Milo', 'Millau', 'Venise', 'Milo', 'Millau', 'Venise', 'Harpic', 'Pyrex', 'Ampex', 'X', 'Harpic', 'Pyrex', 'Ampex', 'X', 'Harpic', 'Pyrex', 'Ampex', 'X', 'Harpic', 'Pyrex', 'Ampex', 'X', 'Trocadéro', 'Saint Omer', 'Houlgate', 'Boulevard Poissonnière', 'Saint Omer', 'Houlgate', 'Boulevard Poissonnière', 'Saint Omer', 'Houlgate', 'Boulevard Poissonnière', 'Saint Omer', 'Houlgate', 'Boulevard Poissonnière', \"Un escalier Quand elle passe On l'embrasse Sur le palier On dit d'elle Qu'elle est belle Puis on l'enlace\", 'Demi-tour']\n"
     ]
    }
   ],
   "source": [
    "print(echantillon1_lg)"
   ]
  },
  {
   "cell_type": "code",
   "execution_count": 9,
   "metadata": {},
   "outputs": [],
   "source": [
    "freq1 = {}\n",
    "for lieu in echantillon1_sm:\n",
    "    freq1.setdefault(lieu, 0)\n",
    "    freq1[lieu]+=1\n",
    "sorted_freq1    = OrderedDict(sorted(freq1.items(), key=lambda x: x[1], reverse=True))\n",
    "    \n",
    "\n",
    "freq2 = {}\n",
    "for lieu in echantillon1_md:\n",
    "    freq2.setdefault(lieu, 0)\n",
    "    freq2[lieu]+=1\n",
    "sorted_freq2    = OrderedDict(sorted(freq1.items(), key=lambda x: x[1], reverse=True))\n",
    "    \n",
    "freq3 = {}\n",
    "for lieu in echantillon1_lg:\n",
    "    freq3.setdefault(lieu, 0)\n",
    "    freq3[lieu]+=1\n",
    "sorted_freq3    = OrderedDict(sorted(freq3.items(), key=lambda x: x[1], reverse=True))\n",
    "    \n",
    "#sorted_freq1 = sorted(freq1.items(), key=operator.itemgetter(1) , reverse=True)\n",
    "#sorted_freq1 = OrderedDict(sorted(freq1.items(), key=lambda x: x[1], reverse=True))\n",
    "\n",
    "ecrire_json(\"fréquence_lieux/freq_lieux_echantillon1_sm.json\",sorted_freq1)\n",
    "ecrire_json(\"fréquence_lieux/freq_lieux_echantillon1_md.json\",sorted_freq2)\n",
    "ecrire_json(\"fréquence_lieux/freq_lieux_echantillon1_lg.json\",sorted_freq3)"
   ]
  },
  {
   "cell_type": "code",
   "execution_count": 10,
   "metadata": {},
   "outputs": [
    {
     "name": "stdout",
     "output_type": "stream",
     "text": [
      "Intersection sm, md & lg : 394\n",
      "Intersection sm & md : 504\n",
      "Intersection sm & lg : 491\n",
      "Intersection md & lg : 537\n",
      "dans echantillon2_sm : 569\n",
      "dans echantillon2_md : 275\n",
      "dans echantillon2_lg : 263\n"
     ]
    }
   ],
   "source": [
    "lieux_en_commun       = set(echantillon2_sm).intersection(set(echantillon2_md), set(echantillon2_lg))\n",
    "lieux_en_commun_sm_md = set(echantillon2_sm).intersection(set(echantillon2_md))\n",
    "lieux_en_commun_sm_lg = set(echantillon2_sm).intersection(set(echantillon2_lg))\n",
    "lieux_en_commun_md_lg = set(echantillon2_md).intersection(set(echantillon2_lg))\n",
    "print(\"Intersection sm, md & lg :\", len(lieux_en_commun))\n",
    "print(\"Intersection sm & md :\", len(lieux_en_commun_sm_md))\n",
    "print(\"Intersection sm & lg :\", len(lieux_en_commun_sm_lg))\n",
    "print(\"Intersection md & lg :\", len(lieux_en_commun_md_lg))\n",
    "print(\"dans echantillon2_sm :\", len(set(echantillon2_sm).difference(set(echantillon2_md),set(echantillon2_lg))))\n",
    "print(\"dans echantillon2_md :\", len(set(echantillon2_md).difference(set(echantillon2_sm), set(echantillon2_lg))))\n",
    "print(\"dans echantillon2_lg :\", len(set(echantillon2_lg).difference(set(echantillon2_md), set(echantillon2_sm))))"
   ]
  },
  {
   "cell_type": "code",
   "execution_count": 11,
   "metadata": {},
   "outputs": [
    {
     "data": {
      "image/png": "[encoded data removed]",
      "text/plain": [
       "<Figure size 432x288 with 1 Axes>"
      ]
     },
     "metadata": {},
     "output_type": "display_data"
    }
   ],
   "source": [
    "venn3(subsets = (569,275,504,263,491,537,394), set_labels = ('Echantillon2_sm', 'Echantillon2_md', 'Echantillon2_lg'), alpha = 0.5);"
   ]
  },
  {
   "cell_type": "code",
   "execution_count": 12,
   "metadata": {},
   "outputs": [],
   "source": [
    "freq1 = {}\n",
    "for lieu in echantillon2_sm:\n",
    "    freq1.setdefault(lieu, 0)\n",
    "    freq1[lieu]+=1\n",
    "sorted_freq1    = OrderedDict(sorted(freq1.items(), key=lambda x: x[1], reverse=True))\n",
    "    \n",
    "\n",
    "freq2 = {}\n",
    "for lieu in echantillon2_md:\n",
    "    freq2.setdefault(lieu, 0)\n",
    "    freq2[lieu]+=1\n",
    "sorted_freq2    = OrderedDict(sorted(freq1.items(), key=lambda x: x[1], reverse=True))\n",
    "    \n",
    "freq3 = {}\n",
    "for lieu in echantillon2_lg:\n",
    "    freq3.setdefault(lieu, 0)\n",
    "    freq3[lieu]+=1\n",
    "sorted_freq3    = OrderedDict(sorted(freq3.items(), key=lambda x: x[1], reverse=True))\n",
    "\n",
    "ecrire_json(\"fréquence_lieux/freq_lieux_echantillon2_sm.json\",sorted_freq1)\n",
    "ecrire_json(\"fréquence_lieux/freq_lieux_echantillon2_md.json\",sorted_freq2)\n",
    "ecrire_json(\"fréquence_lieux/freq_lieux_echantillon2_lg.json\",sorted_freq3)"
   ]
  },
  {
   "cell_type": "markdown",
   "metadata": {},
   "source": [
    "Intersection of a song that contains many locations (chosen on purpose)\n",
    "------------------------------"
   ]
  },
  {
   "cell_type": "code",
   "execution_count": 13,
   "metadata": {},
   "outputs": [],
   "source": [
    "aventurier_paroles = ouvrir_json(\"clean_data_echantillons/aventurier_paroles.json\")"
   ]
  },
  {
   "cell_type": "code",
   "execution_count": 14,
   "metadata": {},
   "outputs": [],
   "source": [
    "import spacy\n",
    "nlp_sm = spacy.load(\"fr_core_news_sm\")\n",
    "nlp_md = spacy.load(\"fr_core_news_md\")\n",
    "nlp_lg = spacy.load(\"fr_core_news_lg\")"
   ]
  },
  {
   "cell_type": "code",
   "execution_count": 15,
   "metadata": {},
   "outputs": [],
   "source": [
    "aventurier_sm = []\n",
    "aventurier_md = []\n",
    "aventurier_lg = []\n",
    "for texte in aventurier_paroles:\n",
    "    doc1= nlp_sm(str(texte))\n",
    "    doc2= nlp_md(str(texte))\n",
    "    doc3= nlp_lg(str(texte))\n",
    "    for entity in doc1.ents:\n",
    "        if entity.label_ ==\"LOC\":\n",
    "            aventurier_sm.append(entity.text)\n",
    "            \n",
    "    for entity in doc2.ents:\n",
    "        if entity.label_ ==\"LOC\":\n",
    "            aventurier_md.append(entity.text)\n",
    "            \n",
    "    for entity in doc3.ents:\n",
    "        if entity.label_ ==\"LOC\":\n",
    "            aventurier_lg.append(entity.text)\n",
    "            \n",
    "ecrire_json(\"lieux_echantillon_aprésNettoyage/lieux_aventurier_sm.json\", aventurier_sm)\n",
    "ecrire_json(\"lieux_echantillon_aprésNettoyage/lieux_aventurier_md.json\", aventurier_md)\n",
    "ecrire_json(\"lieux_echantillon_aprésNettoyage/lieux_aventurier_lg.json\", aventurier_lg)"
   ]
  },
  {
   "cell_type": "code",
   "execution_count": 16,
   "metadata": {},
   "outputs": [
    {
     "name": "stdout",
     "output_type": "stream",
     "text": [
      "nombre des lieux retrouvés grâce au modèle small  :  22 \n",
      "  ['Varsovie', 'Baltimore', 'Camberra', 'Yaoundé', 'Amsterdam', \"J'ai été à\", 'Bornéo', \"Papeete J'ai bu de l'eau\", 'Bordeaux', 'Tampico', 'Bogola', 'Calcutta', 'Téhéran', 'Saana', 'Kinshassa', 'Lourdes', 'Créteil', 'ber1ue', 'Port-Gentil', 'Tripoli', 'Varsovie', 'Baltimore'] \n",
      "\n",
      "lieux retrouvés grâce au modèle medium :  20 \n",
      "  ['Varsovie', 'Baltimore', 'Yaoundé', 'Amsterdam', 'Binningham', 'Bornéo', 'Papeete', 'Bordeaux', 'Tampico', 'Calcutta', 'Téhéran', 'Saana', 'Cotonou', 'Dôle', 'Lourdes', 'Créteil', 'Port-Gentil', 'Tripoli', 'Varsovie', 'Baltimore'] \n",
      "\n",
      "lieux retrouvés grâce au modèle large :  18 \n",
      "  ['Varsovie', 'Baltimore', 'Yaoundé', 'Amsterdam', 'Bornéo', 'Papeete', 'Bordeaux', 'Tampico', 'Téhéran', 'Saana', 'Cotonou', 'Dôle', 'Lourdes', 'Créteil', 'Port-Gentil', 'Tripoli', 'Varsovie', 'Baltimore'] \n",
      "\n"
     ]
    }
   ],
   "source": [
    "print(\"nombre des lieux retrouvés grâce au modèle small  :  %i \\n \" %len(aventurier_sm) ,aventurier_sm ,\"\\n\")\n",
    "print(\"lieux retrouvés grâce au modèle medium :  %i \\n \"            %len(aventurier_md), aventurier_md,\"\\n\")\n",
    "print(\"lieux retrouvés grâce au modèle large :  %i \\n \"             %len(aventurier_lg), aventurier_lg,\"\\n\")"
   ]
  },
  {
   "cell_type": "code",
   "execution_count": 17,
   "metadata": {},
   "outputs": [
    {
     "name": "stdout",
     "output_type": "stream",
     "text": [
      "{'Baltimore', 'Bordeaux', 'Yaoundé', 'Créteil', 'Tampico', 'Varsovie', 'Saana', 'Téhéran', 'Lourdes', 'Bornéo', 'Port-Gentil', 'Tripoli', 'Amsterdam'}\n",
      "{'Baltimore', 'Bordeaux', 'Yaoundé', 'Calcutta', 'Tampico', 'Créteil', 'Varsovie', 'Saana', 'Téhéran', 'Lourdes', 'Bornéo', 'Port-Gentil', 'Tripoli', 'Amsterdam'}\n",
      "{'Baltimore', 'Bordeaux', 'Yaoundé', 'Créteil', 'Tampico', 'Varsovie', 'Saana', 'Téhéran', 'Lourdes', 'Bornéo', 'Port-Gentil', 'Tripoli', 'Amsterdam'}\n",
      "{'Papeete', 'Baltimore', 'Dôle', 'Bordeaux', 'Yaoundé', 'Créteil', 'Tampico', 'Varsovie', 'Saana', 'Téhéran', 'Lourdes', 'Bornéo', 'Port-Gentil', 'Tripoli', 'Cotonou', 'Amsterdam'}\n",
      "Intersection sm, md & lg : 13\n",
      "Intersection sm & md : 14\n",
      "Intersection sm & lg : 13\n",
      "Intersection md & lg : 16\n",
      "dans aventurier_sm : 6\n",
      "dans aventurier_md : 1\n",
      "dans aventurier_lg : 0\n"
     ]
    }
   ],
   "source": [
    "lieux_en_commun       = set(aventurier_sm).intersection(set(aventurier_md), set(aventurier_lg))\n",
    "print(lieux_en_commun)\n",
    "lieux_en_commun_sm_md = set(aventurier_sm).intersection(set(aventurier_md))\n",
    "print(lieux_en_commun_sm_md)\n",
    "lieux_en_commun_sm_lg = set(aventurier_sm).intersection(set(aventurier_lg))\n",
    "print(lieux_en_commun_sm_lg)\n",
    "lieux_en_commun_md_lg = set(aventurier_md).intersection(set(aventurier_lg))\n",
    "print(lieux_en_commun_md_lg)\n",
    "print(\"Intersection sm, md & lg :\", len(lieux_en_commun))\n",
    "print(\"Intersection sm & md :\", len(lieux_en_commun_sm_md))\n",
    "print(\"Intersection sm & lg :\", len(lieux_en_commun_sm_lg))\n",
    "print(\"Intersection md & lg :\", len(lieux_en_commun_md_lg))\n",
    "print(\"dans aventurier_sm :\", len(set(aventurier_sm).difference(set(aventurier_md),set(aventurier_lg))))\n",
    "print(\"dans aventurier_md :\", len(set(aventurier_md).difference(set(aventurier_sm), set(aventurier_lg))))\n",
    "print(\"dans aventurier_lg :\", len(set(aventurier_lg).difference(set(aventurier_md), set(aventurier_sm))))"
   ]
  },
  {
   "cell_type": "code",
   "execution_count": 102,
   "metadata": {},
   "outputs": [
    {
     "data": {
      "image/png": "[encoded data removed]",
      "text/plain": [
       "<Figure size 432x288 with 1 Axes>"
      ]
     },
     "metadata": {},
     "output_type": "display_data"
    }
   ],
   "source": [
    "venn3(subsets = (6,1,14,0,13,16,13), set_labels = ('Aventurier_sm', 'Aventurier_md', 'Aventurier_lg'), alpha = 0.5);"
   ]
  },
  {
   "cell_type": "code",
   "execution_count": 53,
   "metadata": {},
   "outputs": [
    {
     "name": "stdout",
     "output_type": "stream",
     "text": [
      "{'Bogola', 'Kinshassa', \"Papeete J'ai bu de l'eau\", 'ber1ue', 'Camberra', \"J'ai été à\"}\n",
      "{'Bogola', 'Kinshassa', \"Papeete J'ai bu de l'eau\", 'ber1ue', 'Camberra', \"J'ai été à\"}\n",
      "{'Bogola', 'Kinshassa', \"Papeete J'ai bu de l'eau\", 'ber1ue', 'Camberra', \"J'ai été à\", 'Calcutta'}\n",
      "\n",
      "{'Binningham'}\n",
      "{'Binningham', 'Calcutta'}\n",
      "{'Binningham', 'Cotonou', 'Dôle', 'Papeete'}\n",
      "\n",
      "set()\n",
      "{'Papeete', 'Cotonou', 'Dôle'}\n",
      "set()\n"
     ]
    }
   ],
   "source": [
    "print(set(aventurier_sm).difference(set(aventurier_md),set(aventurier_lg)))\n",
    "print(set(aventurier_sm).difference(set(aventurier_md)))\n",
    "print(set(aventurier_sm).difference(set(aventurier_lg)))\n",
    "print()\n",
    "print(set(aventurier_md).difference(set(aventurier_sm),set(aventurier_lg)))\n",
    "print(set(aventurier_md).difference(set(aventurier_lg)))\n",
    "print(set(aventurier_md).difference(set(aventurier_sm)))\n",
    "print()\n",
    "print(set(aventurier_lg).difference(set(aventurier_sm),set(aventurier_md)))\n",
    "print(set(aventurier_lg).difference(set(aventurier_sm)))\n",
    "print(set(aventurier_lg).difference(set(aventurier_md)))"
   ]
  },
  {
   "cell_type": "code",
   "execution_count": 18,
   "metadata": {},
   "outputs": [],
   "source": [
    "freq1 = {}\n",
    "for lieu in aventurier_sm:\n",
    "    freq1.setdefault(lieu, 0)\n",
    "    freq1[lieu]+=1\n",
    "sorted_freq1 = OrderedDict(sorted(freq1.items(), key=lambda x: x[1], reverse=True))\n",
    "    \n",
    "\n",
    "freq2 = {}\n",
    "for lieu in aventurier_md:\n",
    "    freq2.setdefault(lieu, 0)\n",
    "    freq2[lieu]+=1\n",
    "sorted_freq2 = OrderedDict(sorted(freq1.items(), key=lambda x: x[1], reverse=True))\n",
    "    \n",
    "freq3 = {}\n",
    "for lieu in aventurier_lg:\n",
    "    freq3.setdefault(lieu, 0)\n",
    "    freq3[lieu]+=1\n",
    "sorted_freq3 = OrderedDict(sorted(freq3.items(), key=lambda x: x[1], reverse=True))\n",
    "\n",
    "ecrire_json(\"fréquence_lieux/freq_lieux_aventurier_sm.json\",sorted_freq1)\n",
    "ecrire_json(\"fréquence_lieux/freq_lieux_aventurier_md.json\",sorted_freq2)\n",
    "ecrire_json(\"fréquence_lieux/freq_lieux_aventurier_lg.json\",sorted_freq3)"
   ]
  },
  {
   "cell_type": "code",
   "execution_count": 96,
   "metadata": {},
   "outputs": [
    {
     "data": {
      "image/png": "[encoded data removed]",
      "text/plain": [
       "<Figure size 432x288 with 1 Axes>"
      ]
     },
     "metadata": {
      "needs_background": "light"
     },
     "output_type": "display_data"
    }
   ],
   "source": []
  },
  {
   "cell_type": "code",
   "execution_count": null,
   "metadata": {},
   "outputs": [],
   "source": []
  }
 ],
 "metadata": {
  "kernelspec": {
   "display_name": "Python 3",
   "language": "python",
   "name": "python3"
  },
  "language_info": {
   "codemirror_mode": {
    "name": "ipython",
    "version": 3
   },
   "file_extension": ".py",
   "mimetype": "text/x-python",
   "name": "python",
   "nbconvert_exporter": "python",
   "pygments_lexer": "ipython3",
   "version": "3.8.3"
  }
 },
 "nbformat": 4,
 "nbformat_minor": 4
}
