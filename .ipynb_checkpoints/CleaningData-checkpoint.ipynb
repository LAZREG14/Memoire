{
 "cells": [
  {
   "cell_type": "code",
   "execution_count": 1,
   "metadata": {},
   "outputs": [],
   "source": [
    "import json\n",
    "import re\n",
    "def ouvrir_json(chemin):\n",
    "    f = open(chemin, encoding=\"utf-8\")\n",
    "    toto = json.load(f)\n",
    "    f.close()\n",
    "    return toto\n",
    "\n",
    "def ecrire_fichier(chemin, contenu):\n",
    "    w = open(chemin, \"w\", encoding=\"utf-8\")\n",
    "    w.write(contenu)\n",
    "    w.close()\n",
    "\n",
    "def lire_fichier(chemin):\n",
    "    f = open(chemin, \"r\", encoding=\"utf-8\")\n",
    "    chaine = f.read()\n",
    "    f.close()\n",
    "    return chaine\n",
    "\n",
    "def ecrire_json(chemin, contenu):\n",
    "    w = open(chemin, \"w\", encoding=\"utf-8\")\n",
    "    w.write(json.dumps(contenu, indent=2, ensure_ascii=False))\n",
    "    w.close()"
   ]
  },
  {
   "cell_type": "code",
   "execution_count": 2,
   "metadata": {},
   "outputs": [],
   "source": [
    "echantillon1 = ouvrir_json(\"Data/echantillon1.json\").values()"
   ]
  },
  {
   "cell_type": "code",
   "execution_count": 3,
   "metadata": {},
   "outputs": [],
   "source": [
    "parole_echantillon1=[]\n",
    "for child in echantillon1:\n",
    "    for parole in child:\n",
    "        paroles = parole.get(\"lyrics\")\n",
    "        parole_echantillon1.append(paroles)"
   ]
  },
  {
   "cell_type": "markdown",
   "metadata": {
    "slideshow": {
     "slide_type": "notes"
    }
   },
   "source": [
    "Se débarrasser des fin de lignes et symboles déechappement\n",
    "---------------------------------------------------------------------"
   ]
  },
  {
   "cell_type": "code",
   "execution_count": 4,
   "metadata": {},
   "outputs": [],
   "source": [
    "withoutSlash_n =[]\n",
    "for s in parole_echantillon1:\n",
    "    try:\n",
    "        x = re.sub(\"\\n\", \" \", s)\n",
    "    except:\n",
    "        pass\n",
    "    withoutSlash_n.append(x)"
   ]
  },
  {
   "cell_type": "code",
   "execution_count": 5,
   "metadata": {},
   "outputs": [],
   "source": [
    "withoutSlash =[]\n",
    "for s in withoutSlash_n:\n",
    "    try:\n",
    "        x = re.sub(\"\\\\'\", \"'\", s)\n",
    "    except:\n",
    "        pass\n",
    "    withoutSlash.append(x)"
   ]
  },
  {
   "cell_type": "code",
   "execution_count": 98,
   "metadata": {},
   "outputs": [],
   "source": [
    "#withoutStopwords_spacy = []\n",
    "#sw = nlp.Defaults.stop_words\n",
    "#for w in withoutSlash_n:\n",
    "  #  if w not in sw:\n",
    "        \n",
    " #       withoutStopwords_spacy.append(w)\n",
    "#print(withoutStopwords_spacy)"
   ]
  },
  {
   "cell_type": "code",
   "execution_count": 8,
   "metadata": {},
   "outputs": [],
   "source": [
    "ecrire_json(\"clean_echantillon1.json\", withoutSlash)"
   ]
  },
  {
   "cell_type": "code",
   "execution_count": 10,
   "metadata": {},
   "outputs": [],
   "source": [
    "import spacy\n",
    "nlp_sm = spacy.load(\"fr_core_news_sm\")\n",
    "nlp_md = spacy.load(\"fr_core_news_md\")\n",
    "nlp_lg = spacy.load(\"fr_core_news_lg\")"
   ]
  },
  {
   "cell_type": "code",
   "execution_count": 28,
   "metadata": {},
   "outputs": [],
   "source": [
    "f1 = ouvrir_json(\"clean_data_echantillons/clean_echantillon2.json\")\n",
    "f2 = ouvrir_json(\"Data/voc_glaff.json\")"
   ]
  },
  {
   "cell_type": "markdown",
   "metadata": {},
   "source": [
    "Lieux trouvés par le modèle spacy small\n",
    "---------------------------------------------------------------------"
   ]
  },
  {
   "cell_type": "code",
   "execution_count": 42,
   "metadata": {},
   "outputs": [
    {
     "name": "stdout",
     "output_type": "stream",
     "text": [
      "4381\n",
      "{'Menton', 'Garges-Les-Gonesses', 'Silhouette insolites', 'Fredonne', 'Ve', 'Ter', 'Garde-à-vue', 'Gravée', 'Forcé', 'Tagada', 'Grandir', 'Puces', 'Atada', 'Centrafrique', 'Tifosi', 'Tiens', 'boulevard de Sébastopol Tortillant', 'Connemara', 'Crament', 'Gasoil', \"bois d'Boulogne\", 'Valence', \"’ C'\", '’', 'place des vers Casse des merdes', 'Faisanderie', 'Planquée', 'Jerusalem', 'marée', 'Rex', 'Té', 'La Seine', 'Brive-la-Gaillarde A', 'Coca', 'Laponie', 'Angleterre', 'Chili', 'Penchée', 'Bad', 'Mont Royal', 'O', 'Occitants', 'Lové', 'Briquer', 'Mai', 'Tours', 'Normandie', 'Stockholm', 'Essuyez', 'Nord', 'Chés', 'montagne Me', 'Flaujo', 'Idéal', \"Pass'\", 'Dallas', 'Kingston', 'Passy', 'Bangkok', 'Canique', 'Nord-Est', 'Pont-de-Sèvre', 'Dublin city', \"pont Alexandre Jusqu'\", 'Celle', 'Alabama', 'grande Ourse', 'Allergique', 'Akkad', 'Pouc', 'Uranus', 'Vlan', 'Parme', 'Amérique', \"ci N'\", \"l'Afrique\", 'Bamako', 'mont Falu', 'Basses', 'Tiden', 'I.M.P.E.R.A.T.O.R', 'bar Omar', 'Résisté', 'Caire', 'Dessus', 'Pont musical', 'Gelé', \"porte Y'\", 'Distance', 'Massy', 'New Orléans', 'Cette', 'Sad Hill', 'Auteuil', 'Blaow', 'Mière', 'Côte', 'S', 'Arrife', \"rue Qu'\", 'Tchernobyl', 'Redescends', 'Margoton', 'L.A Faire', 'Rue Saint-Vincent', 'Funky', 'Présumais', 'Népal', 'Menait', 'Systématique', 'Palpable', 'Grimpe', 'Saint-James', \"Boulevard de la Chapelle Sur un air d'eau d'javelle\", 'Tonnerr', 'Bouger', 'Patagonie', \"grinche Tronche d'amour\", 'Noire', 'Rondes', 'Saint-Denis', 'Californie', 'la Sorgue', 'Soyons', 'Parc Montsouris Après-midi un peu folle', 'Creusez', 'Maharajas', 'Paris Arpenter', 'Ves D', 'Belleville', 'Ibiza', 'Guignol', 'du Sud', 'Père', 'This', 'Lima', 'Dicte', 'A.Siniavine', 'Elam', 'C', 'Minme', 'Fuerte', 'Armaggedon', 'Mont’', 'AH AH AH', 'la Bastille', 'Moscou', 'Hissez', 'Harangues', 'Caroline', 'Pologne', 'Mourra', 'Dahu', 'Verso', 'Lachaise', 'Cochères', 'Sébastopol', 'Martigues', 'Dedans', 'mer Où', 'Neuilly', 'Etudiant', 'Babel', 'Franchir', 'Bettancourt', 'Elégante', 'Dont', \"don'\", 'Eloigne toi Petite fille aux yeux perdus Tu', 'Maine', 'Débilos', 'Sharengton', 'Bondy', 'Landem', 'Mystifié', \"Rue d'Charonne\", 'Fasse', 'Mignonne', 'Saine', 'Long Kesh', 'Recordar', 'Haïti', 'Baskets', 'jardin d’Eden', \"temple N'aies pas peur\", 'P.M.U.', 'Meudon', 'Tectonique', 'Aimerais', 'M.I.C.', 'Menotté', 'I', 'Mentons', 'B', 'Sénégal', 'Les Tuileries', 'These', 'Passe la Heineken', 'Emaciés', 'Sud-Ouest', 'Amsterdam', 'Rue du Vieux Colombier', 'Qu´un', 'Mu', 'Jallalabad', 'Pas', 'La France', 'Pensais', 'Cythère', 'Tolède', 'Traîne', 'Monténégro', 'j´m´engueule', 'Javanaise', 'Haine', 'Katmandou Ou', 'Avalon', 'Indochine', 'Uf', 'Cerveza', 'Chill', 'rue Davso', \"J'ai creusé un tunnel de 18 mètres de long J'ai atterri dans la cave d'une laiterie parisienne J'ai pris 300 carambars un kilo de madeleines\", 'Fréjus', 'Lorque', 'Brésil', 'Damas', 'Embrase', 'Coupole', 'Edites', 'Arnaquer', 'de France', 'Amaloulous À cause de', 'Cramé', 'Ouais C.V Imperial', 'Chouf', 'Eloigne toi Petite fille aux yeux perdus', \"Heureus'\", 'Puerta', 'They', 'Boys', 'Futile', 'Knokke-le-Zoute', 'Permets', 'Test', 'Nord-Ouest', 'Gévaudan', 'Lyriciste', 'Golfe de Naples', 'Addis', 'Pékin', 'Gre', 'Babou', \"caverne d'Ali\", 'parc Montsouris', \"J'ai dit\", 'Balade', 'Quimper', 'Mini-Cooper', 'Tiendront', 'Bibi-la-Purée', 'golfe de Tchernobyl', 'Stabe', 'Akhnaton', 'Erythrée', 'Pipasol', 'Foutaises', 'Malaise', 'Québec', 'Tout’s grignoté’s', 'Tcherno', 'Horde', 'Santiago', 'Va caguer', 'Perriers', 'Ternaire', 'Venir', 'Saint Malo', 'on Court', 'Pont Neuf', 'Schengen', 'Gre v', 'Galette', \"bois d'Saint-Cloud\", 'Ceylan', 'Tipaza', 'Saint-Germain-des-Prés', 'Villette', 'Miami', \"J'aim'rais mieux mourir\", 'fi France', 'Deauville', 'Nam yo', 'Khem', 'New Jacks', 'Frénétique', 'Paris', 'Seine', 'Keno', \"Est-c'que\", 'Sévit', 'zoo Musulmans', 'Som Vang', \"parking À l'intérieur\", 'le Saint-Esprit', 'Acerbe', 'Veux', 'Sud-Est', 'Palace !', 'faille Travail', 'ligne Garde tes valeurs pour le jour où les anges', 'Cordillère des Andes', 'Aspen', 'Crin', 'Fier', 'Chtimis', 'Positive', 'Déplace', 'Chétane', 'Cha', 'Corses', 'Servile', 'Ca', 'Sign', 'pont Mirabeau', 'Gepetto', 'From London', 'Montparnasse', 'Coudes serrés', 'Jehova', 'Flou', 'Hard', 'Mangeais', 'la Courneuve', 'Géorgie', 'Beaujolais', 'Pays des', 'Bicêtre', 'gare de Lyon', 'Celles', 'Rouen', 'Montmartre', 'Rue sombre', 'Bien-aimées', 'Abusant', 'Te de Saint-Cloud', 'Unis', 'Merdico', 'Aïd', 'Abruzzes', 'Quartier', 'avenue Foch', 'Ukraine', 'métro Saint-Mandé Qui', \"J'ai connu bien des pat'lins\", 'Saint-Pierre', 'Goose', 'Vénus Ris', 'Saumur', 'Promenant', 'Landes', 'Conomies', 'Tu', 'Métamorphoser', 'Croule', 'Connais', 'mer Enfanté', 'Place', 'Gap', 'fortin Se', 'Hier', 'Bruxelles', \"l'Italie\", 'Charon', 'Jamaïque', 'fosse Pus', 'Himalaya Goa', 'Abjurant', 'forêt Chante', 'Bagneux', 'aper?u', 'golfe du Lion Trempe', 'Monter', 'Memphis', \"Amour C'\", 'Champs', 'Bic', 'Sud', 'Saint-Eloi', 'Brille', 'Zanzibar', 'Touraine', 'Décimées', 'rue des Saules Rue Saint-Vincent', 'Buttes', 'Cologne', 'Pont', 'Cercle', 'Coller', 'Déjouant', 'Posé', 'Méditerranéenne', 'chemin Morte', 'Besoin', 'Musette', 'Lille Roubaix', 'Abandonnée', 'Terrée', 'Nashville', 'Russie', 'Valda', 'terre Père', 'Montrez', 'la Weed', 'Hiroshima', 'baleines Harponnées', 'Matées', 'Délaisse', 'Déchanter', 'Pégase', 'Nante', 'Krasnodar', 'Mecton', 'Hanoï', 'Bercy', 'côte Bosse', 'Rendez', 'Eperdu de bonheur', 'Ricain', 'Shaolin', 'Tiercé', 'Mec', 'Saint-Mandé', 'Pérou', 'Souillé', 'Tennessee', 'cimes Squatteurs', 'Courrut', 'Grand Manitou', 'la Seine', 'Où Naples', 'Lille Roubaix Tourcoing', \"Havin'\", 'Flèche', 'Jazz', 'Tes', 'Finis', 'Saint-Malo Fair', 'Sao Paulo', 'Provence', 'Paules', 'Macumba', 'Florence Rey', \"J'ai écrit\", 'La Rochelle', 'temple Pis', 'cité Lénine', 'n´en', 'Pauvr', 'Pays de Co', 'Saturne', 'Méditerranée', 'P', 'Sholdès', 'Venise', 'Mandarines', 'Togo', \"Côte d'Azur\", 'Sensualiser', \"Tell'\", 'Égypte', 'Brooklyn New York', 'Treets', 'Pic', 'Déséquilibré', 'Sylphes', 'Demeure', 'Tommies', 'Shalamar', 'A Longwy', 'Sacré', 'Médine', 'Fréquentables', 'Ouest', 'Grenade', 'Burstin', 'Verrouillée', 'Indes', 'Paz', 'Montana', 'Frissonnant', 'Chacal', 'Lisieux', 'Oural', 'Maires', 'Tranquille', \"planète Y'\", 'Doubler', 'La Courneuve', 'Burkina', 'notre Terre', 'Va', 'Reggae', 'Pointure 37', 'Avoriaz', 'Kinshasa', 'Dégueulasser', 'Varsovie', 'Brest', 'Lyon', \"Jardin d'Adam\", 'Arc-en-Ciel', 'Sur Digne', 'Passait', 'Monaco', 'Mozart Du pont des Arts', 'Tranquilles', 'Saint-Malo', 'Profondes racines', 'Baileys', 'Berlin', 'port Blanche-Neige', 'Sad', 'Chemin', 'Ta bonne étoile', 'Vernis', 'Dins', 'Fouquières', 'Bourrez', \"Shurik'\", 'Tait', 'Clignancourt', 'Badé', 'rue Pigalle', 'Opaque', 'Wallons', 'Iéna', 'Washington', 'Bled', 'Blooooooondiiiiin', \"J'ai lu beaucoup de books certains\", 'Pays', 'Clamart', \"Santiago T'\", 'Aix', 'Combien', 'Rasée la maison', 'Déversent', 'Faubourg-Saint-Honoré', 'Tire', 'Tamoul', 'Où', 'Marylou', 'Bucarest', \"Convoit'\", 'Molly', 'Playa', 'Evry City', 'Piennes', 'statue In', 'Tards', 'St Vincent de Paul', 'Frapadingues', 'C.O.B.de', 'Anticléricaux', 'Traversé', 'bastrin- Gue', 'Fleury', 'Etre', 'Paris Ardisson', 'Mordor', 'Sereine', 'Basta', 'Yémen', 'Sublime Porte En grand Pour ta famille', 'planète Mars Marseille', 'Funk', 'monts du Luberon', 'Loch Ness', 'Vaux', 'Egypte', 'Halte', 'Casa', 'Voltigent', 'Ternit', 'forêt de Fontainebleau', 'Berçant', 'Uptown', 'Laarso A', 'Gardes', 'Israël', \"J'pourrais\", 'la France', 'Eille', 'île de Zalamalek', 'Mali', 'gare de', 'Val', 'Calculer', 'Maintenant', \"Ej'\", 'Oublierons', 'Couz’', 'Saint Patrick', 'Pisseuse', 'Butte Tous', 'Ffu', 'London', 'Camaret', 'Illuminant', 'Décolorées', 'place d’', 'Raccourcissent', 'Etna', 'la Terre', 'Place Saint-Michel', 'Basques', 'Rottweilers', 'Menuets', \"l'Espagne\", 'Irlande', 'Grand Plazza', 'l´église Histoire', \"’ Qu'\", 'Bogota', \"roi d'Espagne\", 'Raclant', \"Cettain'\", \"l'Amérique\", 'Pleure pas', 'Villeneuve-Saint-Georges', 'Ternis', 'H.O.P', 'Oeil', \"Fur'\", 'Cap Horn', 'B.H.V', 'Ré', 'Eiche', 'golfe du Yémen', 'Mont Falu', 'Manille', \"citadelle d'Ajaccio\", 'Abyssale', 'Nou terrils', 'Pactole', 'Colombie', 'la Chine', 'Chinois', 'tour Magne', 'Chérie', 'Robinet', 'Espagne', \"Jardin d'Eden\", 'Pow Wow', 'Suisse', 'Stella', 'Nation', 'Cévennes', 'Bancs', 'Viens', 'Malpolis', 'Aller', 'Gaîté', 'Suze', 'Loulou', 'globe Solaire', 'Distille', 'Ancrée', 'Canal', 'Maroc', 'Belsunce', \"Parc'\", 'Panier', 'pyramide Mets', 'Prague', 'Éthiopie', 'Irak', 'Épis', \"J'ai du nouveau pour toi et ta clique sale asa\", 'Chambéry', \"J'aurais pu me tendre et les prendre\", 'Paparazzis', 'Mourez', 'CO', 'Rome', 'Vologne', 'Centre', 'Beaune', 'Gaillarde', 'We', 'Poulbots', 'Censés', 'Singapour', 'Ouhou', 'Pile', \"jardin d'Eden\", \"rue Y'\", 'l´au', 'parking A', 'Mongolie', 'Tremper', 'Salle', 'Fatale', 'Rêva', 'Bhanghra de Katmandou', 'Murmura', 'Gastibelza', 'Bière', 'Bordeaux', 'Quartier Nord', 'Fourche', 'Angers', 'Blanche', 'Naguère', 'Valentour', 'Los', 'Tourner', 'Rience', 'Pyrex', 'Belles', 'Effleur', 'terre Me', 'Fort Greene', 'Ver', 'Coutellerie', 'Sacro', 'Versant', 'Levant', \"Bihac'\", 'Olimpico', 'Allemagne', 'Dépression', 'pont des Arts Et les collets', 'Philistins', 'Deviendront', 'BDP Tourne', 'Garderons', 'Parc des Princes', 'Byzance', 'Délavées', 'Navrés', 'c\\x9cur', \"F'\", 'Parisienne', 'Champs Elysées', 'E1', 'Ait', 'Virginie', 'Suintant', 'Frappe', 'Eich', 'Fuck', 'Pantin', 'Tête de nœud', 'Saint-Cloud', 'Vancouver Traîné', 'Mégotrip', 'bande du', 'Séville', 'ligne Maginot', 'Cavan', 'Abyssinie', 'Montfaucon', 'N.Y.C.', 'Paname', 'Quito', 'Papouasie', 'Dù', 'Serai Orly', 'Prés', 'Grince', 'Qu´il', 'Yang', 'Dublin', 'Bretagne A', 'Kévin', 'La-la-la', 'Encre noire', 'Lever', 'Berne', 'Argentine', 'Sensoriel', 'Mit', 'Dé', 'Bengale', 'Marseillais', 'Ouarzazate', \"fossé N'\", \"pont d'Avignon\", 'Une Sardane Je suis ton homme', 'Est', 'porte de la Santé', 'Tortillant', 'Rajustant', 'La Tour Montparnasse', 'MoMA', 'Château Noir', \"J'ai dit banco\", 'cimetière Pantin', 'Reïf', 'Blacks', 'Teutons', 'Séquencée', 'Réquisition', 'Rio', 'Ffff', 'Liffey', 'Sarcelles', 'Courront', 'Bastilles', 'Saint-Denis Trip', 'Lendemain', 'lac Tchad Natif de Dakar', 'Regarde-moi AH AH AH', 'Nou', 'Pénélopes', 'T', 'Barbarie', 'Pût', 'Dijon', 'Perché', 'Eux', \"you'\", \"Medellin N'\", 'Atlantide A', 'Broyant', 'Tocard', 'Pis', 'Pervenches Ou', 'Yo', 'Nantes', 'Mogador', \"J'ai vu leur R.I.P Des tunes a gogo\", 'Imperial', 'Sues', 'Imothep', 'gare de Bologne', 'Mexico', \"gare de l'Est\", 'New York City', 'So', 'Cap Canaveral', 'Lancolique', 'Tibéri', 'Fonder', 'Occident', \"Corne d'Aurochs\", 'Mille', 'Sonde', 'Limoux', 'Les', 'Pondus', 'Faites', 'Direct', 'Naples A', 'States', 'Coulent', 'Liban', 'Evêché', \"Porte d'Italie\", 'De la France', 'Walkman', 'Chicanos', 'Mars Reléguant', 'Bouscule', 'Traverse', 'tunnel Lame', 'Kalash', 'Expédie', 'région Marie-Lou', 'Gavroche', 'Reviendront', 'Chicago', 'Tâchez', 'Tours Jumelles', 'Tre', 'Vienne', 'Ayato', 'Vieux Port Faire', 'Auvergne', 'Novotel Y', 'Vanves', \"Doiv'\", 'Champ', 'Bosnie', 'Tailler', 'Costa Rica', 'jardin du Bon Dieu', \"J'aurais dû dire un mot\", 'Hommes', 'Parquée', 'Poto', 'Abeba', 'XXX Paname', 'La Canebière', 'Mentally', 'plaines A', 'Katmandou', 'pont des Arts', \"More C'\", 'Paris-la-soumise', 'Havres', 'Pénétrer', '‘Inti Fada', 'Am', \"viaduc d'Auteuil\", 'Bamboula', 'Électrolyse', 'Achinan', 'Dieu', 'Phocéens', 'Bavière', 'Faisais', 'Salamanque', 'Montent', 'Landerneau', 'Villefranche', 'Saint-Ouen', 'Hollywood', 'porte de', \"Paradis C't'\", 'Moulins', 'Faire', 'Oxford', 'Calvi', 'Honduras', 'Dédé-le-Surineur', 'Jubiler', 'Palestine', 'U.S', 'Nettoie', 'Jetons', 'Vire', 'Torse', 'Orphélie', 'Suzon', 'Lerchechem', 'Côtes-du-Rhône', 'Capoue', 'M?m', 'Sirs', 'Louisiane', 'Marny', 'Métissée', 'Tolbiac', 'Eloigne toi', \"Saint-Jean N'\", 'Terrestres', 'Inde', 'Le c\\x9cur', 'Etna Mirage', 'Sparte', 'Moissonne', \"N C'\", 'Belfast', 'Vociférant', 'Place Vendôme Paris', 'Greenwitch Village', \"L'Italie\", 'Vänd', 'Bastille', 'Bourse', 'Gratter', 'Nil', 'Mexique', 'Fac', 'Viêt-Cong', 'Rester', 'Nouméa', 'Créteil', 'Glocks', 'Endosser', 'Vrille', 'R', 'Bullshit', 'Tri-Nitro-Toluène', 'Balance', 'Champerret', 'Corse', 'Label 5', 'Sri Lanka', 'Figuring', 'Tr', 'Bhopal Yo !', 'Revenir', 'Catane', 'Selecto', 'Chari Jazz', 'Jordans', \"l'Europe\", 'Tarentelles', 'Sévéso', 'Continúas serena Por', 'Zigzag', 'Sois', 'Femelles', 'Loch Ness Noir', 'Schizophrénique', 'Étalonnée', 'Entendras', 'caisse A', 'Pontoise', 'Pakistan', 'Trottoirs', 'Arrêté', 'La Chine', 'Sofia', 'Porions', 'Alpha', 'Te', 'Ves', 'Darjeeling', 'Ramassée', 'Parc Montsouris', 'Rodeada', 'Tache', 'Excitait', 'Cancer', 'Rosette', 'Triangulaire', 'tour A', 'Alsaciens', 'Colorado', 'Western', 'New York', 'Lilas', 'Hexagone', 'B.Boy', \"J'ai vu ce que tu faisais Du peuple\", 'Pluton', 'Instrumental', 'Sète', 'Bangladesh', 'Le Picon', 'In', 'Patchouli', \"Shurik'N\", 'Lens', 'Rouler', 'Rencontra', 'AH AH AH Regarde', 'Les rues', 'Garez', 'Populace', 'Tombant', 'Criminosical', 'Bihac', 'Pleure', 'Européens', 'Sambre-et-Meuse', 'Sos', 'Hambourg', 'He', 'Nice', 'Wana', 'Bab El Oued Du', 'Soleil', 'Terre', 'Panama', 'Knicks', 'Mortadan', 'Avignon', 'Cheval', 'Fresnes', 'Goudes', \"Ras l'bol des pizzerias\", 'Allemand', 'Fortifier', 'Serein', 'Pépette Près', 'Recouvrance', 'Esmeralada', 'corne Semble', 'Two', 'Issara', 'Close', 'Etat', 'Re L?-haut', 'désert Pas', 'A coté de Lievin', 'Niger Bosser', 'Dalila', 'Taïwan', 'Amasse', 'Union', 'Baltique', 'J', 'le Caire', 'Lutèce', 'hôpital Saint-Louis', 'Instituteurs', 'Moulin', 'Rue de la Soif', \"Phili' Quels\", 'pont Mirabeau La belle', 'Bagdad', 'crever Étouffés', 'Big Daddy', 'Bali', 'Monté', \"Tre heureux C'\", 'seuil Faut', 'New York A', 'Yeah', 'Jordanie', 'paradis Pas', 'Ajaccio', 'Couteront', 'Pays Basque', 'Symbolisé', \"l'Irlande\", 'Saint-Emilion', 'A Saint-Sulpice', 'Perpignan', 'Mutiler', 'patrimoine Folklorique', 'Takana', \"N'\", 'Landernau', 'Cogner', 'Cherche', 'Tournoyante', 'Mental', 'royaume des Hommes', 'Holiday Inn', 'État', 'Trop', 'École française du Caire Olives', 'Tracer', 'Man?uvres', 'Vre', 'Retrouv', 'Pou', 'Arrimé', 'Land Bouteille cassée', 'J´ bois', 'Bas', 'Baptistain', 'Sceaux', 'ville Exorcise', 'Suis', 'Cache', 'Thèbes', 'Budapest', 'Dégun', 'Capdevielle', 'Zénith', 'Taj Mahal', 'Ris', 'Onques', 'Australien', 'As', \"M'\", 'Telecom', 'rue Blondel', 'Mars', 'Hauts-Plateaux', 'Rue Rochechouart', 'Rennes', 'Planète Marseille', 'Français', 'Protège-terrain', 'Dénonçaient', 'Qu´elle', 'Pondichéry', \"Alhambra d'Bordeaux\", 'Coulés', 'Voulu', 'Hip-Hop', 'Saint-Michel', 'Opéra', 'Élysées', \"J'ai vu les feuilles mortes des arbres\", 'Vietnam', 'Marsala', 'Lille', 'Cité Mireille Mathieu', 'Jaffar', 'Sumer', 'Endoume', 'Maldives', 'Pédé', 'Brrraque', 'Vénus', 'Rungis', 'Coucha', 'Ligotée', 'D', 'Clap', 'mont Falù', 'Tahiti', \"Rue d'la Roquette\", 'rue de Vanves', \"Place de l'Horloge\", \"croqu'-mort\", 'dessus Est', 'Regardez', 'Jérusalem', 'Carcassonne', 'Dégela', 'Weah', 'Katana', \"État d'Amérique\", 'Lauriers', 'Lier', 'Gare', 'Monoï', 'Nicaragua', 'Kiev', 'Gange', 'Lison', 'Franchissant', 'Nouvelle', 'République', 'Pourrave', 'Persuadés', 'Callipyge', 'Fort Green', \"Tain's Wallace\", 'Echo', 'Pigalle', 'Palaiseau', 'Fers', 'Haschich', 'Waco', 'Pedían', 'Cocagne A', 'galaxie Nébuleuse', \"Royaume Ming Pas d'apologie du Tchikipaw\", 'K', 'L Chill', 'Bastia', 'Cimetière Aguichant', \"Veau d'Or\", 'Padam', 'Quartiers', 'Estonie', 'Insultant', \"J'ai vu deux amoureux\", 'Europe', 'Pattaya', 'Prusse', 'Boutonneux', 'Toulon', 'Vatican', 'Versailles', 'Tour Magne', 'Amway', 'Rue du Vieux', 'Sodome', 'Nettoyées', 'Île-de-France', 'Laar', 'Houston', 'Peut-?tre', 'Doucement', 'Bagarreurs', 'Rendre', 'Hôtel de Russie Hôtel de Russie Hôtel de Russie', 'Sardagne', 'Sahel Pas', 'Lune', 'Thiais', 'Trouverais', 'Palerme', 'Coucou', 'Longjumeaux', 'Jazzy', 'obscurité', 'Pin', 'Sumatra', 'Vres', 'du Nord', 'pavillon Où', 'Renverse', 'Montélimar', 'Résonnent', 'Toulouse', 'Robins des Bois', 'Charonne', 'mer Libre', 'Ti', \"Ed'\", 'Dinard', 'Branches échevelées', 'Independenza', 'Journalistique', 'Saint-Pétersbourg', 'Pleurer', 'Gisait', 'Mesquins', 'La Terre', 'Ischia', 'rue Suzon', 'quartier Latin', 'A', 'Ponds', 'Tarbes', 'Chouette', 'Grossiste', 'Venez', 'Taxe', 'Ouganda', 'Creuser', 'Fit', 'Bietris', 'Privées', 'El Paso', 'Sugar Hill', 'Guérilla', 'Bâillonné', 'Confédération Suisse Si', 'Dakar', 'Kylin', \"T'\", 'Pied', 'Marjolaine', 'Reporter', 'Cessons', 'Tourne', 'Afrique', 'Le Renard', 'Patriarche', 'Ferma', 'Tokyo', 'Donx', 'När jag vill minnas', 'Euhmm', 'Dignos', 'Bornéo', \"Porte d'Orléans\", 'Bretagne', 'Montcuq', 'Croyais', 'Comportâtes', 'Relater', 'Cagne', 'Dublin City', 'Indiens', 'Taf', 'notre France', 'Flingue', 'Perdons', 'Chine', 'Montrant', 'Maghreb', 'V', 'Tour Eiffel', 'Expulser', \"République J'ai embrassé\", 'Miniloubarrivistes', 'Creuse', \"d'Italie\", 'Psychiatrisées', 'Baissant', 'Voil', 'Atlanta', 'Babylone', 'Manie', 'Silhouette insolite', 'Brooklyn', 'porte du Diable Nan', 'Ricains', 'Hong', 'Mélanie', 'Cher', 'Tbilissi', 'CP', 'Grossissait la Seine', 'Arizona', 'Sicile', 'Pourquoi la rue', 'Bolivie', 'Ivrogne', 'Vallée des Rois', 'Piétinant', 'Sorbonne', 'golf Ballesteros', 'Londres', 'Porte', 'Meuse', 'Lololala', \"If you'd like to dance like\", 'Arrêtez', 'Indien', 'Horizons', 'Confortant', \"L'Amérique du grand\", 'Tipp', 'Istres', 'la Mecque', 'Fresh', 'Laintenanmic luplem latiquanprem Lessem', \"rue T'\", 'Légère', 'Désarticulé', 'Toi', 'Venise Où', 'Petit', 'Tanzanie Picasso', 'Arabe', 'Etienne', 'Chartre’ Funeste', 'Maquillée', 'Camargue', 'Hindou', 'Traîné', 'la Rotonde', 'Barbès', 'Courbée', 'Carpentras', 'Appalaches', 'Prusse A', \"bois d'Clamart\", 'Ur', 'Place Vichy', 'la Loire', 'Nent', 'Guèr', 'Deviné', 'Soit', \"Enfers Cert's\", 'France', 'Sans c\\x9cur', 'le Pentagone', 'Recto', 'Réchappés', \"Vincenn's\", 'Marseille', 'Winchester', 'G', 'Gotha', 'Africa', 'Narbonne', 'baby Blanche', 'hôpital Papa', 'Piétinera', 'Sologne', 'Agadir', 'Skiez', 'Res', 'Le soleil', 'Tourcoing', 'Dieppe', 'Clichy', 'Macao', 'Panthéon Rue Descartes', 'Même', 'E', 'planète Mars', 'La rue', 'Alanje', 'escalier B', 'Mental de Viêt', \"All'\", 'Montmertre', 'Guernica', 'Incitation', 'Brigue', 'Marsiale', 'Égyptiens', 'pays Coupée', 'Neptune', 'U', 'Sahel', \"I'\", 'Reverra', \"Sainte-Mad'lein’\", 'Dublin city Où', 'Danemark', 'B52', 'Zamzam', 'cave Tu', 'Milliers', 'Montparnasse A', 'Kader', 'Grèce', 'Disneyland', 'Sadique', 'Jem Fuit LAI', 'Café du Dôme', 'Himalaya', 'Hier soir au', 'MC', 'Madagascar', 'Judée', 'För', \"Lil' Bow Wow\", 'Medellin', 'Refrain]×2 A', 'mer Egée'}\n"
     ]
    }
   ],
   "source": [
    "loc=[]\n",
    "for texte in f1:\n",
    "    doc = nlp_lg(texte)\n",
    "    for entity in doc.ents:\n",
    "        if entity.label_ ==\"LOC\":\n",
    "            loc.append(entity.text)\n",
    "print(len(set(loc)))\n",
    "print(set(loc))"
   ]
  },
  {
   "cell_type": "markdown",
   "metadata": {},
   "source": [
    "Difference avec Glaff\n",
    "---------------------------------------------------------------------"
   ]
  },
  {
   "cell_type": "code",
   "execution_count": 40,
   "metadata": {},
   "outputs": [
    {
     "name": "stdout",
     "output_type": "stream",
     "text": [
      "2564\n"
     ]
    }
   ],
   "source": [
    "test = [mot for mot in loc if mot.lower() not in f2]\n",
    "print(len(test))"
   ]
  },
  {
   "cell_type": "code",
   "execution_count": 41,
   "metadata": {},
   "outputs": [
    {
     "name": "stdout",
     "output_type": "stream",
     "text": [
      "{'Menton', 'Fredonne', 'Ter', 'Gravée', 'Forcé', 'Blacks', 'Teutons', 'Séquencée', 'Grandir', 'Réquisition', 'Puces', 'Rio', 'Sarcelles', 'Courront', 'Tifosi', 'Bastilles', 'Tiens', 'Lendemain', 'Connemara', 'Crament', 'Gasoil', 'Valence', 'Barbarie', 'Pût', 'Faisanderie', 'Planquée', 'Perché', 'Té', 'Coca', 'Broyant', 'Tocard', 'Pis', 'Angleterre', 'Chili', 'Penchée', 'Lové', 'Briquer', 'Mai', 'Tours', 'Sues', 'Essuyez', 'Nord', 'Chés', 'Idéal', 'Dallas', 'Celle', 'Alabama', 'Fonder', 'Occident', 'Allergique', 'Mille', 'Vlan', 'Sonde', 'Parme', 'Les', 'Pondus', 'Faites', 'Direct', 'States', 'Coulent', 'Basses', 'Résisté', 'Dessus', 'Gelé', 'Walkman', 'Distance', 'Chicanos', 'Bouscule', 'Traverse', 'Cette', 'Kalash', 'Expédie', 'Côte', 'Reviendront', 'Tâchez', 'Vienne', 'Redescends', 'Auvergne', 'Margoton', 'Funky', 'Présumais', 'Champ', 'Tailler', 'Menait', 'Systématique', 'Palpable', 'Grimpe', 'Hommes', 'Bouger', 'Parquée', 'Noire', 'Rondes', 'Soyons', 'Creusez', 'Maharajas', 'Guignol', 'Havres', 'Père', 'Pénétrer', 'Lima', 'Dicte', 'Bamboula', 'Électrolyse', 'Dieu', 'Phocéens', 'Bavière', 'Faisais', 'Montent', 'Landerneau', 'Hissez', 'Harangues', 'Caroline', 'Mourra', 'Dahu', 'Verso', 'Cochères', 'Dedans', 'Franchir', 'Moulins', 'Faire', 'Oxford', 'Dont', 'Mystifié', 'Jubiler', 'Fasse', 'Mignonne', 'Saine', 'Nettoie', 'Jetons', 'Vire', 'Torse', 'Baskets', 'Tectonique', 'Aimerais', 'Menotté', 'Mentons', 'Métissée', 'Inde', 'Sparte', 'Moissonne', 'Vociférant', 'Mu', 'Pas', 'Pensais', 'Traîne', 'Javanaise', 'Haine', 'Bastille', 'Bourse', 'Gratter', 'Fac', 'Rester', 'Brésil', 'Damas', 'Embrase', 'Coupole', 'Arnaquer', 'Glocks', 'Cramé', 'Endosser', 'Vrille', 'Chouf', 'Boys', 'Futile', 'Balance', 'Permets', 'Test', 'Corse', 'Pékin', 'Revenir', 'Balade', 'Tarentelles', 'Quimper', 'Tiendront', 'Zigzag', 'Sois', 'Femelles', 'Schizophrénique', 'Étalonnée', 'Entendras', 'Pontoise', 'Trottoirs', 'Foutaises', 'Arrêté', 'Malaise', 'Horde', 'Porions', 'Alpha', 'Ternaire', 'Te', 'Venir', 'Darjeeling', 'Ramassée', 'Tache', 'Excitait', 'Cancer', 'Rosette', 'Triangulaire', 'Galette', 'Alsaciens', 'Western', 'Lilas', 'Hexagone', 'Miami', 'Pluton', 'Instrumental', 'In', 'Patchouli', 'Frénétique', 'Paris', 'Seine', 'Rouler', 'Rencontra', 'Sévit', 'Garez', 'Populace', 'Tombant', 'Acerbe', 'Veux', 'Pleure', 'Européens', 'Crin', 'Fier', 'Positive', 'Déplace', 'Hambourg', 'Corses', 'Servile', 'Ca', 'Nice', 'Soleil', 'Terre', 'Panama', 'Flou', 'Hard', 'Mangeais', 'Cheval', 'Allemand', 'Fortifier', 'Serein', 'Beaujolais', 'Bicêtre', 'Close', 'Celles', 'Rouen', 'Amasse', 'Union', 'Baltique', 'Abusant', 'Unis', 'Aïd', 'Instituteurs', 'Moulin', 'Quartier', 'Bali', 'Monté', 'Promenant', 'Landes', 'Tu', 'Métamorphoser', 'Couteront', 'Croule', 'Symbolisé', 'Connais', 'Place', 'Gap', 'Perpignan', 'Mutiler', 'Hier', 'Takana', \"N'\", 'Abjurant', 'Cogner', 'Cherche', 'Tournoyante', 'Mental', 'État', 'Trop', 'Tracer', 'Monter', 'Pou', 'Champs', 'Bic', 'Sud', 'Arrimé', 'Brille', 'Zanzibar', 'Touraine', 'Décimées', 'Bas', 'Buttes', 'Cologne', 'Pont', 'Cercle', 'Coller', 'Sceaux', 'Déjouant', 'Posé', 'Suis', 'Cache', 'Dégun', 'Méditerranéenne', 'Besoin', 'Zénith', 'Musette', 'Abandonnée', 'Terrée', 'Valda', 'Ris', 'Onques', 'Montrez', 'Australien', 'Matées', 'As', \"M'\", 'Délaisse', 'Déchanter', 'Mecton', 'Mars', 'Rendez', 'Ricain', 'Rennes', 'Tiercé', 'Mec', 'Français', 'Souillé', 'Dénonçaient', 'Flèche', 'Jazz', 'Tes', 'Finis', 'Coulés', 'Voulu', 'Opéra', 'Pédé', 'Vénus', 'Saturne', 'Coucha', 'Ligotée', 'Méditerranée', 'Mandarines', 'Regardez', 'Dégela', 'Katana', 'Lauriers', 'Lier', 'Pic', 'Gare', 'Monoï', 'Déséquilibré', 'Sylphes', 'Demeure', 'Franchissant', 'Sacré', 'Nouvelle', 'Fréquentables', 'Ouest', 'République', 'Pourrave', 'Persuadés', 'Callipyge', 'Grenade', 'Verrouillée', 'Indes', 'Montana', 'Frissonnant', 'Chacal', 'Fers', 'Haschich', 'Maires', 'Tranquille', 'Doubler', 'Va', 'Reggae', 'Quartiers', 'Dégueulasser', 'Insultant', 'Passait', 'Monaco', 'Tranquilles', 'Berlin', 'Prusse', 'Boutonneux', 'Vatican', 'Chemin', 'Vernis', 'Bourrez', 'Nettoyées', 'Tait', 'Doucement', 'Bagarreurs', 'Badé', 'Rendre', 'Opaque', 'Wallons', 'Bled', 'Lune', 'Pays', 'Trouverais', 'Combien', 'Déversent', 'Coucou', 'Pin', 'Tire', 'Tamoul', 'Où', 'Renverse', 'Résonnent', 'Frapadingues', 'Anticléricaux', 'Journalistique', 'Traversé', 'Sereine', 'Pleurer', 'Gisait', 'Basta', 'Mesquins', 'Funk', 'A', 'Vaux', 'Ponds', 'Chouette', 'Grossiste', 'Venez', 'Halte', 'Taxe', 'Casa', 'Creuser', 'Voltigent', 'Fit', 'Ternit', 'Privées', 'Berçant', 'Guérilla', 'Bâillonné', 'Gardes', \"T'\", 'Pied', 'Marjolaine', 'Mali', 'Val', 'Reporter', 'Calculer', 'Maintenant', 'Oublierons', 'Cessons', 'Pisseuse', 'Tourne', 'Illuminant', 'Décolorées', 'Patriarche', 'Raccourcissent', 'Ferma', 'Basques', 'Menuets', 'Croyais', 'Comportâtes', 'Relater', 'Cagne', 'Raclant', 'Indiens', 'Taf', 'Flingue', 'Perdons', 'Chine', 'Ternis', 'Montrant', 'Expulser', 'Ré', 'Creuse', 'Psychiatrisées', 'Baissant', 'Manie', 'Manille', 'Abyssale', 'Ricains', 'Hong', 'Pactole', 'Cher', 'Chinois', 'Chérie', 'Ivrogne', 'Robinet', 'Piétinant', 'Sorbonne', 'Suisse', 'Nation', 'Cévennes', 'Bancs', 'Viens', 'Malpolis', 'Porte', 'Aller', 'Gaîté', 'Loulou', 'Distille', 'Arrêtez', 'Indien', 'Ancrée', 'Horizons', 'Confortant', 'Canal', 'Maroc', 'Panier', 'Légère', 'Désarticulé', 'Épis', 'Toi', 'Paparazzis', 'Mourez', 'Petit', 'Centre', 'Arabe', 'Gaillarde', 'Poulbots', 'Maquillée', 'Camargue', 'Censés', 'Hindou', 'Traîné', 'Pile', 'Courbée', 'Tremper', 'Salle', 'Fatale', 'Deviné', 'Rêva', 'Murmura', 'Bière', 'Soit', 'Bordeaux', 'Fourche', 'Blanche', 'Naguère', 'Tourner', 'Belles', 'Recto', 'Réchappés', 'Ver', 'Coutellerie', 'Versant', 'Levant', 'Winchester', 'Gotha', 'Philistins', 'Narbonne', 'Deviendront', 'Garderons', 'Piétinera', 'Délavées', 'Skiez', 'Navrés', 'Parisienne', 'Macao', 'Ait', 'E', 'Suintant', 'Frappe', 'Pantin', 'Incitation', 'Brigue', 'Égyptiens', 'Sahel', 'Reverra', 'Montfaucon', 'Milliers', 'Prés', 'Grince', 'Yang', 'Sadique', 'Lever', 'Berne', 'Argentine', 'Sensoriel', 'Mit', 'Dé', 'Marseillais', 'Est', 'Tortillant', 'Rajustant'}\n"
     ]
    }
   ],
   "source": [
    "i = set(loc).difference(test)\n",
    "print(i)"
   ]
  },
  {
   "cell_type": "markdown",
   "metadata": {},
   "source": [
    "Majuscules/minuscules \n",
    "---------------------------------------------------------------------"
   ]
  },
  {
   "cell_type": "code",
   "execution_count": 43,
   "metadata": {},
   "outputs": [
    {
     "name": "stdout",
     "output_type": "stream",
     "text": [
      "897\n"
     ]
    }
   ],
   "source": [
    "x =[]\n",
    "for mot in test:\n",
    "    if mot.lower() not in test:\n",
    "        x.append(mot)  \n",
    "print(len(set(x)))\n",
    "ecrire_json(\"lieux_echantillon2_aprésNettoyage_lg.json\",x)"
   ]
  },
  {
   "cell_type": "code",
   "execution_count": 125,
   "metadata": {},
   "outputs": [
    {
     "name": "stdout",
     "output_type": "stream",
     "text": [
      "{'ber1ue', '’'}\n"
     ]
    }
   ],
   "source": [
    "f = set(test).difference(x)\n",
    "print(f)"
   ]
  },
  {
   "cell_type": "code",
   "execution_count": null,
   "metadata": {},
   "outputs": [],
   "source": []
  },
  {
   "cell_type": "code",
   "execution_count": null,
   "metadata": {},
   "outputs": [],
   "source": []
  },
  {
   "cell_type": "code",
   "execution_count": null,
   "metadata": {},
   "outputs": [],
   "source": []
  },
  {
   "cell_type": "code",
   "execution_count": null,
   "metadata": {},
   "outputs": [],
   "source": []
  },
  {
   "cell_type": "code",
   "execution_count": null,
   "metadata": {},
   "outputs": [],
   "source": []
  },
  {
   "cell_type": "code",
   "execution_count": null,
   "metadata": {},
   "outputs": [],
   "source": []
  },
  {
   "cell_type": "code",
   "execution_count": null,
   "metadata": {},
   "outputs": [],
   "source": []
  },
  {
   "cell_type": "code",
   "execution_count": null,
   "metadata": {},
   "outputs": [],
   "source": []
  },
  {
   "cell_type": "code",
   "execution_count": 1,
   "metadata": {},
   "outputs": [],
   "source": [
    "import xml.etree.ElementTree as ET\n",
    "voc_Glawi = []\n",
    "tree = ET.parse(\"/Users/mustapha/Downloads/GLAWI_FR_work_D2015-12-26_R2016-05-18.xml\")\n",
    "root = tree.getroot()\n",
    "for element in root:\n",
    "    for child in element:\n",
    "        if child.tag == \"title\":\n",
    "            voc_Glawi.append(child.text)"
   ]
  },
  {
   "cell_type": "code",
   "execution_count": 4,
   "metadata": {},
   "outputs": [],
   "source": [
    "ecrire_json(\"voc_Glawi.json\", voc_Glawi)"
   ]
  },
  {
   "cell_type": "code",
   "execution_count": null,
   "metadata": {},
   "outputs": [],
   "source": []
  }
 ],
 "metadata": {
  "celltoolbar": "Format de la Cellule Texte Brut",
  "kernelspec": {
   "display_name": "Python 3",
   "language": "python",
   "name": "python3"
  },
  "language_info": {
   "codemirror_mode": {
    "name": "ipython",
    "version": 3
   },
   "file_extension": ".py",
   "mimetype": "text/x-python",
   "name": "python",
   "nbconvert_exporter": "python",
   "pygments_lexer": "ipython3",
   "version": "3.8.3"
  }
 },
 "nbformat": 4,
 "nbformat_minor": 4
}
