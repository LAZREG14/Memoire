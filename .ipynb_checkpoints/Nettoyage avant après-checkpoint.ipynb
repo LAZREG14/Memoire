{
 "cells": [
  {
   "cell_type": "code",
   "execution_count": 1,
   "metadata": {},
   "outputs": [],
   "source": [
    "import json\n",
    "import time\n",
    "from time import perf_counter\n",
    "from collections import OrderedDict\n",
    "\n",
    "\n",
    "\n",
    "def ouvrir_json(chemin):\n",
    "    f = open(chemin, encoding=\"utf-8\")\n",
    "    toto = json.load(f)\n",
    "    f.close()\n",
    "    return toto\n",
    "\n",
    "def ecrire_json(chemin, contenu):\n",
    "    w = open(chemin, \"w\", encoding=\"utf-8\")\n",
    "    w.write(json.dumps(contenu, indent=2, ensure_ascii=False))\n",
    "    w.close()"
   ]
  },
  {
   "cell_type": "code",
   "execution_count": 2,
   "metadata": {},
   "outputs": [],
   "source": [
    "import spacy\n",
    "nlp_sm = spacy.load(\"fr_core_news_sm\")"
   ]
  },
  {
   "cell_type": "code",
   "execution_count": 3,
   "metadata": {},
   "outputs": [],
   "source": [
    "f1 = ouvrir_json(\"/Users/mustapha/Documents/GitHub/Memoire/sdl_data_echantillons/parole_echantillon1.json\")\n",
    "f2 = ouvrir_json(\"/Users/mustapha/Documents/GitHub/Memoire/sdl_data_echantillons/parole_echantillon2.json\")\n",
    "f3 = ouvrir_json(\"/Users/mustapha/Documents/GitHub/Memoire/clean_data_echantillons/clean_parole_echantillon1.json\")\n",
    "f4 = ouvrir_json(\"/Users/mustapha/Documents/GitHub/Memoire/clean_data_echantillons/clean_parole_echantillon2.json\")"
   ]
  },
  {
   "cell_type": "code",
   "execution_count": 5,
   "metadata": {},
   "outputs": [
    {
     "name": "stdout",
     "output_type": "stream",
     "text": [
      "lieux trouvés par le modèle small :  138\n",
      "{'Ouille', 'Euh!Euh', 'Toute', 'Amsterdam', 'Mini-jupe', \"J'ai Maginot\", 'Varsovie', 'Bordeaux', 'Mini-moke', 'Viens', 'Vieux', 'Canigou', 'Dois', 'Gagnez', 'Ca', 'Prendre', 'Sortez', \"L'eau de mer\", 'Goldwyn', 'Touche', 'Maintenant', 'Toujours', 'San Francisco\\n\\nJe', 'Jamais', 'la France', \"Qu'Agathe\", 'He!He', 'Tripoli', 'Gourougourou', 'Courez', 'Hippie', 'Dou Doucement', 'Saana', 'Kinshassa', \"J'\", 'Créteil', 'Yaoundé', \"J'ai des talents\\n\", 'Portez', \"J'me tape la tête contre les murs\\n\\n\", 'Vive', 'Trocadéro\\nPris', 'Sois', 'Croire', 'Aidez', 'Les', 'Mange', 'N’', \"Chaussée-d'Antin\\n\\n\", 'Bernhart\\nArroy', 'Baltimore', 'Instantané', 'Voulez', 'Pyrex', 'Houlgate', 'Réserve', 'Venise', 'Hâtez', 'De', \"J'ai eu la ber1ue\", 'Amiens', 'Bonsoir', 'Merde in France', 'Dis', 'Être', 'Yvette', 'Miniature', \"J'ai ouï\\n\", 'Lourdes', \"J'ai pas de chance j'ai pas d'amis\\n\\nJ'ai pas de pot j'ai des impôts\", \"Parc'\", 'Lavabo', 'Calcutta', 'Papeete', \"M'\", 'Roméo', \"J'ai dit comme tes bas : mi-long\\n\\nElle\", 'Disigny', 'A', 'rue Le Regrantier', 'Saint Omer', 'Bornéo', 'Métro\\nMa', \"J'fonds\", 'Ministère', 'Pénélope', 'Avoir', \"J'aimerais\", \"J'ai faim de toi\", 'Braqué', 'Moi', 'Engagez', 'Gilet', 'Lux', \"J'ai maigri je suis\", 'Y', 'Ménard', 'Saint-Tropez', \"J'ai bu de l'eau\", 'Boulevard Poissonnière', 'Paris', 'Venez', 'Demi-tour', 'Tampico', 'Mégève', 'Presque', 'Port-Gentil', \"J'ai confiance\", 'Dôle', 'jardin\\nPassa', 'matin\\nEst', 'Téhéran', \"Rochelle\\nJ'\", 'Électronique', 'Chaussée', 'Est', 'Maxistère', \"J'ai du plaisir\", \"J'ai fait des games\", 'Réponds', \"J'ai des tracas j'ai des tourments\\nJ'ai pas l'moral\", 'Val-de-Grâce', 'Eh watching', 'Dire', 'Faut', 'Repousse', 'Tu', 'Marcelle', \"Demi-jour\\nD'un hotel\", 'rue\\nSinon', 'Prends', '’', 'Minimum', 'Placés', 'Amakawogo', 'Dont', 'Fatigué', 'Celles'}\n",
      "222\n",
      "temps : 1.317031342000007\n"
     ]
    }
   ],
   "source": [
    "start1 =time.perf_counter()\n",
    "loc_sm=[]\n",
    "for texte in f1:\n",
    "    try:\n",
    "        doc = nlp_sm(texte)\n",
    "        for entity in doc.ents:\n",
    "            if entity.label_ ==\"LOC\":\n",
    "                loc_sm.append(entity.text)\n",
    "    except:\n",
    "        pass\n",
    "end1 = time.perf_counter()\n",
    "ecrire_json(\"/Users/mustapha/Documents/GitHub/Memoire/sdl_data_echantillons/lieux_echantillon1_avantNettoyage_sm.json\",loc_sm)\n",
    "print(\"lieux trouvés par le modèle small : \",len(set(loc_sm)))\n",
    "print(set(loc_sm))\n",
    "print(len(loc_sm))\n",
    "print(\"temps :\",end1-start1)"
   ]
  },
  {
   "cell_type": "code",
   "execution_count": 6,
   "metadata": {},
   "outputs": [
    {
     "name": "stdout",
     "output_type": "stream",
     "text": [
      "lieux trouvés par le modèle small :  3155\n",
      "{'Sûr', 'Mental', 'A l’hôpital', 'B52', 'Règne', 'J’', 'Sud-Ouest', 'Capte', 'Jamaïque', 'Cap Horn', 'Certain', 'Chambéry\\nMais Jé', 'blas?s', 'Barbarie', 'Remains', 'Pont : Tyler Woods', 'Légère', 'Sacro', 'Nuée', 'Grossiste', 'balancelle\\n\\nTombant', 'Tout’', 'Blessent', 'Browning', 'Suit', 'Ferrat', \"J'suis r'monté dans la lune\", 'Debout', 'Le c\\x9cur', \"J'ai maint'nant des frênes\\nDes arbres de\", 'Méneux', 'Maintenant', 'O', 'Garde', 'Carrément', 'Kingston', \"J'ai approché de vous\", 'Couplet', 'Indien', 'Appelé', 'Atlanta', 'Tracer', \"Alhambra d'Bordeaux\", 'Chante', 'Trouvèrent', \"J'ai insisté\", 'Va', 'Chargé', 'U', 'Cha li', 'Violer', 'Hiroshima', 'Arrache', 'De Son cœur', 'Gelé', \"J'ai changé ma vertu\\n\", 'Golfe de Naples', 'Exterminé', 'Comprends', 'Qu´il', 'Impressions', 'Vallée des Rois\\n', 'Chapeaux bizarres', 'Serti', 'Closerie', 'Guilledous', \"J'ai gardé\", 'Nam', 'Crachant', 'Olympia', 'Macumba', 'Matées', 'Jette', 'Balade', \"J'ai des tonnes de rimes que je combine\", 'Californie', 'Iront', 'Reverra', 'Medhi', 'Gasoil', 'Sentimentale', 'Faux', 'Tournoyante', 'Seraient', 'Rimbert\\n\\n', 'Monté', 'Bangkok', \"J'ai beau mettre des antivols\", 'Brigue', 'Voilà', 'Marny', 'Pour t’', 'Où t’', 'Paparazzis', 'Grâces', 'Loki', 'Baltique', 'Etat', 'Oser', 'Pochette', \"On fum'\", 'Adieu', 'massif\\n', 'République', 'Schtroumpfette', 'Misricorde', \"Est-c'\", \"J'ai dit\", 'Est\\nPourquoi', 'Lin', 'Brest(e', 'Murs', 'Aim', 'Recordar', \"J'avais mon\", 'Berçant', 'Envie', 'Fausses', 'Keno', 'Harponnées', 'Rue du Vieux', 'Planète', 'Croyais', 'Pareil', 'Faux bouquins', 'Longjumeaux', 'Bénie', 'Cliquez', 'Rap Genius', 'Aucune', 'Tortillant', \"autoroute Porte d'Orléans\", 'Parfait', 'bouteille\\nA', 'Etre', 'Ne t’', 'Haouri', 'Irlande', 'l’Espagne', 'Charonne', 'Mecton', 'Hasta', 'Maghreb', 'Endoume', 'Métamorphoser', 'Noire', 'Nénesse', 'Mal suprême', \"J'crois\", 'Natif de Dakar', 'Tyson', 'la-la-la', 'Du fifre', 'Louisiane\\nJohn', 'Massacré', 'Import', 'notre France', 'Nothing', \"J'suis vivant dans la mort\", 'Basta', 'Vivre', \"J'avais des dents d\", 'Aïd', 'Poses', 'Que t’', 'Cousin', \"Tonnerr' de Brest\", 'Juste', 'Eden', 'cervelle\\nFaut', 'Quelque sous-ministre a attaché', 'Intoxiqués', 'Troublant', 'Brésil\\nCar', 'Confinés', 'Theresa', 'Spirituel', 'Quand l’', 'Tenter', 'V.O', \"J'ai autant d'armes\", 'Capdevielle', 'Trop', 'Avè', 'Voulaient', 'Rizla', 'Montmertre', 'Montélimar\\n\\nRefrain', 'Stimorol', 'Saint-James', 'Laisse béton', 'Blanche', 'Jazzy', 'Jolis', 'Sos', 'Obligés', 'Souviens', 'Hold', 'rue Pierre Charron\\n', 'Creusant', 'Gange', 'Eminence', 'Madagascar', 'Face', 'Viens', 'Goa', 'Bagarreurs', 'Tombés', 'Treets', 'Don', 'Bonbonne', 'Pourvu', 'matin\\nMontparnasse', 'Ninon', 'rue des Saules', 'Vagabonds', 'Cadavre', 'Touchée', 'Place Vichy', 'Cartouche', \"J'ai longtemps\", \"Du taureau accroupi sous l'acier madrilène\\n\\n\", 'Vestige', 'Aragon', 'Upon', 'B.Boy', 'Rimbert\\n\\nI', 'Pourrais', 'Jamais requin n’', 'Dublin', 'Quand t’', 'Retombe', 'Poupée Barbie', \"aim'\", 'A c’', 'Sex', 'Pause', 'Moi je veux', 'forêts', 'Voire', 'Rendu', 'A\\nA', 'Socialise', 'Mental de Viêt-Cong', 'Écris', 'Avalon', 'Tanzanie', \"J'ai vu les fruits pendre et les branches\\nJ'aurais pu me tendre et les prendre\", 'Ponds', \"Mic'\", 'Entend', 'Yang', 'Salamanque', 'Respirant', \"J'ai beau crier mon innocence\\nDans ma prison\", 'Murmurent', 'Béaba', \"Corne d'Aurochs\", 'Rejoins', 'New Orléans', 'Perçois', 'Auront', \"J'l'ai vu dans la glace\", 'Démonologie', 'Baissant', 'Crament', 'Zanzibar', 'Porteurs de parasites\\n', 'Dit', 'Chicanos', 'Entre', \"Ed'\", 'Puissante c’', 'Offrez', \"J'ai lu\", 'terre\\n\\nEntendras', 'Sans', 'Suzon', 'Kinshasa', 'Laissa', 'K.O.S.O.V.O', 'La Canebière', \"J'ai consacré mon temps\", 'Ukraine', 'Déserte', 'Coucha', 'Qu´tu', 'Musulmans', 'Qu´y', 'Rital', 'Mignons', 'Petite fille de novembre\\n', 'Veut', 'Uniformes', 'Enfoiré', 'Raggamuffin ruffneck Rahim', 'Because', 'Bloc', 'Le are', 'porte de la Santé', 'Formé', 'Mont’ m’', 'Es', 'Qu', 'Pas de\\u2005', 'Dépenser', 'Casse-toi', 'Mongolie', 'R', 'Memphis', 'Maldives', 'Présumais', 'Prison\\nNoir', 'Parlé', 'Centrafrique', 'Ghana\\nPoètes', 'Aïcha', 'Eh', 'Sicile', 'Carcassonne', \"J'aim'\", 'Vent', 'Attendent', 'Streap', 'Fuis', 'Mais', 'Soumise', \"J'ai brisé l'apparence toute glacée\", 'Effronté', 'Blondin', 'île de Zalamalek', 'Bière', 'Nombreux', 'Rejoignent', 'Élaboré', 'Dallas', 'Souffrant', 'Chanter', 'la Provence', \"J'prends ma guitare\", \"J'ai ma rosette\", 'Why should I', \"J'ai pas voulu l'soleil\", 'Tire', 'Anvers', 'Joue', 'Molly', 'Quand soudain', 'Quelque', 'Ménilmontant', 'L’', 'Desde el Norte', 'Du missel\\nQue', 'vieux Franco', 'Trouver', 'Décolorés', 'Vaillants', 'Pont 1', 'Graines', 'Connemara', 'Brandy', 'Brooklyn', 'Hardcore', 'Assimile', 'HS', 'Onze', 'Brûlant', 'Dare', 'Animales', 'Poto', 'Souffler', 'Paranoïaques', 'Marjolaine', 'Re\\nComme? A gazait', 'Rejoindre', 'Santiago', 'Féria', 'Toi', 'Assis', 'y´en', 'océan\\n\\nVagabonds', 'Fourche', 'bide de Moustache\\n', 'Beaucoup', 'Haschich', 'Pow Wow', 'Rosette', 'Hôtel de Russie', 'Adopter', 'Basques', \"Le Veau d'Or\", 'Meccano', 'Suintant', 'Rue sombre', 'Supercherie', 'Ge', 'Jeanne\\n', 'Once', 'Coiffée', 'Tais', 'Étaient', 'Philippines', 'Bilan', 'Dj Daz', 'Tour Magne', 'Amusante', 'Alabama', 'Foulé', 'Poupées', 'Pin parasol', 'Évidemment', 'Bilal', 'Longe', 'Passeport', 'Accrochée', 'Complexe', 'Laisse', 'Clap', 'Pardonne', 'Devenus', 'pays n’', 'Élevé', 'Archipiades', 'Vlan', 'Foi', 'Cortège', \"J'ai atterri dans la cave d'une laiterie parisienne\", \"J'ai balancé mon journal\", 'Comment', 'Pauvr', 'P´t´être', 'Doubler', \"Rue d'Charonne\\n\", 'Planquez', 'Promène', 'Credo', 'Méditez', 'Rasée', 'Succès', 'Trempe', 'Seront', 'From London', 'jardin du Luxembourg', 'Montcuq', 'Laarso\\nA', 'Olé', 'Allergique', 'Étrange', 'Hollywood', 'Faux grains de beauté', 'Comportâtes', \"J'ai pas le bon blouson\", 'Ô', \"J'ai bien du mal\", \"J'ai presque\", 'N’', 'bastrin-\\nGue', 'Coutellerie', 'Moins', 'Traîtres avertis', 'Vres\\n', 'Belfast', 'Lune', 'Padam', \"J'ai du fric\", 'Mmmmmm', 'Belge', 'Décimées', 'Vietnam', 'Broyant', 'Traversé', 'Villefranche', 'Lorsque', 'Jurant', 'Chacal', 'Perdu', 'Quartier', 'Avenir', 'Guide du Routard', 'Parole', 'Entourée', \"J'entends ton cœur\", 'Invités', 'j’', 'Ève', \"bois d'Saint-Cloud\", 'Dessèchent', 'Roméo', 'Nénette', \"J'ai pleinement conscience de ma chance\", 'Coulés', 'Bécassine', \"J'ai le baladeur de mon oncle\", 'Brique', 'Fussent', 'Donne', 'M16', 'Suze', 'Close\\n\\nSur', \"Côte d'Azur\", 'Lancoliques', 'Encre noire', 'Landem', 'Préférant', 'Marbœuf je me gonflais', \"J'ai demand?\", \"Shurik'N\", 'Marie-Lou', 'Lola', 'Penchée', 'Mélusine', 'Sahel', 'Issara', 'A 26', 'Illuminé', 'Reviendront', 'Creuse', 'Marie-janne', 'Attends', \"Les molettes\\n\\nMais j'cros Lin\", 'Slamalekoum', 'Alors', 'Beaujolais', \"J'ai avoué\\n\", 'Couter', 'Magique', 'Irak', 'Certifié', 'place Saint-Michel', \"J'ai donné\", 'Rap warrior', 'El Diablo', 'Ouvert', 'C', 'Narbonne', \"J'perds ma liberté d'expression\", 'Perles', 'Déséquilibré', 'gros L', 'Vienne', \"J'suis de fer\", \"J'vous ai parlé des filles\\n\", \"J'ai creusé un tunnel de 18 mètres de long\\n\", 'Fier', 'Veulent', 'Amour', 'Bali', \"L'\", 'Boivent', 'pas\\n\\nOr', 'Cruel', 'B.H.L', 'Costa Rica\\n', 'Bas', 'Faubourg-Saint-Honoré numéro', 'Boules', 'l´au', \"J'ai déclenché des avalanches des\", 'Gavroche', 'Work', 'Tcherno', 'Étudie', 'Varsovie', 'Camarades', 'Afrique\\nEnseignant', 'Diable', 'Entends', 'Zénith', 'Profane', 'Voie', 'Soufflé', 'Aimera', 'Pauvre', \"île d'Avalon\", 'Washington', 'Manille', 'Sri Lanka', 'Pèze', \"Les molettes\\n\\nY'\", 'Katmandou', 'Savais', 'Marsala', 'Bande', 'Supérieur', 'Fréquentables', 'Para', 'D’', 'Essaie', 'Jamais', 'la France', \"l'Afrique\\nAutour\", 'User de ma herse', 'Amour\\n', \"J'crèverais d'faim sur mon talus\", 'What', 'Classique', 'Franchir', 'Taïwan', 'Con', 'Quelquefois', 'Quartier Nord', 'Honteuse', 'Médisent', 'Sourire', 'Créteil', \"J'trouve ça normal\", 'rue Cogniagé', 'Fasse', 'Carême', \"J'ai beau\", 'Hé', 'La chemise blanche en décolleté\\n\\n', 'Bousculant', \"J'ai enseigné des temps\", 'Haut', 'Rex', 'Imperial', 'Je revois soudain\\nQuand', 'Mise', \"J'ai rangé ma guitare\", \"Pas d'lumière sur ma meule\", 'Faire mine de me noyer', 'Chinois', 'Dansez', 'Istres', 'La Courneuve', 'Suisse', 'Virginie', \"J'ai ma petite\", 'Silence', 'Toulon', 'Ma promise', 'Pas', 'Bave', 'Vivement', 'Samantha', 'Raconte', 'Regarde', 'Cocagne', 'Libérez', 'Am', 'Courrut', 'du Nord', 'Sincèrement', 'Pluton', 'Voudrait', 'Droits', \"Jardin d'Eden\", 'vieux Priape', \"caverne d'Ali\", 'Combinaisons fluos\\n\\n', 'Pactole', 'Aiment', 'Salement', 'Père', 'Bornéo', 'Jalouse', 'Pourquoi', 'Clouer', 'Casino\\nSecrètement', 'Dublin City', 'Servir', 'Aie', 'Stockholm', 'Entendez', 'Murmura', 'Sion\\n', 'Verrouillée', 'Que demain vous mourrez\\n\\n', \"J'ai mauvaise\", 'Pense', 'Chimie', 'Appalaches', 'Privées', \"bois d'Boulogne\", 'Tequila', 'Premiers', 'Thé', 'Grandir', 'Resteront', 'Trouble', 'Survivant', 'Si t’', 'Ramener', 'Feu', 'Gravée', 'Croisement', 'Terrestres', 'Independenza', 'Parut', 'Bambou', 'Le Renard', 'Champ', 'Menait', 'Bercy', 'Propre', 'Cesse', 'Soyons', 'Ulster', 'royaume des Hommes\\nSoudain je vois', 'Tente', 'Donner', 'Dés', 'Vérifier', 'Hun', 'Baptistain', 'Unis', 'Chargez', 'Ardent', 'Celle', \"J'ai vu\", \"J'ai laissé\", 'Vem', 'Cicatrices', 'Allongés', 'Emballé', 'Moulin', 'Tolède', 'Séché', 'Ouest', 'Blonde', 'Puisque', 'I.A.M.', 'Bac', 'Microphone', \"Qu'Englois\", 'Attendez', 'Sauront', 'Dieppe', 'Femelles', 'Tu', 'Cut l’', 'Berlin', 'Affirmatif', 'Belzebuth', 'musé’', 'Stériles', 'Mesquins', 'Danger', 'Marie-Jeanne', 'Pardonnez', \"J'ai des missiles\", 'Babel', 'Miners', 'Elaborates', \"J'ai pas à craindre\", 'Ronds', 'Tantôt', 'Noyés', 'Eh ouais', 'Fouquières', 'A soul winged', 'Saint-Denis\\nTrip', 'Judée', 'Perpignan', 'Garderons', 'Dirige', 'Hurlant', 'Mademoiselle', 'Comptent', 'golfe du Yémen', 'l’Etna', 'Golf', 'Larmes', 'Maintenir', 'Sceaux', 'Danoise', 'Ziza\\nRepart', 'Fredo', 'Pages', 'Distance', 'Poussent', 'Gévaudan', 'Zoxea', 'Horde', 'Terminé', 'Creeks', 'Sao Paulo', 'Saint-Malo\\nFair', 'Désarticulé', 'Tape', 'Marcher', 'Phocée\\n', 'Ensoleill', 'Pochtron', 'Volée', 'Volant', 'Libre', 'Égypte', 'Victime', 'Chiche', 'Pays', 'Johnny', 'From Medina to Marseille', 'z´en', 'Archipiada', 'Bienvenue', 'P.M.U.', \"J'ai la plume grise\", 'A l’Apollinaire', 'Matérialistes', \"J'ai croisé les roussins\\n\", 'Sévèrement', 'She', 'Nouvelle', 'Meilleure', 'Cache', 'Killah Priest', 'Grand Pan', 'Pantin', 'Carry', 'New Jacks', \"J'ai des plans des combines\\n\", 'Loch Ness\\n', 'Malone', 'Merdico', \"J'dirais\", 'Auteuil', 'Hip-Hop', 'Colombie\\n', 'Louange', 'Thiais', 'Marvel', \"J'\", 'Excellent', 'Erythrée', \"P'\", 'Nanana', 'Comprenez', 'Mélange', 'Parfois\\n\\nElsa', 'M', 'Val', 'Coupole\\n', 'Plantez', 'A l’', \"l'6.6.6\", 'Canique', 'Champs Elysées', 'Raccourcissent', 'Exorcise', 'Avaient', 'Versailles', 'Where', \"J't'ai touché\", \"J'ai pas d'chance\", 'Los', 'Égyptiens', 'Animateur', 'Cha', 'Criminosical Possee', 'Princesses', 'El Paso', 'Au Caire', 'Simplement', 'Mirage', 'Berne', 'Saint-Denis', 'héroïne', 'Informations', 'Premier', \"J'ai encore mal\", 'Pont Neuf je me gonflais', 'Bonsoir', 'Berte', 'Rience', 'Tocard', 'La France', \"J'ai bien peur\", 'forêt de Fontainebleau', 'Compter', 'Préparez', 'Non Paris', 'Bric-à-brac', 'Chope', 'Acheter', 'Loin', 'Chichon bidon', 'Lens', 'Excepté', 'Some', 'Chouette', 'Bavière', 'Millésimé', 'Dansant', 'Coca\\nUn', 'Pessah', 'l’Est', \"J'ai redoublé d'efforts\", 'Montrant', 'Elle', 'Christ(e', \"J'ai cru bon de remettre à jour mon\", 'Sharengton', 'Pisseuse', 'Tempérament', 'Etna', 'Moiti', \"viaduc d'Auteuil\", 'Pastis', 'Bangladesh', \"J'ai r'gardé mes yeux et j' leur\", 'Cologne', 'Baffles', 'Imagine Cupidon', 'Regarder', 'Coudes serrés', 'Chantez', 'Post-scriptum', 'Arnaquer', 'Elysées', 'Marguerite\\nEst', \"J'ai vu bien trop d'radeaux\", \"sal'\", 'Donc', 'Weah', 'Pfff', 'Pyromane', 'Montrez', 'Croque', 'Porté', 'Veill', 'International', 'Hemingway', 'Donc profil bas', 'Peloton', 'Peut-', 'Seulement', \"J'ai vu arriver le bateau\\n\\nÀ carlingford\", 'Gance', 'Anticléricaux fanatiques\\nGros', 'Angleterre', 'Hélas', 'Passe-moi', \"J'ai pas peur\", 'Amérique\\n\\nEntendras', 'Eden\\nDu', 'Raisonne', 'Germanie\\nVous savez aussi bien que moi\\nQui', 'Fera', 'Maureen', 'Melopheelo', \"J'ai d'jà du mal\", 'Quid', 'K.Rhyme', 'Trafic', 'Margoton', 'Bibi-la-Purée', 'La-la-la', 'Mecque', 'Effrayés', 'Fit', 'Pâle', 'Little', 'Pour', 'Embrasse', 'Gaîté', 'Bonhomme', 'Échoués', 'Beneath', 'Balisent', 'Jasmin', 'Génocides', 'Foutaises', \"Veau d'Or\", 'Rue Rochechouart', 'Haine', 'Fauché', 'Tailler', 'tour Magne', 'Nabil', 'Ter l?', 'Ateliers', \"J'ai le style\", 'Linceul', 'Ombre', 'Vole', 'Chœur', 'Attiré', 'Écœuré', 'Partis', 'Merveilleux', 'grande Bretagne', 'Assassine', 'Du 14ème arrondissement', 'So', 'Souverains', 'Chtbaou', 'Nord-Est', \"J'ai senti\", 'Tchac', 'Tipp', 'Sers', 'Addis', 'Byzance', 'Si', 'QI', 'Soudain', 'Chouf', 'Poucet', 'Bes', 'Menace l’', 'Gendes', 'Palestine', 'Amoureuse', 'Font', 'Ok', 'Mauvaise', 'Semant', \"J'ai dit aux copains\", \"vid'\", 'Mea Culpa!', 'Devrais', 'Hier', 'Pékin', 'Alanje', 'Funky', 'Burkina', 'Bultex', 'Etudie', 'Technique', \"J'ai rêver un monde ou le cash\", 'Bretagne', 'Karim', 'Prudence', \"J'l'ai r'trouvé d'vant\", 'Apaches', 'Prodigal Sunn', 'T’es Luke', 'Ressens', 'Ta', 'Sois', 'Ravachol', 'Rose', 'Ardèche', 'Conscients', 'ballon\\nA', 'Qu´ils', 'Trois', 'Combien', 'Terre', 'Monter', 'Archibald', 'Sentenza', 'Cachez', 'Règle', 'Gros', 'New York', 'Pyrex', 'Berceau', 'Lievin', 'Men', 'Pleure pas', 'Artistiquement', 'j’t’', 'Pleure pas !', 'He', 'Jauger', 'Mufle', 'Où je vois trimer la bonne\\nQuand sont passés', 'Bruxelles', 'Blesse', 'Du plaisir', 'Pays Basque', 'Ordinaires\\n\\n', 'Ou', 'Benkei', 'Belsunce', \"J'ai marché sur la lune\", 'Pis\\u2005', 'Fatma', 'Lancer', 'échauffourée\\n\\nOr', 'Repentez', 'Maradona', 'Allaient', 'Caresse', 'Mettez', 'Contrôlées', \"J'vois les ions et les atomes\", 'Quand l’air', 'Seine', 'Effleur', 'Marinette', 'Gorille', 'I veyot', 'Partagés', 'Là c’', 'Serrée', 'Calypso\\n', 'from Rennes', \"J'ai croqué\", 'B.D.', 'Décolorées', 'Avoir', 'Vrai', 'Non pas', 'Moi', 'MoMA', 'Posé', 'Chicago', 'Tour Eiffel', 'Craignant', 'Symbole', 'Exhibant', 'Holiday Inn', 'Hostile', 'J´ bois', 'Falam', 'Pervenches', 'Pénétrer', 'Dégela', 'Martigues', 'Goose', 'Avez', 'Quito', 'Vosges', 'Ballesteros', 'Mars', 'Graff', 'Oeil', 'Quel intérêt', 'Illuminant', 'Cabosse', 'Renard', 'Neptune', 'Méditerranée', 'Protège', 'Navrés', 'Echo', 'Patagonie', 'Piétinant', 'Décoche', 'Il m’', 'Armada', 'Lutem', 'Descendant', 'Deauville', 'l’', 'gare de Bologne', 'V2000', 'La Chine', 'terre\\nA', 'fascin?s', 'Bonjour', 'Panier', 'Pis', \"Moi je n'avais rien\", 'Braire', 'Vatican', 'Endosser', 'Iblis', 'Come', 'D?s', 'Libertaire', 'Mière Parisienne\\nMière Parisienne', 'Abusant', 'L', 'Arizona\\n', 'Sambre-et-Meuse', 'Quelque sainte', 'Genre', 'La BO', 'Avisant', 'Sort', 'Jay Z\\nEcris', 'Pensamos', 'pont Mirabeau', 'New Look', 'Sévéso', \"J'avais la phobie des gros\", 'Bondissant', 'Grandissant', 'Sauf', 'Lyon', 'Regardes', 'cœ\\x9cur', 'mer Rouge', \"J'voudrais m'blottir\", 'Londres', 'Obscure', 'Allergies', 'Fidèlement', \"J'irai Fanny\", 'Eich', 'Je t’', 'Rome', \"J'ai aimé votre désarroi\", 'Condamné', 'Tbilissi', 'Télévisées', 'Je crois', 'Accrochées', 'Autodidacte', \"J'ai oscillé dans ma jeune vie\", \"Levi'\", 'Mesdames', 'Nniers', 'rue\\nTellement', 'Illuminée', 'Aimerais', 'pas de Camaret', 'Gaulois', 'Evêché', 'Gueule de bois', 'Louche', 'Lise', 'Un spectacle assez croquignol\\n\\n', '\"City', 'Toujours', 'Résonnent', 'Brûlent', 'Fallait', 'Rue du Vieux Colombier\\n\\nSans', 'Samedi', 'Lilliputiens', 'Refrain', 'Emaciés', 'La', 'Lectriques', 'Speedés', 'Greta', 'Bogota', 'Poètes', 'Machin', 'Beljamra', 'notre Terre', \"J'ai balancé ma vieille Bible\", 'Qu´est', 'Suffocante', 'Moscou', 'Merde', 'Panthéon !', \"J'ai dix-sept\", 'Commencer', 'Monoï', 'Provence', 'Sereine', \"J'avais jamais mal\", 'Stupides', \"J'ai l' démon du bas ventre\\n\", 'Peintures', 'Arbre', 'Onques', 'Posse', 'Re', 'Avoue', 'colline de', 'Chapi', '“C’', 'qu’', 'Soit t’', 'Crois', 'Loch Ness', 'Canique\\n', 'Alignés', 'Telle', 'Mimi', 'He’', 'Marches', 'Folon', 'Nice', 'Marionnettiste', 'Marsiale', 'Géorgie', 'Normal', 'Villette\\nJe sais', 'Commint', 'Veux', 'Amoureux', 'Egypte', 'Du 14ème arrondissement\\n', 'Danemark', 'Répétition', 'Le curé', 'Révoltée', 'Immonde', 'Braves', 'Rire', 'Jazz', 'Montmartre\\n', 'Prévenir', 'Expédie', 'Serai Orly', 'ligne Maginot', \"J'ai vu les feuilles mortes des arbres\", 'Grand Manitou', 'Pondais', 'Oxford', 'Attentionné', 'Monaco', \"J'traîne\", 'Suce', \"J'ai des pipes d'écume\\nOrnées\", 'Blanc', 'Claudio', 'Erythrée\\nUn manteau en Dahu', 'Serais', 'Sahel\\n\\n', 'Pleure', 'Docteur', 'Retournes', 'Sont', 'Grattant', 'Niger', 'Éviter', 'Ges', \"J'écris mes BO\", 'Aignan', 'Rani', 'Écrivant', 'Close\\n\\n', 'Rendre', 'silhouette\\nEst', 'Lille Roubaix Tourcoing', 'Plutôt', 'Arrosé', \"d'Italie\", 'Fait', 'Mentons', 'Pontoise', 'I', 'Va des Iles', 'Budapest', 'Valence', 'Les blocs', 'Mali', 'Cordillère des Andes', 'La brise', 'Excuse', 'Le A', 'Chanta', 'Déclarant', 'Papouasie', 'Lovers', 'Zigzag', 'béton gris\\n', 'Tu t’', 'Fermant', 'Meudon', 'Krivine', 'Crime', 'Compliqué', '’', \"J'ai vu deux amoureux\\n\", \"J'eusse\", 'Boulevard Barbes', 'PV', 'Ivre', \"J'ai l'air d'un corbeau\\n\", 'Attablé', 'Fatigué', 'Telltmint', 'Pakistan', 'Drames', 'Aspen', 'Nulle', \"J'ai beau fair' des?\", 'Jérusalem\\n\\nDans Ses yeux', 'La Jeanne', \"J'ai l'âge de dix ans\", \"J'ai mon vrai de vrai\", 'Conçu', 'pont des Arts\\nEt les collets', \"J'ai jamais eu envie d'être un jeune cadre\", 'Vers', 'Bois', 'Bordeaux', \"J'ai vu la femme\", 'On m’', 'Qu´elle', 'Aryenne', 'Décrocher', 'Demandez', \"J'rap 7/7\", \"J'ai peur\", 'Yémen', \"J'irais\", 'Compté', 'Bab El Oued\\nDu', \"J'aperçois le magot\", 'Bucarest', 'Ebola', 'Corse', 'Twix', 'Décrète', 'Sugar Hill', 'Etoffe', 'Gotha', 'Tandis', 'Menant', 'papa\\n', 'Oublie', 'Pousse', 'Fanatique de Rome', 'War Pride', 'Contenir', 'Faisons', 'Âayech', \"T'avais une cervelle de pigeon\", 'Tarbes', 'S', 'Ayato', 'Jugeant', 'Non', 'Tendant', 'Zoom', 'Licencié', 'CO', 'Taciturne', 'Franchit', 'Vive', 'Forgé', 'Ici', 'Hasta siempre', \"J'ai bien su profité de la notion\", \"J'ai mon mat'\", 'Cherchez', 'Nu', 'Fermé', 'Normandie', 'M.I.C.', \"J'ai fais confiance\", 'Par Montaigne', 'Métro boulot', 'Chacun', 'Emporte', 'Eucharistie', 'Le', 'Infestons', 'Paname\\nSuper-fière de ton bronzage\\n', 'Eh pougas', 'Rue Saint-Vincent', \"J'ai appris à m'en méfier\\n\\n\", 'Ensorcelé', 'Descendaient', 'Finies', 'Shaolin', 'Sheitan', 'Carpentras', 'Lipstick', 'Autour', 'Pernod\\nA', 'Pedían', 'Mourir', 'De', 'Ouvrir', 'Blédina', 'Landernau\\n\\n', 'C.D', 'Explose', 'Shuba', 'Liserons', 'Futur', 'Folle', \"Micro d'Argent\\nMon subconscient me guide\", 'Prépare', 'Celle des Schtroumpfs', 'Volontaires', 'Autrefois', 'Old', 'Rires', 'Allemand', 'Chemin', 'Que', 'New York City', 'Gentilshommes', 'Omotesandō', 'Bah', 'Darjeeling', 'Chantait', 'Alla', 'Ris', 'Idéal', 'op?ras', 'Quel panard\\n\\nVous', 'Snatche', 'Rolex', 'Le 14ème arrondissement\\n', 'Pigalle', 'Franchissant', 'Dé', \"J'ai senti ma tête écraser l'poteau\\nToi\", \"J'ai travaillé toute ma vie\\nSans avoir\", \"A la Porte d'Orléans\", 'La forêt', 'Acerbe', 'Les Affranchis', 'Sentant', 'A Bagneux', 'Achevez', 'Grand Plazza', 'Leur Q. I', 'Ré-Hor', 'Tchatche', 'Hello c’', 'la Pologne', 'Connais', \"L'Italie\", 'mer\\nEnfanté', 'Gisait', 'Rebelle', 'Passée', 'Mea culpa!', 'Amitiés', 'Visiter l’', \"J'ai chopé\", 'Playmate', 'Regard impassible', 'Venez', 'Tapis', \"J'avais peur de le voir sourire\\n\", 'Le Picon', 'Cerveza', 'Séville', 'Argentine', 'Bietris', 'Morrison', 'Main', 'métro\\nClasse', 'Germaine', 'Balayés', 'Approchez', \"J'ai aimé les minutes de votre\", 'St Vincent', 'Amérique\\nPalestiniens', \"J'ai quatre cents points d'avance\", 'Sais', 'Descend', 'Tommies', 'Perdons', 'Chômeur', 'Cons', 'Abyssinie', 'Ack', 'Yo', 'Passe', 'Soleil', 'Rottweilers', \"J'ai dormi dans des draps mouillés\", 'Perd', 'Rio', 'Sachant', 'La Triumph', 'Auras', 'Marseillais', 'Damas', 'Haïti', 'Astique', 'Cible', 'Combine', 'Badé', 'he’', 'Étouffés', 'Posse\\nA', 'Israël', \"J'aimais\", 'Sumer', 'Re\\nRenouant', 'Quitter', 'Woody', 'Thèbes', 'Solaar', 'Reposerais', 'Prada', 'MC', 'Dégueulasser', 'Gens', 'Lentement', 'Miami', 'Papa', 'Boit', 'Bénites', 'Nègre', \"J'ai l'espérance\", 'Sardagne', 'Stocks', 'Veuve Cliquot', 'Personnes', 'Test', 'His', 'Tres', 'Bagarres', 'Quelle', 'Piner', 'La nappe étoilée\\nEt la lune', \"J'avais grandi\", 'Pique', 'Dos', 'Génétique', 'Marseille c’', \"J'ai jamais bien pigé\", 'Tonnerre', 'Sire', 'Dalila', 'Ramassée', 'Shall I', \"J'ai gravé profond\\nSur le tronc d'un arbre\\n\", 'Tousse', 'Shout', 'École française du Caire\\n', 'Café du Dôme\\n', 'Soit', 'Jérusalem\\n', 'Nés', 'Avertis', 'Comanches', 'Avoriaz', 'Veuillez', 'antiquit?s', 'Je revois', 'Emmerdante', 'Marais\\nDans ce ghetto', 'seuil\\n', 'Banger', 'C.O.B.de', 'Annonce', 'Produit', 'Clignancourt', \"J'ai esquivé tes satellites\", 'La Zulu', '\\x93', 'golfe du Lion\\nTrempe', 'Tape Malone', 'Demeure', 'Perdre', 'Olimpico', 'Chassé', 'Cuando', 'Peut-?tre', \"Du p'tit Montparnasse\", 'Sparte', 'Quatres', 'Dépose', 'Ceylan', 'Croire', 'Maman', 'Mal Suprême', 'Maillol', 'Africain', 'A boire', 'Omar', \"J'ai porté la croix\", 'Rend', 'Etes', 'Les fringues', \"J'ai des idées détonnantes\\nJe vais demander la main\", 'E', \"J'ai des rires qui saignent\", 'Quel', 'A la Courneuve', 'Vercors', 'Pancarte', 'Brive-la-Gaillarde\\nA', 'Porto', 'Neuf', 'Faisais', 'Jasmin\\nElle', 'Akhti', 'La mignonne', 'Ramèneront', 'Tokyo', 'Plaise', 'Essore', 'Maharajas', 'Croyez', 'jardin d’', 'Le Vieux', 'Soulève', 'Chine', 'Pérou', 'Scénarisées', 'le Caire', 'Zembla', 'Expulses', \"J'ai pouss\", 'Non Jack FrodjoMahjong', 'Soumises', 'Beat', 'Puisse', 'Coule', 'Iéna', 'Connue', 'Suspendu', 'N Chang', 'Reggae', \"Pris'\", 'Sidère', \"J'ai pas choisi la mienne\", 'Ardisson', 'Ternaire', 'Détail', 'Déversent', 'Plaza', 'Tre', 'Bon', 'Contemplatif', 'Kebab', 'Jérusalem\\nCar', 'Passy', \"J'ai décidé de devenir\", 'Accroche', 'Pic', 'Seul dans ma chambre', 'royaume\\nRepoussant', 'Garçon', 'Filles', 'Levant', 'Ni l’air jaloux', 'Alianza', 'Ton', 'Frapadingues', 'Poussées', 'J.M.', 'Houston', 'Le 14ème', 'Nan', \"J'ai pas la fascination des petits tueurs\\nMiniloubarrivistes\", 'Lachaise', 'Voila', 'Saint-Tropez', 'Faites', 'Séquencée', 'blé', 'Systématiquement', 'Là', 'Et constell?', 'Rendez', 'Kanter', 'sacré’', 'Redescends', 'Rares', 'Qui décréta punition\\n', \"J'ai appris\", \"J'ai joué\", 'Envoie', 'Ben', 'base\\nHistoire', 'Prévenez', 'Teruel', 'Chères', 'Vénus', 'Arrêté', 'Nation', 'Est', 'Porte', 'Cette triste Babylone', 'Daz', 'Sad hill', 'Piennes', \"Aix\\nSans un petit zest d'espoir\\nQuand\", 'Robbie', 'Se r’trouve aujourd’hui orphelin', 'Cn', 'These', 'Marcha', 'Dominant', 'Les Tuileries', \"L'Eden\", 'Ouvre', 'Shwartzenberg', 'Volez', 'A Lourdes', 'Contemplaient', 'Zamzam', 'Grand-mère', 'Reste', 'rue Davso', 'Créer', 'Apprinds', 'Sodi', 'Eh ben ma gueule', 'Droit', 'État', 'Bonnes', 'Nettoie', 'Allez', \"J'avais pour mission l´opération passion\", 'Liffekès', 'pierre\\n', 'Dji', 'Clamart', \"l'Afrique\", 'Manger', 'Lorque', 'Doux', 'R12', 'Brrraque', 'Essuyez', 'Renoncé', 'BANG', 'Liban', 'Tchad', 'Surtout', 'Tranquilles', \"J'ai compris\", 'A la Bastille', 'Derrière', 'Espagne', 'Fuerte', 'La bonne couleur de peau', 'Casa', 'Individualités', \"He'\", 'Délaisse', 'Où', 'Mystifié', 'APM', 'Sauron', \"J'ai vu occuper ma ville\", 'Pouvoir', 'Ricard', \"Chauff' la place\", 'News', 'Initiation', 'S’', 'Façonné', \"J'ai vu des rastas utopistes\", 'Tectonique', 'Explique', 'Attard', 'Doucement', 'Fine', \"Hortens'\\nA mon Machut\", 'Jallalabad', 'Gaîté\\nL’', 'Mentally', 'Retroussant', 'Menuets', 'Fresh', 'Lac Salé', 'Choisir', 'Distille', 'Retrouv', 'Lison !', 'Mollah', 'du Sud', 'London', 'Brutalities', 'Québec', 'Auxquels', 'Seleção', 'Pi', \"Nantes\\n\\nJ'\", 'Hortense', 'Délaissant', 'Mauvais', 'Abandonnée', 'Savait', 'Marseille', \"Browning\\n\\nParc'\", 'Caché', \"J'ai le CAP\", \"Jardin d'Adam\", 'Lorraine', 'De-de', \"J'ai dit banco\\nJ'ai gagné ma foi\\n\", 'Renonce', 'Tranquille', 'Népal', 'Hard', 'Montmartre', 'Yanis', 'm’', 'Oubliées', 'Dijon', 'Sinon', 'Tes saloperies', 'Barbès', 'Eso es amor', 'Préfèrerait', 'Close\\n\\nDans ce bar parisien', 'Semblablement', 'Auvergne', 'Ridicules', 'La Terre', 'Sud', 'Liban\\n\\nFaut', 'Allô', 'Menton', 'Grands', 'jean’', 'Dis', 'Ouganda\\n', 'Capturent', 'Visant', 'Ci', 'Dominique', 'Gardait', \"J'ai jamais vu une femelle\\nPas\", 'Moissonne', 'Lerchechem', 'Belle', 'Quotidiennes', 'Fuck', \"J'ai pardonné\", \"J'ai pas d'haine\", 'Fuir', 'Peinés', 'Fort Greene', 'Paname\\n', 'Ont', 'Libérée', 'Sud-Est', 'Champs', 'Resto', 'Étalonnée', 'Frère', 'Poison', 'Sète', 'Katana', 'Souvent', 'Check', 'Séduis', 'Belges', 'Stresse', 'Lorsque soudain', 'Bally', 'Saint-Michel', \"J'ai le corps et le texte\", 'Petite', 'Néo Phileas Fogg', 'Aussitôt', 'Cap Canaveral', 'Jour', 'Tonner', 'Robinet', 'I kill', 'Saint-Ouen', 'Tourne', 'Panthéon', 'T’', 'aper?u', 'Tâchez', 'Gueuler', 'Falù', \"J'ai\", 'Géantes', 'Notre', 'Mourut', 'Nord-Ouest', 'Vint', 'Limoux', 'Différencie', 'Verso', 'Les R.G.', 'Mourrons', 'Personne', \"don'\", 'Saint-Esprit', \"J'ai pensé\", 'Sues', 'Hughes', 'Phénomène', 'Majax', 'de France', 'Courent derri', 'Réponds', 'Tahiti', 'Tache', 'Fatigués', 'Misogynie', 'Fumée', \"J'ai vu ta bouche et je me sentais grise\\n\", 'Voltige', 'Strickliy', 'Prisons', 'Prenez', 'Entends l’', 'De l´Afrique du Sud', 'Dakar', 'L?-l?-l', 'Blonds', 'Bonhomm', 'Pis fumer', 'Amsterdam', 'lycéen', 'Scellées', \"J'ai déserté\", \"J'ai hurlé pendant des mois\\nJ'ai crié sur tous les toits\\n\", 'Tiré', 'Saint-Germain-des-Prés', 'Refusant', \"Sainte-Mad'lein’\", 'Désolé', 'Conditionne', 'Votre pyramide', 'Hexagone', 'Ajoutez', 'Dins', 'Concidence', 'Calvi', \"J'voudros\", 'Dois', 'Bashung', 'Errer', 'Sologne', 'Dinard', 'Bastia', 'Golfe\\n', 'la Loire', 'Squad', 'c’t’', 'Accompagné', 'Du soupçon de chiffon', 'Ffu', 'Kodwa', 'Qué', 'Pétris', \"J'ai jeté ma pipe\", 'la Pravda', 'Imbécile', 'Saisi', 'Bombardés', 'Cuirasse', 'Grenade', 'Teresa', 'Aldo', 'Cliché', 'Griffoné', 'B.H.V', 'Poupées Barbie', 'Mon vieux', 'Remington\\nMais Harry', 'Charly', 'Avais', 'Bestial', 'Le n?', 'Sans règle', 'Terrée', 'Stick', 'Prendront', \"J'ai des pip'\", 'Lisette', 'Landes', 'Dites', 'Kheops', 'parc Montsouris', 'Couchés', 'Mettrait', \"J'ai des potes de toutes sortes\", 'Opéra', 'Afrique', \"roi d'Espagne\", 'Parc des Princes\\n', 'Mets', 'Du cash', 'Prouve', 'Wonderbra', 'Aubervilliers', 'Predator', 'Bengale', 'Tolbiac', 'Singapour', 'Maroc', 'De l’', 'Parlez', 'Belzébuth', 'rue Pigalle', 'Ginette', 'Foutez', 'Angers', 'Vanves', 'Mis', 'quartier Latin\\n\\nA', \"jardin d'Eden\", 'Saint Malo', 'Sous', 'Casque', 'Connectés', \"J'ai des messages barges\", 'Wallons', 'Biggie', 'Croix de bois', 'Sébastopol', 'Lucas', 'This', \"J'ai vu la cordillère des Andes\", 'Honduras', 'Traitez', 'Menotté', 'Quand t’auras l’', 'plafond\\nPutain', 'Inutile', 'Finir', 'Textiles', 'Scratches', 'Nante', 'Nantes', 'Leur conseil c’', \"J'ai surpris ma maîtresse\", 'Gaffe', 'Pantin\\n\\nPleurez', 'Creuser', 'Enamourée', 'Enchaîné', 'Rosalie', \"Rotonde\\nJ'appellerai ma gonzesse\", 'A Saint-Sulpice', 'Racontez', 'Vaux', 'Silhouette insolite', 'Laarso', 'Scalpe', 'Tes', 'Travaille', 'Travail', 'Découvrir', 'Pont musical', 'Hardi', 'Pensais', 'Tuez', 'Où est-elle', 'Camargue', 'Je l’', 'Occupe', 'Tendu', 'Livré', 'rue du Four\\n\\nEcoutez', 'Emplit', 'K7', 'Presque', 'Tombant', 'Vieux Port', 'Charon', 'Movie', 'Féline', \"J'ai pas le temps de dialoguer\\nAppelez\", 'Génies', 'Quimper', 'Moi j´ai', 'Parc Montsouris\\nAprès', 'Atada', 'Nicaragua', 'Allez bois', 'Playing', 'Tellement', 'A nouveau', 'Psychiatrisées', \"J'ai cinq vies\", \"l'Olympia\", \"Lil'\", 'Ingrid', 'Brest', 'As', 'Mignonne', 'Bosse', 'Togo', 'Estonie', 'Volent', 'Respectueux', 'Heureux', 'Où les balles traçantes', 'Fleurir', 'Manhattan', 'Eve', 'Courbée', 'La Rochelle', 'Bondy', 'Je vois', 'Coraje', 'Spécial', 'Chili', 'Reïf', 'Storm', 'Naquit', 'Non\\nMême un mégot', 'Sirima', 'Taj Mahal', 'Révélateur', 'c\\x9cur', 'Baby', 'pyramide\\nLolito', 'Chill', 'notre Terre\\n', \"Rigole pas ma p'tite\", 'grande Ourse', 'Attrapez', 'Jean-Franois', 'Jah Jah Ras Tafari\\n', 'vis\\n', 'Campo Formio\\nJe', 'Villette', \"J'ai mêm' des tombeaux en\", 'Den jag', 'Belles', 'Compose', 'Prendre', \"That'\", 'Kanaky', 'entr?e', 'Côte', 'Nettoyées', 'Car c’', \"l'Saint-Bernard\", 'Montparnasse', 'Assez', 'Mettant', 'Traîne', 'Sentir', \"J'te vois sourire\", 'Novotel\\nY', 'Solide', 'Emules de Django', 'Occupait', 'Parle', 'Sadique', 'La F', 'Délavées', 'Jag', 'Écoutez', 'moineau\\n\\nMon beauf\\n\\nOn', 'Finira', 'Sarcelles', 'Destinée', 'Bicêtre', 'Mojze', 'Baskets', \"J'ai dû trouver un exutoire\", \"J'ai descendu la tasse\", 'Quoiqu', 'Pays des Sorgues Fanny\\n', \"J'aurais peur\", 'jardin du Bon Dieu\\nC’', 'Putain', 'Quitte', 'Gangster', 'I wanted', 'Commencent', 'Palerme', \"J'ai troqué\", 'Appelle', 'Retourne', 'Car', 'N', 'Palaiseau', 'Flèche', 'Cigarillo', 'la Terre', 'Turc', 'Mythiques', 'pont des Arts\\n', 'But I’', 'Qilin', 'Trap', 'love L', 'Dévorées', 'Venise', 'Terminus\\nTerre', 'Méchante\\n\\nDont', \"J'ai fouillé\", 'Sache', 'Boom', 'Déploie', 'la Bastoche', 'Minme', 'Jérusalem', 'Brazza', \"J'affronte la vie\", 'Notaires', 'Branches', 'Cherche', 'fosse\\nPus', 'Patriarche', 'Paix', 'Bancs', 'Shit Squad', 'Déchanter', 'la Seine', 'Mandat', 'Lalala', 'Brille', 'Ricains', \"J'rinte\", 'Rue Saint-Vincent\\n\\n', 'Cube', 'Gratter', 'Sanglants', 'Ramadan', 'India', 'Préfèrent', 'A', 'Parfois', 'Among', 'In', 'Donnez', 'Lutèce', 'Maine', 'Peut', 'boulevard de Sébastopol\\nTortillant', 'Disneyland', 'Toulouse', \"J'ai des millions d'étoiles\", 'Chantait Bebop', 'Oï', 'Libérées', 'Poésie', 'Frénétique', 'Humanitaire', 'La Seine', 'Those', 'Garde-à-vous', 'Simca', 'Tr', 'Cause', 'Evry City', 'Destinées', 'Prés', 'Your', 'Paris', 'Aiguisent', \"Porte d'Orléans\", 'cieux\\u2005', 'Afros', \"J'ai pêché les sept fois\\nRien\", 'Cogner', 'Sandrine', \"l'Italie\", 'Odette', 'Saint-Mandé', 'Vapeur', 'Brav’ Margot', 'Sorbonne', 'Genoux', 'v’', 'Close\\n\\nC’', \"J'ai fauché\", \"Kro'\", 'Fresnes', \"J'aimais mon nouvel\", 'Heureusement', 'Femmes', 'Dag', 'Starflash', 'Serpico', 'Striée', 'Livr', 'Oubliez', \"Boulevard de la Chapelle\\nSur un air d'eau d'javelle\\nElle s'vendit pour de l'or\", 'Saint Ildefonse', 'Suivit', 'Mai', 'KO', 'Voudrais', 'Panier\\n', 'n’', 'Comptez', 'Fréjus', \"J'ai vu des fins et des moyens obscurcir l'histoire\", 'Glocks', 'Déjà', 'Viennent', 'Confronté', 'Suisses', \"Eul' caf'\", \"N'\", 'Pont', 'Mangeais', 'Bamako', 'Village', \"J'ai besoin d'une transfusion\\n\\n\", \"J'oublie\", 'cagoule du Ku-Klux', 'Abeba', 'Men jag kommer aldrig ikapp', 'Turlututu', 'Avait', 'Bullshit', 'Benkeï', 'Pigalle\\nY', 'Embrouille', 'B.J', 'Together', 'Coupole\\nElles', 'Inde', 'Aimes', \"J'prends\", 'Certes', 'Hindou', 'Telecom', 'Parc´qu´y', 'Passe-les', 'Comme', 'Lololala', 'Terminus', 'Interpol', 'Montana', 'Fac', \"Côte d'Azur\\nSur la porte un nom\", \"J'veux vous remuer\", 'Nos h?ritiers', 'J’t’', 'mont Falu', 'Recouvrance', \"J'ai dans l'cœur\", 'Opaque', 'Cette', 'Chancelant', 'Finistère', 'Gloire', 'Sumatra', 'Comprends l’', 'Efface', \"Y'\", 'Grand-père', 'Landerneau', 'Arrimé', 'Qui', 'Sorti', 'Vise', 'Encore', 'Remplie', 'Marylou', 'Pes', 'Du', 'Jetons', 'Calmes', 'Errare humanum', 'Titi', 'radis\\n\\nOr', 'Poulbots', 'Phocéens', 'Flou artistique', \"J'ai dessiné\", 'B', 'Perdus', 'Fastoche', 'Ma', 'Ignorant', 'Taishi', 'Intellectuelles', 'Sommeille', 'Sacrée', 'Mexique', 'Rungis', 'Patientent', 'Madone', 'Voit', 'Coucou', 'Close', 'Ciao', 'Pétrifié', 'Avignon', 'Profondes racines', 'Empty heart', 'Sobre', 'Île-de-France', 'Assigné', 'Être', 'Babylone', '”\\nOr', 'Horizons', 'Le Parisien', 'With Mrs', 'France', 'Hargne', 'Solaire', 'Uranus', 'Mégotrip', 'Mogador', 'Brisé', 'Sofa', 'A grands coups de chaînes de vélo', 'Traduit', \"J'ai beau te serrer dans mes bras\\nTu\", 'Côtes-du-Rhône', 'La Li', 'pont\\nLaisse', 'Les imbécil’s heureux', \"l'Europe\", \"J'ai persisté\", 'Attaque', 'Shams', 'Eille', 'belle de Mai', 'Mont Royal', 'Porte Dauphine', 'Robins des Bois', \"J'vous vois\", 'Régie', 'Minotaures', 'Bic', 'Dignos', 'Montant', \"J'ai dit aux hommes\", 'Luberon\\n\\nRencontra', \"J'ai vu des faux bergers\", 'Kanterbrau', 'Européens', 'Vilnius', 'Tendres', 'Frappe', 'Auprès', 'Un individu', 'pyramide\\nMets', 'Baywatch', 'Selecto', 'Laquelle', 'Abattus', 'Serre-moi', 'Achinan', 'Croix', 'Français', 'Eh Manu', 'Débilos', 'de Lille', 'Tourcoing', 'Porter', \"J'ai les paupières\", \"J'ai allumé le feu\", 'Brasse', 'Eperdue', 'Tenant', 'Enseigne', 'Assise', 'Kader', 'Coulent', 'Belleville', 'Panama', 'Tremper', 'Détaillant', 'La bourrasque', 'Vois', 'Vulpes', 'Silhouette', 'Direct', 'Play', 'Quatre', 'Faut', 'Orphélie', 'Mal', 'Croyant', 'Fort', 'Précieuses', 'Himalaya', 'Dur', 'Dont', 'Introvertie', 'Celles', \"J'ai du bon lyrics dans ma cafetière\", 'Los creíste tal', 'Les VC', 'l’on Te', 'phénomène\\nMéditerranéenne', 'Laver', 'Schengen', \"J'avais si peur de mourir\", 'So long', 'Je', 'Heel', 'Semblent', 'Toe', \"J'ai beau tourner\", 'Piano', 'Vieux', 'Mountain', 'Pistolet', 'la Chine', 'Lumière', 'Abjurant', 'Que\\u2005', 'Häagen', 'raclée', 'Traverse', 'Tchernobyl', 'Apollinaire\\nA', \"Saint-Jean\\nN'\", 'Pusque', 'Quartiers', 'Ca', 'Jé', \"J'avais l'air d'un con\\n\", \"J'cueillis\", 'Ivrogne', 'Faute', 'Flingue', 'Ancrée', 'Jambe', 'Or', 'Constate', 'Accumulèrent', 'Messieurs', 'Lever', 'Biffant', \"J'ai rencontré\", 'Indonésie', 'Trouverais', 'Sérieux', 'Licenciés', 'Couleur', 'zéro zéro\\nIntérieur', 'Soweto', 'Te', \"Corne d'Aurochs\\n\\nParce\", 'Block', 'Marchant', 'Traîné', 'Mieux', 'Disrespect', 'Lui', \"J'ai construis une famille\", 'Électrolyse', 'Morte', 'Identity', 'Blague', 'Indochine', 'Royaume Ming', 'Ness', 'Puis', 'Russie', 'Tiens', 'Gardes', 'Laissant', 'Gare', 'Méfie', 'Cancer', 'Tours', 'Déplace', 'Conduit', \"J'ai la connerie humaine\", 'Bettancourt', 'Prêt', \"Porte d'Italie\", 'Terrestre', \"Place de l'Horloge\", 'Planquée', \"J'irai traire\", 'Blacks', 'Ambiance', 'Venise\\nPrivés', 'Vénus de Milo\\n', 'Villeneuve-Saint-Georges', 'Grand-Père', 'Embrase', 'Capoue', 'Tomahawk', 'golfe de Tchernobyl\\n', 'Sévit', 'Evolution', 'Les orgues de Barbarie', 'Donx', 'Leizesem', 'Vendre', 'cap\\nDu dédain et de la non-communication', 'Arrêtez', 'Valider', 'Eternel', 'Marre', 'Ha', 'Durand', 'Béton', \"J'ai bien mérité les roustes que j'ai prise\", 'Fort Green', 'Akkad', 'Bhopal', 'Retiens', 'Submarina', 'Marchaient', 'Futile', 'Ah', 'Lyriciste', 'Padilla', 'Coste', 'Symbolisé', 'Assassin', 'Ça', 'Mea culpa', 'Croisant', 'Débloque', 'pont des Arts\\n\\n', 'Défends', 'Grand', 'Renverse', 'Jusque', 'Chés villaches', 'Coca', 'port\\nBlanche', 'Reno', 'Toucher', 'Voil', 'Balance', 'Panthéon\\nRue Descartes', \"J'ai travaillé\", 'May', \"J'aimerais\", 'Accepta', 'Car t’', 'Fatale', 'Philistins', 'pont Mirabeau\\n', 'Loulou', \"J'oublierai ta voix\", 'Reçoit', 'Xénophobie', 'Arabie\\n', 'Virez', 'P38', 'Trahi', 'Trois couleurs', 'On l’', 'n´ai', 'Nouméa', 'Réquisition', 'Tite', 'Pauvres', 'Désemparé', 'Ycon', 'Poèmes', 'Ho', 'Cachera', \"J'ai acquis\", 'Baileys', \"tunnel\\nLame de l'épée\", 'Cochères', 'Confédération Suisse', 'Bedos', 'Laintenanmic', 'G', 'Veuve', 'Finiront', 'Admettre', 'Preuve', 'Bled', 'Pont-de-Sèvre', 'Vu', 'Sitôt', 'Rome\\n\\n', 'Enfants', 'Laar-S\\n', 'Cimetière\\nAguichant', 'Propagande', 'Rimbert\\n\\nRefrain\\n\\nChés', 'Nil\\n', 'Apporte', 'P', 'Planté', 'Ouvrant', 'Pont 2', \"J'ai craqué\\nJ'ai glissé\", 'Flora', 'Rait', 'Souvenir', \"J'ai rien fais\", 'Chose', 'Celui de MC', 'Indiens', 'Épouse', \"Un État d'Amérique\", 'Bientôt', 'Valentour', 'Traînez', 'Renommée\\n', 'Impulsif', 'Moulins', 'Oh', 'Pire', 'Esmeralada', 'Naples', 'Heineken', 'Qu´ça', 'Buddha', \"J'bois\", 'faille\\nTravail', 'Déesse', 'Mille gars', 'Baccarat', \"J'ai balancé ma radio\", 'Court', 'Finlande', 'Close\\n\\nDans', 'mer\\nOù', 'A 16', 'Emmène', 'Ternis', 'Place', 'Cythère', 'Omerta', 'Adjugé', 'Permets', 'Faire', 'Tri-Nitro-Toluène', \"J'ai vu des oiseaux\", 'Pin', 'Saintes-Maries', 'Ouais', 'Grèce', 'Vécu', 'Rue de la Soif', 'Révérence', 'Mon vieux Léon', 'Leurs', 'Payer', 'Présent', 'Rodeada', 'Culpa!', \"J'en avais presque peur\", 'Europe', 'Bingo', 'Babou', 'Assistée', \"J'ai pris ce chemin\", 'Entraîné', 'Baumettes', 'Cercle', 'Sut', 'La\\u2005', 'Mougeotte', 'fumée', 'Coûte', 'Hambourg', 'Digne', \"J'imagine\", 'Enceinte', 'Besoin', 'Deuch', \"J'ai choisi ma route\", 'Rappeur', 'Prusse', 'Greta\\n', 'Blood', 'Saint-Cloud', 'Cher', 'Porions', 'Aucun', 'Baston', \"J'ai jeté\", 'Donnons', 'Multitude', 'Shalimar', 'niez pas\\nPrenez', 't’', 'Jordanie', 'Restez', 'Scarabée', 'Flore', 'C’t’', 'Espérances', 'Plein', 'Dedans', 'Massy', 'Prend', \"Ell'\", 'D', 'Chill Chang Chong', \"J'avais\", \"Corne d'Aurochs\\n\\n\", 'Bougre', \"J'ai rien\", 'Démobilisés', \"J'ai vendu\", 'Parc Montsouris', 'Macao', 'De cars bondés de monde', 'Laponie', 'Loïc', 'Pendu', 'Brabus', 'maléfique\\n\\nCommence', 'Mexico', 'Casse des merdes', 'Était', 'Playa', \"J'ai vingt-six ans\", 'Les enlace ?', 'Filant', 'Lampistes', 'Envolées', 'Dicte', 'Systématique', 'Protection', 'Tipaza', 'Bad', 'Eloigne', 'Centre', 'Bolivie', 'Jérusalem\\n\\nDans les yeux', 'Couplet 2', 'Thanos', 'Oyez', 'mer\\nLibre', \"J'eus la douleur de voir punir d'une épouse volage\\n\", 'Pondus', 'Epoque', 'Big Brother', 'Gastibelza', 'Paris\\n\\nÊtre', 'Armani', 'Qu´a', 'Taxe', 'Resplendissant', 'Y', 'Hong', 'Finis', 'Le désert crée des hallus', 'Alcool', 'C’', \"J'te montrerai mon\", 'Éthiopie', 'néant\\nLaissant', 'autr’', 'Taf', 'On n´en', \"J'ai maint'nant des frênes\\nDes arbres de judée\\nTous de bonne\", 'Listen', \"J'ai vu bon nombre de nombrils\\n\", 'Arc-en-Ciel', 'Deviens', 'Entourlouper', 'Egotrip', 'Ni', 'Vaut', 'Laissons', \"J'ai planqué\", 'Iconoclastes', 'Papier', 'Bonheur', 'Danse', 'porte du Diable', 'Courront', 'Exploitées', 'Invité', 'Prague', 'Amasse', 'Vänd', 'Milliers', \"J'ai chanté 10\", 'Terre\\n', 'Bébel', 'Hommes', 'Yeah', \"J'aime le marbre\", 'Saumur', 'Dire', 'Mordor', 'Aimeras', 'Séparons', 'Hanoï', 'Ecoutez', 'Hélloïs', 'Como', 'Arbi', 'passerelle’', 'la C.I.A', 'Chemise', 'La nonne', 'Gardien', 'Pont – MC Solaar', 'Rico', 'la Camarde', 'Calligraphié', 'Pose', 'Crie', 'Pleurez', 'Bien', 'Guide', 'Sénégal', 'Planète Marseille', 'Stella', 'Aldo vole', \"J'ai tourné\", 'Evermore', 'endiablée\\n', 'Pologne', 'Enrôlé', 'Bienfait', 'Fabien', 'Concept', 'Faisanderie', 'Éteignez', \"Caroline\\nJ'oubli' presque toujours le nom de l'héroïne\", 'Aziz', 'Déifiant', 'Inclus', 'Illumine', \"Moi j'\", \"J'ai pris 300 carambars\", \"l'Est\", 'Continuait', 'Envoyez', 'Lille', 'Afin', 'Scudetto', 'Morricone', 'Wana', 'Bâillonné', 'That', 'MacDo', \"J'ai mon temps\", 'Bastille', 'Touche', 'BDE', \"Est-c'que\", \"J'ai eu des crampes d'estomacs\", 'Pensée animale', 'El', 'Tarentelles', 'Pouvais', 'Lève', 'Furent', 'Fut', 'Sauve', 'Causerait', 'Voie unique', 'Profitons', 'Veuille', 'Knokke-le-Zoute', 'Lulu', 'Ta bonne étoile', 'A Longwy', 'Soupira', 'Clique', 'Quand on m’', 'Allemagne', 'Sali', 'Kiev', 'Ricoche', 'Une éruption de joie et de sentiments intenses...', 'Rabane', 'Boîte', 'Eh ben', 'Regardez', \"l'Espagne\", 'Sofia', 'Paname', 'Hollywood berne', 'Et c’', \"J'aimerais savoir\", 'Lison', 'Sanglant', 'Basique', 'Loto', 'Boulettes', 'Morphine', 'Space', 'Meuse', \"J'ai froid\", 'Revenir', 'purée', 'Eux', 'Une balle', 'Nord', 'Les', 'Margot', 'Maréchaux assassins', 'd’', 'Empêche', 'Deviendront', 'Hhhhhan', 'Calme', \"J'ai corrigé\", 'Souris', 'Matraque', 'Aigris', 'Miroir', 'Saint-Malo', 'Whisky', \"L'Opinel\", 'chichon\\u2005', 'Je vole', \"J'ai pas la\", 'Never', 'Neuilly\\n', 'Krasnodar', \"J'ai beau crier\", 'Carabine', 'Attirés', 'Chhht', 'Sorties', \"Parc'\", \"J'aurais\", 'Léviathan', 'Lordelebem', 'Dolto', 'Funk', 'Vire', 'Donc bang', 'Désiré', 'Basculent', \"J'ai bu une grenadine\\nPendant\", 'Rouen', \"J'kiffe ma vie\", 'Souvenez', 'Moët', 'Écologistes', 'A genoux', \"gare de l'Est\", 'Halles', 'Pénélope', 'J', 'Mourra', 'Trottoirs', 'Tifosi', 'New Balance', 'Clichy', 'Paola', 'Battent', 'Accepte', \"J'ai pas peur des loups\", 'Tout’s', 'Saint-Pierre', 'Maladie', 'Vérifie', 'Seule', 'Bang', 'Murmure', \"J'ai eu peur\", 'Leur', 'Volailles', 'Evoluant', 'Torse', 'Trouvant', 'Ej', 'Monténégro', 'Saine', \"J'ai connu\", 'Bravo', 'Malek', 'Chés berlines', 'Paroles', 'Authentique', 'Les ongles', 'Oubliant', 'Roulée', 'Pont parlé', 'Crainte', \"see'\", 'Autoradios', 'Bagdad', 'Horloge', 'Rience\\nMais', 'Épouvantail', 'We all have', 'Manquant', 'Sales manières', 'Robe', 'Hallelujah', 'Dupont', \"Tell'\", 'Marvin', 'Vancouver', 'Economie', 'Emportant', 'Prends', 'cap Ferret', 'Haïkku', \"J'imagine des tas de choses\", \"J'ai l'impression qu'un oiseau m'\", 'Amérique', 'Sad Hill', 'Cévennes', \"J'entrais\", 'Basses', 'Cosma', 'Rapper', \"J'ai pas d'réverb\"}\n",
      "7578\n",
      "temps : 84.594977285\n"
     ]
    }
   ],
   "source": [
    "start1 =time.perf_counter()\n",
    "loc_sm2=[]\n",
    "for texte in f2:\n",
    "    try:\n",
    "        doc = nlp_sm(texte)\n",
    "        for entity in doc.ents:\n",
    "            if entity.label_ ==\"LOC\":\n",
    "                loc_sm2.append(entity.text)\n",
    "    except:\n",
    "        pass\n",
    "end1 = time.perf_counter()\n",
    "ecrire_json(\"/Users/mustapha/Documents/GitHub/Memoire/sdl_data_echantillons/lieux_echantillon2_avantNettoyage_sm.json\",loc_sm2)\n",
    "print(\"lieux trouvés par le modèle small : \",len(set(loc_sm2)))\n",
    "print(set(loc_sm2))\n",
    "print(len(loc_sm2))\n",
    "print(\"temps :\",end1-start1)"
   ]
  },
  {
   "cell_type": "code",
   "execution_count": 7,
   "metadata": {},
   "outputs": [
    {
     "name": "stdout",
     "output_type": "stream",
     "text": [
      "lieux trouvés par le modèle small :  93\n",
      "{'Ouille', 'Euh!Euh', 'Amsterdam', 'Varsovie', 'Bordeaux', 'Vieux', 'Trocadéro', 'Canigou', 'Jekyll', 'Ca', 'Goldwyn', 'Touche', 'Aïe!.', 'Obélisque', 'San Francisco', 'la France', 'Tripoli', 'Pétuchet', 'Lampadaire', 'Saana', 'Kinshassa', 'Créteil', 'Yaoundé', 'Beatniks', 'Bernhart', 'Aidez', 'Mange', 'N’', 'Baltimore', 'La Palice', 'Instantané', 'Pyrex', 'Houlgate', 'Rochelle', 'Venise', 'Hâtez', 'l’Harpic', 'Marquis', 'Amiens', 'Yvette', 'Lourdes', 'France', 'Arroy', 'Calcutta', 'Papeete', 'Gault', 'Roméo', 'Disigny', 'rue Le Regrantier', 'Saint Omer', 'Bornéo', 'Rolex', 'Ministère', 'Pénélope', 'Avoir', 'Lux', 'ber1ue', 'île de la Jatte', 'Y', 'Ménard', 'Millau', 'Saint-Tropez', 'Boulevard Poissonnière', 'Paris', 'Venez', 'Binningham', 'Tampico', 'Mégève', 'Port-Gentil', 'Cotonou', 'Bégueule', 'Bogola', \"Dutronc d'Isigny\", 'Dôle', 'Téhéran', 'Daphnis', 'Vénus', 'Chaussée', 'Métro', 'Camberra', 'Val-de-Grâce', 'Marcelle', 'Antiatomique', 'Prends', 'Ulysse', '’', 'Demi-soupir', 'Milo', 'Tintin', 'Amakawogo', 'Fatigué', 'Celles', 'Mannix'}\n",
      "119\n"
     ]
    }
   ],
   "source": [
    "loc_sm3=[]\n",
    "for texte in f3:\n",
    "    try:\n",
    "        doc = nlp_sm(texte)\n",
    "        for entity in doc.ents:\n",
    "            if entity.label_ ==\"LOC\":\n",
    "                loc_sm3.append(entity.text)\n",
    "    except:\n",
    "        pass\n",
    "ecrire_json(\"/Users/mustapha/Documents/GitHub/Memoire/clean_data_echantillons/lieux_echantillon1_aprèsNettoyage_sm.json\",loc_sm3)\n",
    "print(\"lieux trouvés par le modèle small : \",len(set(loc_sm3)))\n",
    "print(set(loc_sm3))\n",
    "print(len(loc_sm3))"
   ]
  },
  {
   "cell_type": "code",
   "execution_count": 8,
   "metadata": {},
   "outputs": [
    {
     "name": "stdout",
     "output_type": "stream",
     "text": [
      "lieux trouvés par le modèle small :  1901\n",
      "{'Mental', 'B52', 'Règne', 'Sud-Ouest', 'Jamaïque', 'Cap Horn', 'Certain', 'Longwy', 'blas?s', 'Barbarie', 'Tsunami', 'Conservons', 'Sacro', 'Thaïs', 'L´a', 'Browning', 'Ferrat', 'Rue Descartes', 'Bollywood', 'Garde', 'O', 'Kingston', 'Indien', 'Atlanta', \"Alhambra d'Bordeaux\", 'Chante', 'Va', 'Jerusalem', 'U', 'Etats-Unis', 'Hiroshima', 'Arrache', '”', 'Golfe de Naples', 'tarpé.', 'Comprends', 'Iran', 'Qilin*.', 'Bosnie', 'Closerie', 'Olympia', 'Macumba', 'Car-en-sac', 'Californie', 'Takana', 'Iront', 'Reverra', 'Medhi', 'Gasoil', 'Ficelles', 'Sentimentale', 'Seraient', 'Bangkok', 'Brigue', 'Marny', 'Loki', 'Baltique', 'Etat', 'Adieu', 'Truand].', 'République', 'royaume des Hommes', 'Schtroumpfette', 'Tour Montparnasse', 'Lin', 'Brest(e', 'Bien-aimées', 'Nil', 'Envie', 'Papiers', 'Keno', 'Planète', 'Longjumeaux', 'Bénie', 'Cliquez', 'Jupiter', 'Rap Genius', \"autoroute Porte d'Orléans\", 'Parfait', 'Biactol', 'Irlande', 'Gestes', 'Tuileries', 'l’Espagne', 'Empty', 'Charonne', 'Maghreb', 'Endoume', 'Noire', 'Nénesse', 'Mal suprême', 'Cheyenne', 'Toi t´es', 'Gambetta', 'Tyson', 'Dalida', \"pont d'Iena\", 'Import', 'notre France', 'jardin du Bon Dieu', 'Basta', 'Aïd', 'Armaggedon', 'Nashville', 'Théophile', 'Eden', 'Intoxiqués', 'Epicure', 'Theresa', 'Fredonne', 'Shit !', 'Spirituel', 'Capdevielle', 'Rizla', 'Montmertre', 'L.O.L.I.T.A.', 'Stimorol', 'Saint-James', 'Parisien', 'Blanche', 'Jazzy', 'Jolis', 'Sos', 'Souviens', 'Hold', 'Gange', 'Fleury', 'Madagascar', 'Goa', 'Treets', 'Don', 'Bonbonne', 'Ninon', 'rue des Saules', 'Vagabonds', 'Cartouche', 'Aragon', 'Upon', 'B.Boy', 'Pourrais', 'Dublin', 'Poupée Barbie', \"aim'\", 'Sex', 'Landernau', 'forêts', 'Mental de Viêt-Cong', 'Écris', 'Avalon', 'Tanzanie', 'Ponds', 'Yang', \"Porte d'\", 'Salamanque', 'Vrille', 'Béaba', \"Corne d'Aurochs\", 'Rejoins', 'New Orléans', 'Perçois', 'Auront', 'Zanzibar', 'Flaujo', 'Chicanos', 'Speech', 'Butte Rouge', 'Mandarines', 'rue Pierre Charron', 'Suzon', 'Dublin city', 'Kinshasa', 'Laissa', 'Ola', 'Ukraine', 'Coucha', 'Rital', 'Italie', 'Outro]. La-la-la', 'Clemenceau', 'Veut', 'Uniformes', 'Enfoiré', 'porte de la Santé', 'Mont’ m’', 'Mongolie', 'R', 'Memphis', 'mer Egée', 'Louisiane', 'Maldives', 'Centrafrique', 'Aïcha', 'Sicile', 'Carcassonne', 'Vent', 'Soumise', 'Blondin', 'Bière', 'Dallas', 'Duras', 'Matelasse', 'Bretons', 'Charité', 'Anvers', 'Molly', 'Ménilmontant', 'L’', 'année', 'vieux Franco', 'Graines', 'Kerouac', 'Connemara', 'Brandy', 'Brooklyn', 'Hardcore', 'HS', 'Souffler', 'Posse Idéal', 'Arabie', 'Marjolaine', 'Santiago', 'Féria', 'PE', 'Assis', 'Velcros', 'Voltigeur', 'Haschich', 'Pow Wow', 'Rosette', 'Hôtel de Russie', 'Basques', 'Meccano', 'Rue sombre', 'Supercherie', 'Once', 'Tais', 'Philippines', 'Montréal', 'Bilan', 'Dj Daz', 'Tour Magne', 'Alabama', 'Aix', 'Bilal', 'Longe', 'Passeport', 'Complexe', 'Laisse', 'Pardonne', 'pays n’', 'Archipiades', 'Vlan', 'Foi', 'Tonton', 'MCs', 'From London', 'toi Colombe', 'jardin du Luxembourg', 'Montcuq', 'Olé', 'Allergique', 'Hollywood', 'Corses', 'béton gris', 'N’', 'Coutellerie', 'Belfast', 'Lune', 'Padam', 'Belge', 'Vietnam', 'Traversé', 'Libé', 'Villefranche', 'Quartier', 'Chacal', 'Perdu', 'Avenir', 'Pylade', 'Guide du Routard', 'Lourdes', 'j’', 'Ève', 'Champs-Elysées', \"bois d'Saint-Cloud\", 'Roméo', 'CP', 'boulevard de Sébastopol', 'Bécassine', 'Médine', 'M16', 'Suze', \"Côte d'Azur\", 'Lancoliques', 'Encre noire', 'Marbœuf je me gonflais', 'Marie-Lou', 'Ibiza', 'Lola', 'Issara', 'Sahel', 'S.H.U.R.I.K.E.N. Raw', 'Archange', 'Reviendront', 'Pondichéry', 'vieux Beaune', 'Britain', 'Creuse', 'Trees', 'Attends', 'Slamalekoum', 'Santé', 'Beaujolais', 'cadeau du Père Noël !', 'Couter', 'Magique', 'Otelo', 'Irak', 'place Saint-Michel', 'C', 'gros L', 'Vienne', \"Rue d'Charonne\", 'Fier', 'Amour', 'Bali', 'Cac 40', 'Cruel', 'Notre-Dame', 'Bas', 'Boules', \"pas d'Anglaises\", 'l´au', 'Gavroche', 'Tcherno', 'Varsovie', 'Camarades', 'Diable', 'Entends', 'R 16', 'Zénith', 'Washington', 'Manille', 'Sri Lanka', 'Pèze', 'Katmandou', 'Trouille', 'Savais', 'Marsala', 'Fréquentables', 'de Mélanie', 'Essaie', 'Memphis Tennessee', 'la France', 'Classique', 'Taïwan', 'Quelquefois', 'Quartier Nord', 'Honteuse', 'Créteil', 'Beau', 'rue Cogniagé', 'Pattaya', 'Fasse', 'Carême', 'Alis', 'Bushido', 'Rex', 'Imperial', 'Mise', 'Chinois', 'Dansez', 'Momo', 'Istres', 'La Courneuve', 'Suisse', 'Virginie', 'Silence', 'Toulon', 'Medellin', 'Samantha', 'Raconte', 'Cocagne', 'Regarde', 'Libérez', 'Am', 'Courrut', 'du Nord', 'Tacchini', 'Enfernet', 'Rabbins', 'Pluton', \"Jardin d'Eden\", \"caverne d'Ali\", 'vieux Priape', 'Expelled', 'Pactole', 'Père', 'Bornéo', 'Jalouse', 'Planète Mars', 'Dublin City', 'Servir', 'Stockholm', 'Murmura', 'Roxy', 'Verrouillée', 'Pense', 'Appalaches', \"bois d'Boulogne\", 'Thé', 'Grandir', 'Independenza', 'Le Renard', 'Bambou', 'Ulster', 'Bercy', \"L'Amérique\", 'Propre', 'Coupole', 'Baptistain', 'Morts', 'Unis', 'Chargez', 'Vem', 'Pont 1].', 'Cicatrices', 'Allongés', 'Moulin', 'Tolède', 'Ouest', 'Patrie hélas', 'Bac', 'Microphone', 'Attendez', 'Dieppe', 'Cut l’', 'Berlin', 'Affirmatif', 'Caniques', 'Belzebuth', 'musé’', 'Mesquins', 'Danger', 'Marie-Jeanne', 'Babel', 'Miners', 'Elaborates', 'Ronds', 'Fouquières', 'Judée', 'Perpignan', 'Mademoiselle', 'golfe du Yémen', 'Irlandais', 'l’Etna', 'Golf', 'Larmes', 'Sceaux', 'Danoise', 'Fredo', 'Pages', 'Distance', 'Gévaudan', 'Zoxea', 'Terminé', 'Creeks', 'Sao Paulo', 'Désarticulé', 'Égypte', 'Ter', 'Libre', 'Chiche', 'Lelay', \"l'Empire\", 'Recueillir', 'Pays', 'Indes', 'z´en', 'Fermer', 'Archipiada', 'Asiatic', 'P.M.U.', 'Matérialistes', 'She', 'Mochetée', 'Killah Priest', 'Grand Pan', 'Pantin', 'New Jacks', 'Malone', 'Merdico', 'Costes', 'Auteuil', 'Hip-Hop', 'Thiais', 'Coup', 'Erythrée', 'Nanana', 'Saint-Sulpice', 'Comprenez', 'M', 'Val', 'Plantez', \"l'6.6.6\", 'Canique', 'Champs Elysées', 'Versailles', 'Pont – MC Solaar]. Passé', 'Animateur', 'Cha', 'Criminosical Possee', 'El Paso', 'Mirage', 'Berne', 'Saint-Denis', 'héroïne', 'Informations', 'Premier', 'Pont Neuf je me gonflais', 'Américains', 'Rience', 'Gauloises', 'La France', 'forêt de Fontainebleau', 'Bric-à-brac', 'Kylin', 'Lens', 'pont Alexandre', 'Rends', 'Chouette', 'Bavière', 'pont des Arts', 'Pessah', 'l’Est', 'Christ(e', 'Sharengton', 'Pisseuse', 'Etna', 'Moiti', \"viaduc d'Auteuil\", 'Pastis', 'Bangladesh', 'Fraternité', 'L`Europe', 'Cologne', 'Brésil', 'Baffles', 'Chantez', 'Elysées', 'Travers', 'Jean-François', 'Pfff', 'Croque', 'Parme', 'International', 'Gance', \"Micro d'Argent\", 'Angleterre', 'Raisonne', 'Delano', 'Thai', 'Melopheelo', 'Margoton', 'Bibi-la-Purée', 'La-la-la', 'Mecque', 'Fit', 'Pâle', 'Little', 'Embrasse', 'Gaîté', 'Bonhomme', 'Jasmin', \"Veau d'Or\", 'Germanie', 'toi ma Colombe', 'tour Magne', 'Nabil', 'Chanteur', 'Chœur', 'Attiré', 'Écœuré', 'Merveilleux', 'grande Bretagne', 'Nord-Est', 'Dédé-le-Surineur', 'Tchac', 'Tipp', 'VO', \"État d'Amérique\", 'Addis', 'Byzance', 'QI', 'Poucet', 'Gendes', 'Palestine', 'Valstar', 'Mauvaise', 'Fume des Cohíbas', 'Ter l', 'la Santé', \"vid'\", 'Pékin', 'Alanje', 'Knicks', 'Funky', 'Burkina', 'Bultex', 'Asie', 'Grande', 'Bretagne', 'Karim', 'Lucien', 'Prudence', 'Apaches', 'Prodigal Sunn', 'Opinel', 'Mémo', 'H.L.M.', 'Sois', 'Ravachol', 'Ardèche', 'Terre', 'Archibald', 'Sentenza', 'Règle', \"d'Espagne\", 'New York', 'Fumes', 'Pyrex', \"Intro]. Bons baisers d'Mars\", 'Men', 'Lievin', 'j’t’', 'Pleure pas !', 'He', 'Revolucion', 'Jauger', 'Bruxelles', 'Pays Basque', 'École française du Caire', 'Rhondda', 'Ou', 'Barbe', 'Benkei', 'Belsunce', 'Styles', 'Pis\\u2005', 'Allemands', 'Fatma', 'Mulholland Drive', 'Repentez', 'Maradona', 'Mettez', 'Seine', 'Caroline', 'Faucheuse vienne', 'Marinette', 'Gorille', 'Partagés', 'from Rennes', 'B.D.', 'Pelé', 'Avoir', 'Vrai', 'Café du Dôme', 'Moi', 'MoMA', 'Chicago', 'Tour Eiffel', 'Resistenza', 'Holiday Inn', 'Pervenches', 'Butte', 'Pénétrer', 'Martigues', 'Goose', 'Avez', 'Crin', 'Quito', 'Vosges', 'Mars', 'Graff', 'Oeil', 'Renard', 'Neptune', 'Méditerranée', 'Navrés', 'Echo', 'Patagonie', 'Lutem', 'Deauville', 'gare de Bologne', 'l’', 'fascin?s', 'Bonjour', 'Panier', 'Vatican', 'Tennessee', 'Iblis', 'Terre Mère', 'Libertaire', 'Parc des Princes', 'L', 'Sambre-et-Meuse', 'Genre', 'Sort', 'Pensamos', 'pont Mirabeau', 'New Look', 'Sévéso', 'Rue du Vieux Colombier', 'Triangulaire', 'Lyon', 'Regardes', 'cœ\\x9cur', 'mer Rouge', 'Londres', 'Obscure', 'Elvis', 'rue du Four', 'Eich', 'Je t’', 'Rome', 'Tbilissi', 'Accrochées', 'Mesdames', 'Nniers', 'Aimerais', 'pas de Camaret', 'Gaulois', 'Evêché', 'la Winchester', 'Louche', 'Lise', '\"City', 'Brûlent', 'Carrare', 'Lilliputiens', 'Refrain', 'La', 'Lectriques', 'Indiennes', 'Speedés', 'Greta', 'Bogota', 'Triumph', 'Poètes', 'Machin', 'Beljamra', 'notre Terre', 'Qu´est', 'Parisien Libéré', 'Moscou', 'Merde', 'Senora', 'Panthéon !', 'Monoï', 'Provence', 'Sereine', 'Sentinelle', 'Stupides', 'Peintures', 'Onques', 'Posse', 'Re', 'Chapi', '“C’', 'qu’', 'Crois', 'François', 'Loch Ness', 'Telle', 'Mimi', 'He’', 'Nice', 'Marsiale', 'Géorgie', 'Combinaisons fluos', 'ABN', 'Paradis', 'Egypte', 'Danemark', \"tit'\", 'Barracuda', 'Immonde', 'Braves', 'Saint-Jean', 'Jazz', 'Expédie', 'Serai Orly', 'ligne Maginot', 'Grand Manitou', 'Pondais', 'Oxford', 'Zorro', 'Marie-salope', 'Monaco', 'Bagneux', 'Abreuver', 'Serais', 'Pleure', 'Retournes', 'Bastoche', 'Niger', 'la Rotonde', 'Ges', 'Aignan', 'Rendre', 'enti?re', 'Cool', \"d'Italie\", 'More', 'Big Boss', 'Pontoise', 'I', 'Budapest', 'Valence', 'Mali', 'Cordillère des Andes', 'Disney', 'Excuse', 'Chanta', 'Papouasie', 'Meudon', 'Krivine', '’', 'Pays des Sorgues Fanny', 'Boulevard Barbes', 'PV', 'Attablé', 'Fatigué', 'Orléans', 'Couplet].', 'Pakistan', 'Aspen', 'État\"].', 'Bois', 'Bordeaux', 'Aryenne', 'Yémen', 'Montfavet', 'Bucarest', 'Ebola', 'Corse', 'Twix', 'Sugar Hill', 'Gotha', 'Oublie', 'War Pride', 'jardin d’Eden', 'Tarbes', 'S', 'Ayato', 'CO', 'Taciturne', 'Saturne', 'Franchit', 'Vive', 'Forgé', 'Mea Culpa', 'Hasta siempre', 'Cherchez', 'Fermé', 'Normandie', 'M.I.C.', 'Sylphes', 'Emporte', 'Eucharistie', 'Fausse', 'Rue Saint-Vincent', 'Ensorcelé', 'Shaolin', 'Sheitan', 'Carpentras', 'Lipstick', 'Mourir', 'Blédina', 'Folle', 'Calypso', 'St Vincent de Paul', 'Sly', 'C.I.P.', 'Rires', 'Allemand', 'Scratchs].', 'Chemin', 'Killeshandra', 'New York City', 'Saint-Pétersbourg', 'Gentilshommes', 'Omotesandō', 'Darjeeling', 'Luter', 'Elsa', 'Anges', 'Idéal', 'op?ras', 'Pigalle', 'Acerbe', 'Les Affranchis', 'Grand Plazza', 'Tombeau', 'Ré-Hor', 'Tchatche', 'la Pologne', 'Connais', \"L'Italie\", 'Garges-Les-Gonesses', 'Amitiés', 'Playmate', 'Venez', 'la Lier', 'Cerveza', 'Séville', 'Argentine', 'Bietris', 'Morrison', 'Germaine', 'Tokarev', 'Chômeur', 'Tommies', 'Abyssinie', 'Soleil', 'Rottweilers', 'Rio', 'Marseillais', 'Damas', 'Haïti', 'B.H.L.', 'Badé', 'Vénus de Milo', 'he’', 'Alsaciens', 'Israël', 'Sumer', 'Woody', 'Thèbes', 'Solaar', 'Reposerais', 'Prada', 'MC', 'Ordinaires', 'Miami', 'Rado', 'Papa', 'Bénites', 'Nègre', 'La Savane', 'Sardagne', 'Veuve Cliquot', 'Personnes', 'Bagarres', 'Faunes', 'Marseille c’', 'Costa Rica', 'Roulerez', 'Sire', 'Dalila', 'Play-Boy', 'Tousse', 'Ruth', 'Comanches', 'Avoriaz', 'Sylvie', 'Veuillez', 'antiquit?s', 'Alonzo].', 'Banger', 'Clignancourt', 'grande Europe', '\\x93', 'Olimpico', 'Cold Case', 'rose\"].', 'Cuando', 'Sparte', 'Quatres', 'Ceylan', '-Ouais', 'Croire', 'Mal Suprême', 'Maillol', 'Africain', 'E', 'Quel', 'Vercors', 'Porto', 'outils}. A', 'Paris-la-soumise', 'Akhti', 'Tokyo', 'Plaise', 'Maharajas', 'Z.A.C. Sortie', 'Chine', 'Pérou', 'le Caire', 'Zembla', 'Puisse', 'Coule', 'Lavilliers', 'Iéna', 'Reggae', 'N Chang', 'Ardisson', 'Détail', 'Plaza', 'Tre', 'Kebab', 'Passy', 'Novotel', 'BO', 'Manny', 'Filles', 'Pont musical]. Trop', 'Pépette', 'Alianza', 'J.M.', 'Houston', 'Goldman', 'Lachaise', 'Saint-Tropez', 'Voulu', 'Intro].', 'sacré’', 'Kanter', 'Redescends', 'Rares', 'Atlantique', 'Prévenez', 'vieux Corneille', 'Teruel', 'Vénus', 'Arrêté', 'Nation', 'télé.', 'Est', 'Daz', 'Sad hill', 'Piennes', 'Ouganda', 'Renaissance', 'Robbie', 'Shwartzenberg', 'Ouvre', 'Volez', 'Gargamel', 'rue Davso', 'Apprinds', 'Faucheuse', 'Sodi', 'Knacki', 'État', 'Bonnes', 'Nettoie', 'Orang', 'Clamart', \"l'Afrique\", 'R12', 'Ghana', 'Brrraque', 'Etienne', 'Essuyez', 'Renoncé', 'BANG', 'Liban', 'Tchad', 'Avenger', 'Concédons', 'Espagne', 'Brive-la-Gaillarde', 'Casa', 'APM', 'Sauron', 'Pouvoir', 'Ricard', \"Bud'\", 'DJ Daz', 'planète Terre', 'bide de Moustache', \"Jardin d'Adam et Eve\", 'Doucement', 'Jallalabad', 'Menuets', 'Fresh', 'Diego', 'Lac Salé', 'Provoqué', 'Mollah', 'du Sud', 'London', 'Québec', 'Seleção', 'Faf Larage)].', 'Hortense', 'Strange', 'Abandonnée', 'Coudes', 'Marseille', 'Caché', 'Vallée des Rois', 'Lorraine', 'Tranquille', 'Népal', 'Montmartre', 'Yanis', 'm’', 'Dijon', 'Barbès', 'golfe du Lion', 'Auvergne', 'Ridicules', 'La Terre', 'Sud', 'Evangile', 'Nolan', 'Allô', 'Brûle', 'jean’', 'Dominique', 'Moissonne', 'Belle', 'Fuck', 'Fort Greene', 'Long Kesh', 'Sud-Est', 'Libérée', 'Champs', 'gabelous!. L', 'Étalonnée', 'Crozemarie', 'Sète', 'Belges', 'Stresse', 'Bally', 'Saint-Michel', 'Ajaccio', 'Moyen-âge', 'Cap Canaveral', 'Robinet', 'Guérilla', 'Saint-Ouen', 'Renommée', 'Picon', 'Tourne', 'Panthéon', 'T’', 'aper?u', 'Falù', 'Géantes', 'Mourut', 'Nord-Ouest', 'Limoux', 'Différencie', 'Verso', 'Pentagone', 'Micro', 'Scratch].', 'Mourrons', \"don'\", 'Sempiternel', 'Saint-Esprit', 'Arizona', 'Hughes', 'Colombie', 'Majax', 'Pétales', 'de France', 'Tahiti', 'Flagada', 'Misogynie', 'la Varenne', \"Rue d'la Roquette\", 'Veilles', 'Dakar', 'Pays de Co', 'L?-l?-l', 'Blonds', 'I.R.A.', 'Amsterdam', 'Scellées', 'Saint-Germain-des-Prés', 'Désolé', 'Ninette', 'Hexagone', 'Ajoutez', 'Concidence', 'Calvi', \"de l'Est\", 'Dois', 'Bashung', 'Errer', 'Sologne', 'Fils', 'Dinard', 'Bastia', 'Grand Prêtre', 'la Loire', 'Ziza', 'Puerta', 'métro Saint Michel', 'Française', 'Squad', 'c’t’', 'Understand', 'Darren', 'Kodwa', 'la Pravda', 'Grenade', 'Teresa', 'Pègre', 'Aldo', 'Cliché', 'Poupées Barbie', 'Charly', 'Beat street', 'Pont 2].', 'Bestial', 'Viandox', 'Place Vendôme', 'Stick', 'Lisette', 'Landes', 'Dites', 'parc Montsouris', 'Couchés', 'Opéra', 'Afrique', \"roi d'Espagne\", 'Pussycat', 'Élaboré mon', \"p'tit Montparnasse\", 'Wonderbra', 'Aubervilliers', 'Bengale', 'Tolbiac', 'Singapour', 'Maroc', 'Belzébuth', 'rue Pigalle', 'Ginette', 'Foutez', 'Angers', 'Vanves', 'lit!.', \"jardin d'Eden\", 'Saint Malo', 'Manœuvres', 'Connectés', 'Wallons', 'Biggie', 'Sébastopol', 'Marie-toi', 'This', 'Honduras', 'Bleue', 'Intro]. Celle', 'Greenwitch Village', 'Inutile', 'Textiles', 'Scratches', 'Nante', 'Nantes', 'Enchaîné', 'Pyrénées', 'Rosalie', 'Vaux', 'Laarso', 'la Courneuve', 'Travail', 'Découvrir', 'Pensais', 'Tuez', 'Camargue', 'Tendu', 'Livré', 'K7', 'Vieux Port', 'Chevauchée Fantastique', 'backrooms du Marais', 'Charon', 'Movie', 'I write all night to improve my journalism', 'Tagada', 'Quimper', 'Moi j´ai', 'Atada', 'Retrouver', 'Nicaragua', 'L.O.L.I.T.A', 'Psychiatrisées', \"l'Olympia\", 'Marlon Brando', 'Brest', 'As', 'Mignonne', 'Bosse', 'Château Noir', 'Togo', 'Estonie', 'Gap', 'Manhattan', 'Eve', 'Martiens', 'Iles', 'Bondy', 'La Rochelle', 'Coraje', 'Elvire', 'Chili', 'Reïf', 'Storm', 'Taj Mahal', 'c\\x9cur', 'grande Ourse', 'Attrapez', 'Jean-Franois', 'Villette', 'DJ Polo', 'Kanaky', 'entr?e', 'Côte', 'Nettoyées', 'Smalto', \"l'Saint-Bernard\", 'Montparnasse', 'Tours Jumelles', 'Traîne', 'con!.', 'Délavées', 'Attention Lola', 'Écoutez', 'Sample].', 'Sarcelles', 'Bicêtre', 'Akhenaton].', 'Mojze', 'quartier Latin', 'Phocée', 'K.O.S.O.V.O.', 'golfe de Tchernobyl', 'Gangster', 'Khéops', 'Palerme', 'Ouarzazate', 'Appelle', 'N', 'Footix', 'Flèche', 'Palaiseau', 'Héloïse', 'la Terre', 'Turc', 'Trap', 'love L', 'Venise', 'Déploie', 'Sache', 'Boom', 'Canebière', 'Minme', 'Jérusalem', 'ciel!.', 'Brazza', 'Branches', 'Patriarche', 'Amway', 'Shit Squad', 'Rabin', 'la Seine', 'Lalala', 'Brille', 'Ricains', 'Aid', 'Cube', 'Colorado', 'Ramadan', 'India', 'A', 'In', 'Donnez', 'Lutèce', 'Maine', 'Montélimar', 'Peut', 'Disneyland', 'Toulouse', 'Libérées', 'Poésie', 'Humanitaire', 'Simca', 'Cause', 'Evry City', 'Your', 'Paris', \"Porte d'Orléans\", 'Buttes', 'cieux\\u2005', 'Afros', 'Sandrine', 'Odette', 'Saint-Mandé', 'Sorbonne', 'Genoux', 'v’', \"Kro'\", 'Dag', 'Fresnes', 'Femmes', 'Starflash', 'Serpico', 'Striée', 'Livr', 'Saint Ildefonse', 'Mai', 'KO', 'Fernande', 'n’', 'Argenteuil', 'Comptez', 'Fréjus', 'Chapeaux', 'Union', 'Glocks', 'Budweiser', 'Intro]. C’', 'Suisses', 'Pont', 'Mangeais', 'Bamako', 'BN', 'Courrèges', 'cagoule du Ku-Klux', 'Abeba', 'Trust', 'Montfaucon', 'Turlututu', 'Avait', 'Bullshit', 'Benkeï', 'Marilyn', 'B.J', 'Inde', 'Aimes', 'Hindou', 'Telecom', 'Paladins', 'Philomène', 'Passe-les', 'Terminus', 'jardin des Tuileries', 'Montana', 'Fac', 'fin!.', 'Caire', 'mont Falu', 'Recouvrance', 'la Cabu', 'Finistère', 'Sumatra', 'Landerneau', 'Marylou', 'Mont Falu', 'Titi', 'Titouan', 'Poulbots', 'Phocéens', 'Place Saint-Michel', 'B', 'Perdus', 'Fastoche', 'Taishi', 'Intellectuelles', 'c’', 'Mexique', 'Rungis', 'Madone', 'Close', 'Avignon', 'Bastilles', 'Sobre', 'Trinité', 'Île-de-France', 'F', 'S.T.R.I.C.T', 'Le Guide', 'Babylone', 'With Mrs', 'Stalked like', 'France', 'Hargne', 'F.M.', 'Uranus', 'Mégotrip', 'Mogador', 'Big Daddy', 'Dubliners', 'Mercure', 'Côtes-du-Rhône', 'Pareille', 'Fané', \"l'Europe\", 'Attaque', 'Shams', 'Eille', 'belle de Mai', 'Zulu', 'Mont Royal', 'Porte Dauphine', 'l’hôpital Saint-Louis', 'Robins des Bois', 'Régie', 'Bic', 'Kanterbrau', 'Européens', 'Vilnius', 'Tendres', 'Arc de Triomphe', 'Frappe', 'Baywatch', 'Laquelle', 'Débilos', 'Achinan', 'Croix', 'Français', 'de Lille', 'Tourcoing', 'Gattaca', 'Brasse', 'Enseigne', 'Assise', 'Kader', 'Belleville', 'Panama', 'Finie', 'Vois', 'Sales', 'Vulpes', 'Occident', 'Direct', 'Faut', 'Orphélie', 'Pégase', 'Mal', 'Précieuses', 'Himalaya', 'Majorette', 'Touraine', 'Redoute', 'Celles', 'Laver', 'Princesse', 'Piano', 'Hollywood berne !', 'Narbonne;.', 'Vieux', 'la Chine', 'Häagen', 'raclée', 'Traverse', 'Tchernobyl', 'marée', 'Quartiers', 'Ca', 'Ivrogne', 'Abruzzes', 'Lever', 'Indonésie', 'Trouverais', 'Soweto', 'Bilbao', 'States', 'Block', 'Te', '’Dites', 'Chambéry', 'Disrespect', 'Lui', 'Électrolyse', 'Morte', 'Blague', 'Indochine', 'Bihac', 'Ness', 'Royaume Ming', 'Russie', 'Tiens', 'Gardes', 'Tours', 'Gare', 'Méfie', 'Bettancourt', \"Porte d'Italie\", \"Place de l'Horloge\", 'Planquée', 'Villeneuve-Saint-Georges', 'Englois', 'Grand-Père', 'Capoue', 'Tomahawk', 'Sodome et Gomorrhe', 'VC', 'Atlantide', 'Corniche', 'Donx', 'Vendre', 'Eternel', 'Marre', 'Durand', '’Antéquarra', 'Béton', 'Fort Green', 'Akkad', 'Tic Tac', 'Bhopal', 'Retiens', 'Submarina', 'Lyriciste', 'Padilla', 'Ça', 'Assassin', 'Ismaël', 'Canal', 'Neuilly', 'Débloque', 'Grand', 'Renverse', 'Reno', 'Coca', 'Balance', 'Accepta', 'Philistins', \"citadelle d'Ajaccio\", 'Loulou', 'es du Vatican', 'Xénophobie', 'Açores', 'P38', 'Nouméa', 'n´ai', 'Ycon', 'Méditerranéenne', 'Baileys', 'Confédération Suisse', 'G', 'Veuve', 'Bled', 'Pont-de-Sèvre', 'vieux Gavroche', 'Man?uvres', 'P', 'Catalane', 'Flora', 'Lac Lancelot', 'Chose', 'Indiens', 'Valentour', 'Traînez', 'Perriers', 'Moulins', \"île d'\", 'Brooklyn New York', 'Spéciale', 'Esmeralada', 'Naples', 'Heineken', 'Dieu!.', 'Luberon', 'Baccarat', 'Court', 'Finlande', 'Oreste', 'Cythère', 'Faubourg-Saint-Honoré', 'mur des W.C.', 'Lancolique', 'Omerta', 'Faire', 'Tri-Nitro-Toluène', 'Pin', 'Parisienne', 'Saintes-Maries', 'Chapelle', 'Ouais', 'Grèce', 'pas!.', 'Rue de la Soif', 'Europe', 'Bingo', 'Babou', 'Baumettes', 'Cercle', 'Savigny-sur-Orge', 'Mougeotte', 'fumée', 'Hambourg', 'Digne', 'Deuch', 'Prusse', 'Courbet', 'Outro].', 'Saint-Cloud', 'Cher', 'Porions', 'Shalimar', 'Guernica', 'Lamborghini', 't’', 'Jordanie', 'Restez', 'Scarabée', 'C’t’', 'Dedans', 'Massy', 'Lady', 'brouillard.;.', 'Chill Chang Chong', 'Parc Montsouris', 'Carnaval', 'Casino', 'Macao', 'C.I.A. Sont', 'Laponie', 'Brabus', 'Mexico', 'Playa', 'R.G.', 'Lampistes', 'Systématique', 'Tipaza', 'Eloigne', 'Centre', 'Bolivie', 'Malik', 'Pondus', 'Epoque', 'Big Brother', 'Gastibelza', 'Armani', 'Taxe', 'Y', 'Hong', 'colline de Sion', 'Éthiopie', 'autr’', 'Taf', 'Listen', 'Arc-en-Ciel', 'Deviens', 'Laar-S.', 'Pont musical].', 'Egotrip', 'Natif', 'Papier', 'Bonheur', 'porte du Diable', 'Courront', 'Invité', 'Prague', 'Bab El Oued', 'l`alphabet', 'Bébel', 'Yeah', 'Zorros', 'Saumur', 'Mordor', 'Aimeras', 'Hanoï', 'Hélloïs', 'Ecoutez', 'Arbi', 'passerelle’', 'Chemise', 'Gardien', 'Rico', 'la Camarde', 'Pleurez', 'Bien', 'Sénégal', 'Stella', 'Aldo vole', 'Occitants', 'Pologne', 'Enrôlé', 'Élysées', 'Fabien', 'Concept', 'Faisanderie', 'Éteignez', 'Aziz', \"l'Est\", 'Hortens', 'Lille', 'Scudetto', 'Etoile', 'Jah Jah Ras Tafari', 'Balaises', 'That', 'Bamboula', 'Lacroix', 'Bastille', 'Touche', 'BDE', 'Pouvais', 'Lève', 'Sauve', 'Knokke-le-Zoute', 'Lulu', 'Allemagne', 'Sali', 'Kiev', 'Rabane', 'Boîte', 'Regardez', \"l'Espagne\", 'Sofia', 'Paname', 'Bastion', 'au Louvre', 'Petit Scarabée', 'Starshooter', 'Lison', 'Boulettes', 'Loto', 'Morphine', 'Meuse', 'purée', 'Nord', 'Margot', 'd’', 'COMPLETER', 'Hhhhhan', 'Aigris', 'Miroir', 'Saint-Malo', 'Dahu', 'chichon\\u2005', 'Never', 'Krasnodar', 'Polo', 'Attirés', 'Chhht', 'le Remington', 'Génération', \"Parc'\", 'Léviathan', 'Rieux', 'Lordelebem', 'Dolto', 'Funk', 'Vire', 'Désiré', 'feu!.', \"Lil' Bow Wow\", 'Luke', 'Souvenez', 'Moët', 'Halles', 'Pénélope', 't´es', 'Mourra', 'Tifosi', 'New Balance', 'Clichy', 'Paola', 'Frigo', 'Accepte', 'Saint-Pierre', 'Vérifie', 'Bang', 'Cendrars', 'Volailles', 'Amsterdamère', 'Monténégro', 'Saine', 'Bravo', 'Malek', 'Authentique', 'cordillère des Andes', 'Neige', 'Semble', \"see'\", 'Folle Complainte', 'Bagdad', 'Épouvantail', 'Campo Formio', 'Hallelujah', 'Dupont', 'Vancouver', 'Kenzo', 'Prends', 'cap Ferret', 'Haïkku', 'Amérique', 'Sad Hill', 'Cévennes', 'Tresse', 'Cosma', 'Rapper'}\n",
      "3954\n"
     ]
    }
   ],
   "source": [
    "loc_sm4=[]\n",
    "for texte in f4:\n",
    "    try:\n",
    "        doc = nlp_sm(texte)\n",
    "        for entity in doc.ents:\n",
    "            if entity.label_ ==\"LOC\":\n",
    "                loc_sm4.append(entity.text)\n",
    "    except:\n",
    "        pass\n",
    "ecrire_json(\"/Users/mustapha/Documents/GitHub/Memoire/clean_data_echantillons/lieux_echantillon2_aprèsNettoyage_sm.json\",loc_sm4)\n",
    "print(\"lieux trouvés par le modèle small : \",len(set(loc_sm4)))\n",
    "print(set(loc_sm4))\n",
    "print(len(loc_sm4))"
   ]
  },
  {
   "cell_type": "code",
   "execution_count": null,
   "metadata": {},
   "outputs": [],
   "source": []
  },
  {
   "cell_type": "code",
   "execution_count": null,
   "metadata": {},
   "outputs": [],
   "source": []
  },
  {
   "cell_type": "code",
   "execution_count": null,
   "metadata": {},
   "outputs": [],
   "source": []
  },
  {
   "cell_type": "code",
   "execution_count": null,
   "metadata": {},
   "outputs": [],
   "source": []
  },
  {
   "cell_type": "code",
   "execution_count": null,
   "metadata": {},
   "outputs": [],
   "source": []
  },
  {
   "cell_type": "code",
   "execution_count": 39,
   "metadata": {},
   "outputs": [
    {
     "name": "stdout",
     "output_type": "stream",
     "text": [
      "222\n"
     ]
    }
   ],
   "source": [
    "e1=ouvrir_json(\"/Users/mustapha/Documents/GitHub/Memoire/lieux_echantillon_avantNettoyage/lieux_echantillon1_avantNettoyage_sm.json\")\n",
    "e2=ouvrir_json(\"/Users/mustapha/Documents/GitHub/Memoire/lieux_echantillon_avantNettoyage/lieux_echantillon2_avantNettoyage_sm.json\")\n",
    "e11 = ouvrir_json(\"/Users/mustapha/Documents/GitHub/Memoire/lieux_echantillon_aprésNettoyage/lieux_echantillon1_aprésNettoyage_sm.json\")\n",
    "e22 = ouvrir_json(\"/Users/mustapha/Documents/GitHub/Memoire/lieux_echantillon_aprésNettoyage/lieux_echantillon2_aprésNettoyage_sm.json\")\n",
    "\n",
    "freq1 = {}\n",
    "for lieu in e1:\n",
    "    freq1.setdefault(lieu, 0)\n",
    "    freq1[lieu]+=1\n",
    "sorted_freq1 = OrderedDict(sorted(freq1.items(), key=lambda x: x[1], reverse=True))\n",
    "sum(freq1.values())\n",
    "\n",
    "    \n",
    "freq2 = {}\n",
    "for lieu in e11:\n",
    "    freq2.setdefault(lieu, 0)\n",
    "    freq2[lieu]+=1\n",
    "sorted_freq2 = OrderedDict(sorted(freq2.items(), key=lambda x: x[1], reverse=True))\n",
    "    \n",
    "\n",
    "ecrire_json(\"/Users/mustapha/Documents/GitHub/Memoire/freq_lieux/lieux_echantillon1_avantNettoyage_sm_freq.json\",sorted_freq1)\n",
    "\n",
    "ecrire_json(\"/Users/mustapha/Documents/GitHub/Memoire/freq_lieux/lieux_echantillon1_AprésNettoyage_sm_freq.json\",sorted_freq2)\n"
   ]
  },
  {
   "cell_type": "code",
   "execution_count": 9,
   "metadata": {},
   "outputs": [],
   "source": [
    "freq3 = {}\n",
    "for lieu in e2:\n",
    "    freq3.setdefault(lieu, 0)\n",
    "    freq3[lieu]+=1\n",
    "sorted_freq3 = OrderedDict(sorted(freq3.items(), key=lambda x: x[1], reverse=True))\n",
    "    \n",
    "\n",
    "freq4 = {}\n",
    "for lieu in e22:\n",
    "    freq4.setdefault(lieu, 0)\n",
    "    freq4[lieu]+=1\n",
    "sorted_freq4 = OrderedDict(sorted(freq4.items(), key=lambda x: x[1], reverse=True))\n",
    "    \n",
    "\n",
    "ecrire_json(\"/Users/mustapha/Documents/GitHub/Memoire/freq_lieux/lieux_echantillon2_avantNettoyage_sm_freq.json\",sorted_freq3)\n",
    "\n",
    "ecrire_json(\"/Users/mustapha/Documents/GitHub/Memoire/freq_lieux/lieux_echantillon2_AprésNettoyage_sm_freq.json\",sorted_freq4)\n"
   ]
  },
  {
   "cell_type": "code",
   "execution_count": 99,
   "metadata": {},
   "outputs": [
    {
     "name": "stdout",
     "output_type": "stream",
     "text": [
      "{\"J'\": 0.06306306306306306}\n",
      "{'A': 0.036036036036036036}\n",
      "{'Ouille': 0.036036036036036036}\n",
      "{'Aidez': 0.02702702702702703}\n",
      "{'Jamais': 0.02252252252252252}\n",
      "{'Mini-moke': 0.018018018018018018}\n",
      "{'Maxistère': 0.018018018018018018}\n",
      "{'Les': 0.018018018018018018}\n",
      "{'Moi': 0.018018018018018018}\n",
      "{\"Qu'Agathe\": 0.018018018018018018}\n",
      "{'Viens': 0.013513513513513514}\n",
      "{'Hippie': 0.013513513513513514}\n",
      "{'Vive': 0.013513513513513514}\n",
      "{'Ca': 0.013513513513513514}\n",
      "{'Celles': 0.013513513513513514}\n",
      "{'Lavabo': 0.013513513513513514}\n",
      "{'Merde in France': 0.013513513513513514}\n",
      "{\"M'\": 0.013513513513513514}\n",
      "{'Mini-jupe': 0.009009009009009009}\n",
      "{'Miniature': 0.009009009009009009}\n",
      "{'Ministère': 0.009009009009009009}\n",
      "{'Minimum': 0.009009009009009009}\n",
      "{'Canigou': 0.009009009009009009}\n",
      "{'Mange': 0.009009009009009009}\n",
      "{'la France': 0.009009009009009009}\n",
      "{'Placés': 0.009009009009009009}\n",
      "{'Fatigué': 0.009009009009009009}\n",
      "{\"Chaussée-d'Antin\\n\\n\": 0.009009009009009009}\n",
      "{'jardin\\nPassa': 0.009009009009009009}\n",
      "{'Chaussée': 0.009009009009009009}\n",
      "{'Varsovie': 0.009009009009009009}\n",
      "{'Baltimore': 0.009009009009009009}\n",
      "{'Amakawogo': 0.009009009009009009}\n",
      "{'Venez': 0.009009009009009009}\n",
      "{'Dou Doucement': 0.009009009009009009}\n",
      "{'Y': 0.0045045045045045045}\n",
      "{'Touche': 0.0045045045045045045}\n",
      "{'rue\\nSinon': 0.0045045045045045045}\n",
      "{'Réponds': 0.0045045045045045045}\n",
      "{'Sois': 0.0045045045045045045}\n",
      "{'Faut': 0.0045045045045045045}\n",
      "{'Dis': 0.0045045045045045045}\n",
      "{'Prends': 0.0045045045045045045}\n",
      "{'Tu': 0.0045045045045045045}\n",
      "{'Mégève': 0.0045045045045045045}\n",
      "{'Saint-Tropez': 0.0045045045045045045}\n",
      "{\"Rochelle\\nJ'\": 0.0045045045045045045}\n",
      "{'San Francisco\\n\\nJe': 0.0045045045045045045}\n",
      "{'Toute': 0.0045045045045045045}\n",
      "{\"J'ai des tracas j'ai des tourments\\nJ'ai pas l'moral\": 0.0045045045045045045}\n",
      "{\"J'ai pas de chance j'ai pas d'amis\\n\\nJ'ai pas de pot j'ai des impôts\": 0.0045045045045045045}\n",
      "{\"Parc'\": 0.0045045045045045045}\n",
      "{'Dont': 0.0045045045045045045}\n",
      "{\"J'ai maigri je suis\": 0.0045045045045045045}\n",
      "{\"J'me tape la tête contre les murs\\n\\n\": 0.0045045045045045045}\n",
      "{'Prendre': 0.0045045045045045045}\n",
      "{'Val-de-Grâce': 0.0045045045045045045}\n",
      "{\"J'aimerais\": 0.0045045045045045045}\n",
      "{'Vieux': 0.0045045045045045045}\n",
      "{'Eh watching': 0.0045045045045045045}\n",
      "{'Yaoundé': 0.0045045045045045045}\n",
      "{'Amsterdam': 0.0045045045045045045}\n",
      "{\"J'ai fait des games\": 0.0045045045045045045}\n",
      "{'Bornéo': 0.0045045045045045045}\n",
      "{'Papeete': 0.0045045045045045045}\n",
      "{\"J'ai bu de l'eau\": 0.0045045045045045045}\n",
      "{'Bordeaux': 0.0045045045045045045}\n",
      "{'Tampico': 0.0045045045045045045}\n",
      "{'Calcutta': 0.0045045045045045045}\n",
      "{'Téhéran': 0.0045045045045045045}\n",
      "{'Saana': 0.0045045045045045045}\n",
      "{'Kinshassa': 0.0045045045045045045}\n",
      "{'Dôle': 0.0045045045045045045}\n",
      "{'Lourdes': 0.0045045045045045045}\n",
      "{'Créteil': 0.0045045045045045045}\n",
      "{\"J'ai eu la ber1ue\": 0.0045045045045045045}\n",
      "{'Port-Gentil': 0.0045045045045045045}\n",
      "{'Tripoli': 0.0045045045045045045}\n",
      "{'Maintenant': 0.0045045045045045045}\n",
      "{'Gourougourou': 0.0045045045045045045}\n",
      "{'Bonsoir': 0.0045045045045045045}\n",
      "{'Instantané': 0.0045045045045045045}\n",
      "{\"J'fonds\": 0.0045045045045045045}\n",
      "{'Dois': 0.0045045045045045045}\n",
      "{\"J'ai du plaisir\": 0.0045045045045045045}\n",
      "{'Marcelle': 0.0045045045045045045}\n",
      "{'Réserve': 0.0045045045045045045}\n",
      "{'Voulez': 0.0045045045045045045}\n",
      "{\"J'ai Maginot\": 0.0045045045045045045}\n",
      "{\"J'ai dit comme tes bas : mi-long\\n\\nElle\": 0.0045045045045045045}\n",
      "{\"J'ai ouï\\n\": 0.0045045045045045045}\n",
      "{'Dire': 0.0045045045045045045}\n",
      "{'Amiens': 0.0045045045045045045}\n",
      "{'Yvette': 0.0045045045045045045}\n",
      "{\"J'ai faim de toi\": 0.0045045045045045045}\n",
      "{\"J'ai confiance\": 0.0045045045045045045}\n",
      "{'Est': 0.0045045045045045045}\n",
      "{'matin\\nEst': 0.0045045045045045045}\n",
      "{'Croire': 0.0045045045045045045}\n",
      "{'Presque': 0.0045045045045045045}\n",
      "{'Toujours': 0.0045045045045045045}\n",
      "{'Gagnez': 0.0045045045045045045}\n",
      "{'Hâtez': 0.0045045045045045045}\n",
      "{'Portez': 0.0045045045045045045}\n",
      "{'Sortez': 0.0045045045045045045}\n",
      "{'Courez': 0.0045045045045045045}\n",
      "{'Paris': 0.0045045045045045045}\n",
      "{'Euh!Euh': 0.0045045045045045045}\n",
      "{'He!He': 0.0045045045045045045}\n",
      "{'rue Le Regrantier': 0.0045045045045045045}\n",
      "{\"J'ai des talents\\n\": 0.0045045045045045045}\n",
      "{'Roméo': 0.0045045045045045045}\n",
      "{'Pénélope': 0.0045045045045045045}\n",
      "{'Disigny': 0.0045045045045045045}\n",
      "{'Goldwyn': 0.0045045045045045045}\n",
      "{'Métro\\nMa': 0.0045045045045045045}\n",
      "{'Bernhart\\nArroy': 0.0045045045045045045}\n",
      "{'Ménard': 0.0045045045045045045}\n",
      "{'Venise': 0.0045045045045045045}\n",
      "{'Électronique': 0.0045045045045045045}\n",
      "{'Lux': 0.0045045045045045045}\n",
      "{'Pyrex': 0.0045045045045045045}\n",
      "{'Gilet': 0.0045045045045045045}\n",
      "{'Braqué': 0.0045045045045045045}\n",
      "{'’': 0.0045045045045045045}\n",
      "{'N’': 0.0045045045045045045}\n",
      "{'Être': 0.0045045045045045045}\n",
      "{'Avoir': 0.0045045045045045045}\n",
      "{'Repousse': 0.0045045045045045045}\n",
      "{'Engagez': 0.0045045045045045045}\n",
      "{'Trocadéro\\nPris': 0.0045045045045045045}\n",
      "{\"L'eau de mer\": 0.0045045045045045045}\n",
      "{'Saint Omer': 0.0045045045045045045}\n",
      "{'Houlgate': 0.0045045045045045045}\n",
      "{'Boulevard Poissonnière': 0.0045045045045045045}\n",
      "{'De': 0.0045045045045045045}\n",
      "{\"Demi-jour\\nD'un hotel\": 0.0045045045045045045}\n",
      "{'Demi-tour': 0.0045045045045045045}\n"
     ]
    }
   ],
   "source": [
    "freq1 = {}\n",
    "for lieu in e1:\n",
    "    freq1.setdefault(lieu, 0)\n",
    "    freq1[lieu]+=1\n",
    "sorted_freq1 = OrderedDict(sorted(freq1.items(), key=lambda x: x[1], reverse=True))\n",
    "nbLieux=sum(freq1.values())\n",
    "freq1_relative=[]\n",
    "for cle,valeur in sorted_freq1.items():\n",
    "    relat=valeur/sum(freq1.values())\n",
    "    print({cle:relat})\n",
    "\n",
    "    ecrire_json(\"/Users/mustapha/Documents/GitHub/Memoire/freq_lieux/lieux_echantillon1_avantNettoyage_sm_freq_relative.json\",{cle:relat})\n",
    "  \n",
    "freq2 = {}\n",
    "for lieu in e11:\n",
    "    freq2.setdefault(lieu, 0)\n",
    "    freq2[lieu]+=1\n",
    "sorted_freq2 = OrderedDict(sorted(freq2.items(), key=lambda x: x[1], reverse=True))\n",
    "nbLieux=sum(freq2.values())\n",
    "freq2_relative={}\n",
    "for cle,valeur in sorted_freq2.items():\n",
    "    relat=valeur/sum(freq2.values())\n",
    "    freq2_re={cle:relat}\n",
    "ecrire_json(\"/Users/mustapha/Documents/GitHub/Memoire/freq_lieux/lieux_echantillon1_aprèsNettoyage_sm_freq_relative.json\",freq2_relative)\n",
    "  "
   ]
  },
  {
   "cell_type": "code",
   "execution_count": null,
   "metadata": {},
   "outputs": [],
   "source": []
  }
 ],
 "metadata": {
  "kernelspec": {
   "display_name": "Python 3",
   "language": "python",
   "name": "python3"
  },
  "language_info": {
   "codemirror_mode": {
    "name": "ipython",
    "version": 3
   },
   "file_extension": ".py",
   "mimetype": "text/x-python",
   "name": "python",
   "nbconvert_exporter": "python",
   "pygments_lexer": "ipython3",
   "version": "3.8.3"
  }
 },
 "nbformat": 4,
 "nbformat_minor": 4
}
