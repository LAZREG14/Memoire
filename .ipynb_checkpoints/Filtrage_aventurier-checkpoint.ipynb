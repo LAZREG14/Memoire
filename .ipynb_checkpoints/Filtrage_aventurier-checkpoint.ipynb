{
 "cells": [
  {
   "cell_type": "code",
   "execution_count": 1,
   "metadata": {},
   "outputs": [],
   "source": [
    "import json\n",
    "\n",
    "def ouvrir_json(chemin):\n",
    "    f = open(chemin, encoding=\"utf-8\")\n",
    "    toto = json.load(f)\n",
    "    f.close()\n",
    "    return toto\n",
    "\n",
    "def ecrire_json(chemin, contenu):\n",
    "    w = open(chemin, \"w\", encoding=\"utf-8\")\n",
    "    w.write(json.dumps(contenu, indent=2, ensure_ascii=False))\n",
    "    w.close()"
   ]
  },
  {
   "cell_type": "code",
   "execution_count": 2,
   "metadata": {},
   "outputs": [],
   "source": [
    "import spacy\n",
    "nlp_sm = spacy.load(\"fr_core_news_sm\")\n",
    "nlp_md = spacy.load(\"fr_core_news_md\")\n",
    "nlp_lg = spacy.load(\"fr_core_news_lg\")"
   ]
  },
  {
   "cell_type": "code",
   "execution_count": 4,
   "metadata": {},
   "outputs": [],
   "source": [
    "f1 = ouvrir_json(\"clean_data_echantillons/aventurier_paroles.json\")\n",
    "f2 = ouvrir_json(\"Data/voc_glaff.json\")"
   ]
  },
  {
   "cell_type": "code",
   "execution_count": 5,
   "metadata": {},
   "outputs": [
    {
     "name": "stdout",
     "output_type": "stream",
     "text": [
      "lieux trouvés par le modèle small :  20\n",
      "{'Bornéo', 'Bogola', \"J'ai été à\", \"Papeete J'ai bu de l'eau\", 'Yaoundé', 'Téhéran', 'Créteil', 'ber1ue', 'Calcutta', 'Tampico', 'Saana', 'Lourdes', 'Varsovie', 'Amsterdam', 'Baltimore', 'Tripoli', 'Port-Gentil', 'Kinshassa', 'Camberra', 'Bordeaux'}\n",
      "\n",
      "\n",
      "nombre lieux qui ne se trouvent pas dans le Glaff :  20\n",
      "{'Bornéo', 'Bogola', \"J'ai été à\", \"Papeete J'ai bu de l'eau\", 'Yaoundé', 'Téhéran', 'Créteil', 'ber1ue', 'Calcutta', 'Tampico', 'Saana', 'Lourdes', 'Varsovie', 'Amsterdam', 'Baltimore', 'Tripoli', 'Port-Gentil', 'Kinshassa', 'Camberra', 'Bordeaux'}\n",
      "\n",
      "set()\n",
      "\n",
      "nombre lieux en miniscules qui ne se trouvent pas dans le Glaff :  17\n",
      "{'Yaoundé', 'Saana', 'Bornéo', 'Téhéran', 'Amsterdam', 'Port-Gentil', 'Varsovie', 'Créteil', 'Bogola', \"J'ai été à\", 'Kinshassa', 'Baltimore', 'ber1ue', \"Papeete J'ai bu de l'eau\", 'Camberra', 'Calcutta', 'Tampico'}\n",
      "\n",
      "{'Lourdes', 'Bordeaux', 'Tripoli'}\n",
      "\n",
      "nombre de lieux obtenu dans la liste finale :  16\n",
      "{'Yaoundé', 'Saana', 'Bornéo', 'Téhéran', 'Amsterdam', 'Port-Gentil', 'Varsovie', 'Créteil', 'Bogola', \"J'ai été à\", 'Kinshassa', 'Baltimore', \"Papeete J'ai bu de l'eau\", 'Camberra', 'Calcutta', 'Tampico'}\n",
      "\n",
      "{'ber1ue'}\n"
     ]
    }
   ],
   "source": [
    "loc_sm=[]\n",
    "for texte in f1:\n",
    "    try:\n",
    "        doc = nlp_sm(texte)\n",
    "        for entity in doc.ents:\n",
    "            if entity.label_ ==\"LOC\":\n",
    "                loc_sm.append(entity.text)\n",
    "    except:\n",
    "        pass\n",
    "print(\"lieux trouvés par le modèle small : \",len(set(loc_sm)))\n",
    "print(set(loc_sm))\n",
    "print()\n",
    "print()\n",
    "\n",
    "tri_1 = [mot for mot in loc_sm if mot not in f2]\n",
    "test1 = [mot for mot in loc_sm if mot in f2]\n",
    "print(\"nombre lieux qui ne se trouvent pas dans le Glaff : \", len(set(tri_1)))\n",
    "print(set(tri_1))\n",
    "print()\n",
    "print(set(test1))\n",
    "print()\n",
    "\n",
    "tri_2 = [mot for mot in tri_1 if mot.lower() not in f2]\n",
    "test2 = [mot for mot in tri_1 if mot.lower() in f2]\n",
    "print(\"nombre lieux en miniscules qui ne se trouvent pas dans le Glaff : \",len(set(tri_2)))\n",
    "print(set(tri_2))\n",
    "print()\n",
    "print(set(test2))\n",
    "print()\n",
    "\n",
    "\n",
    "\n",
    "tri_3 =[mot for mot in tri_2 if mot.lower() not in tri_2] \n",
    "test3 =set(tri_2).difference(tri_3)\n",
    "print(\"nombre de lieux obtenu dans la liste finale : \", len(set(tri_3)))\n",
    "print(set(tri_3))\n",
    "print()\n",
    "print(set(test3))\n"
   ]
  },
  {
   "cell_type": "code",
   "execution_count": 6,
   "metadata": {},
   "outputs": [
    {
     "data": {
      "image/png": "[encoded data removed]",
      "text/plain": [
       "<Figure size 432x288 with 1 Axes>"
      ]
     },
     "metadata": {
      "needs_background": "light"
     },
     "output_type": "display_data"
    }
   ],
   "source": [
    "import matplotlib.pyplot as plt\n",
    "\n",
    "x = [1, 2, 3, 4]\n",
    "y = [20, 20, 17, 16]\n",
    "labels = ['lieux_sm', 'tri_1', 'tri_2', 'tri_3']\n",
    "\n",
    "plt.plot(x, y)\n",
    "# You can specify a rotation for the tick labels in degrees or with keywords.\n",
    "plt.xticks(x, labels, rotation='vertical')\n",
    "# Pad margins so that markers don't get clipped by the axes\n",
    "plt.margins(0.2)\n",
    "plt.title(\"Filtrage de la chanson aventurier\")\n",
    "plt.ylabel(\"nombre de lieux\")\n",
    "# Tweak spacing to prevent clipping of tick-labels\n",
    "plt.subplots_adjust(bottom=0.15)\n",
    "plt.show()"
   ]
  },
  {
   "cell_type": "code",
   "execution_count": 7,
   "metadata": {},
   "outputs": [
    {
     "name": "stdout",
     "output_type": "stream",
     "text": [
      "lieux trouvés par le modèle medium :  18\n",
      "{'Yaoundé', 'Saana', 'Bornéo', 'Téhéran', 'Amsterdam', 'Lourdes', 'Port-Gentil', 'Dôle', 'Binningham', 'Varsovie', 'Créteil', 'Tripoli', 'Baltimore', 'Papeete', 'Calcutta', 'Cotonou', 'Bordeaux', 'Tampico'}\n",
      "\n",
      "\n",
      "nombre lieux qui ne se trouvent pas dans le Glaff :  18\n",
      "{'Yaoundé', 'Saana', 'Bornéo', 'Téhéran', 'Amsterdam', 'Lourdes', 'Port-Gentil', 'Dôle', 'Binningham', 'Varsovie', 'Créteil', 'Tripoli', 'Baltimore', 'Papeete', 'Calcutta', 'Cotonou', 'Bordeaux', 'Tampico'}\n",
      "\n",
      "set()\n",
      "\n",
      "nombre lieux en miniscules qui ne se trouvent pas dans le Glaff :  15\n",
      "{'Yaoundé', 'Saana', 'Bornéo', 'Téhéran', 'Amsterdam', 'Port-Gentil', 'Dôle', 'Binningham', 'Varsovie', 'Créteil', 'Baltimore', 'Papeete', 'Calcutta', 'Cotonou', 'Tampico'}\n",
      "\n",
      "{'Lourdes', 'Bordeaux', 'Tripoli'}\n",
      "\n",
      "nombre de lieux obtenu dans la liste finale :  15\n",
      "{'Yaoundé', 'Saana', 'Bornéo', 'Téhéran', 'Amsterdam', 'Port-Gentil', 'Dôle', 'Binningham', 'Varsovie', 'Créteil', 'Baltimore', 'Papeete', 'Calcutta', 'Cotonou', 'Tampico'}\n",
      "\n",
      "set()\n"
     ]
    }
   ],
   "source": [
    "loc_md=[]\n",
    "for texte in f1:\n",
    "    try:\n",
    "        doc = nlp_md(texte)\n",
    "        for entity in doc.ents:\n",
    "            if entity.label_ ==\"LOC\":\n",
    "                loc_md.append(entity.text)\n",
    "    except:\n",
    "        pass\n",
    "print(\"lieux trouvés par le modèle medium : \",len(set(loc_md)))\n",
    "print(set(loc_md))\n",
    "print()\n",
    "print()\n",
    "\n",
    "tri_1 = [mot for mot in loc_md if mot not in f2]\n",
    "test1 = [mot for mot in loc_md if mot in f2]\n",
    "print(\"nombre lieux qui ne se trouvent pas dans le Glaff : \", len(set(tri_1)))\n",
    "print(set(tri_1))\n",
    "print()\n",
    "print(set(test1))\n",
    "print()\n",
    "\n",
    "tri_2 = [mot for mot in tri_1 if mot.lower() not in f2]\n",
    "test2 = [mot for mot in tri_1 if mot.lower() in f2]\n",
    "print(\"nombre lieux en miniscules qui ne se trouvent pas dans le Glaff : \",len(set(tri_2)))\n",
    "print(set(tri_2))\n",
    "print()\n",
    "print(set(test2))\n",
    "print()\n",
    "\n",
    "\n",
    "\n",
    "tri_3 =[mot for mot in tri_2 if mot.lower() not in tri_2] \n",
    "test3 =set(tri_2).difference(tri_3)\n",
    "print(\"nombre de lieux obtenu dans la liste finale : \", len(set(tri_3)))\n",
    "print(set(tri_3))\n",
    "print()\n",
    "print(set(test3))"
   ]
  },
  {
   "cell_type": "code",
   "execution_count": 12,
   "metadata": {},
   "outputs": [
    {
     "data": {
      "image/png": "[encoded data removed]",
      "text/plain": [
       "<Figure size 432x288 with 1 Axes>"
      ]
     },
     "metadata": {
      "needs_background": "light"
     },
     "output_type": "display_data"
    }
   ],
   "source": [
    "x = [1, 2, 3, 4]\n",
    "y = [18, 18, 15, 15]\n",
    "labels = ['lieux_md', 'tri_1', 'tri_2', 'tri_3']\n",
    "\n",
    "plt.plot(x, y)\n",
    "# You can specify a rotation for the tick labels in degrees or with keywords.\n",
    "plt.xticks(x, labels, rotation='vertical')\n",
    "# Pad margins so that markers don't get clipped by the axes\n",
    "plt.margins(0.2)\n",
    "plt.title(\"Filtrage de la chanson aventurier\")\n",
    "plt.ylabel(\"nombre de lieux\")\n",
    "# Tweak spacing to prevent clipping of tick-labels\n",
    "plt.subplots_adjust(bottom=0.15)\n",
    "plt.show()"
   ]
  },
  {
   "cell_type": "code",
   "execution_count": 13,
   "metadata": {},
   "outputs": [
    {
     "name": "stdout",
     "output_type": "stream",
     "text": [
      "lieux trouvés par le modèle large :  16\n",
      "{'Yaoundé', 'Saana', 'Bornéo', 'Téhéran', 'Amsterdam', 'Lourdes', 'Port-Gentil', 'Dôle', 'Varsovie', 'Créteil', 'Tripoli', 'Baltimore', 'Papeete', 'Cotonou', 'Bordeaux', 'Tampico'}\n",
      "\n",
      "\n",
      "nombre lieux qui ne se trouvent pas dans le Glaff :  16\n",
      "{'Yaoundé', 'Saana', 'Bornéo', 'Téhéran', 'Amsterdam', 'Lourdes', 'Port-Gentil', 'Dôle', 'Varsovie', 'Créteil', 'Tripoli', 'Baltimore', 'Papeete', 'Cotonou', 'Bordeaux', 'Tampico'}\n",
      "\n",
      "set()\n",
      "\n",
      "nombre lieux en miniscules qui ne se trouvent pas dans le Glaff :  13\n",
      "{'Yaoundé', 'Saana', 'Bornéo', 'Téhéran', 'Amsterdam', 'Port-Gentil', 'Dôle', 'Varsovie', 'Créteil', 'Baltimore', 'Papeete', 'Cotonou', 'Tampico'}\n",
      "\n",
      "{'Lourdes', 'Bordeaux', 'Tripoli'}\n",
      "\n",
      "nombre de lieux obtenu dans la liste finale :  13\n",
      "{'Yaoundé', 'Saana', 'Bornéo', 'Téhéran', 'Amsterdam', 'Port-Gentil', 'Dôle', 'Varsovie', 'Créteil', 'Baltimore', 'Papeete', 'Cotonou', 'Tampico'}\n",
      "\n",
      "set()\n"
     ]
    }
   ],
   "source": [
    "loc_lg=[]\n",
    "for texte in f1:\n",
    "    try:\n",
    "        doc = nlp_lg(texte)\n",
    "        for entity in doc.ents:\n",
    "            if entity.label_ ==\"LOC\":\n",
    "                loc_lg.append(entity.text)\n",
    "    except:\n",
    "        pass\n",
    "print(\"lieux trouvés par le modèle large : \",len(set(loc_lg)))\n",
    "print(set(loc_lg))\n",
    "print()\n",
    "print()\n",
    "\n",
    "tri_1 = [mot for mot in loc_lg if mot not in f2]\n",
    "test1 = [mot for mot in loc_lg if mot in f2]\n",
    "print(\"nombre lieux qui ne se trouvent pas dans le Glaff : \", len(set(tri_1)))\n",
    "print(set(tri_1))\n",
    "print()\n",
    "print(set(test1))\n",
    "print()\n",
    "\n",
    "tri_2 = [mot for mot in tri_1 if mot.lower() not in f2]\n",
    "test2 = [mot for mot in tri_1 if mot.lower() in f2]\n",
    "print(\"nombre lieux en miniscules qui ne se trouvent pas dans le Glaff : \",len(set(tri_2)))\n",
    "print(set(tri_2))\n",
    "print()\n",
    "print(set(test2))\n",
    "print()\n",
    "\n",
    "\n",
    "\n",
    "tri_3 =[mot for mot in tri_2 if mot.lower() not in tri_2] \n",
    "test3 =set(tri_2).difference(tri_3)\n",
    "print(\"nombre de lieux obtenu dans la liste finale : \", len(set(tri_3)))\n",
    "print(set(tri_3))\n",
    "print()\n",
    "print(set(test3))"
   ]
  },
  {
   "cell_type": "code",
   "execution_count": 14,
   "metadata": {},
   "outputs": [
    {
     "data": {
      "image/png": "[encoded data removed]",
      "text/plain": [
       "<Figure size 432x288 with 1 Axes>"
      ]
     },
     "metadata": {
      "needs_background": "light"
     },
     "output_type": "display_data"
    }
   ],
   "source": [
    "x = [1, 2, 3, 4]\n",
    "y = [16, 16, 13, 13]\n",
    "labels = ['lieux_lg', 'tri_1', 'tri_2', 'tri_3']\n",
    "\n",
    "plt.plot(x, y)\n",
    "# You can specify a rotation for the tick labels in degrees or with keywords.\n",
    "plt.xticks(x, labels, rotation='vertical')\n",
    "# Pad margins so that markers don't get clipped by the axes\n",
    "plt.margins(0.2)\n",
    "plt.title(\"Filtrage de l'échantillon2\")\n",
    "plt.ylabel(\"nombre de lieux\")\n",
    "# Tweak spacing to prevent clipping of tick-labels\n",
    "plt.subplots_adjust(bottom=0.15)\n",
    "plt.show()"
   ]
  },
  {
   "cell_type": "code",
   "execution_count": null,
   "metadata": {},
   "outputs": [],
   "source": []
  }
 ],
 "metadata": {
  "kernelspec": {
   "display_name": "Python 3",
   "language": "python",
   "name": "python3"
  },
  "language_info": {
   "codemirror_mode": {
    "name": "ipython",
    "version": 3
   },
   "file_extension": ".py",
   "mimetype": "text/x-python",
   "name": "python",
   "nbconvert_exporter": "python",
   "pygments_lexer": "ipython3",
   "version": "3.8.3"
  }
 },
 "nbformat": 4,
 "nbformat_minor": 4
}
