{
 "cells": [
  {
   "cell_type": "code",
   "execution_count": 1,
   "metadata": {},
   "outputs": [],
   "source": [
    "import json\n",
    "\n",
    "def ouvrir_json(chemin):\n",
    "    f = open(chemin, encoding=\"utf-8\")\n",
    "    toto = json.load(f)\n",
    "    f.close()\n",
    "    return toto\n",
    "\n",
    "def ecrire_json(chemin, contenu):\n",
    "    w = open(chemin, \"w\", encoding=\"utf-8\")\n",
    "    w.write(json.dumps(contenu, indent=2, ensure_ascii=False))\n",
    "    w.close()"
   ]
  },
  {
   "cell_type": "code",
   "execution_count": 2,
   "metadata": {},
   "outputs": [],
   "source": [
    "import spacy\n",
    "nlp_sm = spacy.load(\"fr_core_news_sm\")\n",
    "nlp_md = spacy.load(\"fr_core_news_md\")\n",
    "nlp_lg = spacy.load(\"fr_core_news_lg\")"
   ]
  },
  {
   "cell_type": "code",
   "execution_count": 3,
   "metadata": {},
   "outputs": [],
   "source": [
    "f1 = ouvrir_json(\"clean_data_echantillons/clean_echantillon1.json\")\n",
    "f2 = ouvrir_json(\"Data/voc_glaff.json\")"
   ]
  },
  {
   "cell_type": "code",
   "execution_count": 7,
   "metadata": {},
   "outputs": [
    {
     "name": "stdout",
     "output_type": "stream",
     "text": [
      "lieux trouvés par le modèle small :  104\n",
      "{'Puisque', 'Gaumont Lampadaire', \"J'ai dit comme tes bas : mi-long\", \"J'ai été à\", \"J'ai Maginot\", 'Métropolitain', 'Yvette', '’', 'Y', 'Chaussée', 'Électronique', 'Varsovie', 'Nagent', 'Pyrex', 'Saint-Tropez', 'Merde', 'Tripoli', 'Dois', 'Venez', 'Instantané', 'San Francisco', 'Hâtez', 'Ca', 'Marcelle', 'Amsterdam', 'Fatigué', 'Eh watching', 'Prends', 'Descendue', 'Ministère', 'Bordeaux', 'Gault', 'Venise', 'Boulevard Poissonnière', 'Vieux fossiles', 'Sois', 'Celles', 'Val-de-Grâce', \"J'ai du velours\", 'Mégève', \"Dutronc d'Isigny\", 'Hippie', 'ber1ue', 'Sortez', 'Maxitère', 'Les', \"J'ai parlé d'pêche\", 'Bogola', 'Antiatomique', 'Trocadéro Pris', \"J'ai des problèmes\", \"L'\", 'Pénélope', 'Houlgate', \"Dutronc d'Isigny Je\", 'Ménard', 'l’Harpic', 'Puis', 'Paris', \"J'comprends pas ...\", 'Yaoundé', 'Tampico', \"Chaussée-d'Antin\", \"J'\", \"J'ai pas de pot j'ai des impôts\", 'Tu', 'Baltimore', 'Bonsoir', 'Portez', 'Avoir', \"J'ai du plaisir\", 'Demi-pause', 'Saint Omer', 'Lourdes', 'Amiens', 'A', 'Bornéo', 'Lux Croyez', 'Aidez', 'Kinshassa', 'Téhéran', \"Papeete J'ai bu de l'eau\", 'Canigou', 'La Palice', 'Créteil', 'Port-Gentil', 'Entrez', 'Camberra', 'Amakawogo', 'rue Le Regrantier', 'Goldwyn', 'jardin Passa', 'Saana', 'Mini-jupe', 'Roméo Je', 'Ouille', 'France', 'Mange', 'rue Sinon', 'Calcutta', 'Bernhart Arroy', 'Engagez', 'Attention prends pas froid', 'Disigny'}\n",
      "\n",
      "\n",
      "nombre lieux qui ne se trouvent pas dans le Glaff :  104\n",
      "{'Puisque', 'Gaumont Lampadaire', \"J'ai dit comme tes bas : mi-long\", \"J'ai été à\", \"J'ai Maginot\", 'Métropolitain', 'Yvette', '’', 'Y', 'Chaussée', 'Électronique', 'Varsovie', 'Nagent', 'Pyrex', 'Saint-Tropez', 'Merde', 'Tripoli', 'Dois', 'Venez', 'Instantané', 'San Francisco', 'Hâtez', 'Ca', 'Marcelle', 'Amsterdam', 'Fatigué', 'Eh watching', 'Prends', 'Descendue', 'Ministère', 'Bordeaux', 'Gault', 'Venise', 'Boulevard Poissonnière', 'Vieux fossiles', 'Sois', 'Celles', 'Val-de-Grâce', \"J'ai du velours\", 'Mégève', \"Dutronc d'Isigny\", 'Hippie', 'ber1ue', 'Sortez', 'Maxitère', 'Les', \"J'ai parlé d'pêche\", 'Bogola', 'Antiatomique', 'Trocadéro Pris', \"J'ai des problèmes\", \"L'\", 'Pénélope', 'Houlgate', \"Dutronc d'Isigny Je\", 'Ménard', 'l’Harpic', 'Puis', 'Paris', \"J'comprends pas ...\", 'Yaoundé', 'Tampico', \"Chaussée-d'Antin\", \"J'\", \"J'ai pas de pot j'ai des impôts\", 'Tu', 'Baltimore', 'Bonsoir', 'Portez', 'Avoir', \"J'ai du plaisir\", 'Demi-pause', 'Saint Omer', 'Lourdes', 'Amiens', 'A', 'Bornéo', 'Lux Croyez', 'Aidez', 'Kinshassa', 'Téhéran', \"Papeete J'ai bu de l'eau\", 'Canigou', 'La Palice', 'Créteil', 'Port-Gentil', 'Entrez', 'Camberra', 'Amakawogo', 'rue Le Regrantier', 'Goldwyn', 'jardin Passa', 'Saana', 'Mini-jupe', 'Roméo Je', 'Ouille', 'France', 'Mange', 'rue Sinon', 'Calcutta', 'Bernhart Arroy', 'Engagez', 'Attention prends pas froid', 'Disigny'}\n",
      "\n",
      "set()\n",
      "\n",
      "nombre lieux en miniscules qui ne se trouvent pas dans le Glaff :  64\n",
      "{'Créteil', \"J'ai pas de pot j'ai des impôts\", 'Port-Gentil', 'Venise', 'Boulevard Poissonnière', 'Gaumont Lampadaire', \"J'ai dit comme tes bas : mi-long\", 'Camberra', 'Vieux fossiles', 'Amakawogo', 'rue Le Regrantier', \"J'ai été à\", \"J'ai Maginot\", 'Yvette', 'Goldwyn', 'jardin Passa', '’', 'Baltimore', 'Téhéran', 'Val-de-Grâce', 'Saana', 'Mégève', 'Varsovie', \"J'ai du velours\", 'Pyrex', \"Dutronc d'Isigny\", 'Saint-Tropez', \"Papeete J'ai bu de l'eau\", 'ber1ue', 'Mini-jupe', 'Roméo Je', 'Maxitère', \"J'ai parlé d'pêche\", 'Bogola', 'Trocadéro Pris', 'France', \"J'ai du plaisir\", \"J'ai des problèmes\", 'Demi-pause', 'Saint Omer', 'rue Sinon', 'Houlgate', \"Dutronc d'Isigny Je\", 'Ménard', \"J'\", 'Amiens', 'l’Harpic', 'San Francisco', 'Calcutta', \"J'comprends pas ...\", 'Bernhart Arroy', 'Bornéo', 'Marcelle', 'Amsterdam', 'Yaoundé', 'Lux Croyez', 'Eh watching', 'Tampico', 'Kinshassa', 'Disigny', 'Canigou', 'La Palice', 'Attention prends pas froid', \"Chaussée-d'Antin\"}\n",
      "\n",
      "{'Bordeaux', 'Puisque', 'Gault', 'Entrez', 'Tu', 'Sois', 'Celles', 'Métropolitain', 'Y', 'Chaussée', 'Électronique', 'Bonsoir', 'Nagent', 'Hippie', 'Portez', 'Sortez', 'Les', 'Merde', 'Ouille', 'Tripoli', 'Antiatomique', 'Avoir', 'Dois', \"L'\", 'Lourdes', 'Mange', 'Venez', 'Pénélope', 'Instantané', 'A', 'Paris', 'Puis', 'Hâtez', 'Ca', 'Fatigué', 'Engagez', 'Aidez', 'Prends', 'Descendue', 'Ministère'}\n",
      "\n",
      "nombre de lieux obtenu dans la liste finale :  62\n",
      "{'Créteil', \"J'ai pas de pot j'ai des impôts\", 'Port-Gentil', 'Venise', 'Boulevard Poissonnière', 'Gaumont Lampadaire', \"J'ai dit comme tes bas : mi-long\", 'Camberra', 'Vieux fossiles', 'Amakawogo', 'rue Le Regrantier', \"J'ai été à\", \"J'ai Maginot\", 'Yvette', 'Goldwyn', 'jardin Passa', 'Baltimore', 'Téhéran', 'Val-de-Grâce', 'Saana', 'Mégève', 'Varsovie', \"J'ai du velours\", 'Pyrex', \"Dutronc d'Isigny\", 'Saint-Tropez', \"Papeete J'ai bu de l'eau\", 'Mini-jupe', 'Roméo Je', 'Maxitère', \"J'ai parlé d'pêche\", 'Bogola', 'Trocadéro Pris', 'France', \"J'ai du plaisir\", \"J'ai des problèmes\", 'Demi-pause', 'Saint Omer', 'rue Sinon', 'Houlgate', \"Dutronc d'Isigny Je\", 'Ménard', \"J'\", 'Amiens', 'l’Harpic', 'San Francisco', 'Calcutta', \"J'comprends pas ...\", 'Bernhart Arroy', 'Bornéo', 'Marcelle', 'Amsterdam', 'Yaoundé', 'Lux Croyez', 'Eh watching', 'Tampico', 'Kinshassa', 'Disigny', 'Canigou', 'La Palice', 'Attention prends pas froid', \"Chaussée-d'Antin\"}\n",
      "\n",
      "{'’', 'ber1ue'}\n"
     ]
    }
   ],
   "source": [
    "loc_sm=[]\n",
    "for texte in f1:\n",
    "    try:\n",
    "        doc = nlp_sm(texte)\n",
    "        for entity in doc.ents:\n",
    "            if entity.label_ ==\"LOC\":\n",
    "                loc_sm.append(entity.text)\n",
    "    except:\n",
    "        pass\n",
    "print(\"lieux trouvés par le modèle small : \",len(set(loc_sm)))\n",
    "print(set(loc_sm))\n",
    "print()\n",
    "print()\n",
    "\n",
    "tri_1 = [mot for mot in loc_sm if mot not in f2]\n",
    "test1 = [mot for mot in loc_sm if mot in f2]\n",
    "print(\"nombre lieux qui ne se trouvent pas dans le Glaff : \", len(set(tri_1)))\n",
    "print(set(tri_1))\n",
    "print()\n",
    "print(set(test1))\n",
    "print()\n",
    "\n",
    "tri_2 = [mot for mot in tri_1 if mot.lower() not in f2]\n",
    "test2 = [mot for mot in tri_1 if mot.lower() in f2]\n",
    "print(\"nombre lieux en miniscules qui ne se trouvent pas dans le Glaff : \",len(set(tri_2)))\n",
    "print(set(tri_2))\n",
    "print()\n",
    "print(set(without_Galff_minu1))\n",
    "print()\n",
    "\n",
    "\n",
    "\n",
    "tri_3 =[mot for mot in tri_2 if mot.lower() not in tri_2] \n",
    "test3 =set(without_Galff_minu).difference(tri_3)\n",
    "print(\"nombre de lieux obtenu dans la liste finale : \", len(set(tri_3)))\n",
    "print(set(tri_3))\n",
    "print()\n",
    "print(set(test3))\n"
   ]
  },
  {
   "cell_type": "code",
   "execution_count": 11,
   "metadata": {},
   "outputs": [
    {
     "data": {
      "image/png": "[encoded data removed]",
      "text/plain": [
       "<Figure size 432x288 with 1 Axes>"
      ]
     },
     "metadata": {
      "needs_background": "light"
     },
     "output_type": "display_data"
    }
   ],
   "source": [
    "import matplotlib.pyplot as plt\n",
    "\n",
    "\n",
    "x = [1, 2, 3, 4]\n",
    "y = [104, 104, 64, 62]\n",
    "labels = ['lieux_sm', 'tri_1', 'tri_2', 'tri_3']\n",
    "\n",
    "plt.plot(x, y)\n",
    "# You can specify a rotation for the tick labels in degrees or with keywords.\n",
    "plt.xticks(x, labels, rotation='vertical')\n",
    "# Pad margins so that markers don't get clipped by the axes\n",
    "plt.margins(0.2)\n",
    "plt.title(\"Filtrage de l'échantillon1\")\n",
    "plt.ylabel(\"nombre de lieux\")\n",
    "# Tweak spacing to prevent clipping of tick-labels\n",
    "plt.subplots_adjust(bottom=0.15)\n",
    "plt.show()"
   ]
  },
  {
   "cell_type": "code",
   "execution_count": 11,
   "metadata": {},
   "outputs": [
    {
     "name": "stdout",
     "output_type": "stream",
     "text": [
      "lieux trouvés par le modèle medium :  64\n",
      "{'Bordeaux', 'Créteil', \"Camaret J'\", 'Port-Gentil', 'Papeete', 'Venise', 'Obélisque A', 'Prrr!Prrr', 'Vieux fossiles', \"Castel J'\", \"J'ai Maginot\", 'Celles', \"J'ai pas l'moral j'ai pas d'argent\", 'jardin Passa', 'Refrain}', 'Chaussée', 'Refrain', 'Baltimore', 'Binningham', 'Bonsoir', \"J'ai pas de chance j'ai pas d'amis\", 'Val-de-Grâce', 'Mégève', 'Varsovie', 'Saana', 'Réserve', 'Saint-Tropez', 'Portez', 'Milo', 'Millau', \"J'ai loué une place\", 'Minimum', 'Maxitère', 'Lampe', 'Tripoli', 'France', 'Ben', \"J'ai écris\", 'Saint Omer', 'Lourdes', 'Amour', 'Houlgate', 'Trocadéro', 'A', 'Ventre', 'San Francisco', 'Calcutta', 'Hâtez', 'Paris', 'Ca', 'Bornéo', 'Amsterdam', 'Yaoundé', \"Bouquin'\", 'Dôle', 'Nickelés Caleçons', 'Tampico', 'Boulevard Poissonnière Pas', 'Demi-ton', 'Mini-moche', 'Où', 'Téhéran', 'Cotonou', 'Ministère'}\n",
      "\n",
      "\n",
      "nombre lieux qui ne se trouvent pas dans le Glaff :  64\n",
      "{'Bordeaux', 'Créteil', \"Camaret J'\", 'Port-Gentil', 'Papeete', 'Venise', 'Obélisque A', 'Prrr!Prrr', 'Vieux fossiles', \"Castel J'\", \"J'ai Maginot\", 'Celles', \"J'ai pas l'moral j'ai pas d'argent\", 'jardin Passa', 'Refrain}', 'Chaussée', 'Refrain', 'Baltimore', 'Binningham', 'Bonsoir', \"J'ai pas de chance j'ai pas d'amis\", 'Val-de-Grâce', 'Mégève', 'Varsovie', 'Saana', 'Réserve', 'Saint-Tropez', 'Portez', 'Milo', 'Millau', \"J'ai loué une place\", 'Minimum', 'Maxitère', 'Lampe', 'Tripoli', 'France', 'Ben', \"J'ai écris\", 'Saint Omer', 'Lourdes', 'Amour', 'Houlgate', 'Trocadéro', 'A', 'Ventre', 'San Francisco', 'Calcutta', 'Hâtez', 'Paris', 'Ca', 'Bornéo', 'Amsterdam', 'Yaoundé', \"Bouquin'\", 'Dôle', 'Nickelés Caleçons', 'Tampico', 'Boulevard Poissonnière Pas', 'Demi-ton', 'Mini-moche', 'Où', 'Téhéran', 'Cotonou', 'Ministère'}\n",
      "\n",
      "set()\n",
      "\n",
      "nombre lieux en miniscules qui ne se trouvent pas dans le Glaff :  44\n",
      "{'Créteil', \"Camaret J'\", 'Port-Gentil', 'Papeete', 'Venise', 'Obélisque A', 'Prrr!Prrr', 'Vieux fossiles', \"Castel J'\", \"J'ai Maginot\", \"J'ai pas l'moral j'ai pas d'argent\", 'jardin Passa', 'Refrain}', 'Baltimore', 'Binningham', \"J'ai pas de chance j'ai pas d'amis\", 'Val-de-Grâce', 'Mégève', 'Varsovie', 'Saana', 'Saint-Tropez', 'Milo', 'Millau', \"J'ai loué une place\", 'Maxitère', 'France', \"J'ai écris\", 'Saint Omer', 'Houlgate', 'Trocadéro', 'San Francisco', 'Calcutta', 'Bornéo', 'Amsterdam', 'Yaoundé', \"Bouquin'\", 'Dôle', 'Nickelés Caleçons', 'Tampico', 'Boulevard Poissonnière Pas', 'Demi-ton', 'Mini-moche', 'Téhéran', 'Cotonou'}\n",
      "\n",
      "{'Bordeaux', 'Puisque', 'Gault', 'Entrez', 'Tu', 'Sois', 'Celles', 'Métropolitain', 'Y', 'Chaussée', 'Électronique', 'Bonsoir', 'Nagent', 'Hippie', 'Portez', 'Sortez', 'Les', 'Merde', 'Ouille', 'Tripoli', 'Antiatomique', 'Avoir', 'Dois', \"L'\", 'Lourdes', 'Mange', 'Venez', 'Pénélope', 'Instantané', 'A', 'Paris', 'Puis', 'Hâtez', 'Ca', 'Fatigué', 'Engagez', 'Aidez', 'Prends', 'Descendue', 'Ministère'}\n",
      "\n",
      "nombre de lieux obtenu dans la liste finale :  44\n",
      "{'Créteil', \"Camaret J'\", 'Port-Gentil', 'Papeete', 'Venise', 'Obélisque A', 'Prrr!Prrr', 'Vieux fossiles', \"Castel J'\", \"J'ai Maginot\", \"J'ai pas l'moral j'ai pas d'argent\", 'jardin Passa', 'Refrain}', 'Baltimore', 'Binningham', \"J'ai pas de chance j'ai pas d'amis\", 'Val-de-Grâce', 'Mégève', 'Varsovie', 'Saana', 'Saint-Tropez', 'Milo', 'Millau', \"J'ai loué une place\", 'Maxitère', 'France', \"J'ai écris\", 'Saint Omer', 'Houlgate', 'Trocadéro', 'San Francisco', 'Calcutta', 'Bornéo', 'Amsterdam', 'Yaoundé', \"Bouquin'\", 'Dôle', 'Nickelés Caleçons', 'Tampico', 'Boulevard Poissonnière Pas', 'Demi-ton', 'Mini-moche', 'Téhéran', 'Cotonou'}\n",
      "\n",
      "set()\n"
     ]
    }
   ],
   "source": [
    "loc_md=[]\n",
    "for texte in f1:\n",
    "    try:\n",
    "        doc = nlp_md(texte)\n",
    "        for entity in doc.ents:\n",
    "            if entity.label_ ==\"LOC\":\n",
    "                loc_md.append(entity.text)\n",
    "    except:\n",
    "        pass\n",
    "print(\"lieux trouvés par le modèle medium : \",len(set(loc_md)))\n",
    "print(set(loc_md))\n",
    "print()\n",
    "print()\n",
    "\n",
    "tri_1 = [mot for mot in loc_md if mot not in f2]\n",
    "test1 = [mot for mot in loc_md if mot in f2]\n",
    "print(\"nombre lieux qui ne se trouvent pas dans le Glaff : \", len(set(tri_1)))\n",
    "print(set(tri_1))\n",
    "print()\n",
    "print(set(test1))\n",
    "print()\n",
    "\n",
    "tri_2 = [mot for mot in tri_1 if mot.lower() not in f2]\n",
    "test2 = [mot for mot in tri_1 if mot.lower() in f2]\n",
    "print(\"nombre lieux en miniscules qui ne se trouvent pas dans le Glaff : \",len(set(tri_2)))\n",
    "print(set(tri_2))\n",
    "print()\n",
    "print(set(without_Galff_minu1))\n",
    "print()\n",
    "\n",
    "\n",
    "\n",
    "tri_3 =[mot for mot in tri_2 if mot.lower() not in tri_2] \n",
    "test3 =set(tri_2).difference(tri_3)\n",
    "print(\"nombre de lieux obtenu dans la liste finale : \", len(set(tri_3)))\n",
    "print(set(tri_3))\n",
    "print()\n",
    "print(set(test3))"
   ]
  },
  {
   "cell_type": "code",
   "execution_count": 14,
   "metadata": {},
   "outputs": [
    {
     "data": {
      "image/png": "[encoded data removed]",
      "text/plain": [
       "<Figure size 432x288 with 1 Axes>"
      ]
     },
     "metadata": {
      "needs_background": "light"
     },
     "output_type": "display_data"
    }
   ],
   "source": [
    "import matplotlib.pyplot as plt\n",
    "\n",
    "x = [1, 2, 3, 4]\n",
    "y = [64, 64, 44, 44]\n",
    "labels = ['lieux_md', 'tri_1', 'tri_2', 'tri_3']\n",
    "\n",
    "plt.plot(x, y)\n",
    "# You can specify a rotation for the tick labels in degrees or with keywords.\n",
    "plt.xticks(x, labels, rotation='vertical')\n",
    "# Pad margins so that markers don't get clipped by the axes\n",
    "plt.margins(0.2)\n",
    "plt.title(\"Filtrage de l'échantillon1\")\n",
    "plt.ylabel(\"nombre de lieux\")\n",
    "# Tweak spacing to prevent clipping of tick-labels\n",
    "plt.subplots_adjust(bottom=0.15)\n",
    "plt.show()"
   ]
  },
  {
   "cell_type": "code",
   "execution_count": 15,
   "metadata": {},
   "outputs": [
    {
     "name": "stdout",
     "output_type": "stream",
     "text": [
      "lieux trouvés par le modèle medium :  67\n",
      "{'Harpic', 'Bordeaux', \"Un escalier Quand elle passe On l'embrasse Sur le palier On dit d'elle Qu'elle est belle Puis on l'enlace\", 'Créteil', \"Camaret J'\", 'Port-Gentil', 'Papeete', 'Vénus', 'Venise', 'Boulevard Poissonnière', 'Demi-tour', \"J'ai Maginot\", 'Celles', 'Viens', 'Vautrez', 'He!He', 'Chaussée', 'Baltimore', 'Électronique', 'Val-de-Grâce', 'Saana', 'Mégève', 'Varsovie', 'Pyrex', \"Dutronc d'Isigny\", 'Saint-Tropez', 'Ampex', 'Les Beatniks', 'Akékéké kékéké', 'Portez', 'Milo', 'Millau', 'Minimum', 'Maxitère', 'Merde', 'Tripoli', 'Akéké', 'Oh!Ooh!Quand', 'France', 'X', 'He!Hee!Ils', \"Parc'\", 'Saint Omer', 'Lourdes', 'Houlgate', 'Vieux', 'Électrique', 'Amiens', 'Trocadéro', 'A', 'Paris', 'la Rochelle', 'San Francisco', 'Hâtez', 'Ca', 'Bornéo', 'Amsterdam', 'Maximum', 'Yaoundé', \"Bouquin'\", 'Dôle', 'Gilet', 'Tampico', 'Aidez', 'Téhéran', 'Cotonou', 'Ministère'}\n",
      "\n",
      "\n",
      "nombre lieux qui ne se trouvent pas dans le Glaff :  66\n",
      "{'Harpic', 'Bordeaux', \"Un escalier Quand elle passe On l'embrasse Sur le palier On dit d'elle Qu'elle est belle Puis on l'enlace\", 'Créteil', \"Camaret J'\", 'Port-Gentil', 'Papeete', 'Vénus', 'Venise', 'Boulevard Poissonnière', 'Demi-tour', \"J'ai Maginot\", 'Celles', 'Viens', 'Vautrez', 'He!He', 'Chaussée', 'Baltimore', 'Électronique', 'Val-de-Grâce', 'Saana', 'Mégève', 'Varsovie', 'Pyrex', \"Dutronc d'Isigny\", 'Saint-Tropez', 'Ampex', 'Les Beatniks', 'Akékéké kékéké', 'Portez', 'Milo', 'Millau', 'Minimum', 'Maxitère', 'Merde', 'Tripoli', 'Akéké', 'Oh!Ooh!Quand', 'France', 'He!Hee!Ils', \"Parc'\", 'Saint Omer', 'Lourdes', 'Houlgate', 'Vieux', 'Électrique', 'Amiens', 'Trocadéro', 'A', 'Paris', 'la Rochelle', 'San Francisco', 'Hâtez', 'Ca', 'Bornéo', 'Amsterdam', 'Maximum', 'Yaoundé', \"Bouquin'\", 'Dôle', 'Gilet', 'Tampico', 'Aidez', 'Téhéran', 'Cotonou', 'Ministère'}\n",
      "\n",
      "{'X'}\n",
      "\n",
      "nombre lieux en miniscules qui ne se trouvent pas dans le Glaff :  44\n",
      "{'Harpic', \"Un escalier Quand elle passe On l'embrasse Sur le palier On dit d'elle Qu'elle est belle Puis on l'enlace\", 'Créteil', \"Camaret J'\", 'Port-Gentil', 'Papeete', 'Venise', 'Boulevard Poissonnière', 'Demi-tour', \"J'ai Maginot\", 'He!He', 'Baltimore', 'Val-de-Grâce', 'Saana', 'Mégève', 'Varsovie', 'Pyrex', \"Dutronc d'Isigny\", 'Saint-Tropez', 'Ampex', 'Les Beatniks', 'Akékéké kékéké', 'Milo', 'Millau', 'Maxitère', 'Akéké', 'Oh!Ooh!Quand', 'France', 'He!Hee!Ils', \"Parc'\", 'Saint Omer', 'Houlgate', 'Amiens', 'Trocadéro', 'la Rochelle', 'San Francisco', 'Bornéo', 'Amsterdam', 'Yaoundé', \"Bouquin'\", 'Dôle', 'Tampico', 'Téhéran', 'Cotonou'}\n",
      "\n",
      "{'Bordeaux', 'Puisque', 'Gault', 'Entrez', 'Tu', 'Sois', 'Celles', 'Métropolitain', 'Y', 'Chaussée', 'Électronique', 'Bonsoir', 'Nagent', 'Hippie', 'Portez', 'Sortez', 'Les', 'Merde', 'Ouille', 'Tripoli', 'Antiatomique', 'Avoir', 'Dois', \"L'\", 'Lourdes', 'Mange', 'Venez', 'Pénélope', 'Instantané', 'A', 'Paris', 'Puis', 'Hâtez', 'Ca', 'Fatigué', 'Engagez', 'Aidez', 'Prends', 'Descendue', 'Ministère'}\n",
      "\n",
      "nombre de lieux obtenu dans la liste finale :  44\n",
      "{'Harpic', \"Un escalier Quand elle passe On l'embrasse Sur le palier On dit d'elle Qu'elle est belle Puis on l'enlace\", 'Créteil', \"Camaret J'\", 'Port-Gentil', 'Papeete', 'Venise', 'Boulevard Poissonnière', 'Demi-tour', \"J'ai Maginot\", 'He!He', 'Baltimore', 'Val-de-Grâce', 'Saana', 'Mégève', 'Varsovie', 'Pyrex', \"Dutronc d'Isigny\", 'Saint-Tropez', 'Ampex', 'Les Beatniks', 'Akékéké kékéké', 'Milo', 'Millau', 'Maxitère', 'Akéké', 'Oh!Ooh!Quand', 'France', 'He!Hee!Ils', \"Parc'\", 'Saint Omer', 'Houlgate', 'Amiens', 'Trocadéro', 'la Rochelle', 'San Francisco', 'Bornéo', 'Amsterdam', 'Yaoundé', \"Bouquin'\", 'Dôle', 'Tampico', 'Téhéran', 'Cotonou'}\n",
      "\n",
      "set()\n"
     ]
    }
   ],
   "source": [
    "loc_lg=[]\n",
    "for texte in f1:\n",
    "    try:\n",
    "        doc = nlp_lg(texte)\n",
    "        for entity in doc.ents:\n",
    "            if entity.label_ ==\"LOC\":\n",
    "                loc_lg.append(entity.text)\n",
    "    except:\n",
    "        pass\n",
    "print(\"lieux trouvés par le modèle medium : \",len(set(loc_lg)))\n",
    "print(set(loc_lg))\n",
    "print()\n",
    "print()\n",
    "\n",
    "tri_1 = [mot for mot in loc_lg if mot not in f2]\n",
    "test1 = [mot for mot in loc_lg if mot in f2]\n",
    "print(\"nombre lieux qui ne se trouvent pas dans le Glaff : \", len(set(tri_1)))\n",
    "print(set(tri_1))\n",
    "print()\n",
    "print(set(test1))\n",
    "print()\n",
    "\n",
    "tri_2 = [mot for mot in tri_1 if mot.lower() not in f2]\n",
    "test2 = [mot for mot in tri_1 if mot.lower() in f2]\n",
    "print(\"nombre lieux en miniscules qui ne se trouvent pas dans le Glaff : \",len(set(tri_2)))\n",
    "print(set(tri_2))\n",
    "print()\n",
    "print(set(without_Galff_minu1))\n",
    "print()\n",
    "\n",
    "\n",
    "\n",
    "tri_3 =[mot for mot in tri_2 if mot.lower() not in tri_2] \n",
    "test3 =set(tri_2).difference(tri_3)\n",
    "print(\"nombre de lieux obtenu dans la liste finale : \", len(set(tri_3)))\n",
    "print(set(tri_3))\n",
    "print()\n",
    "print(set(test3))"
   ]
  },
  {
   "cell_type": "code",
   "execution_count": 16,
   "metadata": {},
   "outputs": [
    {
     "data": {
      "image/png": "[encoded data removed]",
      "text/plain": [
       "<Figure size 432x288 with 1 Axes>"
      ]
     },
     "metadata": {
      "needs_background": "light"
     },
     "output_type": "display_data"
    }
   ],
   "source": [
    "x = [1, 2, 3, 4]\n",
    "y = [67, 66, 44, 44]\n",
    "labels = ['lieux_lg', 'tri_1', 'tri_2', 'tri_3']\n",
    "\n",
    "plt.plot(x, y)\n",
    "# You can specify a rotation for the tick labels in degrees or with keywords.\n",
    "plt.xticks(x, labels, rotation='vertical')\n",
    "# Pad margins so that markers don't get clipped by the axes\n",
    "plt.margins(0.2)\n",
    "plt.title(\"Filtrage de l'échantillon1\")\n",
    "plt.ylabel(\"nombre de lieux\")\n",
    "# Tweak spacing to prevent clipping of tick-labels\n",
    "plt.subplots_adjust(bottom=0.15)\n",
    "plt.show()"
   ]
  },
  {
   "cell_type": "code",
   "execution_count": null,
   "metadata": {},
   "outputs": [],
   "source": []
  }
 ],
 "metadata": {
  "kernelspec": {
   "display_name": "Python 3",
   "language": "python",
   "name": "python3"
  },
  "language_info": {
   "codemirror_mode": {
    "name": "ipython",
    "version": 3
   },
   "file_extension": ".py",
   "mimetype": "text/x-python",
   "name": "python",
   "nbconvert_exporter": "python",
   "pygments_lexer": "ipython3",
   "version": "3.8.3"
  }
 },
 "nbformat": 4,
 "nbformat_minor": 4
}
