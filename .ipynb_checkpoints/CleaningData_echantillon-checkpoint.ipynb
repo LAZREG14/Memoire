{
 "cells": [
  {
   "cell_type": "code",
   "execution_count": 1,
   "metadata": {},
   "outputs": [],
   "source": [
    "import json\n",
    "import re\n",
    "\n",
    "def ouvrir_json(chemin):\n",
    "    f = open(chemin, encoding=\"utf-8\")\n",
    "    toto = json.load(f)\n",
    "    f.close()\n",
    "    return toto\n",
    "\n",
    "def ecrire_json(chemin, contenu):\n",
    "    w = open(chemin, \"w\", encoding=\"utf-8\")\n",
    "    w.write(json.dumps(contenu, indent=2, ensure_ascii=False))\n",
    "    w.close()"
   ]
  },
  {
   "cell_type": "code",
   "execution_count": 2,
   "metadata": {},
   "outputs": [],
   "source": [
    "echantillon2 = ouvrir_json(\"Data/echantillon2.json\").values()\n",
    "echantillon1 = ouvrir_json(\"Data/echantillon1.json\").values()"
   ]
  },
  {
   "cell_type": "code",
   "execution_count": 3,
   "metadata": {},
   "outputs": [],
   "source": [
    "parole_echantillon1=[]\n",
    "for child in echantillon1:\n",
    "    for parole in child:\n",
    "        paroles = parole.get(\"lyrics\")\n",
    "        parole_echantillon1.append(paroles)\n",
    "        \n",
    "withoutSlash_n =[]\n",
    "for s in parole_echantillon1:\n",
    "    try:\n",
    "        x = re.sub(\"\\n\", \" \", s)\n",
    "    except:\n",
    "        pass\n",
    "    withoutSlash_n.append(x)\n",
    "    \n",
    "withoutSlash =[]\n",
    "for s in withoutSlash_n:\n",
    "    try:\n",
    "        x = re.sub(\"\\\\'\", \"'\", s)\n",
    "    except:\n",
    "        pass\n",
    "    withoutSlash.append(x)\n",
    "    \n",
    "ecrire_json(\"clean_data_echantillons/clean_echantillon1.json\", withoutSlash)"
   ]
  },
  {
   "cell_type": "code",
   "execution_count": 4,
   "metadata": {},
   "outputs": [],
   "source": [
    "parole_echantillon2=[]\n",
    "for child in echantillon2:\n",
    "    for parole in child:\n",
    "        paroles = parole.get(\"lyrics\")\n",
    "        parole_echantillon2.append(paroles)\n",
    "\n",
    "withoutSlash_n2 =[]\n",
    "for s in parole_echantillon2:\n",
    "    try:\n",
    "        x = re.sub(\"\\n\", \" \", s)\n",
    "    except:\n",
    "        pass\n",
    "    withoutSlash_n2.append(x)\n",
    "    \n",
    "withoutSlash2 =[]\n",
    "for s in withoutSlash_n2:\n",
    "    try:\n",
    "        x = re.sub(\"\\\\'\", \"'\", s)\n",
    "    except:\n",
    "        pass\n",
    "    withoutSlash2.append(x)\n",
    "    \n",
    "ecrire_json(\"clean_data_echantillons/clean_echantillon2.json\", withoutSlash2)"
   ]
  },
  {
   "cell_type": "code",
   "execution_count": 9,
   "metadata": {},
   "outputs": [
    {
     "name": "stdout",
     "output_type": "stream",
     "text": [
      "[\"Je suis un aventurier\\nEt j'ai beaucoup bourlingué\\nJ'ai fait la vie à Varsovie\\nJ'ai fait le mort à Baltimore\\nJ'ai fait le rat à Camberra\\nJ'ai joué aux dés à Yaoundé\\nJ'ai joué aux dames à Amsterdam\\nJ'ai fait des games à Binningham\\nJe suis un aventurier\\nAvec lequel il faut compter\\nJe suis un aventurier\\nAvec lequel il faut compter\\n\\nJ'ai été à Bornéo\\nJ'ai été pompette à Papeete\\nJ'ai bu de l'eau à Bordeaux\\nJ'ai dit tant pis à Tampico\\nJ'ai fait l'soldat à Bogola\\nEt des calculs à Calcutta\\n\\nA moi, faut pas m'en raconter\\nParce que, vraiment, j'en ai bavé\\nA moi, faut pas m'en raconter\\nParce que, vraiment, j'en ai bavé\\n\\nJ'ai été errant à Téhéran\\nEt au sana à Saana\\nJ'ai fait l'chasseur à Kinshassa\\nEt la nounou à Cotonou\\nJ'ai fait de la tôle à Dôle\\nJ'ai été lourdé à Lourdes\\n\\nJe suis un aventurier\\nJ'en ai vrairnent beaucoup bavé\\nJe suis un aventurier\\nJ'en ai vrairnent beaucoup bavé\\n\\nJ'ai été crétin à Créteil\\nJ'ai eu la ber1ue à berlin\\nJ'ai été gentil à Port-Gentil\\nEt malpoli à Tripoli\\nJ'ai fait la vie à Varsovie\\nEt le mort à Baltimore\\n\\nJ'étais un aventurier\\nMaintenant, c'est terminé\\nJ'étais un aventurier\\nMaintenant, c'est terminé\"]\n",
      "[\"Je suis un aventurier Et j'ai beaucoup bourlingué J'ai fait la vie à Varsovie J'ai fait le mort à Baltimore J'ai fait le rat à Camberra J'ai joué aux dés à Yaoundé J'ai joué aux dames à Amsterdam J'ai fait des games à Binningham Je suis un aventurier Avec lequel il faut compter Je suis un aventurier Avec lequel il faut compter  J'ai été à Bornéo J'ai été pompette à Papeete J'ai bu de l'eau à Bordeaux J'ai dit tant pis à Tampico J'ai fait l'soldat à Bogola Et des calculs à Calcutta  A moi, faut pas m'en raconter Parce que, vraiment, j'en ai bavé A moi, faut pas m'en raconter Parce que, vraiment, j'en ai bavé  J'ai été errant à Téhéran Et au sana à Saana J'ai fait l'chasseur à Kinshassa Et la nounou à Cotonou J'ai fait de la tôle à Dôle J'ai été lourdé à Lourdes  Je suis un aventurier J'en ai vrairnent beaucoup bavé Je suis un aventurier J'en ai vrairnent beaucoup bavé  J'ai été crétin à Créteil J'ai eu la ber1ue à berlin J'ai été gentil à Port-Gentil Et malpoli à Tripoli J'ai fait la vie à Varsovie Et le mort à Baltimore  J'étais un aventurier Maintenant, c'est terminé J'étais un aventurier Maintenant, c'est terminé\"]\n"
     ]
    }
   ],
   "source": [
    "Aventurier_paroles = []\n",
    "\n",
    "for child in echantillon1:\n",
    "    for parole in child:\n",
    "        if parole[\"full_title\"]==\"L'Aventurier by Jacques Dutronc\":\n",
    "            paroles = parole.get(\"lyrics\")\n",
    "            Aventurier_paroles.append(paroles)\n",
    "print(Aventurier_paroles)\n",
    "withoutSlash_n3 =[]\n",
    "for s in Aventurier_paroles:\n",
    "    try:\n",
    "        x = re.sub(\"\\n\", \" \", s)\n",
    "    except:\n",
    "        pass\n",
    "    withoutSlash_n3.append(x)\n",
    "    \n",
    "withoutSlash3 =[]\n",
    "for s in withoutSlash_n3:\n",
    "    try:\n",
    "        x = re.sub(\"\\\\'\", \"'\", s)\n",
    "    except:\n",
    "        pass\n",
    "    withoutSlash3.append(x)\n",
    "print(withoutSlash3)\n",
    "ecrire_json(\"clean_data_echantillons/aventurier_paroles.json\", withoutSlash3)"
   ]
  },
  {
   "cell_type": "code",
   "execution_count": null,
   "metadata": {},
   "outputs": [],
   "source": []
  },
  {
   "cell_type": "code",
   "execution_count": null,
   "metadata": {},
   "outputs": [],
   "source": []
  },
  {
   "cell_type": "code",
   "execution_count": null,
   "metadata": {},
   "outputs": [],
   "source": []
  },
  {
   "cell_type": "code",
   "execution_count": null,
   "metadata": {},
   "outputs": [],
   "source": []
  },
  {
   "cell_type": "code",
   "execution_count": null,
   "metadata": {},
   "outputs": [],
   "source": []
  },
  {
   "cell_type": "code",
   "execution_count": null,
   "metadata": {},
   "outputs": [],
   "source": []
  },
  {
   "cell_type": "code",
   "execution_count": null,
   "metadata": {},
   "outputs": [],
   "source": []
  },
  {
   "cell_type": "code",
   "execution_count": null,
   "metadata": {},
   "outputs": [],
   "source": []
  },
  {
   "cell_type": "code",
   "execution_count": null,
   "metadata": {},
   "outputs": [],
   "source": []
  },
  {
   "cell_type": "code",
   "execution_count": null,
   "metadata": {},
   "outputs": [],
   "source": []
  },
  {
   "cell_type": "code",
   "execution_count": 1,
   "metadata": {},
   "outputs": [],
   "source": [
    "import xml.etree.ElementTree as ET\n",
    "voc_Glawi = []\n",
    "tree = ET.parse(\"/Users/mustapha/Downloads/GLAWI_FR_work_D2015-12-26_R2016-05-18.xml\")\n",
    "root = tree.getroot()\n",
    "for element in root:\n",
    "    for child in element:\n",
    "        if child.tag == \"title\":\n",
    "            voc_Glawi.append(child.text)"
   ]
  },
  {
   "cell_type": "code",
   "execution_count": 4,
   "metadata": {},
   "outputs": [],
   "source": [
    "ecrire_json(\"voc_Glawi.json\", voc_Glawi)"
   ]
  },
  {
   "cell_type": "code",
   "execution_count": null,
   "metadata": {},
   "outputs": [],
   "source": []
  }
 ],
 "metadata": {
  "celltoolbar": "Format de la Cellule Texte Brut",
  "kernelspec": {
   "display_name": "Python 3",
   "language": "python",
   "name": "python3"
  },
  "language_info": {
   "codemirror_mode": {
    "name": "ipython",
    "version": 3
   },
   "file_extension": ".py",
   "mimetype": "text/x-python",
   "name": "python",
   "nbconvert_exporter": "python",
   "pygments_lexer": "ipython3",
   "version": "3.8.3"
  }
 },
 "nbformat": 4,
 "nbformat_minor": 4
}
