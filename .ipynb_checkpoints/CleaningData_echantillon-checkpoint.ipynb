{
 "cells": [
  {
   "cell_type": "code",
   "execution_count": 4,
   "metadata": {},
   "outputs": [],
   "source": [
    "import json\n",
    "import re\n",
    "import glob\n",
    "\n",
    "def ouvrir_json(chemin):\n",
    "    f = open(chemin, encoding=\"utf-8\")\n",
    "    toto = json.load(f)\n",
    "    f.close()\n",
    "    return toto\n",
    "\n",
    "def ecrire_fichier(chemin, contenu):\n",
    "    w = open(chemin, \"w\", encoding=\"utf-8\")\n",
    "    w.write(contenu)\n",
    "    w.close()\n",
    "\n",
    "def lire_fichier(chemin):\n",
    "    f = open(chemin, \"r\", encoding=\"utf-8\")\n",
    "    chaine = f.read()\n",
    "    f.close()\n",
    "    return chaine\n",
    "\n",
    "def ecrire_json(chemin, contenu):\n",
    "    w = open(chemin, \"w\", encoding=\"utf-8\")\n",
    "    w.write(json.dumps(contenu, indent=2, ensure_ascii=False))\n",
    "    w.close()"
   ]
  },
  {
   "cell_type": "code",
   "execution_count": 11,
   "metadata": {},
   "outputs": [],
   "source": [
    "echantillon2 = ouvrir_json(\"Data/echantillon2.json\").values()\n",
    "#echantillon1 = ouvrir_json(\"Data/echantillon1.json\").values()"
   ]
  },
  {
   "cell_type": "code",
   "execution_count": 13,
   "metadata": {},
   "outputs": [],
   "source": [
    "parole_echantillon2=[]\n",
    "for child in echantillon2:\n",
    "    for parole in child:\n",
    "        paroles = parole.get(\"lyrics\")\n",
    "        parole_echantillon2.append(paroles)"
   ]
  },
  {
   "cell_type": "code",
   "execution_count": 10,
   "metadata": {},
   "outputs": [
    {
     "name": "stdout",
     "output_type": "stream",
     "text": [
      "[\"Je suis un aventurier\\nEt j'ai beaucoup bourlingué\\nJ'ai fait la vie à Varsovie\\nJ'ai fait le mort à Baltimore\\nJ'ai fait le rat à Camberra\\nJ'ai joué aux dés à Yaoundé\\nJ'ai joué aux dames à Amsterdam\\nJ'ai fait des games à Binningham\\nJe suis un aventurier\\nAvec lequel il faut compter\\nJe suis un aventurier\\nAvec lequel il faut compter\\n\\nJ'ai été à Bornéo\\nJ'ai été pompette à Papeete\\nJ'ai bu de l'eau à Bordeaux\\nJ'ai dit tant pis à Tampico\\nJ'ai fait l'soldat à Bogola\\nEt des calculs à Calcutta\\n\\nA moi, faut pas m'en raconter\\nParce que, vraiment, j'en ai bavé\\nA moi, faut pas m'en raconter\\nParce que, vraiment, j'en ai bavé\\n\\nJ'ai été errant à Téhéran\\nEt au sana à Saana\\nJ'ai fait l'chasseur à Kinshassa\\nEt la nounou à Cotonou\\nJ'ai fait de la tôle à Dôle\\nJ'ai été lourdé à Lourdes\\n\\nJe suis un aventurier\\nJ'en ai vrairnent beaucoup bavé\\nJe suis un aventurier\\nJ'en ai vrairnent beaucoup bavé\\n\\nJ'ai été crétin à Créteil\\nJ'ai eu la ber1ue à berlin\\nJ'ai été gentil à Port-Gentil\\nEt malpoli à Tripoli\\nJ'ai fait la vie à Varsovie\\nEt le mort à Baltimore\\n\\nJ'étais un aventurier\\nMaintenant, c'est terminé\\nJ'étais un aventurier\\nMaintenant, c'est terminé\"]\n"
     ]
    }
   ],
   "source": [
    "echantillon1 = ouvrir_json(\"Data/echantillon1.json\")\n",
    "\n",
    "Aventurier_paroles = []\n",
    "chanson = echantillon1.values()\n",
    "\n",
    "\n",
    "for child in chanson:\n",
    "\n",
    "    for parole in child:\n",
    "        if parole[\"full_title\"]==\"L'Aventurier by Jacques Dutronc\":\n",
    "            paroles = parole.get(\"lyrics\")\n",
    "            Aventurier_paroles.append(paroles)\n",
    "withoutSlash_n =[]\n",
    "for s in Aventurier_paroles:\n",
    "    try:\n",
    "        x = re.sub(\"\\n\", \" \", s)\n",
    "    except:\n",
    "        pass\n",
    "    withoutSlash_n.append(x)\n",
    "    \n",
    "withoutSlash =[]\n",
    "for s in withoutSlash_n:\n",
    "    try:\n",
    "        x = re.sub(\"\\\\'\", \"'\", s)\n",
    "    except:\n",
    "        pass\n",
    "    withoutSlash.append(x)\n",
    "    \n",
    "    \n",
    "ecrire_json(\"aventurier_paroles.json\", withoutSlash)"
   ]
  },
  {
   "cell_type": "markdown",
   "metadata": {
    "slideshow": {
     "slide_type": "notes"
    }
   },
   "source": [
    "Se débarrasser des fin de lignes et symboles déechappement\n",
    "---------------------------------------------------------------------"
   ]
  },
  {
   "cell_type": "code",
   "execution_count": 14,
   "metadata": {},
   "outputs": [],
   "source": [
    "withoutSlash_n =[]\n",
    "for s in parole_echantillon2:\n",
    "    try:\n",
    "        x = re.sub(\"\\n\", \" \", s)\n",
    "    except:\n",
    "        pass\n",
    "    withoutSlash_n.append(x)"
   ]
  },
  {
   "cell_type": "code",
   "execution_count": 15,
   "metadata": {},
   "outputs": [],
   "source": [
    "withoutSlash =[]\n",
    "for s in withoutSlash_n:\n",
    "    try:\n",
    "        x = re.sub(\"\\\\'\", \"'\", s)\n",
    "    except:\n",
    "        pass\n",
    "    withoutSlash.append(x)"
   ]
  },
  {
   "cell_type": "code",
   "execution_count": 98,
   "metadata": {},
   "outputs": [],
   "source": [
    "#withoutStopwords_spacy = []\n",
    "#sw = nlp.Defaults.stop_words\n",
    "#for w in withoutSlash_n:\n",
    "  #  if w not in sw:\n",
    "        \n",
    " #       withoutStopwords_spacy.append(w)\n",
    "#print(withoutStopwords_spacy)"
   ]
  },
  {
   "cell_type": "code",
   "execution_count": 16,
   "metadata": {},
   "outputs": [],
   "source": [
    "ecrire_json(\"clean_data_echantillons/clean_echantillon2.json\", withoutSlash)"
   ]
  },
  {
   "cell_type": "code",
   "execution_count": 7,
   "metadata": {},
   "outputs": [],
   "source": [
    "import spacy\n",
    "nlp_sm = spacy.load(\"fr_core_news_sm\")\n",
    "nlp_md = spacy.load(\"fr_core_news_md\")\n",
    "nlp_lg = spacy.load(\"fr_core_news_lg\")"
   ]
  },
  {
   "cell_type": "code",
   "execution_count": 17,
   "metadata": {},
   "outputs": [],
   "source": [
    "f1 = ouvrir_json(\"clean_data_echantillons/clean_echantillon2.json\")\n",
    "f2 = ouvrir_json(\"Data/voc_glaff.json\")"
   ]
  },
  {
   "cell_type": "markdown",
   "metadata": {},
   "source": [
    "Lieux trouvés par le modèle spacy small\n",
    "---------------------------------------------------------------------"
   ]
  },
  {
   "cell_type": "code",
   "execution_count": 22,
   "metadata": {},
   "outputs": [
    {
     "name": "stdout",
     "output_type": "stream",
     "text": [
      "2274\n",
      "{'Loch Ness', 'Sitôt', 'piste Du', 'Pareil', 'Carcassonne', \"J'voudros\", 'Christ(e', 'Etat', 'Thanos', 'Gauloises', 'Lentement', \"J'ai pas d'réverb\", 'océan  ', 'moineau A', 'Kerouac', 'écho massif Déguisé', 'Veuve', 'Pigalle Y', 'Blondin', 'With Mrs', 'Lisette', 'Arrife', 'Dins', 'Méneux', 'Sentinelle', 'bar A', 'Ravachol', 'Lacroix', 'Enfants', 'Lorque', 'Menuets', 'Hôtel de Russie', 'pont des Arts', 'Holiday Inn', 'Pégase', 'Philippines', 'Appelle', 'Danger', 'Himalaya', 'Noire', \"rue Eul' caf'\", 'c’t’écran C’', 'Scarabée', \"J'ai pas aimé\", 'davantage Ensemble', 'Sao Paulo', 'Notre Dame', 'vis Emporte', 'Étrange', 'Les blocs', \"J'ai fauché\", 'Nantes', 'Montent', 'Frère', 'Scudetto', 'j´le', 'Chambéry Mais Jé', 'Macumba', 'chemin Morte', 'A c’', 'Regardez', 'Fois', 'stade On', 'Jérusalem Là', 'Bad', 'J´', 'I veyot', 'Bolivie', 'Hindou', 'codicille Trempe', 'Eternel', 'La Rochelle', 'Qu´elle', 'Rires', 'S’', 'Dansez', 'Retournes', 'Quand viendras-tu', 'Mongolie', 'Mettant', 'Rapper', 'sourires Paranoïaques', 'Navrés', 'Dedans', 'Aragon', 'Que t’', 'Dijon', 'Petite fille de novembre Si blanche dans la nuit de cendre Trouble', \"Parc'\", 'golfe de Tchernobyl', 'Mentally', \"J'ai gravé profond\", 'musé’', 'Combien', 'Fallait', 'Cac 40', 'Cause de toi', 'Vaut', \"Lil' Bow Wow J'\", 'Clap', 'Ginette', 'Fastoche', 'Planète', 'Block', \"J'ai cent ans et j'suis\", 'rue Chaque', 'Dis', 'Ponce', 'Sex', 'Derrière', 'Regardes', 'Ulster', 'Bangladesh', 'Rome', 'Femmes', \"Bud' Grille\", 'Capdevielle', 'Men', 'Cause', 'Quand viendras', 'Grand Pan', 'Les orgues de Barbarie', 'Pologne', 'Nam', 't’', 'Guilledous', 'Pleure pas Quand tu pleures', 'Visant', 'Gendes', 'République', 'Kenzo', 'Concédons', 'Brasse', 'M.I.C.', 'Rue de la Soif', 'Baumettes', 'L', 'Bamako', 'Saintes-Maries', 'Béaba', 'Assistée', 'Tchatche', 'Brest', 'Tableau', 'Les', \"J'crois\", 'Greta Pourquoi', 'Chili', 'Irlande', 'Mmmmmm', 'Alignés', 'Arrêté', 'l`alphabet', 'Istres', 'Gance', 'Brrraque', 'Murmure', 'Aucun', 'biz Malpolis', 'Tendres', 'Hello c’', 'Partagés', 'misés C’', 'Rottweilers', 'Ceylan', 'Marylou', 'Suffocante', 'Tousse', 'Yanis', 'Durand', 'Mythiques', 'Cache', 'Que demain vous mourrez', 'Tombant', 'Sans', 'Anticléricaux fanatiques Gros', 'Poses', 'Loto', 'Aïd', 'Iéna', 'J', 'Berlin', 'Manhattan', 'Kiev', 'Arabie', 'Pont 2', 'Gens', 'Palestine', 'Belsunce', 'Reposerais', 'Tendu', 'Tipp', 'tour Magne', 'Marsala', 'Tonnerre', 'Hambourg', 'pas de Camaret', 'He', 'A Paris', 'Tbilissi', 'Pleure pas Souris', 'Melopheelo', 'Y', 'montagne M’', 'Brooklyn New York', 'Flingue', 'Eich', 'Meuse', 'Allemand', 'pont Laisse', 'Champs', 'Tour', 'Frappe', 'Bogota', 'Anges', 'golfe du Yémen', 'Butte Rouge', 'Montcuq', 'Plantez', 'Marvin', 'Heineken', 'Parme', 'vieux Gavroche', 'L`Europe', 'Volant', 'Immonde', 'Celle de ma chanson Elle', 'La Li', 'Hasta siempre', 'la Seine', 'Lachaise A Bagneux', 'Fit', 'Kan', 'Qui décréta punition Honteuse', 'Sévéso', 'Ton', 'Mars', 'Montfaucon', 'Courent derri', 'Blanche', 'Or', 'Traîtres', 'Avignon', 'qu’', 'Très', 'Tour Magne', 'Sales manières', 'Darjeeling', 'Nombreux', 'Certes', 'Hé', 'Béton', 'Sahel', 'Pigalle', 'la Pologne', 'traine Juste', 'Une', 'le Caire', 'Smalto Fume des Cohíbas', 'Perdre', 'Chacun', 'Morte', 'Parole', 'Gare', 'branches A', 'Luter', 'Thèbes', 'Fermé', 'Rasée', 'Tournoyante', 'Cible', 'Loch Ness Noir', 'Burkina', 'Géantes', 'Omotesandō', 'Ukraine', 'Glocks', 'Étaient', 'Pontoise', 'Stockholm', 'Quel', 'Gange', 'Bastille', 'Excellent', 'Playmate', 'Toi', \"J'ai compris\", 'Emmène', 'Pravda', 'Garges-Les-Gonesses', 'Belzébuth', 'A COMPLETER', 'Mangeais', 'Asie', 'Faux ongles', 'Parc Montsouris Après', \"J'écris mes\", 'Auraient', 'Creuse', 'Heureusement', 'Sofa', 'Souvenez', \"J'entends partout crier que la bonté\", 'Evoluant', 'Basique', 'Vanves', 'Zanzibar', 'Bonsoir', 'Mourut', 'Sali', 'pont des Arts  ', 'Narbonne', 'Fier', 'Premier Quand t’auras l’', 'New York Y a Jimmy', 'Berte', 'Crie', 'N Chang', 'Le parisien', 'Boulevard Barbes', 'Écœuré', 'Fabien', 'Ronds', 'La\\u2005', 'La Seine', 'Connemara', 'Dublin city Où', 'Bah', 'Mesdames', 'A 16', 'Tchad Natif de Dakar', 'Cachera', 'Il m’', 'Trouver', 'Veuille', 'Saisi', 'Ramadan Pas', 'Echo', 'Eh bin', 'Lola', 'Assez', 'Entends', 'Prodigal Sunn', 'Exhibant', 'Fouquières', 'Sri Lanka Sikh', 'Re', 'forêts', 'Terrestres', 'I', 'Chhht', 'Katmandou', 'Englois brûlèrent', 'Allongés', 'Exploitées', 'mer Egée', 'Capte', 'Clamart', 'Terminus', \"That'\", 'Olimpico', 'Nègre', 'Dés', 'Afrique Autour', 'B52', \"l'Est\", 'Nashville', 'Bambou', 'Cette', 'Zembla', 'Peloton', 'Saint-Mandé', 'Pleure pas Ou', 'Propre', 'Luke', 'Shhh !', 'Onques', 'seuil Faut', 'j’', 'Accepte', 'Dites', 'Lancoliques', 'Monaco', 'La F-L', 'Stupides', 'Compté', 'Marny', 'Enrôlé', 'Excuse', 'Kader', 'Brabus', 'Font', 'Pouvoir', 'Le mari', 'Carrare', 'Coupole Parle', 'heure A', 'Intoxiqués', 'Finira', 'Filles', 'Xénophobie', 'Tomahawk', 'La mignonne', 'Sharengton', \"J'ai peur\", 'Bric-à-brac', 'Prague', 'la Camarde', 'Sort', 'Come', 'Derrièr', 'Non Jack FrodjoMahjong', 'Mal', 'Charon', 'Concept', 'Alianza', 'Taïwan', 'Libérés', 'Voie unique', 'Vallée des Rois', 'Traduit', 'Los', 'Comme Issa', 'Avais', 'Montana', 'Envolées', 'Thé', 'l’', 'cap Ferret', 'Bac', 'Teresa', 'cœ\\x9cur', 'Ayato', 'Ouvre', 'Dos', 'Mecque', 'Santiago', 'Manouche', 'Brésil', 'Laisse', 'A Saint-Sulpice', 'Mogador', 'Pays Basque', 'Magique', 'Mais', 'Soit t’', 'Baby', 'Nettoyées', 'A Longwy', 'Fussent', 'Balance', 'Arrache', 'Tectonique', 'Raisonne', 'Soupira', 'Dallas', 'Pleure', 'Tape Malone', 'Upon', 'Ninette', 'Travaille', 'Acerbe', 'Damas', 'Oublie', 'Chope', 'Bastia', 'Balisent', 'Louisiane John', 'Déchanter', 'Treets', 'Mentons', 'Que fientes de pigeons', 'Bave', '! L', 'Bang', 'Amsterdam', 'Jugeant', 'Deuch', 'Vois', 'Naples A', 'porte du Diable Nan', \"J'ai porté la croix\", 'Telle', 'Baptistain', 'Ajaccio Est', 'Oyez', 'Allergique', 'Puis', 'Sobre', 'Eille', 'Nicaragua', 'Roméo', 'Ridicules', 'Féria', 'Yang', 'Parc´qu´y', 'Passait', 'Dont', 'Rouge', 'Vietnam', 'Saint Malo', 'Paris', 'Apollinaire A', 'J’', 'Bengale', 'Mieux', 'So I', 'Promène', 'Mojze', 'A', 'Martigues', 'rue des Saules Rue Saint-Vincent', 'Benkei', 'Big Brother', 'Toulouse', 'Knokke-le-Zoute', 'B', 'Chanter', 'Grèce', 'Soleil', 'Guide du Routard', 'Saumur', 'Brille', 'Bref', 'Villette', 'Varsovie', 'Décimées', 'Amusante', \"PV Pas d'lumière sur ma meule\", 'Grand-mère', 'Marseillais', 'above all I', 'barrage A', 'Deviens', 'Capturent', 'Lin', 'Panier', 'Rue du Vieux Colombier Ton fantôme', 'Nord-Est Solaar', 'Sache', 'Essuyez', 'Saint-Tropez', 'Bullshit', 'Vercors', 'Ghana Poètes', 'Babou', 'Kingston', 'Est', 'Nouméa', 'lycéen', 'Pis', 'Marseille c’', 'R', 'Ordinaires', 'Dublin City', 'K7', 'Disrespect', 'Saint-Cloud', 'Philistins', 'Pique', 'Éteignez', 'Volent', 'Népal', 'Rue du Vieux Colombier', 'Vrai', 'Palaiseau', 'Montant', 'Grande', 'Poussées', 'Nirvana Ensorcelé', 'Mental', 'Sos', 'Manille', 'MoMA', '“C’', 'L?-l?-l', 'Sont', 'Rejoins', 'Apaches', 'Débloque', 'Moi', 'j’t’', 'London', 'Mea Culpa!', 'Perpignan', 'Cha', 'Effleur', 'Ziza Repart', 'Grenade', 'Sodome et', 'Serai Orly', 'Prodigal Sunn:] Yo', 'Île-de-France', 'Surtout', 'Fort', 'Panthéon Rue Descartes', 'Baywatch', 'Ges', 'n´ai', 'Côtes-du-Rhône', 'Sentimentale', 'Elle', 'Pochtron', 'Défends', 'rue Tellement', 'Play', 'Tombés', 'Bonhomme', 'Forgé', 'laine Pas', 'prierai Plus', \"Porte d'Orléans\", 'Les carolines en crinolines', \"J'ai vu des bateaux\", 'Chose', 'Posé', 'Hasta', \"J'ai dit\", 'Padilla', 'Le', 'France', '\"City', 'Délaisse', 'Laver', 'Savez', 'Oeil', 'Géorgie', 'Elsa', 'Celles', 'nimbus A', \"J'ai connu\", 'Budapest', 'Kanterbrau Germaine', 'Suzon', 'Respectueux', 'Grand Manitou', 'Medellin', 'Affirmatif', 'Hélas', 'Effronté', 'Moulins', 'Merde', 'Lewis Carrol', 'Indien', 'Et Margot', 'Pousse', 'Vérifier', 'Juste', 'Rue Saint-Vincent', 'Porter', 'Pis\\u2005', 'Sylvie', 'Lumière', 'gare de Bologne', 'Iblis', 'Monténégro', 'Si', 'Veill', 'Tes centrales', 'jardin du Bon Dieu C’', 'Eux', 'Tanzanie Picasso', 'Maharajas', 'Le bitume', 'Buvons', 'Jasmin', 'Badé', 'Expelled', 'lèchefrite A', 'Singapour', 'la France', 'Traversé', 'Lutèce', 'Emballé', 'Champs Elysées', 'c\\x9cur', \"Cha d'\", 'Villette Je', 'royaume des Hommes Soudain je vois', 'Medhi', 'Nation', 'Villeneuve-Saint-Georges', 'Bonnes', 'Enseigne', 'Sauve', 'rue Davso', 'plumard Renard', 'Aubervilliers', 'New Balance', \"L'Italie\", 'Distance', 'toi Pleure', 'Autour', 'Rico', 'Faute', 'Sauf', 'BN', 'Cut l’', 'Veuillez', 'Estonie', 'Privées', 'Mont Royal', 'Camarades', 'Est parti', 'Because', 'Non', 'Moineau', 'New York City', 'Déploie', 'Pervenches', 'Franchir', 'Présumais', 'Suivit', 'Donner', 'Montparnasse', 'Arizona', 'Franchit', 'Réminiscence', 'Jérusalem Car', 'Murmura', 'Amoureux', 'Aziz', 'Epicure', 'Normandie', 'Légère', 'Coudes', 'Scratches', 'Avoir', 'Champ', 'Cimetière Aguichant', 'du Sud', 'Presque', 'Ici', 'forêt de', 'Basta', 'BDE', 'Tagada', 'Funky', 'Pipasol', \"J'rinte\", \"l'Europe\", 'Repoussant', 'Sri Lanka', 'Iconoclastes', 'Emporte', 'Beljamra', 'Cancer', 'Mimi', 'Séché', 'v’', 'Erythrée', 'Classique', \"Duras J'\", 'Longnon', 'C’', 'Corse', 'de France', 'Häagen', 'N', 'Régie', 'mont Falu', 'Argentine', 'Bravo', 'Mourrons', 'Laarso', 'Cuando', 'improviste Vole', 'Tranquille', 'Cadavre', 'l’on Te respecte Archange', 'Salamanque A Paris', 'Coulent', 'Sûr', 'Nniers', 'Comptez', 'Bretagne', 'pays Est', 'région Marie-Lou', 'café J’', 'Reverra', 'Réciprok', 'Cavan', 'Où t’', 'A Marseille', 'Quartier Nord', 'Graff', 'Argenteuil', 'Belzebuth', 'Fac', 'coudes Leur', 'Besoin', 'Jeanne Son', 'Valstar', \"L'\", 'Predator', 'Père', 'Kinshasa', 'Aryenne', 'Funk', '? L', 'Capoue', 'Cocagne A', 'Bettancourt', 'Redoute', 'Donc bang', \"'Vec\", 'Margoton', 'Gentilshommes', 'La France', 'B.D.', 'Parc Montsouris', 'Laissons', 'Lovers', 'Bes', 'Au centre', 'Oubliées', 'Vlan', 'Sénégal', 'Archibald', 'Madone', 'Ricains', 'Bière', 'quartier Latin', 'Montmertre', 'Courbet', \"île d'Avalon\", 'Moissonne', 'Embrasse', 'Mont’ m’', 'Sirocco', 'Boom', 'Basculent', 'Compte', 'Once', 'Choisir', 'Décolorées', 'Occupait', 'Tours', 'Vive', 'Dublin', 'Telecom', 'Rizla', 'A grands coups', 'Meccano', 'A 26', 'Malek', 'Elvis Pense', 'La Zulu', 'Fleury', 'Je t’', 'Courrut', 'Sheitan', 'Pessah', 'Tire', 'Those', 'Rex', 'Prusse', 'Taxe', 'ligne Maintenant la Commission', 'Voilà', 'A la Bastille', 'Craignant', 'Te', 'Libertaire', 'Préparez', 'Dji', 'marée', 'Pour', 'Genoux', 'bal A', 'Zamzam', 'Rabane', 'Interpol', 'Eh ouais', 'Dominique', 'cap Du dédain', 'U', 'Préfèrent', 'Haschich', 'Les Affranchis', 'Darren', 'Tarbes', 'Reno', 'Incontinent', 'Attiré', 'Akkad', 'Washington', \"béton gris J'\", 'Vieux', 'Memphis', 'Slamalekoum', 'Unis', 'Titi', 'Quand t’', 'Shit Squad', 'Gangster', 'Sous', \"La lune c'est le soleil des loups\", 'micro A', 'Entends l’', 'Psychiatrisées', 'Ne', 'Traînez', 'Pays de Co', 'Banco Son', 'mic Mountain', 'Reggae', 'Retrouv', 'La Jeanne', 'Pondais', 'Porte pas de crampons', 'sacré’', 'Basses', 'Prada', 'Séville', \"Place de l'Horloge\", 'Gaîté', 'Lulu', 'Shaolin', 'Bicêtre Pas', 'Vatican Donc', 'Ternaire', 'Qu´il', 'O', \"J'ai pas peur des loups\", 'Précieuses', 'Tokyo', 'Bordeaux', 'Tais', 'Á', 'New Look', 'Quartier', 'Mélusine', 'Du cash', 'Issara', 'Trouble', 'Armada', 'War Pride', 'Fresnes', 'Vatican', 'Paname Super-fière', 'M', \"r'pêcher Elle\", 'Costa Rica', 'Souvenir', 'Nante', 'Brooklyn', 'Pastis', 'Squad', 'Gévaudan', 'Baileys', 'l`avenir', 'Crever', 'Quimper', 'Sanglant', 'Encore', 'Bosse', 'Posse 501 Musicologue', 'Ô', 'Réquisition', 'Prudence', 'Moët', 'Champ de navets Sans grandes pom-', 'Greta Ich', 'Yémen', 'Dois', 'Indiens', 'Saint-Denis', 'Amour', 'Pantin  Pleurez', 'Abruzzes', 'an Eméchés', 'Bientôt', 'Cuirasse', 'VO', 'Un', 'Bénites', 'Ajoutez', 'Auprès', 'C.D', 'Abeba', 'Pont musical', 'Princesse', 'Démobilisés', 'grande Ourse', 'Pérou', 'Astique', 'Nuée', 'Merdico', 'Eve', \"J'dirais\", 'Hughes', 'Cachez', 'Reviendront', 'Sentant', 'Alsaciens', 'École française du Caire Olives', 'Pantin', 'Sais', 'Gastibelza', 'Tape', 'Autre', 'Taciturne', 'Bâillonné', 'Khéops', 'Amoco', 'Bonjour', 'Landernau', 'Paris Arpenter', 'Achevez', 'Lutem', \"Côte d'Azur\", 'Prisons', 'Séduis', 'Yeah', 'Spirituel', 'Apprinds', 'Passeport', 'Celle des Schtroumpfs', 'Fumes', 'Killah Priest', 'Jordanie', 'Pleurez', 'Propagande', 'Momo', 'Pourvu', 'Une escapade improvisée Nous sommes', 'Hanoï', 'Baltique', 'y´en', 'Élise Blanche', 'c’t’', 'Seul', 'El', 'Gardien', 'Limoux', 'Rue sombre', 'Rue Rochechouart Près', 'QI', 'Calvi', 'Laintenanmic', 'Pochette', 'Nice', 'Coucha', 'Au', 'Déséquilibré', 'Emaciés', \"J'avais\", 'Épouse', \"Veau d'Or\", 'Ycon', \"l'6.6.6\", 'Robins des Bois', \"J'ai\\u2005\", 'Bled', 'Médine', 'Qu´on', 'Cochères', 'Les poissons', 'Killeshandra', 'Cousin', 'Là c’', 'TGV Avé', 'Leur', 'L’', 'mer Libre', 'Finie', \"Moi c'\", 'Fait', \"J'ai jamais\", 'Renverse', \"J'ai vu\", 'Rio', \"J'ai pas d'haine\", 'Identity', 'Nettoie', 'pain A', 'Lamborghini', 'Côte', 'Dj Daz', 'Ça', 'Sambre-et-Meuse', 'Trenet', 'Symbole', 'ballon A', 'Avaient', 'Bien', 'Chine', 'Bietris', 'Verso', 'Neuf', 'silhouette Est', 'Roule', 'Boîte', 'Plaise', 'Es', 'Neptune', 'Ci', 'Ter l?', 'Moi je suis le', 'Krivine', 'Bhopal Yo', 'Cordillère des Andes', 'Etes', 'Marsiale', 'Afin', 'Danse', 'Monté', 'Épouvantail', 'Raccourcissent', 'Togo', 'm’', 'Recouvrance', 'Dakar', 'I wanted', 'Auvergne', 'Cercle', 'Carabine', 'Dolto', 'Genre', \"J'bois\", 'Rejoindre', 'Your', 'Dicte', 'Passe-les', 'Olympia', 'Gotha', 'Débilos', 'Daz', 'Pénétrer', 'Encre noire', 'Omerta', 'Tuez', 'Sacro', 'Prenez', 'Vagabonds', 'Vienne', 'Ben', 'Brisé', 'Coupole', 'Con', 'Français', 'Cha li', \"J'ai dessiné\", 'Paparazzis', 'Israël', 'I write', 'Colorado', 'Pouvais', 'Test', 'Pactole Y', 'Bastilles', 'Murmurent', 'Ternis', 'Nil', 'passerelle’', 'Ouarzazate', 'Vénus de Milo', 'aper?u', 'Finlande', 'Seront', 'Marbœuf je me gonflais', \"Y'\", 'Rital', 'Tolède', 'Laissa', 'vigne Arrache', 'Rendu', 'Méditerranée', 'Quelquefois', 'Montmartre', 'Tre', 'Chargé', 'Chanta', 'Québec', 'blas?s', 'Méfie', \"l'Afrique\", 'Doucement', 'Ève', 'Ouganda', 'fumée', 'Kodwa', 'BANG', 'Jag längtar efter mig Jag', 'Pluton', 'Regard impassible', 'Suze', 'Egotrip', 'Ouest', 'Stimorol', \"gare de l'Est\", 'Bonheur', 'Parc des Princes', 'Novotel Y', 'Quels', 'In', 'Mesquins', 'Zorro', 'Dramatique', 'Que Suprême', 'Soumise', 'Perd', 'Sacrée', 'Eden', 'Retrouver', 'Auteuil', 'On', 'Pareille', 'Gelé', 'beauté T’', 'Renommée Vous êtes', 'pays n’', 'P', 'Ecoutez', 'Trap', 'Avalon', \"Sainte-Mad'lein’\", 'Stella', 'Bois', 'Bashung', 'Venise', 'Quelque', 'Poésie', 'Tacchini', 'Bécassine', 'Quoiqu', 'Quand l’air', 'Hard', 'Miami', 'Allemagne', 'Loulou', 'Rat Luciano', 'Attirés', 'Saturne', 'Humanitaire', 'Pauvr', 'Marchant', 'Hallelujah', 'Souviens', 'Accrochées', 'Nabil', 'Libérées', 'Vénus', 'Sud', 'Perçois', 'C', 'Olé', 'Veut', 'Creusant', 'Vire', 'Molly', 'Charonne', 'Tâchez', 'Chapi', 'Restez', 'Pin', 'Marseille', 'Sympa', 'Trouvèrent', 'Nord-Ouest', 'Drame', 'Explique', 'T’', 'Assis', 'Bruxelles', 'Sommeille', 'Virginie', 'Poupées Barbie', 'Créteil', \"J'ai rencontré\", 'Tipaza', 'Hommes', 'Adieu', 'Oxford', 'Tcherno', 'Savais', 'Maldives', 'Karim', 'Dévorés', 'Volez', 'Mexique', 'Je l’', 'Lancolique', 'Avait', 'Thiais', 'Indes', 'Aimeras', 'Découvrir', 'placard C’', 'Neuilly Dans', 'Maintenant', 'Qu´est', 'Dalila', 'Marais', 'New York', \"J'ai laissé des bouts\", 'La Chine', 'Blague', 'Car', 'Vaux', 'Bénie', 'Fatigué', 'Selecto', 'Grossiste', 'Ta', 'Tarentelles', 'Browning', 'Saint-Malo Rue', 'Poètes', 'Sparte', 'Sodi', 'parking A', 'Stocks', 'Laponie', 'Afrique Traité', \"J'ai croisé des hommes\", 'Pondus', 'jean’', 'Stresse', 'Vänd', 'Pages', 'Barbès', 'Coule', 'Fuck', 'Brest(e', 'Byzance', 'corde A', 'Ignorant', 'Attaque', 'he’', 'Raconte', 'Ack', 'Prends', 'Poèmes', 'Chicago', 'Clignancourt', \"J'kiffe ma life\", 'Croyez', 'Jamaïque', 'Cicatrices', 'Occupe', 'G', 'Hiroshima', 'Amway', 'Refrain', 'Du côté Est', 'Quartiers', 'Golf', \"J'ai volé\", 'Égyptiens', 'Tyson', 'Authentique', 'Saine', 'Mollah', 'Notre', 'Sofia', 'Opaque', 'Folle', \"bois d'Saint-Cloud\", 'P38', 'Tr', 'Va', \"J'vous ai parlé des filles\", 'Certain', 'Maman', 'Villefranche', 'Profondes racines', 'Verrouillée', 'Jazz', 'Mordor', 'Cool', 'Retour', \"Qu'un air d'\", 'Cons', 'Folon', 'Quartier Nord Nous', 'Alabama', 'Puisse', \"l'Espagne\", 'Ardèche', 'Marie-janne', 'Tache', 'Sacrifiaient', 'Kanter', 'Animateur', 'Finies', 'Seraient', 'Perché', 'Tourcoing', 'Premiers', \"J'ai compris ma méprise\", 'Foutez', 'India', 'Paname', 'Caroline', 'Écoutez', 'Accepta', 'Vendre', 'Caché', 'Pourrais', 'K.O.S.O.V.O La BO', 'Patagonie', 'Cliché', \"caverne d'Ali\", 'Désolé', 'Aspen', 'Aïcha', 'Bande', 'Serpico', \"J'ai bu\", 'Morrison', 'Dinard', 'Tandis', 'New York A', 'Qué', \"J'ai le cœur assez grand\", 'Boules', 'Closerie', 'Berçant', 'Mignonne', 'Délavées', 'Dublin city', 'Pondichéry', 'Tes', 'Lyon', 'Résonnent', 'Sumer', 'Avez', 'Obscure', 'Vends', 'Parisien Libéré Pense', 'Planquée', 'Électrolyse', 'Rosalie', 'Keno', 'Bingo', 'Terre', 'moral Sache', 'Storm', 'Celle', 'vieux Franco', 'La-la-la', 'Arbi', 'Prusse A', 'Reste', 'Camargue', 'Lever', 'I.M.P.E.R.A.T.O.R', 'Cap Canaveral', '’', 'Différencie', 'Comme', 'rue Peut', 'Harponnées', 'Cliquez', 'Val', 'Mai', 'Sad Hill', 'Chouette', \"J'ai pas\", 'Normal', 'Houston', 'Braves', 'Londres', 'BO', 'Cerveza', 'Égypte', 'CO', 'Technique', 'Achinan', 'Comprends', 'Sévèrement', 'Speedés', 'Fraternité', 'Poucet', 'Passée', 'Beaucoup', 'Imperial', 'Palerme', 'Règne', 'Meilleure', 'Memphis Tennessee', 'Croisant', 'caisse A', 'Pisseuse', 'Petit Scarabée', \"J'vais\", 'Eucharistie', 'Pays', 'Beat', 'Rodeada', 'Chœur', 'Trois', 'Ivre', 'Lier', 'Hold', 'Traîne', 'Mauvaise', 'Mexico', 'Systématique', 'Repentez', 'chemin Car', 'Silence', 'Parut', 'Chinois', 'Lalala', 'Lui', 'Regarder', 'Quelque sainte', 'Perles', 'Samantha', 'rue Pigalle', \"J'ai troqué\", 'Bagdad', \"Kro'\", 'Désiré', 'B.H.L', 'Moulin', 'Fort Green', 'Diable', 'Aie', 'La', 'Dieppe', 'Suisse', 'Gaulois', 'Abyssinie', 'Budweiser', 'Jalouse', 'Renoncé', 'Not', 'Hollywood', 'Haïti', 'Libéré', 'grigou Faire', 'Voie', 'Mégotrip', 'Grand', 'Padam', 'Combinaisons fluos  ', 'Nord', 'Trouverais', 'Marie-Lou', 'Village', 'Bon', 'Main', 'chacals Pâle', 'Canique', 'Simca', 'Mali', 'Emmerdante', 'Crois', \"J'ai rêvé de l'étranger\", 'Halles', 'Sarcelles', 'Lorsque', 'Bic', 'Indochine', 'Carpentras', 'Cherchez', 'Bagarres', 'larme Pauvres', 'Belfast', 'Attendez', 'Opéra', 'Inutile', 'Boulettes', 'Centre', 'Rolex', 'Inde', 'Mal Suprême', 'Fichu Souleiado', 'Branches', 'Disneyland', 'Hollywood berne', 'S', 'Enamourée', 'de Lille', 'fi France', 'Moscou', 'Viens', 'Epoque', 'Direct', 'From London', 'Ramadan', 'Anticlérical', 'Pfff', 'El Diablo', 'Leurs', 'Danemark', 'Aix', 'Revolucion', 'Blesse', \"N'\", 'Pauvre', 'Maroc', 'Puisque', 'jardin d’', 'Beaujolais', 'Bilan', \"J'eus la douleur de voir punir d'une épouse\", 'Quartier populaire', 'Landerneau', 'Informations', 'Refouler', '\\x93', 'Abandonnée', 'Alla', 'Brive-la-Gaillarde A', 'Comportâtes', 'Bienfait', \"J'te montrerai mon\", 'Playa Etudes supérieures de Kama', 'le Zénith', 'Brazza Pas', 'Alors', \"aim'\", 'Putain', 'Peut', 'mer Enfanté', 'Pont Neuf je me gonflais', 'Nanana', 'Sentenza', 'Berne', 'Alanje', 'Boit', 'Cythère', 'ligne Maginot', 'Gardes', 'Poupée Barbie', 'Niger Bosser', 'Mettez', 'Seine', 'Basques', 'Complexe', 'Chemin', 'Illuminée', 'Sologne', 'Soulève', 'Animales', 'Californie', 'Foi', 'Fréjus', 'Dédé-le-Surineur', 'Pays des Sorgues Fanny', 'Am', 'Margot', 'Malgré', 'l’Est', 'Soixante', 'De', 'Falù', 'Ricard', 'Vieux Port Faire', 'Tres', 'Lelay', 'Excepté', \"J'vous vois\", 'Grand Plazza', 'tour A', 'Marches', 'Pont parlé', 'Ebola', 'Chante', 'vrais Sincères', 'Servir', 'Anvers', 'Pernod', \"see'\", 'col Le', 'Libre', 'Avoriaz', 'Concidence', 'Close', 'Don', 'Cube', 'Montrez', 'Commencer', 'lointaines Abattus', 'Woody', 'Flagada', 'Uranus', 'Fredo', \"J'\", 'Appalaches', 'Méditerranéenne', 'Auront', 'Panama', 'Naples', 'New Orléans', 'Salle', 'Hélloïs', 'Contrôlées', 'Little', 'Trompettes', 'Son', 'Rendre', 'I kill', 'Filant', 'Vivre', 'E', 'Terminé', 'Sorbonne', 'Admettre', 'Miroir', 'Seules', 'Pense', 'Pow Wow', 'Faunes', 'Listen', 'Perdus', 'Marre', 'Simplement', 'D?s', 'Scellées', 'Ballesteros', 'Le Picon', 'Supercherie', 'Taishi', 'Combine', 'More', 'Chacal', 'port Juste', 'Taj Mahal', 'fosse Pus', 'Machin', 'Dope Rhyme', 'Aimes', 'Saint-Ouen', 'Chargez', 'Ne t’', 'Saint-Esprit', \"J'affronte la vie\", 'Licencié', 'Volailles', 'Germaine', 'l´au', 'faille Travail', 'Bicêtre', 'Toulon', 'Bollywood', 'Drames', 'Taf', 'Génocides', 'A saut', 'Larmes', 'Bougre', 'jardin Viens', 'QI sage Où', 'Pleure pas', 'n’', 'Tranquilles', 'Approchez', 'Lachaise', 'Le Renard', 'Jérusalem', 'Le 14ème arrondissement Possède', 'Enchaîné', 'Dahu', 'Turc', 'Parisienne', 'Biggie', 'Parfois', 'Saint-Michel', 'Pèze', 'Independenza', 'Lampistes', 'Nouvelle', 'Carrément', 'Angers', 'Patriarche', 'Hong', 'Sumatra Leur style', 'Calme', 'Bornéo', 'Babel', 'Déifiant', 'Notre colonel', 'Gorille', 'Archipiades', 'Bangkok', 'Kanaky', 'Frénétique', 'Doux', 'Paroles', 'Canebière', 'entr?e', 'Tenter', 'M16', 'nez Est', \"jardin d'Eden\", 'Snatche', 'Amérique  Entendras', 'Saint-Germain-des-Prés', 'Cortège', 'Meudon', 'Connue', 'Qui', 'Seleção', 'P.M.U.', 'Zénith', 'Sad hill', 'KO', 'Streap', 'Zoxea', 'That', 'Sire', 'Jag', 'Creeks', 'A A', 'Close  C’', 'Triangulaire', 'Fleurir', 'Obligés', 'Maine', 'Knicks', 'Otelo', 'Croix', 'Brigue', 'Grandir', 'Préfèrerait', 'Pont – MC Solaar', 'Lievin', 'Fredonne', 'Touche', 'Para', 'Belge', 'rue Etre', 'Casino Secrètement', 'Les VC', 'Aldo vole', 'Marinette', 'Gratter', 'Notaires', 'Paradis', 'Tortillant', 'port Blanche', 'fascin?s', 'Où', 'Court', 'Sahel Pas', 'P 38', 'Qu´tu', 'Maillol', 'Africain', 'Belleville', 'Quito', 'Vu', 'Gasoil', 'Pont 1', 'Brutalities', 'Piennes', 'Sorties', 'Gavroche', \"J'ai ma petite\", 'Theresa', 'Libérée', 'Ponds', 'Stick', 'Courbée', 'Gambetta', 'Gange Ennemi', 'Valentour', 'Liffekès', 'Droit', 'Perriers', 'Apporte', 'Faire', 'Angleterre', 'Courront', 'Chtbaou', 'parc Montsouris', 'Pardonne', 'Travail', 'Voulu', 'Violer', 'Schtroumpfette', 'Aspire', 'Torse', 'Comptent', 'Lavilliers', 'Sicile', 'Frigo', 'Aimerais', 'Montélimar', 'Caire', 'Redescends', 'Deauville', 'Pont', 'Lyriciste', 'Barbarie', 'mûres Pauvres', 'Etre', 'Ness', 'Pénélope', 'Fasse', 'Montrant', 'Sud-Est', 'Rosette', 'Destinées', 'Tchernobyl', 'Demandez', 'Mais t’', 'Louche', 'Bas', 'Donc', 'Preuve', 'Hortense', 'Massacré', 'Prés', 'Irak', 'Faut', 'bide de Moustache Tes', 'Rendez', '(bis)', \"Rue d'Charonne\", \"Levi'\", 'Envie', 'Seul dans ma chambre', 'année', 'Casse-toi', 'Porto', 'Thaïs', 'Kebab', 'Trahi', 'Tiens', 'Errer', 'Souffler', 'Macao', 'État', 'Brûlent', 'Posse A', 'Mademoiselle', 'matin Montparnasse', 'Abjurant', 'Dupont', 'Lucien', 'Sois', 'Samedi', 'Guide', 'This', 'cieux A', 'Jallalabad', 'Vilnius', 'Attrapez', 'Endoume', 'Ivrogne', 'Formé', 'la Terre', 'Lille', 'Tahiti', 'Submarina', 'Bab El Oued Du', 'Ramassée', 'Les Tuileries', 'Couleur', 'Baffles', 'Bultex', 'Arrêtez', 'Quand Margot', 'B.J', 'Marilyne Celle', 'Bonnie', 'Ca', 'Centrafrique', 'Espagne', 'Sauron', 'Reïf', \"don'\", 'Rience', 'Enfoiré', 'As', 'Calypso', 'Lens', 'national Juste', 'Jupiter', 'Hauts-Plateaux', 'Lison', 'Eh', 'Valider', 'Faisais', 'Venez', \"La lune c'est le soleil des loups  \", 'Comprenez', 'Longe', 'Misogynie', 'vallée S’', 'Millésimé', 'love L', 'Lune', 'Argent', 'Minme', 'Fresh', 'd’', 'MC', 'Voire', 'Chiche', 'Se fringuer en vitesse', 'A l’hôpital Saint-Louis', 'Graal Rabbins', 'Massy', 'May', 'Judée', 'Bastoche', 'Papouasie', 'Grave', \"J'aim'\", 'En', 'Sérieux', \"J'ai le bonheur\", 'Garde', 'Jah Jah Ras Tafari N.Y.', 'Dare', 'Browning A', 'Posse Idéal', 'Resto', 'Les enlace ?', 'Illuminant', 'Egypte', 'Vosges', 'Graines', 'Lorraine', 'These', 'Café du Dôme', 'Pagais', 'Tommies', 'Maradona', 'Livré', 'Tout’', \"Porte d'Italie\", 'Peintures', 'Papier', 'El Paso', 'Zigzag', 'Les vivants', 'mer Rouge', 'Sébastopol', 'Croque', 'Attends', 'Bercy', 'Plein', 'cagoule du Ku-Klux', 'raclée', 'Arc-en-Ciel', 'Chill Chang Chong Ciao', 'quartier C’', 'Shalimar', 'Aucun grief Personne', 'la Flèche', 'mêlée Pas', 'He’', 'Retourne', 'Nés', 'Avisant', 'Compose', 'boulevard de Sébastopol Tortillant', 'Entraîné', 'Intellectuelles', 'Wonderbra', 'petite Marguerite Est', 'Chères', 'Trouille', 'Chemise', 'Tracer', 'Tin', 'Belges', 'La forêt', 'Bucarest', 'Clichy Son', 'Jean-Franois', 'Robbie', 'Paris Ardisson', \"État d'Amérique\", 'Twix', \"J'préfère\", 'Fatma', 'l’Espagne', 'Haïkku', 'Jamais', 'Tifosi', 'Rouen', 'Déesse', 'Oreste', 'Malone', 'Finiront', 'Bali', 'Là', \"Alhambra d'Bordeaux\", 'Vers', 'Que\\u2005', 'Grattant', 'Liban', 'Cologne', 'Madagascar', 'Cosma', 'Yo', 'Laar-S', 'Tu', 'Exemples', 'Racontez', 'Golfe', 'Voulant', 'Cognée', 'Striée', 'Parlé', 'V.O', 'la Loire', 'Boivent', 'Rebelle', 'Du', \"On vid'\", 'Idéal', 'Blédina Aldo', 'Ouais', 'Voltige', 'Moi j’', 'Monoï', \"J'ai le CAP\", 'Mougeotte', 'La Triumph', 'Comanches', 'Solaar', 'porte Monsieur Nice', 'Paix', 'Jerusalem', 'Kalash', 'St Vincent', 'Chouf', 'Pékin', 'Passy', 'Couter', 'Sugar Hill', 'Soufflé', 'Parcours', 'Jazzy', 'Vernis', 'Armani', \"J'veux\", 'Casa', 'Italie', 'Connectés', 'Moins', 'Microphone', 'Condamné', 'Lac Salé', 'Jolis', 'Ich', 'Phocéens', 'B.Boy', 'Destinée', 'Colombie', 'Pont-de-Sèvre', 'Tourne', 'Sud-Ouest', 'Chantez', \"Jardin d'Eden\", 'Tolbiac', 'Pic', 'Qilin', \"Ch'\", 'Puerta', 'Marjolaine', 'cimetière - Quel cimetière ?', 'Atlanta', 'Chemsou', 'latin A', 'Golfe de Naples', 'J.M.', 'Pakistan', 'Connais', 'Loki', 'Landes', 'Babel Laquelle', \"Corne d'Aurochs\", 'Bonbonne', 'La Terre', 'Sandrine', 'Permets', 'Cher', 'Préférant', 'Serre-moi', 'Ninon', 'Couchés', 'Cévennes', 'Serais', 'Robinet', 'Faites', 'Bushido', \"Rigole pas ma p'tite\", 'Livr', 'La Courneuve', 'Maghreb', 'Les croquantes et les croquants', 'Rap Genius', 'Sereine', 'Tokarev Sauf', 'Confédération', 'Pyrex', 'Bondy', 'Afrique', 'Re Renouant', 'Trop', 'Pensais', 'Babylone', 'Blonds', 'Renaissance', 'Crozemarie', 'Rait', 'Valence', 'Saint Ildefonse', 'Croire', 'Esmeralada', 'Provence', 'golfe du Lion Trempe', 'Brandy', 'Ficelles Tire', 'Honduras', 'Dag', 'Cap Horn', \"J'ai beau\", 'zéro zéro Intérieur', 'Deux', 'Movie', 'Les bougies les cadeaux et les textos', \"J'ai pas cent ans\", 'Je', 'Rungis', 'Fort Greene', 'Mourir', \"roi d'Espagne\", 'Atada', \"Jardin d'Adam\", 'Rend', 'rue Ensoleill', 'Iront', 'Les fringues', 'Lipstick', 'Teruel', 'Schengen', 'Allo Monsieur X. Sa', 'Addis', 'Versailles', 'Chicanos', 'Bilal', 'Expédie', 'Pas', 'Traverse', 'Saint-Pierre', 'Révélateur', 'E1', 'Lève', \"J'ai pas peur\", 'Votre honneur', 'Saint-Jean', 'Sues', 'Lavomatic', 'Regarde', 'Panthéon', 'Six', 'Royaume Ming Pas', 'Blacks', 'Sète', 'Planète Marseille', 'Donnez', 'XXX Conçu', 'Post-scriptum', 'Tri-Nitro-Toluène', 'Balade', 'Déversent', 'Sceaux', 'Laquelle', 'Assise', 'Europe', 'Bally'}\n"
     ]
    }
   ],
   "source": [
    "loc=[]\n",
    "for texte in f1:\n",
    "    doc = nlp_sm(texte)\n",
    "    for entity in doc.ents:\n",
    "        if entity.label_ ==\"LOC\":\n",
    "            loc.append(entity.text)\n",
    "print(len(set(loc)))\n",
    "print(set(loc))"
   ]
  },
  {
   "cell_type": "markdown",
   "metadata": {},
   "source": [
    "Difference avec Glaff\n",
    "---------------------------------------------------------------------"
   ]
  },
  {
   "cell_type": "code",
   "execution_count": 23,
   "metadata": {},
   "outputs": [
    {
     "name": "stdout",
     "output_type": "stream",
     "text": [
      "3809\n"
     ]
    }
   ],
   "source": [
    "test = [mot for mot in loc if mot.lower() not in f2]\n",
    "print(len(test))"
   ]
  },
  {
   "cell_type": "code",
   "execution_count": 49,
   "metadata": {},
   "outputs": [
    {
     "name": "stdout",
     "output_type": "stream",
     "text": [
      "{'Menton', 'Inquiétant', 'Suceuses', 'Croiser', 'Fredonne', 'Ter', 'Formaté', 'Infiltre', 'Barcelonais', 'Macadam', 'Orange', 'Lancinantes', 'Infiltrez', 'Tropique', 'Largos', 'Ndombolo', 'Congolais', 'Chypre', 'Étend', 'Dégoûtés', 'Enferme', 'Connemara', 'Directeur', 'Passeport', 'Infortuné', 'Dessinent', 'Faisanderie', 'Planquée', 'Dégustons', 'Chelou', 'Passée', 'Pe', 'Congrès', 'Change', 'Jardin', 'Zumba', 'Évacue', 'Coca', 'Descendez', 'Discernes', 'Bourgogne', 'Bonasses', 'Défense', 'Arriver', 'Atlantique', 'Angleterre', 'Este', 'Chartres', 'Buffalo', 'Payol', 'Limonade', 'Italiennes', 'Pruneaux', 'Nanti', 'Penchée', 'Lové', 'Poussières', 'Briquer', 'Cacao', 'Mai', 'Bondir', 'Tours', 'Fixé', 'Essuyez', 'Cogite', 'Plouf', 'Nordiques', 'Parlons', 'Chés', 'Resserres', 'Derricks', 'Renait', 'Borgnes', 'Craignent', 'Posée', 'Croise', 'Annoncent', 'Délinquant', 'Celle', 'Allergique', 'Singeant', 'Gagneront', 'Parme', 'Pénètre', 'Flaques', 'Qui', 'Ile', 'Mignon', 'Étang', 'Défierai', 'Résisté', 'Rein', 'Dessus', 'Chorus', 'Gelé', 'Séchez', 'Invalides', 'Distance', 'Main', 'Liège', 'Farine', 'Criquet', 'Côte', 'Grossir', 'Fâché', 'Margoton', 'Tourbillon', 'Cargaison', 'Funky', 'Vivant', 'Allumant', 'Marquises', 'Arbalète', 'Arrivera', 'Menait', 'Chien', 'Grimpe', 'Gigote', 'Noire', 'Boulonnais', 'Besognées', 'Allongées', 'Gauloise', 'Parle', 'Brandiront', 'Abracadabrant', 'Arrêtons', 'Creusez', 'Maharajas', 'Épinettes', 'Diamants', 'Bandol', 'Guignol', 'Florentines', 'Père', 'Sels', 'Lima', 'Arrêtées', 'Dicte', 'Tequila', 'Confond', 'Savourez', 'Mouille', 'Put', 'Déguisant', 'Messidor', 'Terrorisés', 'Motte', 'Refera', 'Complexes', 'Neuf', 'Songhaï', 'Enfiler', 'Périphérique', 'Squatte', 'Fleuve', 'Fleuves', 'Dissolvent', 'Hissez', 'Courir', 'Coquillage', 'Nausée', 'Tajine', 'Phocéenne', 'Nains', 'Nationalisé', 'Fourre', 'Étendus', 'Babouche', 'Stalag', 'Laconique', 'Travailler', 'Promener', 'Jury', 'Cordes', 'Catch', 'Campanile', 'Perse', 'Satellisé', 'Quittez', 'Détachez', 'Soustraits', 'Dont', 'Dol', 'Port', 'Tunisiens', 'Longer', 'Enflammées', 'Wallonne', 'Grisée', 'Brodé', 'Monnaie', 'Mignonne', 'Enchaîne', 'Saine', 'Trinquons', 'Abandonnées', 'Indécence', 'Baskets', 'Colles', 'Mème', 'Tectonique', 'Cocotiers', 'Luttais', 'Building', 'Noyau', 'Menotté', 'Raser', 'Crucifié', 'Réfugie', 'Misère', 'Enta', 'Mammouth', 'Ave', 'Mentons', 'Lé', 'Mandingues', 'Tension', 'Verront', 'Infime', 'Écorchons', 'LA', 'Gironde', 'MI', 'Mu', 'Polémique', 'Perdu', 'Pensais', 'Métissé', 'Grise', 'Épiceries', 'Adossé', 'Downtown', 'Traîne', 'Donnant', 'Passons', 'Civière', 'Mangés', 'Dealé', 'Palais', 'British', 'Veste', 'Sapajou', 'Irradié', 'Rejoins', 'Galice', 'Crisser', 'Colombienne', 'Bagarrer', 'Brésil', 'Cara', 'Ivoiriens', 'Coupole', 'Coquins', 'Nécessaire', 'Laissait', 'Zamal', 'Pourrissent', 'Pute', 'Faut', 'Smic', 'Boliviano', 'Métissage', 'Appelle', 'Chienne', 'Futile', 'French', 'Permets', 'Pipez', 'Colombes', 'Laboratoire', 'Vais', 'Testé', 'Mercure', 'Lady', 'Mêler', 'Faner', 'Musulman', 'Pékin', 'Mâcon', 'Balade', 'Tiendront', 'Tâchant', 'Lapon', 'Floride', 'Baisse', 'Décrochée', 'Rechercher', 'Étouffées', 'Sereins', 'Claquer', 'Populaire', 'Emplissant', 'Tasses', 'Sucre', 'Bracelet', 'Grenelle', 'Kuduro', 'Arrives', 'Plaqués', 'Mâchonnent', 'Passage', 'Ternaire', 'Claquons', 'Venir', 'Lâcherez', 'Gens', 'Savane', 'Trempant', 'Pillé', 'Dévalent', 'Pois', 'Regardait', 'Galette', 'Assiette', 'Buis', 'Marocains', 'Zappez', 'Espace', 'Golf', 'Papé', 'Aout', 'Trappe', 'Avancez', 'Pull', 'Frileux', 'Clinquant', 'VS', 'Sniffe', 'Seine', 'Britannique', 'Perdues', 'Solitaire', 'Impitoyables', 'Sévit', 'Arrière', 'Ivoirien', 'Dinant', 'Niais', 'Enfouis', 'Tarter', 'Pêcher', 'Dodo', 'Saoulé', 'Déchirant', 'Exalter', 'Crin', 'Salut', 'Servile', 'Ressort', 'Béthune', 'Sucré', 'Fakes', 'Espagnole', 'Blafarde', 'Frileuse', 'Massages', 'Hard', 'Sut', 'Disharmonie', 'Ranges', 'Vendredi', 'Dois', 'Dictateurs', 'Ça', 'Deux', 'Gaffé', 'Présidence', 'Parc', 'Bulgare', 'Rouen', 'Block', 'Lai', 'Cicatrisé', 'Bipolaire', 'Conclus', 'Détruisant', 'Retires', 'Poitrine', 'Griffures', 'Marais', 'Carrare', 'van', 'Grave', 'Embrasser', 'Jaillit', 'Breaker', 'Retrousse', 'Hagards', 'Chopé', 'Traînes', 'Boulevard', 'Poseras', 'Tambours', 'Platines', 'Cogne', 'Tu', 'Métamorphoser', 'Rançonner', 'Rotons', 'Condamnée', 'Créneau', 'Connais', 'Uniques', 'Gap', 'Ure', 'Vieilles', 'Vedette', 'Hier', 'Corners', 'Voudront', 'Thaïlandaise', 'Bienveillante', 'Abjurant', 'Sifflera', 'Reprendrons', 'Tweet', 'Avanie', 'Entrouvertes', 'Houla', 'Putride', 'Rampez', 'Cagoulé', 'Chakra', 'Rond', 'Arrivée', 'Polo', 'Mens', 'Chalunopantaxophile', 'Parisiennes', 'Once', 'Bite', 'Éclairant', 'Orchestres', 'Bic', 'Lion', 'TU', 'Brille', 'Monceau', 'Bonhomme', 'Accrochant', 'Florides', 'Mexicaine', 'Pressante', 'Prosterne', 'Buttes', 'Rouille', 'Brisons', 'Italien', 'Posé', 'Rajoutes', 'Attaché', 'Médina', 'Méditerranéenne', 'Inondant', 'Besoin', 'Aprés', 'Musette', 'Ama', 'Enivrant', 'Apporterons', 'Moresque', 'Sent', 'Ballons', 'Carambars', 'ON', 'Montrez', 'Fumons', 'Matées', 'Goémons', 'Délaisse', 'Love', 'Chaudron', 'Dent', 'Mecton', 'Derby', 'Békés', 'Azur', 'Femme', 'Assistait', 'Rendez', 'Ricain', 'Grosse', 'Mec', 'Tiercé', 'Naitront', 'Illégalement', 'Souillé', 'Nouilles', 'Jugé', 'Votez', 'Souffre', 'Flèche', 'Décris', 'Inscris', 'Bilou', 'Bigos', 'Porque', 'Prodigieux', 'Algériens', 'Indienne', 'Amerloque', 'Paupières', 'Lyrics', 'Magnifique', 'Chat', 'Crémone', 'Millions', 'Naturel', 'CHILLER', 'Géorgien', 'Contentez', 'Persuadé', 'Fine', 'Flandre', 'Nonante', 'Lésée', 'Lampadaire', 'Floréal', 'Méditerranée', 'Posées', 'Zigzagant', 'Échelle', 'Horizon', 'Branchées', 'Trip', 'Haïtien', 'Berce', 'Génération', 'Bourbier', 'Improvise', 'Margarita', 'Plaine', 'Ensanglanté', 'Emporta', 'Andalouses', 'Concurrence', 'Braises', 'Déséquilibré', 'Sylphes', 'Piétiner', 'Balles', 'Cicatriser', 'Demeure', 'Tus', 'Affirmes', 'Trimballant', 'Sacré', 'Trapper', 'Andes', 'Lovés', 'Ouest', 'Femmes', 'Anche', 'Cancane', 'Grenade', 'Affûtez', 'Démolis', 'Fermé', 'Centrales', 'Gambader', 'Verrouillée', 'Boire', 'Lentement', 'Déflorons', 'delÀ', 'Direction', 'Océan', 'Lubrifie', 'Triangle', 'Casanova', 'Montana', 'Effacera', 'Chacal', 'Zek', 'Couronnée', 'Scares', 'Cama', 'Tartempion', 'Tranquille', 'Royan', 'Disposais', 'Jouez', 'To', 'Aiguisant', 'Arrosant', 'Épargner', 'Bafoué', 'Flamenco', 'Dégueulasser', 'Schizophrénie', 'Charbonne', 'Vapeur', 'Brûlant', 'Berlin', 'Brassons', 'Apprendront', 'Vernis', 'Cristalline', 'Malaga', 'Mature', 'Corée', 'Tait', 'Badé', 'NI', 'Ressortent', 'Redessinant', 'Galope', 'Gorge', 'Partir', 'Rebeu', 'Roupille', 'Incendiées', 'Vaurien', 'Glacière', 'Pays', 'Partout', 'Anglais', 'Étourderie', 'Combien', 'Déversent', 'Fez', 'Ourse', 'Tire', 'Pratique', 'Où', 'Fourrez', 'Tribord', 'Ban', 'Spéculation', 'Rating', 'Éternel', 'Cerveaux', 'Allons', 'Valenciennes', 'Frapadingues', 'Anticléricaux', 'Pistonnée', 'Désobéissance', 'Espérais', 'Traversé', 'Porno', 'Usine', 'Être', 'Obtenaient', 'Envahissent', 'Com', 'Recrache', 'Funk', 'Changeront', 'Tracées', 'RAP', 'Sandwich', 'Ressens', 'Croix', 'Halte', 'Casa', 'Astronautes', 'Sein', 'Banal', 'Bâle', 'Aunettes', 'Berçant', 'Dure', 'Persévérance', 'Gardes', 'Parlait', 'PARIS', 'Malaxez', 'Maintenant', 'Nettoient', 'Jures', 'Oublierons', 'Crevé', 'Embusquées', 'Beg', 'Plantant', 'Museler', 'Raccourcissent', 'Semblant', 'Blonds', 'Minimum', 'Sécher', 'Restez', 'Succomber', 'Houleux', 'Poussée', 'Ciel', 'Menuets', 'Bataclan', 'Artillerie', 'Continuer', 'Massas', 'Félicitations', 'Assouvie', 'Carmagnole', 'Gilet', 'Hâlées', 'Délirer', 'Détaillant', 'Bandais', 'Alizés', 'Écrasant', 'Ressers', 'Dams', 'Escalader', 'Danseront', 'Bouche', 'Chico', 'Implore', 'Fêlé', 'Crochée', 'Béton', 'Bricks', 'Veinée', 'Calvados', 'Extralucide', 'Bulgari', 'Pensif', 'Danoise', 'Frapper', 'Contemple', 'Rendus', 'Gyrophares', 'Promis', 'Espéré', 'Portoricains', 'BLOCS', 'Ara', 'Chérie', 'Sirop', 'Plume', 'Tournera', 'Préparez', 'Décorées', 'Couvant', 'Navrant', 'Freinée', 'Prit', 'Nation', 'Cévennes', 'Raisins', 'Sale', 'Massif', 'Las', 'Sierra', 'Dressées', 'Scarification', 'Frissonne', 'Ancrée', 'Poses', 'Canal', 'Michto', 'Jugée', 'Panier', 'Meuf', 'Amènera', 'Guinéen', 'Continuons', 'Épis', 'Sarcelle', 'Bourgeonne', 'Roule', 'Puise', 'Interdits', 'Paparazzis', 'Virgules', 'Laminaient', 'DEDANS', 'Terriens', 'Ata', 'Flâner', 'Hystérise', 'Effleurer', 'Poulbots', 'Tiges', 'Antarctique', 'Vannes', 'Beine', 'Couvre', 'Panam', 'Arriveras', 'Piétons', 'Paranoïaque', 'Bombarde', 'Parloir', 'Virage', 'Romanichels', 'Pakistanais', 'Ricil', 'Madrilène', 'Bombardé', 'Bambaras', 'Vieil', 'Stature', 'Salle', 'Rageux', 'Vas', 'Antillais', 'Modulait', 'Vacille', 'Rêva', 'Bière', 'Murmura', 'Envoûte', 'Disons', 'Fourche', 'Blanche', 'Naguère', 'Tourner', 'Scellée', 'Capitale', 'Ver', 'Tibétains', 'Congo', 'Mic', 'Bicraver', 'Grimpée', 'Délaver', 'Versant', 'Gretchen', 'Caressera', 'Amour', 'Sis', 'Austère', 'Treuil', 'Santé', 'Résonner', 'Mohican', 'Aiglon', 'Stade', 'aiLes', 'Partit', 'Charbonneur', 'Garderons', 'Tentais', 'Chalands', 'Paraiso', 'Tête', 'Hongroise', 'Casser', 'Show', 'Bleuets', 'Parisienne', 'Fake', 'Retienne', 'Font', 'Uzi', 'Maris', 'Camerounais', 'Suintant', 'Siliconée', 'Acropole', 'Anciens', 'Oublient', 'Hoc', 'Foutent', 'Moelle', 'Grande', 'Évacuer', 'Sonnez', 'Gaspillent', 'Agonise', 'Descendre', 'Rétrograde', 'Arts', 'Don', 'Enfers', 'Engrainer', 'Essayons', 'Met', 'Chiens', 'Magicienne', 'Grince', 'Verrouillées', 'Yang', 'Parloirs', 'Parcourir', 'Cueillir', 'Lever', 'Endors', 'Argentine', 'Sensoriel', 'Riant', 'Mit', 'Banquette', 'Dé', 'Blasée', 'Marseillais', 'Porto', 'Portugaise', 'Buter', 'Repasse', 'Emportées', 'Fouettés', 'Est', 'Déshabille', 'Passagère', 'Deviendrai', 'Chapelle', 'Rajustant', 'Articulez', 'Accrochée', 'Charcuteur', 'Oriental', 'Blacks', 'Teutons', 'Loir', 'Salée', 'Averse', 'Désabuse', 'Haineux', 'Hautaine', 'Rio', 'Ashanti', 'Prêtez', 'Bandez', 'Sarcelles', 'Bousille', 'Finie', 'Revivre', 'Pâtisserie', 'Chômage', 'Trace', 'Tare', 'Boycotté', 'Hin', 'Cubain', 'Râper', 'Réapproprions', 'Pût', 'Garou', 'Chiliens', 'Aigle', 'Broyant', 'Île', 'Pis', 'Remonter', 'Masser', 'Irlandais', 'Dévêtu', 'Chantes', 'Battre', 'Civilisé', 'Valsons', 'Aidez', 'Doue', 'Till', 'Allemande', 'Abhorrant', 'Baby', 'Demi', 'Costes', 'Méridien', 'Chié', 'Hall', 'Toxique', 'Galbé', 'Riez', 'Blancs', 'TA', 'Providentiel', 'Dangereuses', 'Occident', 'Mille', 'Mayenne', 'Lourds', 'Les', 'Bâtissent', 'Direct', 'Loin', 'Makala', 'Pourchassée', 'Foutue', 'Moleskine', 'Coulent', 'Vieillarde', 'Englouties', 'Kong', 'Bébé', 'Walkman', 'Décrochons', 'Bosquet', 'Tardez', 'Kalash', 'Expédie', 'Nuance', 'Fellation', 'Téquila', 'Maisons', 'Unisson', 'Auvergne', 'Cash', 'Mouillé', 'Foin', 'Fon', 'Face', 'Courser', 'Tailler', 'Plaisanter', 'Vans', 'Savoure', 'Restauroute', 'Lampons', 'Radar', 'Plaisance', 'Parquée', 'Marias', 'Redeviens', 'Attiser', 'Russes', 'Bercée', 'Hawaïenne', 'Jet', 'Parviendras', 'Amadoué', 'Anthropopithèques', 'Havres', 'Tour', 'Pénétrer', 'Décoche', 'Affutez', 'Messine', 'Mua', 'Questionnés', 'Étouffant', 'Traîner', 'Griffant', 'Sure', 'Rock', 'Chaudes', 'Guinette', 'Méditerranéen', 'Posez', 'Hollywoodienne', 'Appareil', 'Croirait', 'Garance', 'Défouraille', 'Tel', 'Rabat', 'Bagnole', 'Gît', 'Phocéens', 'Bavière', 'Faisais', 'Haram', 'Dissipe', 'Brûler', 'Montent', 'Peins', 'Bouffé', 'Belge', 'Gorgées', 'Hazard', 'Docile', 'Grève', 'Suspendues', 'Japonais', 'Écorchées', 'Brume', 'Atterrissage', 'Alignées', 'Coincée', 'Descend', 'Somme', 'Moulins', 'Rentres', 'Salissent', 'Ring', 'Oxford', 'Bercé', 'Glaciale', 'Intérêt', 'Havre', 'Abaya', 'Araignées', 'Mer', 'Tricolores', 'Lèche', 'Fouler', 'Fa', 'Poil', 'Coule', 'Emmènes', 'Goutte', 'Traditionnel', 'Nettoie', 'Jetons', 'Backroom', 'Vire', 'Blablas', 'Torse', 'Cou', 'Influents', 'Eldorado', 'Désintégré', 'Déstabilisée', 'Orléans', 'Mardi', 'Régler', 'Fronce', 'Interminables', 'Intoxiquée', 'Pomme', 'Générations', 'Moitié', 'Gauloises', 'Unissons', 'Fume', 'Perdant', 'Métissée', 'Refermons', 'Brûlons', 'Jactez', 'Tala', 'Inde', 'Sparte', 'Maquille', 'Enlacé', 'Brabant', 'Wagonnets', 'Essonniens', 'Pacotille', 'Bouclette', 'Volés', 'Baraka', 'Putréfaction', 'Lime', 'Mandragore', 'Pendues', 'ROULEZ', 'Rasta', 'Flamber', 'Recolle', 'MOn', 'Multiplions', 'COOL', 'Chicha', 'Bastille', 'Traçant', 'Territoire', 'Bourse', 'Gratter', 'Crasseuse', 'Mâle', 'Fac', 'Caucasiens', 'Tain', 'Coursé', 'Tango', 'Sera', 'Ironie', 'Blesses', 'Flânant', 'Fardeau', 'Korrigans', 'UN', 'Tripoli', 'Euromarché', 'Ramassis', 'Cholestérol', 'Avril', 'Bazar', 'Habite', 'ELle', 'Loubard', 'RAy', 'Revenir', 'Réal', 'Savais', 'Célibataires', 'Zigzag', 'Sois', 'Alicante', 'Ramenez', 'Enroulé', 'JE', 'Femelles', 'Bikini', 'Hôtel', 'Singent', 'Sainte', 'Rues', 'Lunes', 'Bouquiner', 'Goudronnes', 'Thaïlandais', 'Pognon', 'Enlacer', 'Pleuvoir', 'Pondre', 'Porions', 'Alpha', 'China', 'Te', 'Massachusetts', 'Paratonnerre', 'Ramassée', 'Amoureux', 'Hurler', 'Tache', 'Mondaine', 'Trouver', 'Rosette', 'Estimes', 'Provinciaux', 'Triangulaire', 'Fraiseuse', 'Dépenser', 'Ay', 'Vieille', 'Mettaient', 'Embouteillage', 'Hexagone', 'Ha', 'Instrumental', 'Glaireux', 'Calanques', 'Zizanie', 'Bifton', 'Repêcher', 'Daille', 'Pars', 'Chaussée', 'In', 'Sonnant', 'Ressortons', 'Trainait', 'Patchouli', 'Implorant', 'Carpaccio', 'Groupies', 'Écorchée', 'Écailles', 'Bang', 'Rouler', 'Veut', 'Rigolant', 'Acadien', 'Populace', 'Princes', 'Chicos', 'Trempa', 'Odieux', 'Tombant', 'Salat', 'Tracés', 'Partez', 'Fraîcheur', 'Matraquer', 'Rescapées', 'Kalachnikovs', 'Siens', 'Attaquant', 'Nice', 'Guadeloupéens', 'Euro', 'Terre', 'Chole', 'Raffiner', 'Remballez', 'Filtre', 'Libellule', 'Hot', 'Relèves', 'Allemand', 'Serein', 'Népalais', 'Poney', 'Olonne', 'Ardillon', 'Bourbon', 'Poissons', 'Dévale', 'Polaroïd', 'Inhale', 'Amasse', 'Boostés', 'Union', 'Baltique', 'Noie', 'Panique', 'Atlantiques', 'Juillet', 'Sablons', 'Saisies', 'Arc', 'Instituteurs', 'Connétables', 'Moulin', 'Décor', 'Tige', 'Prévu', 'Doyenne', 'Bercés', 'Hallucinantes', 'Monté', 'Rencontré', 'Cé', 'Maudis', 'Gèlent', 'Marchands', 'Titane', 'Ravitaille', 'Rabot', 'Framboise', 'Châtelet', 'Tataouine', 'Russe', 'Électronique', 'Mutiler', 'Duché', 'Mutins', 'Venu', 'Peur', \"N'\", 'Sterne', 'Avance', 'Inutile', 'Pissons', 'Teste', 'Mental', 'Draguer', 'Croît', 'Trop', 'Terminer', 'Nichée', 'Replongeons', 'Venin', 'Basilique', 'Bisque', 'Resterons', 'Rigoler', 'Tracer', 'Fisc', 'Retombera', 'Suceurs', 'Décollant', 'Loto', 'Francfort', 'Extrême', 'Suinte', 'Passeront', 'Salmones', 'Mira', 'Échouons', 'Gravit', 'Tiser', 'Hava', 'Morgan', 'Jouer', 'Arrimé', 'Éteindre', 'Rebrousse', 'Angliches', 'Shoots', 'Hautains', 'Glaner', 'Midi', 'Hollande', 'Loue', 'Sceaux', 'Descendons', 'Brasser', 'Catalogué', 'Taffer', 'Pomper', 'Baba', 'Kilomètre', 'Bretons', 'Fout', 'Chantaient', 'Reviendrez', 'Onques', 'Corona', 'Exténués', 'Australien', 'Merlan', 'Gambling', \"M'\", 'Plateau', 'Étendue', 'Fêteront', 'Chiennasse', 'Capables', 'Mars', 'Déhanché', 'Esseulé', 'Étampes', 'Ancien', 'Friandise', 'Français', 'Abrège', 'Balançons', 'Verse', 'Réinvestir', 'Agios', 'Parquet', 'Ministère', 'Coulés', 'Voulu', 'Moitie', 'Rime', 'Dam', 'Coulait', 'Opéra', 'Aboule', 'Prône', 'Sors', 'Tamponner', 'Litron', 'Kremlin', 'Muse', 'Pédé', 'Aquitaine', 'Américaine', 'Transport', 'Feeling', 'Ligotée', 'Coucha', 'Disparut', 'Déchirés', 'Innombrable', 'Damoiseau', 'Archangéliques', 'Baie', 'Tuileries', 'Attaquer', 'Regardez', 'Vouée', 'Bouffa', 'Dégela', 'Wawa', 'Plage', 'Merde', 'Suppliant', 'Canoë', 'Tende', 'Lauriers', 'Lier', 'Monoï', 'Tamise', 'Survole', 'Schnouff', 'Narguant', 'Rimmel', 'Franchissant', 'Mouillée', 'Nouvelle', 'République', 'Pourrave', 'Stoppes', 'Firmament', 'Callipyge', 'Calculez', 'Pompant', 'Projetées', 'Saignée', 'Nonchalant', 'Auras', 'SALOPARD', 'Gonflée', 'Emmerdeuse', 'Ranimeras', 'Asphyxié', 'Poules', 'Boutonnée', 'Traverser', 'Mêlée', 'Boiront', 'USA', 'Céder', 'Togolais', 'Guerroyons', 'Bougie', 'Capuche', 'Éjectez', 'Flingué', 'Fréquentais', 'MARCHAND', 'Mandragores', 'Banlieue', 'Rangées', 'Retournez', 'Couilles', 'Admettons', 'Trêve', 'Syrien', 'Moula', 'Couronnez', 'Alignés', 'Maghrébins', 'Ville', 'Tumeur', 'Prusse', 'Boutonneux', 'Tentez', 'Monstruosité', 'Vatican', 'Pianola', 'Abobo', 'Couru', 'Christiques', 'Infama', 'Japon', 'Scorpion', 'Tordre', 'Masos', 'Creusée', 'Échouer', 'Femelle', 'Lune', 'Meurtrie', 'Colonise', 'Incompréhensiblement', 'Bétonnez', 'Gamberge', 'Manche', 'Équateur', 'Eu', 'Talentueux', 'Chouille', 'Trouverais', 'Insupportable', 'Aromatisées', 'Coucou', 'Quais', 'Trouves', 'Agrippes', 'Corentine', 'Pin', 'Joueront', 'Fessier', 'Esclaves', 'Conseiller', 'Résonnent', 'Bourg', 'Prêts', 'Entendait', 'Admirez', 'Armés', 'Atlas', 'Pistée', 'Lavée', 'Emplisse', 'Gronde', 'Ciné', 'Gravées', 'Conduire', 'Débuter', 'Gisait', 'Parisien', 'Effrayé', 'Taulards', 'Ponds', 'A', 'Bitches', 'Tremblant', 'Amazone', 'Mont', 'Chouette', 'Véhémence', 'Venez', 'Mollets', 'Grossiste', 'Rire', 'Bagnoles', 'Terroriser', 'Espagnoles', 'Messies', 'Fit', 'Inscrites', 'Encastré', 'Battant', 'Japons', 'Privées', 'Charmante', 'Remuent', 'Corne', 'Fera', 'Berceau', \"T'\", 'Accro', 'Immigré', 'Cloque', 'Frénésie', 'Reporter', 'Meufs', 'Attéri', 'Saurais', 'Savonner', 'Sha', 'Sec', 'Châteaux', 'Tortueux', 'Ouistiti', 'Boudant', 'Dojo', 'Ferma', 'Saltimbanque', 'Agressif', 'Résonnez', 'Cieux', 'Providence', 'Farsi', 'Retendez', 'Palatin', 'Aber', 'Croyais', 'Anticapitalistes', 'Cachée', 'Retour', 'Relater', 'Malienne', 'Changerai', 'Hacienda', 'Indiens', 'Terrasser', 'Calle', 'Trèfle', 'Flingue', 'Perdons', 'Chine', 'Montrant', 'Caché', 'Évacuez', 'Acidulé', 'Éliminez', 'Orgueil', 'Creuse', 'Respectée', 'Fleure', 'Psychiatrisées', 'Balaye', 'Crapuleux', 'Baltringue', 'Pique', 'Banlieusard', 'Pétales', 'Milan', 'Prévinrent', 'Vecteur', 'Noires', 'Donnerait', 'Plaisait', 'Large', 'Ricains', 'Hong', 'Vanille', 'Réglons', 'Mire', 'Baraque', 'Répondez', 'Oïl', 'Piétinant', 'Sorbonne', 'Chiller', 'Vitupérer', 'Aspic', 'Jambes', 'Répandre', 'Petites', 'Vautrez', 'Porte', 'Dealeur', 'Balançait', 'Bloqués', 'Indien', 'Horizons', 'Dévaliser', 'Confortant', 'Turlutes', 'Converse', 'Matérialistes', 'Vibreront', 'Légère', 'Ondulant', 'Renoi', 'Autodafé', 'Lettonne', 'Bord', 'Êtes', 'Vitriot', 'Baudruche', 'Embaumeront', 'Rotonde', 'Européen', 'Ici', 'Impoli', 'Frangine', 'Ripe', 'Caches', 'Procrastiner', 'Madre', 'Épiés', 'Roustons', 'Profite', 'Mirador', 'Litrons', 'Pleurez', 'Barbés', 'Algues', 'Mut', 'Scratchs', 'Nem', 'Dizaine', 'Maquée', 'Rencard', 'Réinventant', 'Lourd', 'Poches', 'Qataris', 'Crève', 'Flashé', 'Élysée', 'Recto', 'Brûlent', 'Cliché', 'Chardon', 'Missile', 'Bravé', 'Laborieuses', 'Archaïques', 'Gazoline', 'Esquiver', 'Écosse', 'Anorexique', 'Faite', 'Épluchées', 'Piétinera', 'Hyperactif', 'Doué', 'Haletants', 'Cramée', 'Semblable', 'Attisé', 'Fissurées', 'Fiévreux', 'Millionnaire', 'Glisser', 'Garde', 'Étourdie', 'Pléiades', 'Battez', 'Sensuelle', 'Atroce', 'E', 'Enfourchant', 'Sonner', 'Let', 'Niché', 'Impôts', 'Jourdain', 'Bif', 'Visitons', 'Magique', 'Reflétée', 'Confisquez', 'Inventant', 'Réaliser', 'Raz', 'Égyptiens', 'Rue', 'Sondant', 'Romains', 'Plaide', 'Brolique', 'Sahel', 'Médicamentée', 'Drogués', 'Fla', 'Signent', 'Reverra', 'Hausse', 'Laver', 'Méchant', 'Bangala', 'Délassée', 'Parigot', 'Uzis', 'Ola', 'Palu', 'Voler', 'Balança', 'Hombres', 'Pluviôse', 'Norvégiennes', 'Wu', 'Pense', 'Canine', 'Tos', 'Ghetto', 'Sadique', 'Astiquez', 'Écuries', 'PANORAMA', 'Doutez', 'Die', 'Bantou', 'Creusant', 'Négligé', 'Boulevards', 'Blanches', 'Héron', 'Marocain', 'Survoles', 'Rénovant', 'Invulnérable', 'Merci', 'Marocaine', 'Olympe', 'Homophobe', 'BIP', 'Chanterai', 'Aiguisées', 'Gravée', 'Forcé', 'Mort', 'Tunisien', 'Tibétaine', 'Majestueux', 'Grandir', 'Chocolat', 'Puces', 'Morte', 'Démêle', 'Tifosi', 'Inertie', 'Assos', 'Abreuve', 'Montre', 'Tiens', 'Ancre', 'Rouges', 'Combler', 'Pilou', 'Crament', 'Jeter', 'Gasoil', 'Ois', 'Valence', 'Sibérien', 'Tantine', 'Suspend', 'Résonneront', 'Idéale', 'Refaire', 'Principe', 'États', 'Renvoyons', 'Daron', 'Té', 'Enfonce', 'Adulez', 'Chica', 'Pleura', 'Rencontre', 'Colorer', 'Mélange', 'Ain', 'Mus', 'Facho', 'Ingérables', 'Capricorne', 'Li', 'Ra', 'Chili', 'Central', 'Cala', 'Mal', 'Voyageurs', 'Sautes', 'Score', 'Attirés', 'Liégeoise', 'Colérique', 'Donc', 'Ramènes', 'Nord', 'Hidalgo', 'Idéal', 'Haïs', 'Emmenant', 'Oued', 'Dallas', 'Parigots', 'Lot', 'Chaise', 'Approchez', 'Bicots', 'Malsain', 'Puisez', 'Enfermé', 'Alabama', 'Drapeaux', 'Départ', 'Piégé', 'Bisou', 'Vlan', 'Escroque', 'Chuchotement', 'Aimerons', 'Bougres', 'Bats', 'Sedan', 'Basses', 'Madrilènes', 'Descends', 'Remplaçait', 'Chies', 'Sourd', 'Fatiguée', 'Gnafrons', 'Ga', 'Demande', 'Cette', 'Freine', 'Thaï', 'Squatté', 'Postillon', 'Planant', 'Réa', 'Frenchie', 'Ballonne', 'Saoudiens', 'Redescends', 'Mentira', 'Grêle', 'Pistonne', 'Attendront', 'Alentour', 'Raccroche', 'Bou', 'Présumais', 'Tampon', 'Couchent', 'Tonkinoise', 'Quatre-vingt-douze', 'Cap', 'Prussiens', 'Reverrai', 'Maliens', 'Airbag', 'Systématique', 'Palpable', 'Panthéon', 'Bouger', 'Suprême', 'Ignorantes', 'Porcherie', 'Alouette', 'Soninké', 'Vis', 'Rondes', 'Arroser', 'Remplir', 'Sprinter', 'Tahitien', 'Amel', 'Soyons', 'Biatch', 'Exaltons', 'Original', 'Onomatopée', 'Perclus', 'Enveloppés', 'Refusons', 'Eskimos', 'Cérébelleux', 'Braisé', 'Silhouette', 'Rejoignez', 'Café', 'Carta', 'Calypso', 'Laos', 'Lyonnais', 'Charentaise', 'Puissance', 'Plonger', 'Rivalise', 'Promenade', 'Charivari', 'Assouvis', 'Étroitesse', 'Minot', 'Doués', 'Martinets', 'Excitant', 'Pleurais', 'Retranscris', 'Caroline', 'Harangues', 'Acacias', 'Génial', 'Devrai', 'Dahu', 'Apprenait', 'Mourra', 'Compter', 'Verso', 'Truquées', 'Ahan', 'Embrassé', 'Rebondiront', 'Banals', 'Cochères', 'Agitent', 'Dedans', 'Granit', \"L'\", 'Franchir', 'Désespérer', 'Exhibé', 'Cognac', 'Boulot', 'Scénar', 'Remplies', 'Embouchure', 'Torturées', 'Titré', 'Mystifié', 'Reprennent', 'Fasse', 'Torride', 'Twist', 'Amé', 'Refusent', 'Bras', 'Chic', 'Cailles', 'Lascar', 'Dépénalisons', 'Aimerais', 'Froide', 'Noir', 'Escortés', 'Aillez', 'Pactisent', 'Gommeux', 'Connaîtrais', 'Guinée', 'Touchée', 'Retourner', 'Foulant', 'Embaumée', 'Inclinez', 'Barjo', 'Baille', 'Détailles', 'Derrière', 'Réalises', 'Pas', 'Poulet', 'Insulter', 'Javanaise', 'Haine', 'Dorés', 'Galuchat', 'Prétentieux', 'Molène', 'Rentrons', 'Poser', 'Entrebâille', 'Incendier', 'Baléares', 'Espérance', 'Cornouailles', 'Mâchonnant', 'Débarque', 'Beaux', 'Poterie', 'Bousculer', 'Damas', 'Embrase', 'Poissonnière', 'Fauvettes', 'Versée', 'Arnaquer', 'Cramé', 'Bana', 'Insomniaques', 'Bolivienne', 'Arapaho', 'Chouf', 'Fouta', 'Chanteront', 'Lets', 'Serrer', 'Boys', 'Minérale', 'Courtisée', 'Jonquille', 'Test', 'Rayée', 'Attise', 'Couler', 'Zobi', 'Kenyans', 'Addict', 'Croc', 'Check', 'Rêvé', 'Douze', 'Néfastes', 'Quimper', 'Massacrer', 'Sahraoui', 'Éparpille', 'Dur', 'Binaires', 'Reculez', 'Atteindre', 'Soudan', 'Rate', 'Japonaise', 'Braquer', 'Foutaises', 'Profitez', 'Paraît', 'Malaise', 'Cerné', 'Horde', 'Haut', 'Basculer', 'Révoltons', 'Paniquer', 'Laisser', 'Cohabiter', 'Durera', 'Foie', 'Incomprise', 'Musulmans', 'Garder', 'Aurais', 'Passés', 'Saches', 'Hémoglobine', 'Uni', 'Archanges', 'Poétique', 'Miami', 'Américain', 'Miens', 'Cayenne', 'Salope', 'Cocaïna', 'Hivers', 'Calumet', 'Chasser', 'Ravine', 'Frénétique', 'Paris', 'CULtes', 'Java', 'Martiens', 'Afghan', 'Olympes', 'Dénicher', 'Freestyle', 'Étaler', 'Acerbe', 'Veux', 'Express', 'Existais', 'Digne', 'Potentiel', 'Maternelle', 'Étonnant', 'Fier', 'Fougez', 'Positive', 'Intouchable', 'Déplace', 'Parangon', 'Barricadée', 'Corses', 'Ca', 'Roquette', 'Wilaya', 'Braco', 'Revenez', 'Visite', 'Flou', 'Glisse', 'Ponte', 'Ben', 'Mangeais', 'Sauvagerie', 'Dislikes', 'Repartons', 'Croupir', 'Beaujolais', 'Bicêtre', 'Atomisé', 'Rattrape', 'Monotones', 'Celles', 'Ancré', 'Have', 'Cerise', 'Abusant', 'Prenais', 'Arrosé', 'Unis', 'Aïd', 'Coude', 'Orienté', 'Anges', 'Fastidieux', 'Soignés', 'Quartier', 'Testostérone', 'Mafé', 'Es', 'Crie', 'Cuba', 'Centralise', 'Promenant', 'Pôle', 'Landes', 'Dogons', 'Muraille', 'Croule', 'Dibi', 'Puisses', 'Profilait', 'Gère', 'Amateur', 'Place', 'Mémé', 'Grisant', 'Chameaux', 'Balmains', 'Petite', 'Friable', 'Resserre', 'Cornouaille', 'Skip', 'Connectée', 'Panser', 'Colombine', 'Camouflant', 'Rocailleux', 'Gouffre', 'Arsenal', 'Scande', 'Tremblez', 'An', 'Passer', 'Marseillaises', 'Polonais', 'Monter', 'Jetais', 'Cataleptique', 'Misé', 'Champs', 'Prît', 'Sud', 'Camer', 'Baisons', 'Zanzibar', 'Touraine', 'Horlogers', 'Décimées', 'Milles', 'Cologne', 'Pont', 'Haro', 'Rasé', 'Africain', 'Cercle', 'Athénien', 'Dormiront', 'Catalans', 'Coller', 'Déjouant', 'Quitter', 'Reins', 'Lançon', 'Samedi', 'Américains', 'Timide', 'Fins', 'Creusot', 'Abandonnée', 'Terrée', 'Tachée', 'Valda', 'Bégum', 'Nécromanciens', 'Filocher', 'Uriner', 'Déchanter', 'Morveux', 'Distant', 'Ado', 'Bâiller', 'Milanais', 'Mordille', 'Gégène', 'Gaule', 'Étranger', 'Drapent', 'Bravement', 'Lys', 'Tiré', 'Majeur', 'Mitraillette', 'Fort', 'Tes', 'Jazz', 'Salir', 'Finis', 'Relayeurs', 'Vieux', 'Jolie', 'Bleuit', 'Indélébile', 'Fauchon', 'Tripes', 'Déterre', 'Boitant', 'Sonne', 'Houppe', 'Turcs', 'Algérien', 'Boursouflé', 'Riviera', 'Concret', 'Bouges', 'Nouvelles', 'Passais', 'Existez', 'Nique', 'Machins', 'Fracassant', 'Tatoué', 'Rousses', 'Supermarché', 'Revenons', 'Charbonné', 'Saturne', 'Obsédés', 'Éclaireront', 'Mandarines', 'Contrôler', 'Mexicain', 'Assombrir', 'Terminus', 'Gambie', 'Bouteilles', 'Via', 'Mojito', 'Pic', 'Besogne', 'Implacablement', 'Crois', 'Hallucine', 'Javel', 'Fréquentables', 'Paraître', 'Célé', 'Ratez', 'Pointe', 'Arrosées', 'Frôla', 'Indes', 'Dansent', 'Casino', 'Habitués', 'Désemparé', 'Frissonnant', 'Guillotiné', 'Exubérance', 'Lévitation', 'Mordus', 'Mousse', 'Libyens', 'Grattent', 'Maires', 'Couchées', 'Humide', 'Doubler', 'Fendez', 'Pèse', 'Tanagra', 'Pa', 'Saignez', 'Zoulou', 'Avachi', 'Va', 'Reggae', 'Pharmaceutique', 'Profiteuse', 'Agora', 'Gaffez', 'Blondes', 'Prendrai', 'Disparaitre', 'Passait', 'Monaco', 'Daurade', 'Tranquilles', 'Jura', 'Boycottés', 'Paques', 'Cordoba', 'Firent', 'Passez', 'Grêlons', 'Chemin', 'Far', 'Mée', 'Bourrez', 'Tournez', 'Ensablé', 'Forcer', 'Afghanes', 'Sexy', 'Opaque', 'Wallons', 'Tombe', 'Bled', 'Souci', 'Trainant', 'Comorien', 'Sèvres', 'Esta', 'Scratches', 'Émirats', 'Sentier', 'Victoria', 'Dédie', 'Affranchis', 'Camembert', 'Cloîtrés', 'Photographiant', 'Niquer', 'Découvrir', 'Lycée', 'Casté', 'Blond', 'Codéine', 'Étonne', 'Dépêchons', 'Nuelle', 'Tamoul', 'Égarés', 'Aspirés', 'Watts', 'Pleurera', 'Sourient', 'Mourir', 'Semé', 'Arméniens', 'Madone', 'Saucisse', 'Batracien', 'Minaudant', 'Vocalises', 'Onduleux', 'Sereine', 'Akha', 'Finirait', 'Basta', 'Chinoises', 'Israéliens', 'Sensuel', 'Marijuana', 'Furtif', 'Bout', 'Vaux', 'Canada', 'Encerclée', 'Amuseur', 'Sentir', 'Rencontrée', 'Noyé', 'Régale', 'Tigre', 'Rive', 'Nova', 'Voltigent', 'Engloutis', 'Résonnait', 'Ternit', 'Labrador', 'Visons', 'Enfumé', 'Hautain', 'Glissants', 'Rif', 'Brie', 'Recommencer', 'Y', 'Catalane', 'Ressasser', 'Rembourser', 'Absentés', 'Aubépines', 'Étais', 'Abritée', 'Mali', 'Suces', 'Val', 'Calculer', 'Détériorer', 'Défendait', 'Écarquille', 'Pisseuse', 'Confrontation', 'Unissant', 'Kiang', 'Frapperont', 'Robinson', 'Illuminant', 'Décolorées', 'Éternelle', 'Bondieuserie', 'Pète', 'Atterrir', 'Basques', 'Whisky', 'Habitez', 'Slave', 'Orge', 'Lisses', 'Acharnée', 'Chanter', 'Suède', 'Néglige', 'Embrumées', 'ZOO', 'Raclant', 'Déféré', 'Laguna', 'Déclassée', 'Ternis', 'Éteins', 'Boston', 'Tousser', 'Ré', 'Vénusien', 'Tienne', 'Autour', 'Abord', 'Octobre', 'Fouetter', 'Manille', 'Galactiques', 'Abyssale', 'Créoles', 'Candides', 'Pactole', 'Chinois', 'Avale', 'Brûlerait', 'Gais', 'Pliée', 'Crime', 'Caillera', 'Robinet', 'Pasan', 'Illusoires', 'Lavé', 'Exploiteur', 'Suisse', 'Européenne', 'Malpolis', 'Viens', 'Bancs', 'Enfoncer', 'Aller', 'Gaîté', 'Aie', 'Ramenait', 'Loulou', 'Distille', 'Bisexuelle', 'Mancunien', 'Flo', 'Tan', 'Peser', 'Cailleras', 'Maroc', 'Para', 'Koro', 'Reufré', 'Brésiliens', 'Vaniteux', 'Compète', 'Luit', 'Sombrer', 'Odéon', 'Adamantium', 'Mourez', 'Blottis', 'Déplier', 'Plains', 'Respect', 'Abondante', 'Floqué', 'Hublot', 'Soignée', 'Parsi', 'Centre', 'Gaillarde', 'Oriflammes', 'Censés', 'Préviens', 'Inlandsis', 'Gris', 'Brillant', 'Stressé', 'Pile', 'Reprendre', 'Vivront', 'Amoureuses', 'Tremper', 'Fatale', 'Ensevelir', 'Digue', 'Boudjou', 'Bordeaux', 'Évadez', 'Remémore', 'Transpercer', 'Affamées', 'Squatter', 'Belles', 'Sûre', 'Fuis', 'Abattons', 'Parques', 'Prêt', 'Aveuglent', 'Coutellerie', 'Démarcher', 'Grillés', 'Levant', 'Qatari', 'Buvais', 'H', 'Séquestration', 'Fraîche', 'Lessive', 'Simplette', 'Polis', 'Philistins', 'Deviendront', 'Cliquez', 'Invincibles', 'Délavées', 'Perle', 'Butter', 'Charismatique', 'Norvégienne', 'Navrés', 'Versez', 'Mygale', 'Sommes', 'Embarquées', 'Hissaient', 'Marcherons', 'Exploser', 'Enfouies', 'Florence', 'Drives', 'Chope', 'Insouciants', 'Ait', 'Frappe', 'Égoïstement', 'Vider', 'Bruyères', 'Marquer', 'Venant', 'Pantin', 'Diablesses', 'Barra', 'Mitard', 'Lourdes', 'Niger', 'Défendre', 'Dames', 'Gratté', 'Reposé', 'Lasses', 'Jokari', 'Cancérigènes', 'Reverras', 'Mordez', 'Part', 'Soudoyons', 'Montfaucon', 'Drivant', 'Insolations', 'Martien', 'Quittons', 'Perche', 'Trajectoire', 'Octogone', 'Prés', 'Flamande', 'Italienne', 'Humides', 'Longues', 'Posés', 'Troué', 'Tinta', 'Pose', 'Profond', 'Fût', 'Remballe', 'Bridge', 'Oseille', 'Parure', 'Tomé', 'Philippines', 'Galets', 'Berne', 'Abdos', 'Fatigués', 'Boirai', 'Bagnolet', 'Requin', 'Ceinture', 'Hombre', 'Dial', 'Palma', 'Prodigues', 'Irriguer', 'Moustique', 'Tortillant', 'Asticot', 'Pélo', 'Pyramides', 'Twistez', 'Emmenés', 'Bousillées', 'Mers', 'Superficiel', 'Séquencée', 'Réquisition', 'Aunette', 'Françaises', 'Balayées', 'Respiré', 'Rappes', 'Pénurie', 'Participes', 'Flores', 'Berlinois', 'Courront', 'Bastilles', 'Champagne', 'Américaines', 'Paradisiaque', 'Trappes', 'Bé', 'Déboutonne', 'Lendemain', 'Magnifiques', 'Tamponnée', 'Dimanche', 'Sucez', 'Jalouser', 'Barbarie', 'Fumerais', 'Partouse', 'Palabrer', 'Beurettes', 'Brûlera', 'Caillou', 'Lèves', 'Perché', 'Repars', 'Aspergé', 'Cloîtrée', 'Tocard', 'Waka', 'Fouillait', 'Touaregs', 'Armons', 'Esmeralda', 'Cheyenne', 'Dompte', 'Maximum', 'Colombo', 'Évoluent', 'Sues', 'Envier', 'Capo', 'Côtes', 'Égocentrique', 'Admirer', 'Havane', 'Revendique', 'Disperser', 'Pousser', 'Algonquins', 'Exact', 'Suspect', 'Fusionne', 'Brouiller', 'Cambrai', 'Osaient', 'Bandant', 'Madonne', 'Fonder', 'Bingo', 'Solidaires', 'Vaseux', 'Sonde', 'Blablabla', 'VIl', 'Mantes', 'Pondus', 'Sortaient', 'Faites', 'States', 'Mettront', 'Tapissée', 'Jamaïcaine', 'Bombarder', 'Envouté', 'Jersey', 'Couchée', 'Flamandes', 'Chicanos', 'Bouscule', 'Traverse', 'Bantous', 'Contrescarpe', 'Filoché', 'Iras', 'Bar', 'Basculée', 'Reviendront', 'Tâchez', 'Siester', 'LI', 'Vilaines', 'Vienne', 'Abjecte', 'Réunion', 'Anis', 'Caresserais', 'Pur', 'Chargés', 'Gargarisant', 'Champ', 'Espoirs', 'Crédule', 'Magenta', 'Bohème', 'Hommes', 'Pavanant', 'Reubeu', 'Coucher', 'Hélicoptère', 'Bayou', 'Fragiles', 'Irakiens', 'Portugais', 'Rafale', 'Angle', 'Lido', 'Manouches', 'Cueillie', 'Lèvres', 'Malabars', 'Apatride', 'Électrique', 'Somalie', 'Refaits', 'Allemands', 'Douala', 'Brillait', 'Bamboula', 'Étouffer', 'Électrolyse', 'Trousse', 'Sodomie', 'Clips', 'Mino', 'Dieu', 'Monde', 'Lorgnant', 'Landerneau', 'Analyser', 'De', 'Africaines', 'Minorité', 'Gêné', 'Magnitude', 'Italiens', 'Halls', 'Chopés', 'Éblouie', 'Pharaonique', 'Nouveau', 'Réfugiés', 'Courbe', 'Creux', 'Déclenchez', 'Zappe', 'Jette', 'Faire', 'Baccara', 'Cote', 'Nerveuse', 'Scintillant', 'Borde', 'Caméras', 'Négros', 'Zaïrois', 'Mentalité', 'Jubiler', 'Coronelle', 'Marne', 'Chabraque', 'Genre', 'If', 'Apprendrons', 'Brestois', 'Frênes', 'Chianti', 'Brésilienne', 'Gratin', 'Fourrer', 'Bains', 'Palpe', 'Dôme', 'Biture', 'Redoute', 'Tennis', 'Cougar', 'Frileuses', 'Moissonne', 'Amantes', 'Zig', 'Flambeaux', 'Creusées', 'Vociférant', 'Calais', 'Fructidor', 'Défilant', 'Partager', 'Possédait', 'Taza', 'Peine', 'Perquisition', 'Balaise', 'Castor', 'Dissimulés', 'Éprouve', 'Sixtine', 'Épouseront', 'Pareille', 'Fado', 'Frôlé', 'Retourne', 'Sienne', 'Morphée', 'Limerick', 'Rester', 'Pointer', 'Caraïbes', 'Lascars', 'Z', 'Projetés', 'Glocks', 'Cacher', 'Chinoise', 'Joué', 'Endosser', 'Vrille', 'Continent', 'Pics', 'Galloise', 'Serpente', 'Balance', 'Menthol', 'Différence', 'Compassée', 'Grand', 'Corse', 'Redescendre', 'Monte', 'Fleurir', 'Allergiques', 'Sabrer', 'Frotter', 'Souris', 'Agit', 'Redeviennent', 'Montrer', 'Tarentelles', 'Briser', 'Dégouté', 'Mara', 'Incas', 'ES', 'Trois', 'Tuerie', 'Schizophrénique', 'Étalonnée', 'Entendras', 'Lobotomiser', 'Premiers', 'Pontoise', 'Duplex', 'Reviendrai', 'Postillonne', 'Élégantes', 'Humbles', 'Lari', 'Irakien', 'Banalise', 'Dépravé', 'Trottoirs', 'Arrêté', 'Photographier', 'Remplissent', 'Oranais', 'Darjeeling', 'Survolant', 'Banana', 'Excitait', 'Cancer', 'Maya', 'Pera', 'Alsaciens', 'Rejaillir', 'Dites', 'Western', 'Grecque', 'Lilas', 'Croisette', 'Croquer', 'Fleuriront', 'Dévorant', 'Pluton', 'Étoile', 'Fric', 'Noueuse', 'Saké', 'Cartier', 'Noirs', 'Toura', 'Chantilly', 'Rebrousser', 'Chaînez', 'Foldingue', 'Bougez', 'Rencontra', 'Garez', 'Tesla', 'Briller', 'Bouquets', 'Athénée', 'Pleure', 'Sensei', 'Européens', 'Dépayser', 'Sucera', 'Papillons', 'Vichy', 'Hambourg', 'Dormait', 'Chantait', 'Serais', 'Land', 'Limousine', 'Latina', 'Soleil', 'Panama', 'Graille', 'Sens', 'Plie', 'Incarcéré', 'Divans', 'Cheval', 'Fortifier', 'Lundi', 'Écartes', 'Checke', 'Retouchant', 'Close', 'Originaires', 'Rions', 'Adressée', 'Aborigène', 'Sablière', 'Redardez', 'Coréens', 'Coulé', 'Tabasco', 'Clamser', 'Sigle', 'Deçà', 'Bravent', 'Alezane', 'Cane', 'Calés', 'Brûle', 'Offrit', 'Butte', 'Pouacre', 'Inconsidérés', 'Naissantes', 'Menaçait', 'Bali', 'Résistent', 'Enfouie', 'CC', 'Montrons', 'Suisses', 'Jappant', 'Dépouillées', 'Gondolier', 'Couteront', 'Attendrissant', 'Grignotant', 'Séquestre', 'Symbolisé', 'Parfumé', 'Afghane', 'Seille', 'Perpignan', 'Cassons', 'Fiers', 'Sal', 'Cristallins', 'Bise', 'Chantonne', 'Rivières', 'Vrais', 'Répondre', 'Takana', 'Bergères', 'Renaît', 'Roc', 'Universelle', 'Cogner', 'Dollar', 'Râteau', 'Cherche', 'Transparente', 'Tournoyante', 'Causa', 'Intensément', 'Sceller', 'État', 'Vil', 'Baisemain', 'Alpes', 'Voyager', 'Fenaison', 'Cite', 'Châssis', 'Vives', 'Dugland', 'Neigeant', 'Pou', 'Se', 'Offenses', 'Lobotomie', 'Sien', 'Plaignez', 'Richesse', 'Algérienne', 'Bas', 'Diamant', 'Censé', 'Contredis', 'Atlantes', 'Suis', 'Cache', 'Dégun', 'Entourloupes', 'Africaine', 'Étouffe', 'Goute', 'Zénith', 'Allo', 'More', 'Ris', 'Ramadan', 'Quelquefois', 'As', 'Pavaner', 'Guinéens', 'Mas', 'Crèche', 'Autoroutes', 'Rafraîchie', 'Lassés', 'Déscolarisé', 'Baladant', 'Romain', 'Désertes', 'Rennes', 'Dénonçaient', 'Portez', 'Menaçante', 'Trésor', 'MAI', 'Fondront', 'Karcher', 'Ganja', 'Boycotte', 'Castellane', 'Calcule', 'Partons', 'Brise', 'Bruyante', 'Frémont', 'Rentrée', 'Grouillent', 'Scandale', 'Angora', 'Pentagone', 'Beuh', 'Vénus', 'Charbonnant', 'Poussez', 'Perles', 'Col', 'Inspecteur', 'Morgen', 'Forcée', 'Oyez', 'Parlé', 'Mani', 'Katana', 'Kiffe', 'Empoignez', 'Bénin', 'Titanique', 'Mitraillant', 'Menotter', 'Sdar', 'Près', 'Bende', 'Gare', 'Intronisant', 'Nerveux', 'Empoisonne', 'Flashe', 'Visiter', 'Excusons', 'For', 'Technocrates', 'Tabaski', 'Crucifiées', 'Persuadés', 'Lola', 'Ras', 'Déhanche', 'Tans', 'Palace', 'Hâtez', 'Timides', 'Holà', 'US', 'Canari', 'Humiliée', 'Tempo', 'Dinars', 'Attire', 'Haschich', 'Fers', 'Frimaire', 'Méridiens', 'Soixante', 'Désabusée', 'Vittel', 'Inadéquates', 'Moisir', 'Gominé', 'Rêvais', 'Aventureuse', 'Andromède', 'Naye', 'Flandres', 'Encapés', 'Réchauffe', 'Quartiers', 'Dom', 'Grossière', 'Cantal', 'Tabou', 'Abrité', 'Lointaine', 'Insultant', 'Fallut', 'Périmées', 'Dressés', 'Essentiel', 'Ridiculisés', 'Prôner', 'Rosée', 'Parles', 'Pathétiques', 'Guette', 'Trapézistes', 'Gaulois', 'Décomposé', 'Nettoyées', 'Taga', 'Satanée', 'Bénissant', 'Pero', 'Galérienne', 'Bagarreurs', 'Parcourais', 'Doucement', 'Rendre', 'Forcés', 'Dinar', 'Tranchent', 'Attendrie', 'Prendre', 'Highland', 'Notre', 'Tendue', 'Dévaluation', 'Belgique', 'Coulant', 'Bien', 'Descendu', 'Renfermée', 'Paparazzo', 'Taureau', 'Rebeus', 'Twas', 'Aimons', 'Jardins', 'Cueille', 'Maraîchers', 'Débranche', 'Pressant', 'Renverse', 'Palpita', 'Menez', 'Accélère', 'Pacifique', 'Circonvenant', 'Regretter', 'Jà', 'Déraisonne', 'Habitants', 'Billets', 'Journalistique', 'Liquide', 'Arôme', 'Seize', 'Galonnée', 'Alléché', 'Mons', 'Galles', 'Suivre', 'Sauvage', 'Remisée', 'Vivre', 'Fondre', 'Pleurer', 'Tamisez', 'Mesquins', 'Loyauté', 'Lavomatique', 'Liberty', 'Détonation', 'Boucler', 'Delta', 'Plantons', 'Brumaire', 'Taxe', 'Osant', 'Creuser', 'Zoo', 'Reléguant', 'Rhum', 'Chi', 'Guérilla', 'Délivrent', 'Tropiques', 'Bâillonné', 'Hospice', 'Vise', 'Sucé', 'Parjure', 'Colisée', 'Pourrissant', 'Pied', 'Marjolaine', 'Fais', 'Bachibouzouk', 'Joka', 'Filtrent', 'Forts', 'Cessons', 'Larguée', 'Range', 'Emprunter', 'Tourne', 'Décoiffés', 'Tatane', 'Galérer', 'Remonte', 'Patriarche', 'Remuer', 'Lâches', 'Clan', 'Tournoyez', 'Échapper', 'Sénégalais', 'Défroisser', 'Fauteuil', 'Chetane', 'Percé', 'Halles', 'Récolteras', 'Ailleurs', 'Si', 'Mours', 'Gé', 'Pues', 'Pierres', 'Baisser', 'Comportâtes', 'Sana', 'Cagne', 'Choux', 'Plis', 'Taf', 'Rossignolet', 'Suédoise', 'Fabriquent', 'Suivez', 'Portos', 'Expulser', 'Savon', 'Baissant', 'Darling', 'Émues', 'Espagnols', 'Balise', 'Manie', 'Contempler', 'Gué', 'Donnerais', 'Équinoxes', 'Grimpées', 'Versaillais', 'Cher', 'Grisons', 'Walida', 'Enchaîné', 'Courts', 'Ivrogne', 'Mam', 'Brésiliennes', 'Frotte', 'Walhalla', 'Europium', 'Rentrer', 'Vuvuzela', 'Inverser', 'Calibrez', 'FILA', 'Parisiens', 'Feraient', 'Langoureuse', 'Casta', 'Venue', 'Ivoire', 'Bois', 'Protégé', 'Soufrière', 'Assortie', 'Proches', 'Arrêtez', 'Bloquaient', 'Barques', 'Kikou', 'Amorphe', 'Canon', 'Envahissant', 'Polies', 'Bordel', 'Étrangement', 'Désarticulé', 'Bedonnants', 'Sicilienne', 'Toi', 'Serre', 'Paradis', 'Basse', 'Petit', 'Trouva', 'Cautérise', 'Arabe', 'Sargasses', 'Semble', 'Hardcore', 'Maquillée', 'Camargue', 'Sécuritaires', 'Hindou', 'National', 'Traîné', 'Portugal', 'Surveillé', 'Libyen', 'Courbée', 'Champignon', 'Risquerait', 'Suez', 'Chleuh', 'Refaisons', 'Lorraine', 'Gaza', 'Tabasser', 'Curieux', 'Sables', 'Volts', 'Africains', 'Chapeau', 'Spic', 'Deviné', 'Ajaccienne', 'Soit', 'Vends', 'Libanais', 'Ardoise', 'Sept', 'Entrevoir', 'Pantins', 'Transversale', 'Courons', 'Montez', 'Réchappés', 'Décroche', 'Ayez', 'Laisseront', 'Zéniths', 'Arctique', 'Ex', 'Gomme', 'Rastaquouères', 'Inconsolables', 'Immense', 'Lécher', 'Baveux', 'Sardine', 'Winchester', 'Oye', 'Gotha', 'Rap', 'Amassant', 'Narbonne', 'Affronté', 'Barbelés', 'Applaudis', 'Skiez', 'Rythmons', 'Buvons', 'Dominicaine', 'La', 'Mafia', 'Macao', 'Ouzbek', 'Hypnotisée', 'Feuille', 'Explosant', 'Canta', 'Lagunes', 'Secouées', 'Râle', 'Haute', 'Française', 'Grilles', 'Orangé', 'Taule', 'Bosse', 'Écrou', 'Incitation', 'Brigue', 'Manganèse', 'Royaume', 'Intéressante', 'Cortex', 'Statue', 'Bolo', 'Chevelu', 'Cens', 'Forçat', 'Draguez', 'Milliers', 'Détroit', 'Écopé', 'Menine', 'Espérons', 'Assise', 'Boule', 'Carénage', 'Fui', 'Anglaise', 'Profonds', 'Chromosome', 'Dispersant', 'Devenir', 'Capucines', 'Soudaine', 'Nié', 'Caressée', 'Encre', 'Transpirant', 'Empire', 'Castille', 'Verdun', 'Ruelles', 'Vénitiennes', 'Venus', 'Bouillant', 'Endetté', 'Longes', 'Viet', 'Pé', 'Vit'}\n"
     ]
    }
   ],
   "source": [
    "i = set(loc).difference(test)\n",
    "print(i)"
   ]
  },
  {
   "cell_type": "markdown",
   "metadata": {},
   "source": [
    "Majuscules/minuscules \n",
    "---------------------------------------------------------------------"
   ]
  },
  {
   "cell_type": "code",
   "execution_count": 24,
   "metadata": {},
   "outputs": [
    {
     "name": "stdout",
     "output_type": "stream",
     "text": [
      "1170\n"
     ]
    }
   ],
   "source": [
    "x =[]\n",
    "for mot in test:\n",
    "    if mot.lower() not in test:\n",
    "        x.append(mot)  \n",
    "print(len(set(x)))\n",
    "ecrire_json(\"lieux_echantillon_aprésNettoyage/lieux_echantillon2_aprésNettoyage_sm.json\",x)"
   ]
  },
  {
   "cell_type": "code",
   "execution_count": 125,
   "metadata": {},
   "outputs": [
    {
     "name": "stdout",
     "output_type": "stream",
     "text": [
      "{'ber1ue', '’'}\n"
     ]
    }
   ],
   "source": [
    "f = set(test).difference(x)\n",
    "print(f)"
   ]
  },
  {
   "cell_type": "code",
   "execution_count": null,
   "metadata": {},
   "outputs": [],
   "source": []
  },
  {
   "cell_type": "code",
   "execution_count": null,
   "metadata": {},
   "outputs": [],
   "source": []
  },
  {
   "cell_type": "code",
   "execution_count": null,
   "metadata": {},
   "outputs": [],
   "source": []
  },
  {
   "cell_type": "code",
   "execution_count": null,
   "metadata": {},
   "outputs": [],
   "source": []
  },
  {
   "cell_type": "code",
   "execution_count": null,
   "metadata": {},
   "outputs": [],
   "source": []
  },
  {
   "cell_type": "code",
   "execution_count": null,
   "metadata": {},
   "outputs": [],
   "source": []
  },
  {
   "cell_type": "code",
   "execution_count": null,
   "metadata": {},
   "outputs": [],
   "source": []
  },
  {
   "cell_type": "code",
   "execution_count": null,
   "metadata": {},
   "outputs": [],
   "source": []
  },
  {
   "cell_type": "code",
   "execution_count": null,
   "metadata": {},
   "outputs": [],
   "source": []
  },
  {
   "cell_type": "code",
   "execution_count": null,
   "metadata": {},
   "outputs": [],
   "source": []
  },
  {
   "cell_type": "code",
   "execution_count": null,
   "metadata": {},
   "outputs": [],
   "source": []
  },
  {
   "cell_type": "code",
   "execution_count": 1,
   "metadata": {},
   "outputs": [],
   "source": [
    "import xml.etree.ElementTree as ET\n",
    "voc_Glawi = []\n",
    "tree = ET.parse(\"/Users/mustapha/Downloads/GLAWI_FR_work_D2015-12-26_R2016-05-18.xml\")\n",
    "root = tree.getroot()\n",
    "for element in root:\n",
    "    for child in element:\n",
    "        if child.tag == \"title\":\n",
    "            voc_Glawi.append(child.text)"
   ]
  },
  {
   "cell_type": "code",
   "execution_count": 4,
   "metadata": {},
   "outputs": [],
   "source": [
    "ecrire_json(\"voc_Glawi.json\", voc_Glawi)"
   ]
  },
  {
   "cell_type": "code",
   "execution_count": null,
   "metadata": {},
   "outputs": [],
   "source": []
  }
 ],
 "metadata": {
  "celltoolbar": "Format de la Cellule Texte Brut",
  "kernelspec": {
   "display_name": "Python 3",
   "language": "python",
   "name": "python3"
  },
  "language_info": {
   "codemirror_mode": {
    "name": "ipython",
    "version": 3
   },
   "file_extension": ".py",
   "mimetype": "text/x-python",
   "name": "python",
   "nbconvert_exporter": "python",
   "pygments_lexer": "ipython3",
   "version": "3.8.3"
  }
 },
 "nbformat": 4,
 "nbformat_minor": 4
}
