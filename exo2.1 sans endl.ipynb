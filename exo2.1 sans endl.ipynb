{
 "cells": [
  {
   "cell_type": "code",
   "execution_count": 1,
   "metadata": {},
   "outputs": [],
   "source": [
    "import json\n",
    "def ouvrir_json(chemin):\n",
    "  f = open(chemin, encoding=\"utf-8\")\n",
    "  toto = json.load(f)\n",
    "  f.close()\n",
    "  return toto\n",
    "\n",
    "def ecrire_fichier(chemin, contenu):\n",
    "  w = open(chemin, \"w\", encoding=\"utf-8\")\n",
    "  w.write(contenu)\n",
    "  w.close()\n",
    "def lire_fichier(chemin):\n",
    "  f = open(chemin, \"r\", encoding=\"utf-8\")\n",
    "  chaine = f.read()\n",
    "  f.close()\n",
    "  return chaine"
   ]
  },
  {
   "cell_type": "code",
   "execution_count": 2,
   "metadata": {},
   "outputs": [],
   "source": [
    "import spacy\n",
    "nlp_md = spacy.load(\"fr_core_news_md\")\n",
    "nlp_sm = spacy.load(\"fr_core_news_sm\")\n",
    "nlp_lg = spacy.load(\"fr_core_news_lg\")"
   ]
  },
  {
   "cell_type": "code",
   "execution_count": 3,
   "metadata": {},
   "outputs": [],
   "source": [
    "data_genius1 = ouvrir_json(\"Data/echantillon1.json\")\n",
    "\n",
    "paroles_chanson = []\n",
    "chansons1 = data_genius1.values()\n",
    "\n",
    "\n",
    "for child in chansons1:\n",
    "\n",
    "    for parole in child:\n",
    "        if parole[\"full_title\"]==\"L'Aventurier by Jacques Dutronc\":\n",
    "            paroles = parole.get(\"lyrics\")\n",
    "            paroles_chanson.append(paroles)"
   ]
  },
  {
   "cell_type": "code",
   "execution_count": 4,
   "metadata": {},
   "outputs": [
    {
     "name": "stdout",
     "output_type": "stream",
     "text": [
      "[\"Je suis un aventurier\\nEt j'ai beaucoup bourlingué\\nJ'ai fait la vie à Varsovie\\nJ'ai fait le mort à Baltimore\\nJ'ai fait le rat à Camberra\\nJ'ai joué aux dés à Yaoundé\\nJ'ai joué aux dames à Amsterdam\\nJ'ai fait des games à Binningham\\nJe suis un aventurier\\nAvec lequel il faut compter\\nJe suis un aventurier\\nAvec lequel il faut compter\\n\\nJ'ai été à Bornéo\\nJ'ai été pompette à Papeete\\nJ'ai bu de l'eau à Bordeaux\\nJ'ai dit tant pis à Tampico\\nJ'ai fait l'soldat à Bogola\\nEt des calculs à Calcutta\\n\\nA moi, faut pas m'en raconter\\nParce que, vraiment, j'en ai bavé\\nA moi, faut pas m'en raconter\\nParce que, vraiment, j'en ai bavé\\n\\nJ'ai été errant à Téhéran\\nEt au sana à Saana\\nJ'ai fait l'chasseur à Kinshassa\\nEt la nounou à Cotonou\\nJ'ai fait de la tôle à Dôle\\nJ'ai été lourdé à Lourdes\\n\\nJe suis un aventurier\\nJ'en ai vrairnent beaucoup bavé\\nJe suis un aventurier\\nJ'en ai vrairnent beaucoup bavé\\n\\nJ'ai été crétin à Créteil\\nJ'ai eu la ber1ue à berlin\\nJ'ai été gentil à Port-Gentil\\nEt malpoli à Tripoli\\nJ'ai fait la vie à Varsovie\\nEt le mort à Baltimore\\n\\nJ'étais un aventurier\\nMaintenant, c'est terminé\\nJ'étais un aventurier\\nMaintenant, c'est terminé\"]\n"
     ]
    }
   ],
   "source": [
    "loc1=[]\n",
    "for texte in paroles_chanson:\n",
    "    loc1.append(texte)\n",
    "    print(loc1)\n",
    "    #doc1= nlp_md(str(texte))\n",
    "    #for entity in doc1.ents:\n",
    "        #if entity.label_ ==\"LOC\":\n",
    "            #loc1_corpus1.append(entity.text)"
   ]
  },
  {
   "cell_type": "code",
   "execution_count": 6,
   "metadata": {},
   "outputs": [],
   "source": [
    "def compte_mots(phrase):\n",
    "    return len(phrase.split())"
   ]
  },
  {
   "cell_type": "code",
   "execution_count": 10,
   "metadata": {},
   "outputs": [
    {
     "name": "stdout",
     "output_type": "stream",
     "text": [
      "210\n"
     ]
    }
   ],
   "source": [
    "for mot in loc1:\n",
    "    print(compte_mots(mot))"
   ]
  },
  {
   "cell_type": "code",
   "execution_count": 7,
   "metadata": {},
   "outputs": [
    {
     "name": "stdout",
     "output_type": "stream",
     "text": [
      "[\"Je suis un aventurier Et j'ai beaucoup bourlingué J'ai fait la vie à Varsovie J'ai fait le mort à Baltimore J'ai fait le rat à Camberra J'ai joué aux dés à Yaoundé J'ai joué aux dames à Amsterdam J'ai fait des games à Binningham Je suis un aventurier Avec lequel il faut compter Je suis un aventurier Avec lequel il faut compter  J'ai été à Bornéo J'ai été pompette à Papeete J'ai bu de l'eau à Bordeaux J'ai dit tant pis à Tampico J'ai fait l'soldat à Bogola Et des calculs à Calcutta  A moi, faut pas m'en raconter Parce que, vraiment, j'en ai bavé A moi, faut pas m'en raconter Parce que, vraiment, j'en ai bavé  J'ai été errant à Téhéran Et au sana à Saana J'ai fait l'chasseur à Kinshassa Et la nounou à Cotonou J'ai fait de la tôle à Dôle J'ai été lourdé à Lourdes  Je suis un aventurier J'en ai vrairnent beaucoup bavé Je suis un aventurier J'en ai vrairnent beaucoup bavé  J'ai été crétin à Créteil J'ai eu la ber1ue à berlin J'ai été gentil à Port-Gentil Et malpoli à Tripoli J'ai fait la vie à Varsovie Et le mort à Baltimore  J'étais un aventurier Maintenant, c'est terminé J'étais un aventurier Maintenant, c'est terminé\"]\n"
     ]
    }
   ],
   "source": [
    "new_loc1 = []\n",
    "\n",
    "for string in loc1:\n",
    "    new_loc = string.replace(\"\\n\", \" \")\n",
    "\n",
    "    new_loc1.append(new_loc)\n",
    "\n",
    "print(new_loc1)"
   ]
  },
  {
   "cell_type": "code",
   "execution_count": 8,
   "metadata": {},
   "outputs": [],
   "source": [
    "loc1_corpus1=[]\n",
    "loc2_corpus1=[]\n",
    "loc3_corpus1=[]\n",
    "for texte in new_loc1:\n",
    "    doc1= nlp_md(str(texte))\n",
    "    doc2= nlp_sm(str(texte))\n",
    "    doc3= nlp_lg(str(texte))\n",
    "    for entity in doc1.ents:\n",
    "        if entity.label_ ==\"LOC\":\n",
    "            loc1_corpus1.append(entity.text)\n",
    "            \n",
    "    for entity in doc2.ents:\n",
    "        if entity.label_ ==\"LOC\":\n",
    "            loc2_corpus1.append(entity.text)\n",
    "            \n",
    "    for entity in doc3.ents:\n",
    "        if entity.label_ ==\"LOC\":\n",
    "            loc3_corpus1.append(entity.text)"
   ]
  },
  {
   "cell_type": "code",
   "execution_count": 9,
   "metadata": {},
   "outputs": [
    {
     "name": "stdout",
     "output_type": "stream",
     "text": [
      "['Varsovie', 'Baltimore', 'Yaoundé', 'Amsterdam', 'Binningham', 'Bornéo', 'Papeete', 'Bordeaux', 'Tampico', 'Calcutta', 'Téhéran', 'Saana', 'Cotonou', 'Dôle', 'Lourdes', 'Créteil', 'Port-Gentil', 'Tripoli', 'Varsovie', 'Baltimore']\n"
     ]
    }
   ],
   "source": [
    "print(loc1_corpus1)"
   ]
  },
  {
   "cell_type": "code",
   "execution_count": 10,
   "metadata": {},
   "outputs": [
    {
     "name": "stdout",
     "output_type": "stream",
     "text": [
      "['Varsovie', 'Baltimore', 'Camberra', 'Yaoundé', 'Amsterdam', \"J'ai été à\", 'Bornéo', \"Papeete J'ai bu de l'eau\", 'Bordeaux', 'Tampico', 'Bogola', 'Calcutta', 'Téhéran', 'Saana', 'Kinshassa', 'Lourdes', 'Créteil', 'ber1ue', 'Port-Gentil', 'Tripoli', 'Varsovie', 'Baltimore']\n"
     ]
    }
   ],
   "source": [
    "print(loc2_corpus1)"
   ]
  },
  {
   "cell_type": "code",
   "execution_count": 21,
   "metadata": {},
   "outputs": [
    {
     "name": "stdout",
     "output_type": "stream",
     "text": [
      "18\n"
     ]
    }
   ],
   "source": [
    "print(len(loc3_corpus1))"
   ]
  },
  {
   "cell_type": "code",
   "execution_count": 14,
   "metadata": {},
   "outputs": [],
   "source": [
    "ecrire_fichier(\"sans_endl_md.json\", str(loc1_corpus1))\n",
    "ecrire_fichier(\"sans_endl_sm.json\", str(loc2_corpus1))\n",
    "ecrire_fichier(\"sans_endl_lg.json\", str(loc3_corpus1))"
   ]
  },
  {
   "cell_type": "code",
   "execution_count": 15,
   "metadata": {},
   "outputs": [],
   "source": [
    "f = open(\"sans_endl_md.json\")\n",
    "liste1 = eval(f.read())\n",
    "f.close()\n",
    "\n",
    "f = open(\"sans_endl_sm.json\")\n",
    "liste2 = eval(f.read())\n",
    "f.close()\n",
    "\n",
    "f = open(\"sans_endl_lg.json\")\n",
    "liste3 = eval(f.read())\n",
    "f.close()\n",
    "\n",
    "lieux1 = set(liste1)\n",
    "lieux2 = set(liste2)\n",
    "lieux3 = set(liste3)"
   ]
  },
  {
   "cell_type": "code",
   "execution_count": 16,
   "metadata": {},
   "outputs": [
    {
     "name": "stdout",
     "output_type": "stream",
     "text": [
      "Intersection 13\n",
      "dans lieux1 1\n",
      "dans lieux2 6\n",
      "dans lieux3 0\n"
     ]
    }
   ],
   "source": [
    "lieux_en_commun = lieux1.intersection(lieux2, lieux3)\n",
    "print(\"Intersection\", len(lieux_en_commun))\n",
    "print(\"dans lieux1\", len(lieux1.difference(lieux2,lieux3)))\n",
    "print(\"dans lieux2\", len(lieux2.difference(lieux1, lieux3)))\n",
    "print(\"dans lieux3\", len(lieux3.difference(lieux2, lieux1)))"
   ]
  },
  {
   "cell_type": "code",
   "execution_count": 17,
   "metadata": {},
   "outputs": [
    {
     "name": "stdout",
     "output_type": "stream",
     "text": [
      "{'Binningham'}\n"
     ]
    }
   ],
   "source": [
    "print(lieux1.difference(lieux2,lieux3))"
   ]
  },
  {
   "cell_type": "code",
   "execution_count": 19,
   "metadata": {},
   "outputs": [
    {
     "name": "stdout",
     "output_type": "stream",
     "text": [
      "{'ber1ue', \"J'ai été à\", 'Kinshassa', 'Camberra', 'Bogola', \"Papeete J'ai bu de l'eau\"}\n"
     ]
    }
   ],
   "source": [
    "print(lieux2.difference(lieux1,lieux3))"
   ]
  },
  {
   "cell_type": "code",
   "execution_count": 20,
   "metadata": {},
   "outputs": [
    {
     "name": "stdout",
     "output_type": "stream",
     "text": [
      "set()\n"
     ]
    }
   ],
   "source": [
    "print(lieux3.difference(lieux2,lieux1))"
   ]
  },
  {
   "cell_type": "code",
   "execution_count": null,
   "metadata": {},
   "outputs": [],
   "source": []
  }
 ],
 "metadata": {
  "kernelspec": {
   "display_name": "Python 3",
   "language": "python",
   "name": "python3"
  },
  "language_info": {
   "codemirror_mode": {
    "name": "ipython",
    "version": 3
   },
   "file_extension": ".py",
   "mimetype": "text/x-python",
   "name": "python",
   "nbconvert_exporter": "python",
   "pygments_lexer": "ipython3",
   "version": "3.8.3"
  }
 },
 "nbformat": 4,
 "nbformat_minor": 4
}
