{
 "cells": [
  {
   "cell_type": "code",
   "execution_count": 5,
   "metadata": {},
   "outputs": [
    {
     "name": "stdout",
     "output_type": "stream",
     "text": [
      "test avec une distance d'édition\n",
      "[0.5555555555555555, 'ber1ue']\n",
      "[0.888888888888889, 'berlin']\n",
      "\n",
      "Test avec une mesure de similarité\n",
      "[0.19999999999999996, 'ber1ue']\n",
      "[1.0, 'berlin']\n"
     ]
    }
   ],
   "source": [
    "import jellyfish\n",
    "from sklearn.feature_extraction.text import CountVectorizer\n",
    "from scipy import spatial\n",
    "\n",
    "def similarity1(chaine1, chaine2):#fondé sur une distance d'édition\n",
    "  sim = jellyfish.jaro_winkler(chaine1, chaine2)\n",
    "  return sim\n",
    "\n",
    "def similarity2(chaine1, chaine2):#fondé sur une vectorisation + similarité\n",
    "  V = CountVectorizer(ngram_range=(2, 7), analyzer = \"char\")\n",
    "  vect = V.fit_transform([chaine1, chaine2]).toarray()\n",
    "  sim = 1-spatial.distance.cosine(vect[0], vect[1])\n",
    "  return sim\n",
    "\n",
    "base = \"Berlin\"\n",
    "\n",
    "candidats = [\"ber1ue\", \"berlin\"]\n",
    "\n",
    "print(\"test avec une distance d'édition\")\n",
    "res1= []\n",
    "\n",
    "for candi in candidats:\n",
    "  sim = similarity1(base, candi)\n",
    "  res1.append([sim, candi])\n",
    "\n",
    "for r in sorted(res1):\n",
    "  print(r)\n",
    "\n",
    "\n",
    "print(\"\\nTest avec une mesure de similarité\")\n",
    "res2 = []\n",
    "\n",
    "for candi in candidats:\n",
    "  sim = similarity2(base, candi)\n",
    "  res2.append([sim, candi])\n",
    "\n",
    "for r in sorted(res2):\n",
    "  print(r)\n"
   ]
  },
  {
   "cell_type": "code",
   "execution_count": null,
   "metadata": {},
   "outputs": [],
   "source": []
  },
  {
   "cell_type": "code",
   "execution_count": null,
   "metadata": {},
   "outputs": [],
   "source": []
  }
 ],
 "metadata": {
  "kernelspec": {
   "display_name": "Python 3",
   "language": "python",
   "name": "python3"
  },
  "language_info": {
   "codemirror_mode": {
    "name": "ipython",
    "version": 3
   },
   "file_extension": ".py",
   "mimetype": "text/x-python",
   "name": "python",
   "nbconvert_exporter": "python",
   "pygments_lexer": "ipython3",
   "version": "3.8.3"
  }
 },
 "nbformat": 4,
 "nbformat_minor": 4
}
